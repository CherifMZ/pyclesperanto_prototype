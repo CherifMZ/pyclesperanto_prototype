{
 "cells": [
  {
   "cell_type": "markdown",
   "id": "35cea65b-1e9c-4a1c-8186-56b1d4971650",
   "metadata": {},
   "source": [
    "# Deskewing\n",
    "In this notebook we benchmark deskweing using [QI2lab/OPM](https://github.com/QI2lab/OPM), [DEXP](https://github.com/royerlab/dexp) and py-clesperanto.\n",
    "\n",
    "**Note:** benchmarking results vary heavily depending on image size, kernel size, used operations, parameters and used hardware. Use this notebook to adapt it to your use-case scenario and benchmark on your target hardware. If you have different scenarios or use-cases, you are very welcome to submit your notebook as pull-request!"
   ]
  },
  {
   "cell_type": "code",
   "execution_count": 1,
   "id": "78c2409f-2f7e-4d5b-b5ad-3847d79c05b3",
   "metadata": {},
   "outputs": [
    {
     "data": {
      "text/plain": [
       "<gfx90c on Platform: AMD Accelerated Parallel Processing (2 refs)>"
      ]
     },
     "execution_count": 1,
     "metadata": {},
     "output_type": "execute_result"
    }
   ],
   "source": [
    "import timeit\n",
    "from skimage.io import imread\n",
    "import matplotlib.pyplot as plt\n",
    "import pyclesperanto_prototype as cle\n",
    "\n",
    "cle.select_device(\"amd\")"
   ]
  },
  {
   "cell_type": "code",
   "execution_count": 2,
   "id": "042e1c17-2580-4f01-8772-99a11694ce28",
   "metadata": {},
   "outputs": [
    {
     "data": {
      "text/plain": [
       "('86', (3453878272, 4294443008))"
      ]
     },
     "execution_count": 2,
     "metadata": {},
     "output_type": "execute_result"
    }
   ],
   "source": [
    "import cupy\n",
    "device = cupy.cuda.Device(0)\n",
    "device.compute_capability, device.mem_info"
   ]
  },
  {
   "cell_type": "code",
   "execution_count": 3,
   "id": "c50b5061-d329-4982-997c-bf584f63c4ad",
   "metadata": {},
   "outputs": [],
   "source": [
    "from dexp.processing.deskew import yang_deskew, classic_deskew"
   ]
  },
  {
   "cell_type": "code",
   "execution_count": 4,
   "id": "c9106966-3d9b-40ce-a2c7-d8dfb0515c72",
   "metadata": {},
   "outputs": [
    {
     "data": {
      "text/plain": [
       "(834, 118, 209)"
      ]
     },
     "execution_count": 4,
     "metadata": {},
     "output_type": "execute_result"
    }
   ],
   "source": [
    "voxel_size_x_in_microns = 0.1449922\n",
    "voxel_size_y_in_microns = 0.1449922\n",
    "voxel_size_z_in_microns = 0.3\n",
    "\n",
    "deskewing_angle_in_degrees = 30\n",
    "\n",
    "original_image = imread('../data/RBC_tiny.tif')\n",
    "original_image.shape"
   ]
  },
  {
   "cell_type": "code",
   "execution_count": 5,
   "id": "dcdb1a60-cb8d-4608-857d-ec912ed0c9d6",
   "metadata": {},
   "outputs": [],
   "source": [
    "# Source: https://github.com/QI2lab/OPM/blob/master/reconstruction/image_post_processing.py\n",
    "# Licensed GPL 3 https://github.com/QI2lab/OPM/blob/master/LICENSE\n",
    "\n",
    "import sys\n",
    "import numpy as np\n",
    "from pathlib import Path\n",
    "from tifffile import tifffile\n",
    "from numba import njit, prange\n",
    "from functools import partial\n",
    "import gc\n",
    "import cupy as cp\n",
    "\n",
    "    \n",
    "# http://numba.pydata.org/numba-doc/latest/user/parallel.html#numba-parallel\n",
    "@njit(parallel=True)\n",
    "def deskew(data,theta,distance,pixel_size):\n",
    "    \"\"\"\n",
    "    Perform parallelized orthogonal interpolation into a uniform pixel size grid.\n",
    "    \n",
    "    :param data: ndarray\n",
    "        image stack of uniformly spaced OPM planes\n",
    "    :param theta: float \n",
    "        angle relative to coverslip\n",
    "    :param distance: float \n",
    "        step between image planes along coverslip\n",
    "    :param pizel_size: float \n",
    "        in-plane camera pixel size in OPM coordinates\n",
    "    :return output: ndarray\n",
    "        image stack of deskewed OPM planes on uniform grid\n",
    "    \"\"\"\n",
    "\n",
    "    # unwrap parameters \n",
    "    [num_images,ny,nx]=data.shape     # (pixels)\n",
    "\n",
    "    # change step size from physical space (nm) to camera space (pixels)\n",
    "    pixel_step = distance/pixel_size    # (pixels)\n",
    "\n",
    "    # calculate the number of pixels scanned during stage scan \n",
    "    scan_end = num_images * pixel_step  # (pixels)\n",
    "\n",
    "    # calculate properties for final image\n",
    "    final_ny = np.int64(np.ceil(scan_end+ny*np.cos(theta*np.pi/180))) # (pixels)\n",
    "    final_nz = np.int64(np.ceil(ny*np.sin(theta*np.pi/180)))          # (pixels)\n",
    "    final_nx = np.int64(nx)                                           # (pixels)\n",
    "\n",
    "    # create final image\n",
    "    output = np.zeros((final_nz, final_ny, final_nx),dtype=np.float32)  # (time, pixels,pixels,pixels - data is float32)\n",
    "\n",
    "    # precalculate trig functions for scan angle\n",
    "    tantheta = np.float32(np.tan(theta * np.pi/180)) # (float32)\n",
    "    sintheta = np.float32(np.sin(theta * np.pi/180)) # (float32)\n",
    "    costheta = np.float32(np.cos(theta * np.pi/180)) # (float32)\n",
    "\n",
    "    # perform orthogonal interpolation\n",
    "\n",
    "    # loop through output z planes\n",
    "    # defined as parallel loop in numba\n",
    "    # http://numba.pydata.org/numba-doc/latest/user/parallel.html#numba-parallel\n",
    "    for z in prange(0,final_nz):\n",
    "        # calculate range of output y pixels to populate\n",
    "        y_range_min=np.minimum(0,np.int64(np.floor(np.float32(z)/tantheta)))\n",
    "        y_range_max=np.maximum(final_ny,np.int64(np.ceil(scan_end+np.float32(z)/tantheta+1)))\n",
    "\n",
    "        # loop through final y pixels\n",
    "        # defined as parallel loop in numba\n",
    "        # http://numba.pydata.org/numba-doc/latest/user/parallel.html#numba-parallel\n",
    "        for y in prange(y_range_min,y_range_max):\n",
    "\n",
    "            # find the virtual tilted plane that intersects the interpolated plane \n",
    "            virtual_plane = y - z/tantheta\n",
    "\n",
    "            # find raw data planes that surround the virtual plane\n",
    "            plane_before = np.int64(np.floor(virtual_plane/pixel_step))\n",
    "            plane_after = np.int64(plane_before+1)\n",
    "\n",
    "            # continue if raw data planes are within the data range\n",
    "            if ((plane_before>=0) and (plane_after<num_images)):\n",
    "                \n",
    "                # find distance of a point on the  interpolated plane to plane_before and plane_after\n",
    "                l_before = virtual_plane - plane_before * pixel_step\n",
    "                l_after = pixel_step - l_before\n",
    "                \n",
    "                # determine location of a point along the interpolated plane\n",
    "                za = z/sintheta\n",
    "                virtual_pos_before = za + l_before*costheta\n",
    "                virtual_pos_after = za - l_after*costheta\n",
    "\n",
    "                # determine nearest data points to interpoloated point in raw data\n",
    "                pos_before = np.int64(np.floor(virtual_pos_before))\n",
    "                pos_after = np.int64(np.floor(virtual_pos_after))\n",
    "\n",
    "                # continue if within data bounds\n",
    "                if ((pos_before>=0) and (pos_after >= 0) and (pos_before<ny-1) and (pos_after<ny-1)):\n",
    "                    \n",
    "                    # determine points surrounding interpolated point on the virtual plane \n",
    "                    dz_before = virtual_pos_before - pos_before\n",
    "                    dz_after = virtual_pos_after - pos_after\n",
    "\n",
    "                    # compute final image plane using orthogonal interpolation\n",
    "                    output[z,y,:] = (l_before * dz_after * data[plane_after,pos_after+1,:] +\n",
    "                                    l_before * (1-dz_after) * data[plane_after,pos_after,:] +\n",
    "                                    l_after * dz_before * data[plane_before,pos_before+1,:] +\n",
    "                                    l_after * (1-dz_before) * data[plane_before,pos_before,:]) /pixel_step\n",
    "\n",
    "\n",
    "    return output"
   ]
  },
  {
   "cell_type": "code",
   "execution_count": 6,
   "id": "ab950406-c36b-4e62-90d1-a773b518d170",
   "metadata": {},
   "outputs": [
    {
     "data": {
      "text/plain": [
       "(59, 1828, 209)"
      ]
     },
     "execution_count": 6,
     "metadata": {},
     "output_type": "execute_result"
    }
   ],
   "source": [
    "def opm_deskew():\n",
    "    return deskew(original_image,deskewing_angle_in_degrees,voxel_size_z_in_microns,voxel_size_x_in_microns)\n",
    "    \n",
    "deskewed = opm_deskew()\n",
    "deskewed.shape"
   ]
  },
  {
   "cell_type": "code",
   "execution_count": 7,
   "id": "a2872f62-3bba-494b-b391-80fe7a2f6f87",
   "metadata": {},
   "outputs": [
    {
     "data": {
      "image/png": "[encoded data removed]",
      "text/plain": [
       "<Figure size 432x288 with 1 Axes>"
      ]
     },
     "metadata": {
      "needs_background": "light"
     },
     "output_type": "display_data"
    }
   ],
   "source": [
    "cle.imshow(deskewed[10])"
   ]
  },
  {
   "cell_type": "code",
   "execution_count": 8,
   "id": "40721101-c2d7-4dd7-b7c8-0e3b51acd89c",
   "metadata": {},
   "outputs": [
    {
     "data": {
      "text/plain": [
       "(59, 1831, 209)"
      ]
     },
     "execution_count": 8,
     "metadata": {},
     "output_type": "execute_result"
    }
   ],
   "source": [
    "def cle_deskew():\n",
    "     return cle.deskew_y(original_image, \n",
    "                        angle_in_degrees=deskewing_angle_in_degrees, \n",
    "                        voxel_size_x=voxel_size_x_in_microns, \n",
    "                        voxel_size_y=voxel_size_y_in_microns, \n",
    "                        voxel_size_z=voxel_size_z_in_microns)\n",
    "\n",
    "deskewed = cle_deskew()\n",
    "deskewed.shape"
   ]
  },
  {
   "cell_type": "code",
   "execution_count": null,
   "id": "2c89010f-ac8a-40d6-ada4-a14f4861b1b5",
   "metadata": {},
   "outputs": [],
   "source": []
  },
  {
   "cell_type": "code",
   "execution_count": 9,
   "id": "f1438560-a8bc-45a9-8435-21a11b9b2871",
   "metadata": {},
   "outputs": [
    {
     "data": {
      "text/plain": [
       "(58, 209, 1547)"
      ]
     },
     "execution_count": 9,
     "metadata": {},
     "output_type": "execute_result"
    }
   ],
   "source": [
    "def dexp_deskew():\n",
    "    return yang_deskew.yang_deskew(original_image,\n",
    "               depth_axis=0,\n",
    "               lateral_axis=1,\n",
    "               dz=voxel_size_z_in_microns,\n",
    "               dx=voxel_size_x_in_microns,\n",
    "               angle=deskewing_angle_in_degrees,\n",
    "               flip_depth_axis=False)\n",
    "\n",
    "result = dexp_deskew()\n",
    "result.shape"
   ]
  },
  {
   "cell_type": "code",
   "execution_count": 10,
   "id": "59c9bad5-b28b-4bd2-a798-cb5775e733df",
   "metadata": {},
   "outputs": [
    {
     "data": {
      "text/plain": [
       "(862, 118, 209)"
      ]
     },
     "execution_count": 10,
     "metadata": {},
     "output_type": "execute_result"
    }
   ],
   "source": [
    "def dexp_deskew_classic():\n",
    "    return classic_deskew.classic_deskew(original_image,\n",
    "               depth_axis=0,\n",
    "               lateral_axis=1,\n",
    "               dz=voxel_size_z_in_microns,\n",
    "               dx=voxel_size_x_in_microns,\n",
    "               angle=deskewing_angle_in_degrees,\n",
    "               flip_depth_axis=False)\n",
    "\n",
    "result = dexp_deskew_classic()\n",
    "result.shape"
   ]
  },
  {
   "cell_type": "code",
   "execution_count": null,
   "id": "45d4f59f-e621-4a54-a67f-03792fc18775",
   "metadata": {},
   "outputs": [],
   "source": []
  },
  {
   "cell_type": "code",
   "execution_count": 11,
   "id": "9fc989fd-c900-41ff-bcef-c84da88cfc95",
   "metadata": {},
   "outputs": [
    {
     "name": "stdout",
     "output_type": "stream",
     "text": [
      "29 ms ± 411 µs per loop (mean ± std. dev. of 7 runs, 10 loops each)\n"
     ]
    }
   ],
   "source": [
    "%timeit opm_deskew()"
   ]
  },
  {
   "cell_type": "code",
   "execution_count": 12,
   "id": "5ff1c6eb-55b0-4d11-bf74-1af0d660dba6",
   "metadata": {},
   "outputs": [
    {
     "name": "stdout",
     "output_type": "stream",
     "text": [
      "52.1 ms ± 2.77 ms per loop (mean ± std. dev. of 7 runs, 10 loops each)\n"
     ]
    }
   ],
   "source": [
    "%timeit cle_deskew()"
   ]
  },
  {
   "cell_type": "code",
   "execution_count": 13,
   "id": "f1d3bd47-f322-4352-895a-cbea37cec037",
   "metadata": {},
   "outputs": [
    {
     "name": "stdout",
     "output_type": "stream",
     "text": [
      "2.62 s ± 3.04 ms per loop (mean ± std. dev. of 7 runs, 1 loop each)\n"
     ]
    }
   ],
   "source": [
    "%timeit dexp_deskew()"
   ]
  },
  {
   "cell_type": "code",
   "execution_count": 14,
   "id": "5b702b23-76af-4192-b82d-4171ada096e8",
   "metadata": {},
   "outputs": [
    {
     "name": "stdout",
     "output_type": "stream",
     "text": [
      "1.72 s ± 2.71 ms per loop (mean ± std. dev. of 7 runs, 1 loop each)\n"
     ]
    }
   ],
   "source": [
    "%timeit dexp_deskew_classic()"
   ]
  },
  {
   "cell_type": "code",
   "execution_count": null,
   "id": "841d9647-84ff-478d-b4c2-8a63a2f801b4",
   "metadata": {},
   "outputs": [],
   "source": []
  },
  {
   "cell_type": "code",
   "execution_count": null,
   "id": "fcc6701a-e261-4053-be18-b63523d0633a",
   "metadata": {},
   "outputs": [],
   "source": []
  }
 ],
 "metadata": {
  "kernelspec": {
   "display_name": "Python 3 (ipykernel)",
   "language": "python",
   "name": "python3"
  },
  "language_info": {
   "codemirror_mode": {
    "name": "ipython",
    "version": 3
   },
   "file_extension": ".py",
   "mimetype": "text/x-python",
   "name": "python",
   "nbconvert_exporter": "python",
   "pygments_lexer": "ipython3",
   "version": "3.9.10"
  }
 },
 "nbformat": 4,
 "nbformat_minor": 5
}
