{
 "cells": [
  {
   "cell_type": "markdown",
   "id": "seasonal-maryland",
   "metadata": {},
   "source": [
    "# Connected component labeling\n",
    "Here we compare performance connected component labeling algorithms implemented in [cupy](https://cupy.dev), [scikit image](https://scikit-image.org) and clEsperanto.\n",
    "\n",
    "Note: benchmarking results vary heavily depending on image size, kernel size, used operations, parameters and used hardware. Use this notebook to adapt it to your use-case scenario and benchmark on your target hardware. If you have different scenarios or use-cases, you are very welcome to submit your notebook as pull-request!"
   ]
  },
  {
   "cell_type": "code",
   "execution_count": 1,
   "id": "forward-shuttle",
   "metadata": {},
   "outputs": [
    {
     "data": {
      "text/plain": [
       "<GeForce RTX 2080 Ti on Platform: NVIDIA CUDA (1 refs)>"
      ]
     },
     "execution_count": 1,
     "metadata": {},
     "output_type": "execute_result"
    }
   ],
   "source": [
    "import pyclesperanto_prototype as cle\n",
    "from skimage import filters\n",
    "import time\n",
    "\n",
    "# to measure kernel execution duration properly, we need to set this flag. It will slow down exection of workflows a bit though\n",
    "cle.set_wait_for_kernel_finish(True)\n",
    "\n",
    "# selet a GPU with the following in the name. This will fallback to any other GPU if none with this name is found\n",
    "cle.select_device('RTX')"
   ]
  },
  {
   "cell_type": "code",
   "execution_count": 2,
   "id": "constant-democracy",
   "metadata": {},
   "outputs": [],
   "source": [
    "# test data\n",
    "import numpy as np\n",
    "\n",
    "sigma = 10\n",
    "pointlist = np.random.random([3, 200]) * 400\n",
    "\n",
    "image = cle.create((400, 400, 400))\n",
    "cle.set(image, 0)\n",
    "\n",
    "cle.pointlist_to_labelled_spots(pointlist, image)\n",
    "\n",
    "blobs = cle.maximum_sphere(image, radius_x=10, radius_y=10, radius_z=10)\n",
    "\n",
    "binary_blobs = cle.greater_constant(blobs, constant=0)\n",
    "\n",
    "binary_image = cle.pull(binary_blobs)"
   ]
  },
  {
   "cell_type": "code",
   "execution_count": 3,
   "id": "british-charger",
   "metadata": {},
   "outputs": [
    {
     "data": {
      "text/plain": [
       "<matplotlib.image.AxesImage at 0x211641319a0>"
      ]
     },
     "execution_count": 3,
     "metadata": {},
     "output_type": "execute_result"
    },
    {
     "data": {
      "image/png": "[encoded data removed]",
      "text/plain": [
       "<Figure size 432x288 with 1 Axes>"
      ]
     },
     "metadata": {
      "needs_background": "light"
     },
     "output_type": "display_data"
    }
   ],
   "source": [
    "\n",
    "from skimage.io import imshow\n",
    "imshow(binary_image[50])"
   ]
  },
  {
   "cell_type": "markdown",
   "id": "closing-archives",
   "metadata": {},
   "source": [
    "# scikit-image"
   ]
  },
  {
   "cell_type": "code",
   "execution_count": 4,
   "id": "spread-cincinnati",
   "metadata": {},
   "outputs": [
    {
     "name": "stdout",
     "output_type": "stream",
     "text": [
      "skimage label duration: 0.5534896850585938\n",
      "skimage label duration: 0.5589733123779297\n",
      "skimage label duration: 0.5973742008209229\n",
      "skimage label duration: 0.5525546073913574\n",
      "skimage label duration: 0.5963160991668701\n",
      "skimage label duration: 0.6306900978088379\n",
      "skimage label duration: 0.5712888240814209\n",
      "skimage label duration: 0.6745197772979736\n",
      "skimage label duration: 0.5723729133605957\n",
      "skimage label duration: 0.6139242649078369\n"
     ]
    },
    {
     "name": "stderr",
     "output_type": "stream",
     "text": [
      "C:\\Programs\\miniconda3\\envs\\beetlesafari\\lib\\site-packages\\skimage\\io\\_plugins\\matplotlib_plugin.py:150: UserWarning: Low image data range; displaying image with stretched contrast.\n",
      "  lo, hi, cmap = _get_display_range(image)\n"
     ]
    },
    {
     "data": {
      "text/plain": [
       "188"
      ]
     },
     "execution_count": 4,
     "metadata": {},
     "output_type": "execute_result"
    },
    {
     "data": {
      "image/png": "[encoded data removed]",
      "text/plain": [
       "<Figure size 432x288 with 2 Axes>"
      ]
     },
     "metadata": {
      "needs_background": "light"
     },
     "output_type": "display_data"
    }
   ],
   "source": [
    "# label with scikit-image\n",
    "from skimage.measure import label\n",
    "\n",
    "result_image = None\n",
    "\n",
    "for i in range(0, 10):\n",
    "    start_time = time.time()\n",
    "    result_image = label(binary_image)\n",
    "    print(\"skimage label duration: \" + str(time.time() - start_time))\n",
    "    \n",
    "imshow(result_image[50])\n",
    "np.max(result_image)"
   ]
  },
  {
   "cell_type": "markdown",
   "id": "enabling-comment",
   "metadata": {},
   "source": [
    "# clEsperanto"
   ]
  },
  {
   "cell_type": "code",
   "execution_count": 5,
   "id": "amber-genome",
   "metadata": {},
   "outputs": [
    {
     "name": "stdout",
     "output_type": "stream",
     "text": [
      "clEsperanto label duration: 0.15620994567871094\n",
      "clEsperanto label duration: 0.12492918968200684\n",
      "clEsperanto label duration: 0.11988615989685059\n",
      "clEsperanto label duration: 0.10935020446777344\n",
      "clEsperanto label duration: 0.1263105869293213\n",
      "clEsperanto label duration: 0.11313104629516602\n",
      "clEsperanto label duration: 0.1284477710723877\n",
      "clEsperanto label duration: 0.10721683502197266\n",
      "clEsperanto label duration: 0.12795710563659668\n",
      "clEsperanto label duration: 0.09817790985107422\n"
     ]
    },
    {
     "name": "stderr",
     "output_type": "stream",
     "text": [
      "C:\\Programs\\miniconda3\\envs\\beetlesafari\\lib\\site-packages\\skimage\\io\\_plugins\\matplotlib_plugin.py:150: UserWarning: Float image out of standard range; displaying image with stretched contrast.\n",
      "  lo, hi, cmap = _get_display_range(image)\n"
     ]
    },
    {
     "data": {
      "text/plain": [
       "188.0"
      ]
     },
     "execution_count": 5,
     "metadata": {},
     "output_type": "execute_result"
    },
    {
     "data": {
      "image/png": "[encoded data removed]",
      "text/plain": [
       "<Figure size 432x288 with 2 Axes>"
      ]
     },
     "metadata": {
      "needs_background": "light"
     },
     "output_type": "display_data"
    }
   ],
   "source": [
    "ocl_binary_image = cle.push(binary_image)\n",
    "\n",
    "result_image = None\n",
    "\n",
    "for i in range(0, 10):\n",
    "    start_time = time.time()\n",
    "    result_image = cle.connected_components_labeling_box(ocl_binary_image, result_image)\n",
    "    print(\"clEsperanto label duration: \" + str(time.time() - start_time))\n",
    "\n",
    "result = cle.pull(result_image)\n",
    "imshow(result[50])\n",
    "np.max(result)"
   ]
  },
  {
   "cell_type": "markdown",
   "id": "interested-neutral",
   "metadata": {},
   "source": [
    "# cupy"
   ]
  },
  {
   "cell_type": "code",
   "execution_count": 6,
   "id": "logical-blanket",
   "metadata": {},
   "outputs": [
    {
     "name": "stdout",
     "output_type": "stream",
     "text": [
      "cupy label duration: 0.2186901569366455\n",
      "cupy label duration: 0.0\n",
      "cupy label duration: 0.01562047004699707\n",
      "cupy label duration: 0.0\n",
      "cupy label duration: 0.015591859817504883\n",
      "cupy label duration: 0.0\n",
      "cupy label duration: 0.0\n",
      "cupy label duration: 0.01565861701965332\n",
      "cupy label duration: 0.0\n",
      "cupy label duration: 0.015621662139892578\n"
     ]
    },
    {
     "name": "stderr",
     "output_type": "stream",
     "text": [
      "C:\\Programs\\miniconda3\\envs\\beetlesafari\\lib\\site-packages\\skimage\\io\\_plugins\\matplotlib_plugin.py:150: UserWarning: Float image out of standard range; displaying image with stretched contrast.\n",
      "  lo, hi, cmap = _get_display_range(image)\n"
     ]
    },
    {
     "data": {
      "text/plain": [
       "190.0"
      ]
     },
     "execution_count": 6,
     "metadata": {},
     "output_type": "execute_result"
    },
    {
     "data": {
      "image/png": "[encoded data removed]",
      "text/plain": [
       "<Figure size 432x288 with 2 Axes>"
      ]
     },
     "metadata": {
      "needs_background": "light"
     },
     "output_type": "display_data"
    }
   ],
   "source": [
    "import cupy\n",
    "from cupyx.scipy import ndimage as ndi\n",
    "\n",
    "cuda_binary_image = cupy.asarray(binary_image)\n",
    "\n",
    "cuda_labeled = cupy.ndarray(image.shape)\n",
    "for i in range(0, 10):\n",
    "    start_time = time.time()\n",
    "    ndi.label(cuda_binary_image, output=cuda_labeled)\n",
    "    cupy.cuda.stream.get_current_stream().synchronize() # we need to wait here to measure time properly\n",
    "    print(\"cupy label duration: \" + str(time.time() - start_time))\n",
    "          \n",
    "result = cupy.asnumpy(cuda_labeled)\n",
    "imshow(result[50])\n",
    "np.max(result)"
   ]
  },
  {
   "cell_type": "code",
   "execution_count": null,
   "id": "funny-ozone",
   "metadata": {},
   "outputs": [],
   "source": []
  },
  {
   "cell_type": "code",
   "execution_count": null,
   "id": "guided-pharmacy",
   "metadata": {},
   "outputs": [],
   "source": []
  }
 ],
 "metadata": {
  "kernelspec": {
   "display_name": "Python 3",
   "language": "python",
   "name": "python3"
  },
  "language_info": {
   "codemirror_mode": {
    "name": "ipython",
    "version": 3
   },
   "file_extension": ".py",
   "mimetype": "text/x-python",
   "name": "python",
   "nbconvert_exporter": "python",
   "pygments_lexer": "ipython3",
   "version": "3.8.8"
  }
 },
 "nbformat": 4,
 "nbformat_minor": 5
}
