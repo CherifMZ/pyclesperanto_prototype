{
 "cells": [
  {
   "cell_type": "code",
   "execution_count": 42,
   "metadata": {},
   "outputs": [
    {
     "name": "stdout",
     "output_type": "stream",
     "text": [
      "(59, 1832, 209)\n"
     ]
    }
   ],
   "source": [
    "import math\n",
    "import pyclesperanto_prototype as cle\n",
    "from skimage.io import imread\n",
    "import numpy as np \n",
    "\n",
    "voxel_size_x_in_microns = 0.1449922\n",
    "voxel_size_y_in_microns = 0.1449922\n",
    "voxel_size_z_in_microns = 0.3\n",
    "\n",
    "deskewing_angle_in_degrees = 30\n",
    "\n",
    "original_image = imread('./pyclesperanto_prototype/data/RBC_tiny.tif')\n",
    "original_image = original_image[::4]\n",
    "voxel_size_z_in_microns = voxel_size_z_in_microns * 4\n",
    "\n",
    "#Defining Deskewing\n",
    "scale_factor = 1 #Scale factor is used in clesperanto if we want to scale the images in case they don't fit in memory\n",
    "\n",
    "#initialise a transform\n",
    "deskew_transform =cle.AffineTransform3D()\n",
    "#Shear\n",
    "shear_factor = math.sin((90 - deskewing_angle_in_degrees) * math.pi / 180.0) * (voxel_size_z_in_microns/voxel_size_y_in_microns)\n",
    "deskew_transform._matrix[1, 2] = shear_factor\n",
    "#Scale\n",
    "new_dz = math.sin(deskewing_angle_in_degrees * math.pi / 180.0) * voxel_size_z_in_microns\n",
    "scale_factor_z = (new_dz / voxel_size_y_in_microns) * scale_factor\n",
    "deskew_transform.scale(scale_x=scale_factor, scale_y=scale_factor, scale_z=scale_factor_z)\n",
    "#Rotate deskewing angle\n",
    "deskew_transform.rotate(angle_in_degrees = 0 - deskewing_angle_in_degrees, axis=0)\n",
    "deskew_transform._matrix\n",
    "deskewed = cle.affine_transform(source= original_image,transform = deskew_transform,auto_size=True)\n",
    "deskewed = cle.pull(deskewed)\n",
    "print(deskewed.shape)"
   ]
  },
  {
   "cell_type": "code",
   "execution_count": 16,
   "metadata": {},
   "outputs": [
    {
     "data": {
      "text/plain": [
       "(209, 1616, 209)"
      ]
     },
     "execution_count": 16,
     "metadata": {},
     "output_type": "execute_result"
    }
   ],
   "source": [
    "shear_transform =cle.AffineTransform3D()\n",
    "#Shear\n",
    "shear_factor = math.sin((90 - deskewing_angle_in_degrees) * math.pi / 180.0) * (voxel_size_z_in_microns/voxel_size_y_in_microns)\n",
    "shear_transform._matrix[1, 2] = shear_factor\n",
    "sheared = cle.affine_transform(source= original_image,transform = shear_transform,auto_size=True)\n",
    "sheared = cle.pull(sheared)\n",
    "sheared.shape"
   ]
  },
  {
   "cell_type": "code",
   "execution_count": 62,
   "metadata": {},
   "outputs": [
    {
     "data": {
      "text/plain": [
       "<pyclesperanto_prototype._tier8._AffineTransform3D.AffineTransform3D at 0x1cf0aee3be0>"
      ]
     },
     "execution_count": 62,
     "metadata": {},
     "output_type": "execute_result"
    }
   ],
   "source": [
    "#scaling and rotation\n",
    "#Scale\n",
    "scale_rotate = cle.AffineTransform3D()\n",
    "new_dz = math.sin(deskewing_angle_in_degrees * math.pi / 180.0) * voxel_size_z_in_microns\n",
    "scale_factor_z = (new_dz / voxel_size_y_in_microns) * scale_factor\n",
    "scale_rotate.scale(scale_x=scale_factor, scale_y=scale_factor, scale_z=scale_factor_z)\n",
    "#Rotate deskewing angle\n",
    "scale_rotate.rotate(angle_in_degrees = 0 - deskewing_angle_in_degrees, axis=0)\n",
    "scale_rotate.inverse()"
   ]
  },
  {
   "cell_type": "code",
   "execution_count": 33,
   "metadata": {},
   "outputs": [
    {
     "name": "stdout",
     "output_type": "stream",
     "text": [
      "[[ 68.  81.  89. 101. 101.]\n",
      " [ 72.  87.  94.  99. 103.]\n",
      " [ 79.  85.  98. 101. 113.]\n",
      " [ 87.  95.  97. 102. 107.]\n",
      " [ 86.  85.  93. 103. 101.]]\n",
      "87.0\n",
      "102.0\n"
     ]
    }
   ],
   "source": [
    "\n",
    "print(sheared[98,798:803,98:103])\n",
    "crop = sheared[98,798:803,98:103]\n",
    "coord_sheared = sheared[98,800,100]\n",
    "coord\n",
    "\n",
    "x1,y1,z1 = [98,799,99]\n",
    "x2,y2,z2 = [98,801,101]\n",
    "\n",
    "print(sheared[x1,y1,z1])\n",
    "print(sheared[ x2,y2,z2])\n"
   ]
  },
  {
   "cell_type": "code",
   "execution_count": 54,
   "metadata": {},
   "outputs": [
    {
     "data": {
      "text/plain": [
       "[[98, 799, 99, 1], [98, 799, 101, 1], [98, 801, 99, 1], [98, 801, 101, 1]]"
      ]
     },
     "execution_count": 54,
     "metadata": {},
     "output_type": "execute_result"
    }
   ],
   "source": [
    "from itertools import product \n",
    "neighbours = [list(x)+[1] for x in product((98, 98), (799, 801), (99, 101))][:4]\n",
    "top_left, top_right, bottom_left,bottom_right = neighbours\n",
    "neighbours"
   ]
  },
  {
   "cell_type": "code",
   "execution_count": 64,
   "metadata": {},
   "outputs": [
    {
     "data": {
      "text/plain": [
       "array([[ 98.        ,  89.41825719,  99.        ,   1.        ],\n",
       "       [ 98.        ,  75.08327249, 101.        ,   1.        ],\n",
       "       [ 98.        ,  91.41825719,  99.        ,   1.        ],\n",
       "       [ 98.        ,  77.08327249, 101.        ,   1.        ]])"
      ]
     },
     "execution_count": 64,
     "metadata": {},
     "output_type": "execute_result"
    }
   ],
   "source": [
    "#neighbours = [list(x)for x in product((98, 98), (799, 801), (99, 101))][0:4]\n",
    "shear_inverse = shear_transform.copy().inverse()\n",
    "neighbours_deskewed = np.asarray(list(map(lambda x: shear_inverse._matrix @ x, neighbours)))\n",
    "neighbours_deskewed\n"
   ]
  },
  {
   "cell_type": "code",
   "execution_count": 79,
   "metadata": {},
   "outputs": [
    {
     "name": "stdout",
     "output_type": "stream",
     "text": [
      "[[9.800e+01 1.509e+03 9.900e+01 1.000e+00]\n",
      " [9.800e+01 1.523e+03 1.010e+02 1.000e+00]\n",
      " [9.800e+01 1.511e+03 9.900e+01 1.000e+00]\n",
      " [9.800e+01 1.525e+03 1.010e+02 1.000e+00]]\n"
     ]
    }
   ],
   "source": [
    "np.set_printoptions(precision=3)\n",
    "neighbours_deskewed\n",
    "shear_img = np.asarray(list(map(lambda x: shear_transform._matrix @ x, neighbours)))\n",
    "print(shear_img)"
   ]
  },
  {
   "cell_type": "code",
   "execution_count": 75,
   "metadata": {},
   "outputs": [
    {
     "data": {
      "text/plain": [
       "array([[86, 87],\n",
       "       [81, 80],\n",
       "       [83, 79],\n",
       "       [77, 75],\n",
       "       [76, 79],\n",
       "       [75, 86],\n",
       "       [62, 68],\n",
       "       [65, 75],\n",
       "       [72, 65],\n",
       "       [68, 75],\n",
       "       [64, 65],\n",
       "       [61, 69],\n",
       "       [61, 59],\n",
       "       [53, 59],\n",
       "       [52, 62],\n",
       "       [54, 56]], dtype=uint8)"
      ]
     },
     "execution_count": 75,
     "metadata": {},
     "output_type": "execute_result"
    }
   ],
   "source": [
    "original_image[98,75:91,99:101]"
   ]
  },
  {
   "cell_type": "code",
   "execution_count": 71,
   "metadata": {},
   "outputs": [
    {
     "data": {
      "text/plain": [
       "array([[ 68.,  81.,  89., 101., 101.],\n",
       "       [ 72.,  87.,  94.,  99., 103.],\n",
       "       [ 79.,  85.,  98., 101., 113.],\n",
       "       [ 87.,  95.,  97., 102., 107.],\n",
       "       [ 86.,  85.,  93., 103., 101.]], dtype=float32)"
      ]
     },
     "execution_count": 71,
     "metadata": {},
     "output_type": "execute_result"
    }
   ],
   "source": [
    "crop"
   ]
  },
  {
   "cell_type": "code",
   "execution_count": 8,
   "metadata": {},
   "outputs": [
    {
     "data": {
      "text/plain": [
       "98.765625"
      ]
     },
     "execution_count": 8,
     "metadata": {},
     "output_type": "execute_result"
    }
   ],
   "source": [
    "sheared_image = \n",
    "#value at coordinate \n",
    "coord = deskewed[25,500,100]\n",
    "x1 = deskewed[25,500,99]"
   ]
  },
  {
   "cell_type": "code",
   "execution_count": 12,
   "metadata": {},
   "outputs": [
    {
     "data": {
      "text/plain": [
       "array([[132.39062 , 113.78516 , 103.609375,  88.40234 ,  85.55469 ],\n",
       "       [132.60938 , 112.296875, 101.125   ,  82.3125  ,  77.015625],\n",
       "       [132.9961  , 111.      ,  98.765625,  76.29297 ,  68.48047 ],\n",
       "       [126.625   , 107.640625,  98.67578 ,  78.640625,  72.03516 ],\n",
       "       [117.15625 , 103.390625,  99.72656 ,  84.859375,  81.13281 ]],\n",
       "      dtype=float32)"
      ]
     },
     "execution_count": 12,
     "metadata": {},
     "output_type": "execute_result"
    }
   ],
   "source": [
    "import matplotlib.pyplot as plt\n",
    "deskewed[25,498:503,98:103]"
   ]
  },
  {
   "cell_type": "code",
   "execution_count": 2,
   "metadata": {},
   "outputs": [
    {
     "data": {
      "text/plain": [
       "(59, 1832, 209)"
      ]
     },
     "execution_count": 2,
     "metadata": {},
     "output_type": "execute_result"
    }
   ],
   "source": [
    "# Source: https://github.com/QI2lab/OPM/blob/master/reconstruction/image_post_processing.py\n",
    "# Licensed GPL 3 https://github.com/QI2lab/OPM/blob/master/LICENSE\n",
    "\n",
    "import sys\n",
    "import numpy as np\n",
    "from pathlib import Path\n",
    "from numba import njit, prange\n",
    "from functools import partial\n",
    "import gc\n",
    "\n",
    "\n",
    "    \n",
    "# http://numba.pydata.org/numba-doc/latest/user/parallel.html#numba-parallel\n",
    "@njit(parallel=True)\n",
    "def deskew(data,theta,distance,pixel_size):\n",
    "    \"\"\"\n",
    "    Perform parallelized orthogonal interpolation into a uniform pixel size grid.\n",
    "    \n",
    "    :param data: ndarray\n",
    "        image stack of uniformly spaced OPM planes\n",
    "    :param theta: float \n",
    "        angle relative to coverslip\n",
    "    :param distance: float \n",
    "        step between image planes along coverslip\n",
    "    :param pizel_size: float \n",
    "        in-plane camera pixel size in OPM coordinates\n",
    "    :return output: ndarray\n",
    "        image stack of deskewed OPM planes on uniform grid\n",
    "    \"\"\"\n",
    "\n",
    "    # unwrap parameters \n",
    "    [num_images,ny,nx]=data.shape     # (pixels)\n",
    "\n",
    "    # change step size from physical space (nm) to camera space (pixels)\n",
    "    pixel_step = distance/pixel_size    # (pixels)\n",
    "\n",
    "    # calculate the number of pixels scanned during stage scan \n",
    "    scan_end = num_images * pixel_step  # (pixels)\n",
    "\n",
    "    # calculate properties for final image\n",
    "    final_ny = np.int64(np.ceil(scan_end+ny*np.cos(theta*np.pi/180))) # (pixels)\n",
    "    final_nz = np.int64(np.ceil(ny*np.sin(theta*np.pi/180)))          # (pixels)\n",
    "    final_nx = np.int64(nx)                                           # (pixels)\n",
    "\n",
    "    # create final image\n",
    "    output = np.zeros((final_nz, final_ny, final_nx),dtype=np.float32)  # (time, pixels,pixels,pixels - data is float32)\n",
    "\n",
    "    # precalculate trig functions for scan angle\n",
    "    tantheta = np.float32(np.tan(theta * np.pi/180)) # (float32)\n",
    "    sintheta = np.float32(np.sin(theta * np.pi/180)) # (float32)\n",
    "    costheta = np.float32(np.cos(theta * np.pi/180)) # (float32)\n",
    "\n",
    "    # perform orthogonal interpolation\n",
    "\n",
    "    # loop through output z planes\n",
    "    # defined as parallel loop in numba\n",
    "    # http://numba.pydata.org/numba-doc/latest/user/parallel.html#numba-parallel\n",
    "    for z in prange(0,final_nz):\n",
    "        # calculate range of output y pixels to populate\n",
    "        y_range_min=np.minimum(0,np.int64(np.floor(np.float32(z)/tantheta)))\n",
    "        y_range_max=np.maximum(final_ny,np.int64(np.ceil(scan_end+np.float32(z)/tantheta+1)))\n",
    "\n",
    "        # loop through final y pixels\n",
    "        # defined as parallel loop in numba\n",
    "        # http://numba.pydata.org/numba-doc/latest/user/parallel.html#numba-parallel\n",
    "        for y in prange(y_range_min,y_range_max):\n",
    "\n",
    "            # find the virtual tilted plane that intersects the interpolated plane \n",
    "            virtual_plane = y - z/tantheta\n",
    "\n",
    "            # find raw data planes that surround the virtual plane\n",
    "            plane_before = np.int64(np.floor(virtual_plane/pixel_step))\n",
    "            plane_after = np.int64(plane_before+1)\n",
    "\n",
    "            # continue if raw data planes are within the data range\n",
    "            if ((plane_before>=0) and (plane_after<num_images)):\n",
    "                \n",
    "                # find distance of a point on the  interpolated plane to plane_before and plane_after\n",
    "                l_before = virtual_plane - plane_before * pixel_step\n",
    "                l_after = pixel_step - l_before\n",
    "                \n",
    "                # determine location of a point along the interpolated plane\n",
    "                za = z/sintheta\n",
    "                virtual_pos_before = za + l_before*costheta\n",
    "                virtual_pos_after = za - l_after*costheta\n",
    "\n",
    "                # determine nearest data points to interpoloated point in raw data\n",
    "                pos_before = np.int64(np.floor(virtual_pos_before))\n",
    "                pos_after = np.int64(np.floor(virtual_pos_after))\n",
    "\n",
    "                # continue if within data bounds\n",
    "                if ((pos_before>=0) and (pos_after >= 0) and (pos_before<ny-1) and (pos_after<ny-1)):\n",
    "                    \n",
    "                    # determine points surrounding interpolated point on the virtual plane \n",
    "                    dz_before = virtual_pos_before - pos_before\n",
    "                    dz_after = virtual_pos_after - pos_after\n",
    "\n",
    "                    # compute final image plane using orthogonal interpolation\n",
    "                    output[z,y,:] = (l_before * dz_after * data[plane_after,pos_after+1,:] +\n",
    "                                    l_before * (1-dz_after) * data[plane_after,pos_after,:] +\n",
    "                                    l_after * dz_before * data[plane_before,pos_before+1,:] +\n",
    "                                    l_after * (1-dz_before) * data[plane_before,pos_before,:]) /pixel_step\n",
    "\n",
    "\n",
    "    return output\n",
    "\n",
    "\n",
    "deskewed = deskew(original_image,deskewing_angle_in_degrees,voxel_size_z_in_microns,voxel_size_x_in_microns)\n",
    "deskewed.shape"
   ]
  },
  {
   "cell_type": "code",
   "execution_count": 37,
   "metadata": {},
   "outputs": [
    {
     "data": {
      "text/plain": [
       "(3, 6, 9)"
      ]
     },
     "execution_count": 37,
     "metadata": {},
     "output_type": "execute_result"
    }
   ],
   "source": []
  },
  {
   "cell_type": "code",
   "execution_count": null,
   "metadata": {},
   "outputs": [],
   "source": []
  }
 ],
 "metadata": {
  "kernelspec": {
   "display_name": "pyclesp_orth",
   "language": "python",
   "name": "python3"
  },
  "language_info": {
   "codemirror_mode": {
    "name": "ipython",
    "version": 3
   },
   "file_extension": ".py",
   "mimetype": "text/x-python",
   "name": "python",
   "nbconvert_exporter": "python",
   "pygments_lexer": "ipython3",
   "version": "3.9.13"
  },
  "orig_nbformat": 4,
  "vscode": {
   "interpreter": {
    "hash": "c2b46194c6f53d1309ec6efbc337d4d86cf8be9dd82cf5e27a48142022d8f42e"
   }
  }
 },
 "nbformat": 4,
 "nbformat_minor": 2
}
