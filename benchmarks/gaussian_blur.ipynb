{
 "cells": [
  {
   "cell_type": "markdown",
   "metadata": {},
   "source": [
    "# Gaussian blur benchmarking\n",
    "This notebook compares different implementations of the Gaussian blur filter.\n",
    "\n",
    "**Note:** benchmarking results vary heavily depending on image size, kernel size, used operations, parameters and used hardware. Use this notebook to adapt it to your use-case scenario and benchmark on your target hardware. If you have different scenarios or use-cases, you are very welcome to submit your notebook as pull-request!"
   ]
  },
  {
   "cell_type": "code",
   "execution_count": 1,
   "metadata": {},
   "outputs": [
    {
     "data": {
      "text/plain": [
       "<GeForce RTX 2070 on Platform: NVIDIA CUDA (1 refs)>"
      ]
     },
     "execution_count": 1,
     "metadata": {},
     "output_type": "execute_result"
    }
   ],
   "source": [
    "import pyclesperanto_prototype as cle\n",
    "from skimage import filters\n",
    "import time\n",
    "\n",
    "# to measure kernel execution duration properly, we need to set this flag. It will slow down exection of workflows a bit though\n",
    "cle.set_wait_for_kernel_finish(True)\n",
    "\n",
    "# selet a GPU with the following in the name. This will fallback to any other GPU if none with this name is found\n",
    "cle.select_device('RTX')"
   ]
  },
  {
   "cell_type": "code",
   "execution_count": 2,
   "metadata": {},
   "outputs": [],
   "source": [
    "# test data\n",
    "import numpy as np\n",
    "\n",
    "test_image = np.random.random([100, 512, 512])\n",
    "\n",
    "sigma = 10"
   ]
  },
  {
   "cell_type": "code",
   "execution_count": 3,
   "metadata": {},
   "outputs": [
    {
     "name": "stdout",
     "output_type": "stream",
     "text": [
      "skimage Gaussian duration: 2.4517695903778076\n",
      "skimage Gaussian duration: 2.396853446960449\n",
      "skimage Gaussian duration: 2.3997459411621094\n",
      "skimage Gaussian duration: 2.3574516773223877\n",
      "skimage Gaussian duration: 2.3943564891815186\n",
      "skimage Gaussian duration: 2.3723044395446777\n",
      "skimage Gaussian duration: 2.9561898708343506\n",
      "skimage Gaussian duration: 2.938202142715454\n",
      "skimage Gaussian duration: 2.931187868118286\n",
      "skimage Gaussian duration: 2.953237295150757\n"
     ]
    }
   ],
   "source": [
    "# convolve with scikit-image\n",
    "result_image = None\n",
    "\n",
    "for i in range(0, 10):\n",
    "    start_time = time.time()\n",
    "    result_image = filters.gaussian(test_image, output=result_image, sigma=sigma)\n",
    "    print(\"skimage Gaussian duration: \" + str(time.time() - start_time))\n",
    "    "
   ]
  },
  {
   "cell_type": "code",
   "execution_count": 4,
   "metadata": {},
   "outputs": [
    {
     "name": "stdout",
     "output_type": "stream",
     "text": [
      "pyclesperanto Gaussian duration: 0.09211397171020508\n",
      "pyclesperanto Gaussian duration: 0.05895876884460449\n",
      "pyclesperanto Gaussian duration: 0.05692744255065918\n",
      "pyclesperanto Gaussian duration: 0.05664205551147461\n",
      "pyclesperanto Gaussian duration: 0.05679821968078613\n",
      "pyclesperanto Gaussian duration: 0.05686163902282715\n",
      "pyclesperanto Gaussian duration: 0.055644989013671875\n",
      "pyclesperanto Gaussian duration: 0.05753803253173828\n",
      "pyclesperanto Gaussian duration: 0.055915117263793945\n",
      "pyclesperanto Gaussian duration: 0.06451988220214844\n"
     ]
    }
   ],
   "source": [
    "# convolve with pyclesperanto\n",
    "result_image = None\n",
    "\n",
    "test_image_gpu = cle.push_zyx(test_image)\n",
    "\n",
    "for i in range(0, 10):\n",
    "    start_time = time.time()\n",
    "    result_image = cle.gaussian_blur(test_image_gpu, result_image, sigma_x=sigma, sigma_y=sigma, sigma_z=sigma)\n",
    "    print(\"pyclesperanto Gaussian duration: \" + str(time.time() - start_time))"
   ]
  },
  {
   "cell_type": "code",
   "execution_count": null,
   "metadata": {},
   "outputs": [],
   "source": []
  }
 ],
 "metadata": {
  "kernelspec": {
   "display_name": "Python 3",
   "language": "python",
   "name": "python3"
  },
  "language_info": {
   "codemirror_mode": {
    "name": "ipython",
    "version": 3
   },
   "file_extension": ".py",
   "mimetype": "text/x-python",
   "name": "python",
   "nbconvert_exporter": "python",
   "pygments_lexer": "ipython3",
   "version": "3.8.3"
  }
 },
 "nbformat": 4,
 "nbformat_minor": 4
}
