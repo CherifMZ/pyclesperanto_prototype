{
 "cells": [
  {
   "cell_type": "markdown",
   "metadata": {},
   "source": [
    "# Matrix multiplication\n",
    "clEsperanto brings operations for multiplying images and matrices which are also available with numpy. Let's see how numpy performs in comparison with our OpenCL stuff. When doing similar comparisons with ImageJ, we saw more performance benefits when GPU-accelerating 3D operations compared to 2D operations. https://clij.github.io/clij-benchmarking/benchmarking_operations_jmh\n",
    "\n",
    "**Note:** benchmarking results vary heavily depending on image size, kernel size, used operations, parameters and used hardware. Use this notebook to adapt it to your use-case scenario and benchmark on your target hardware. If you have different scenarios or use-cases, you are very welcome to submit your notebook as pull-request!"
   ]
  },
  {
   "cell_type": "code",
   "execution_count": 1,
   "metadata": {},
   "outputs": [
    {
     "data": {
      "text/plain": [
       "<NVIDIA GeForce RTX 3050 Ti Laptop GPU on Platform: NVIDIA CUDA (1 refs)>"
      ]
     },
     "execution_count": 1,
     "metadata": {},
     "output_type": "execute_result"
    }
   ],
   "source": [
    "import pyclesperanto_prototype as cle\n",
    "import time\n",
    "import numpy as np\n",
    "import cupy as cp\n",
    "\n",
    "# to measure kernel execution duration properly, we need to set this flag. It will slow down exection of workflows a bit though\n",
    "cle.set_wait_for_kernel_finish(True)\n",
    "\n",
    "# selet a GPU with the following in the name. This will fallback to any other GPU if none with this name is found\n",
    "cle.select_device('RTX')"
   ]
  },
  {
   "cell_type": "markdown",
   "metadata": {},
   "source": [
    "## Matrix multiplication"
   ]
  },
  {
   "cell_type": "code",
   "execution_count": 2,
   "metadata": {},
   "outputs": [],
   "source": [
    "# test data\n",
    "test_matrix1 = np.random.random([1024, 512])\n",
    "test_matrix2 = np.random.random([512, 1024])"
   ]
  },
  {
   "cell_type": "code",
   "execution_count": 5,
   "metadata": {},
   "outputs": [
    {
     "name": "stdout",
     "output_type": "stream",
     "text": [
      "clEsperanto matrix multiplication duration: 0.028005361557006836\n",
      "clEsperanto matrix multiplication duration: 0.010002374649047852\n",
      "clEsperanto matrix multiplication duration: 0.011002540588378906\n",
      "clEsperanto matrix multiplication duration: 0.011009454727172852\n",
      "clEsperanto matrix multiplication duration: 0.010985374450683594\n",
      "clEsperanto matrix multiplication duration: 0.01000213623046875\n",
      "clEsperanto matrix multiplication duration: 0.011009693145751953\n",
      "clEsperanto matrix multiplication duration: 0.009986162185668945\n",
      "clEsperanto matrix multiplication duration: 0.010003328323364258\n",
      "clEsperanto matrix multiplication duration: 0.010001420974731445\n"
     ]
    }
   ],
   "source": [
    "# multiply with clesperanto\n",
    "result_matrix = cle.create([1024, 1024])\n",
    "\n",
    "test_matrix1_gpu = cle.push_zyx(test_matrix1)\n",
    "test_matrix2_gpu = cle.push_zyx(test_matrix2)\n",
    "\n",
    "for i in range(0, 10):\n",
    "    start_time = time.time()\n",
    "    cle.multiply_matrix(test_matrix1_gpu, test_matrix2_gpu, result_matrix)\n",
    "    print(\"clEsperanto matrix multiplication duration: \" + str(time.time() - start_time))\n"
   ]
  },
  {
   "cell_type": "code",
   "execution_count": 3,
   "metadata": {},
   "outputs": [
    {
     "name": "stdout",
     "output_type": "stream",
     "text": [
      "Numpy matrix multiplication duration: 0.012001752853393555\n",
      "Numpy matrix multiplication duration: 0.007002592086791992\n",
      "Numpy matrix multiplication duration: 0.011000394821166992\n",
      "Numpy matrix multiplication duration: 0.0050013065338134766\n",
      "Numpy matrix multiplication duration: 0.006001472473144531\n",
      "Numpy matrix multiplication duration: 0.0050013065338134766\n",
      "Numpy matrix multiplication duration: 0.006000995635986328\n",
      "Numpy matrix multiplication duration: 0.00500178337097168\n",
      "Numpy matrix multiplication duration: 0.005000591278076172\n",
      "Numpy matrix multiplication duration: 0.006001710891723633\n",
      "(1024, 1024)\n"
     ]
    }
   ],
   "source": [
    "# multiply with numpy\n",
    "result_matrix = None\n",
    "\n",
    "for i in range(0, 10):\n",
    "    start_time = time.time()\n",
    "    result_matrix = np.matmul(test_matrix1, test_matrix2, out=result_matrix)\n",
    "    print(\"Numpy matrix multiplication duration: \" + str(time.time() - start_time))\n",
    "\n",
    "print(result_matrix.shape)"
   ]
  },
  {
   "cell_type": "code",
   "execution_count": 4,
   "metadata": {},
   "outputs": [
    {
     "name": "stdout",
     "output_type": "stream",
     "text": [
      "cupy matrix multiplication duration: 0.6461458206176758\n",
      "cupy matrix multiplication duration: 0.0200042724609375\n",
      "cupy matrix multiplication duration: 0.020011425018310547\n",
      "cupy matrix multiplication duration: 0.023001909255981445\n",
      "cupy matrix multiplication duration: 0.02199578285217285\n",
      "cupy matrix multiplication duration: 0.020005226135253906\n",
      "cupy matrix multiplication duration: 0.0200045108795166\n",
      "cupy matrix multiplication duration: 0.0200042724609375\n",
      "cupy matrix multiplication duration: 0.020003795623779297\n",
      "cupy matrix multiplication duration: 0.01900482177734375\n",
      "(1024, 1024)\n"
     ]
    }
   ],
   "source": [
    "# multiply with numpy\n",
    "result_matrix = None\n",
    "cu_test_matrix1 = cp.asarray(test_matrix1)\n",
    "cu_test_matrix2 = cp.asarray(test_matrix2)\n",
    "\n",
    "for i in range(0, 10):\n",
    "    start_time = time.time()\n",
    "    result_matrix = cp.matmul(cu_test_matrix1, cu_test_matrix2, out=result_matrix)\n",
    "    cp.cuda.stream.get_current_stream().synchronize() # we need to wait here to measure time properly\n",
    "    print(\"cupy matrix multiplication duration: \" + str(time.time() - start_time))\n",
    "\n",
    "print(result_matrix.shape)"
   ]
  },
  {
   "cell_type": "markdown",
   "metadata": {},
   "source": [
    "## Elementwise multiplication"
   ]
  },
  {
   "cell_type": "code",
   "execution_count": 6,
   "metadata": {},
   "outputs": [],
   "source": [
    "# test data\n",
    "import numpy as np\n",
    "\n",
    "test_image1 = np.random.random([100, 512, 512])\n",
    "test_image2 = np.random.random([100, 512, 512])"
   ]
  },
  {
   "cell_type": "code",
   "execution_count": 7,
   "metadata": {},
   "outputs": [
    {
     "name": "stdout",
     "output_type": "stream",
     "text": [
      "Numpy elementwise multiplication duration: 0.062011003494262695\n",
      "Numpy elementwise multiplication duration: 0.07701683044433594\n",
      "Numpy elementwise multiplication duration: 0.07101678848266602\n",
      "Numpy elementwise multiplication duration: 0.07201623916625977\n",
      "Numpy elementwise multiplication duration: 0.0800178050994873\n",
      "Numpy elementwise multiplication duration: 0.06601476669311523\n",
      "Numpy elementwise multiplication duration: 0.0690155029296875\n",
      "Numpy elementwise multiplication duration: 0.07401680946350098\n",
      "Numpy elementwise multiplication duration: 0.07201623916625977\n",
      "Numpy elementwise multiplication duration: 0.07001614570617676\n"
     ]
    }
   ],
   "source": [
    "# multiply with numpy\n",
    "result_image = None\n",
    "\n",
    "for i in range(0, 10):\n",
    "    start_time = time.time()\n",
    "    result_image = np.multiply(test_image1, test_image2)\n",
    "    print(\"Numpy elementwise multiplication duration: \" + str(time.time() - start_time))\n",
    "    "
   ]
  },
  {
   "cell_type": "code",
   "execution_count": 8,
   "metadata": {},
   "outputs": [
    {
     "name": "stdout",
     "output_type": "stream",
     "text": [
      "clEsperanto elementwise multiplication duration: 0.03593897819519043\n",
      "clEsperanto elementwise multiplication duration: 0.003011941909790039\n",
      "clEsperanto elementwise multiplication duration: 0.003000497817993164\n",
      "clEsperanto elementwise multiplication duration: 0.003000497817993164\n",
      "clEsperanto elementwise multiplication duration: 0.003000974655151367\n",
      "clEsperanto elementwise multiplication duration: 0.003000497817993164\n",
      "clEsperanto elementwise multiplication duration: 0.003000497817993164\n",
      "clEsperanto elementwise multiplication duration: 0.003000974655151367\n",
      "clEsperanto elementwise multiplication duration: 0.002990245819091797\n",
      "clEsperanto elementwise multiplication duration: 0.003000974655151367\n"
     ]
    }
   ],
   "source": [
    "# multiply with pyclesperanto\n",
    "result_image = None\n",
    "\n",
    "test_image1_gpu = cle.push_zyx(test_image1)\n",
    "test_image2_gpu = cle.push_zyx(test_image2)\n",
    "\n",
    "for i in range(0, 10):\n",
    "    start_time = time.time()\n",
    "    result_image = cle.multiply_images(test_image1_gpu, test_image2_gpu, result_image)\n",
    "    print(\"clEsperanto elementwise multiplication duration: \" + str(time.time() - start_time))"
   ]
  },
  {
   "cell_type": "code",
   "execution_count": 9,
   "metadata": {},
   "outputs": [
    {
     "name": "stdout",
     "output_type": "stream",
     "text": [
      "clEsperanto elementwise multiplication duration (+ memory allocation): 0.010002374649047852\n",
      "clEsperanto elementwise multiplication duration (+ memory allocation): 0.03779125213623047\n",
      "clEsperanto elementwise multiplication duration (+ memory allocation): 0.013278961181640625\n",
      "clEsperanto elementwise multiplication duration (+ memory allocation): 0.010860681533813477\n",
      "clEsperanto elementwise multiplication duration (+ memory allocation): 0.010389566421508789\n",
      "clEsperanto elementwise multiplication duration (+ memory allocation): 0.010413408279418945\n",
      "clEsperanto elementwise multiplication duration (+ memory allocation): 0.010461091995239258\n",
      "clEsperanto elementwise multiplication duration (+ memory allocation): 0.01034092903137207\n",
      "clEsperanto elementwise multiplication duration (+ memory allocation): 0.010332584381103516\n",
      "clEsperanto elementwise multiplication duration (+ memory allocation): 0.010344982147216797\n"
     ]
    }
   ],
   "source": [
    "# multiply with pyclesperanto while _not_ reusing memory\n",
    "result_image = None\n",
    "\n",
    "test_image1_gpu = cle.push_zyx(test_image1)\n",
    "test_image2_gpu = cle.push_zyx(test_image2)\n",
    "\n",
    "for i in range(0, 10):\n",
    "    start_time = time.time()\n",
    "    result_image = cle.multiply_images(test_image1_gpu, test_image2_gpu)\n",
    "    print(\"clEsperanto elementwise multiplication duration (+ memory allocation): \" + str(time.time() - start_time))"
   ]
  },
  {
   "cell_type": "code",
   "execution_count": null,
   "metadata": {},
   "outputs": [],
   "source": []
  }
 ],
 "metadata": {
  "kernelspec": {
   "display_name": "Python 3 (ipykernel)",
   "language": "python",
   "name": "python3"
  },
  "language_info": {
   "codemirror_mode": {
    "name": "ipython",
    "version": 3
   },
   "file_extension": ".py",
   "mimetype": "text/x-python",
   "name": "python",
   "nbconvert_exporter": "python",
   "pygments_lexer": "ipython3",
   "version": "3.8.5"
  }
 },
 "nbformat": 4,
 "nbformat_minor": 4
}
