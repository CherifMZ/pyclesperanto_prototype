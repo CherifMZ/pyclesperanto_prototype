{
 "cells": [
  {
   "cell_type": "markdown",
   "metadata": {},
   "source": [
    "# Counting blobs with pyclesperanto\n",
    "A common use case for image processing in the biology context is counting blobs of high signal intensity surrounded by a low intensity background. Thresholding is the method of choice in this scenario. We demonstrate it with Otsu's thresholding method (Otsu et al., IEEE Transactions on Systems, Man, and Cybernetics, Vol. 9 (1), 1979)"
   ]
  },
  {
   "cell_type": "code",
   "execution_count": 1,
   "metadata": {},
   "outputs": [
    {
     "data": {
      "text/plain": [
       "<Intel(R) Iris(R) Xe Graphics on Platform: Intel(R) OpenCL HD Graphics (1 refs)>"
      ]
     },
     "execution_count": 1,
     "metadata": {},
     "output_type": "execute_result"
    }
   ],
   "source": [
    "import pyclesperanto_prototype as cle\n",
    "\n",
    "from skimage.io import imread, imsave, imshow\n",
    "import matplotlib\n",
    "import numpy as np\n",
    "\n",
    "# initialize GPU\n",
    "cle.select_device(\"GTX\")"
   ]
  },
  {
   "cell_type": "code",
   "execution_count": 2,
   "metadata": {},
   "outputs": [
    {
     "name": "stdout",
     "output_type": "stream",
     "text": [
      "Loaded image size: (254, 256)\n",
      "Image size in GPU: (254, 256)\n"
     ]
    }
   ],
   "source": [
    "# load data\n",
    "image = imread('https://samples.fiji.sc/blobs.png')\n",
    "print(\"Loaded image size: \" + str(image.shape))\n",
    "\n",
    "# push image to GPU memory\n",
    "input = cle.push(image)\n",
    "print(\"Image size in GPU: \" + str(input.shape))"
   ]
  },
  {
   "cell_type": "markdown",
   "metadata": {},
   "source": [
    "## Image processing using pyclesperanto\n",
    "\n",
    "After initializing GPU and pushing images there, workflows are constructed like this:"
   ]
  },
  {
   "cell_type": "code",
   "execution_count": 3,
   "metadata": {},
   "outputs": [
    {
     "data": {
      "text/html": [
       "<table>\n",
       "<tr>\n",
       "<td>\n",
       "<img src=\"data:image/png;base64,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\"></img>\n",
       "</td>\n",
       "<td style=\"text-align: center; vertical-align: top;\">\n",
       "<b><a href=\"https://github.com/clEsperanto/pyclesperanto_prototype\" target=\"_blank\">cle._</a> image</b><br/>\n",
       "<table>\n",
       "<tr><td>shape</td><td>(254,&nbsp;256)</td></tr>\n",
       "<tr><td>dtype</td><td>uint32</td></tr>\n",
       "<tr><td>size</td><td>254.0 kB</td></tr>\n",
       "<tr><td>min</td><td>0.0</td></tr><tr><td>max</td><td>62.0</td></tr>\n",
       "</table>\n",
       "\n",
       "</td>\n",
       "</tr>\n",
       "</table>"
      ],
      "text/plain": [
       "cl.OCLArray([[ 0,  0,  0, ..., 59, 59, 59],\n",
       "       [ 0,  0,  0, ..., 59, 59, 59],\n",
       "       [ 0,  0,  0, ..., 59, 59, 59],\n",
       "       ...,\n",
       "       [ 0,  0,  0, ...,  0,  0,  0],\n",
       "       [ 0,  0,  0, ...,  0,  0,  0],\n",
       "       [ 0,  0,  0, ...,  0,  0,  0]], dtype=uint32)"
      ]
     },
     "execution_count": 3,
     "metadata": {},
     "output_type": "execute_result"
    }
   ],
   "source": [
    "# process the image\n",
    "blurred = cle.gaussian_blur(input, sigma_x=1, sigma_y=1)\n",
    "binary = cle.threshold_otsu(blurred)\n",
    "labeled = cle.connected_components_labeling_box(binary)\n",
    "labeled"
   ]
  },
  {
   "cell_type": "code",
   "execution_count": 4,
   "metadata": {},
   "outputs": [
    {
     "name": "stdout",
     "output_type": "stream",
     "text": [
      "Number of objects in the image: 62.0\n"
     ]
    }
   ],
   "source": [
    "# The maximium intensity in a label image corresponds to the number of objects\n",
    "num_labels = cle.maximum_of_all_pixels(labeled)\n",
    "print(\"Number of objects in the image: \" + str(num_labels))"
   ]
  },
  {
   "cell_type": "markdown",
   "metadata": {},
   "source": [
    "When processing multiple images subsequently, it might make sense to re-use memory like shown in the following. In that way, some time can be spared for not re-allocating images over and over."
   ]
  },
  {
   "cell_type": "code",
   "execution_count": 5,
   "metadata": {},
   "outputs": [
    {
     "data": {
      "text/html": [
       "<table>\n",
       "<tr>\n",
       "<td>\n",
       "<img src=\"data:image/png;base64,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\"></img>\n",
       "</td>\n",
       "<td style=\"text-align: center; vertical-align: top;\">\n",
       "<b><a href=\"https://github.com/clEsperanto/pyclesperanto_prototype\" target=\"_blank\">cle._</a> image</b><br/>\n",
       "<table>\n",
       "<tr><td>shape</td><td>(254,&nbsp;256)</td></tr>\n",
       "<tr><td>dtype</td><td>uint32</td></tr>\n",
       "<tr><td>size</td><td>254.0 kB</td></tr>\n",
       "<tr><td>min</td><td>0.0</td></tr><tr><td>max</td><td>62.0</td></tr>\n",
       "</table>\n",
       "\n",
       "</td>\n",
       "</tr>\n",
       "</table>"
      ],
      "text/plain": [
       "cl.OCLArray([[ 0,  0,  0, ..., 59, 59, 59],\n",
       "       [ 0,  0,  0, ..., 59, 59, 59],\n",
       "       [ 0,  0,  0, ..., 59, 59, 59],\n",
       "       ...,\n",
       "       [ 0,  0,  0, ...,  0,  0,  0],\n",
       "       [ 0,  0,  0, ...,  0,  0,  0],\n",
       "       [ 0,  0,  0, ...,  0,  0,  0]], dtype=uint32)"
      ]
     },
     "execution_count": 5,
     "metadata": {},
     "output_type": "execute_result"
    }
   ],
   "source": [
    "# process the image\n",
    "blurred = cle.gaussian_blur(input, blurred, sigma_x=1, sigma_y=1)\n",
    "binary = cle.threshold_otsu(blurred, binary)\n",
    "labeled = cle.connected_components_labeling_box(binary, labeled)\n",
    "labeled"
   ]
  },
  {
   "cell_type": "markdown",
   "metadata": {},
   "source": [
    "## Addendum: Remove labels on edges\n",
    "In case the size of the objects is relevant, one should exclude the object which were not fully imaged and thus, touch the image border."
   ]
  },
  {
   "cell_type": "code",
   "execution_count": 6,
   "metadata": {},
   "outputs": [
    {
     "data": {
      "text/html": [
       "<table>\n",
       "<tr>\n",
       "<td>\n",
       "<img src=\"data:image/png;base64,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\"></img>\n",
       "</td>\n",
       "<td style=\"text-align: center; vertical-align: top;\">\n",
       "<b><a href=\"https://github.com/clEsperanto/pyclesperanto_prototype\" target=\"_blank\">cle._</a> image</b><br/>\n",
       "<table>\n",
       "<tr><td>shape</td><td>(254,&nbsp;256)</td></tr>\n",
       "<tr><td>dtype</td><td>uint32</td></tr>\n",
       "<tr><td>size</td><td>254.0 kB</td></tr>\n",
       "<tr><td>min</td><td>0.0</td></tr><tr><td>max</td><td>44.0</td></tr>\n",
       "</table>\n",
       "\n",
       "</td>\n",
       "</tr>\n",
       "</table>"
      ],
      "text/plain": [
       "cl.OCLArray([[0, 0, 0, ..., 0, 0, 0],\n",
       "       [0, 0, 0, ..., 0, 0, 0],\n",
       "       [0, 0, 0, ..., 0, 0, 0],\n",
       "       ...,\n",
       "       [0, 0, 0, ..., 0, 0, 0],\n",
       "       [0, 0, 0, ..., 0, 0, 0],\n",
       "       [0, 0, 0, ..., 0, 0, 0]], dtype=uint32)"
      ]
     },
     "execution_count": 6,
     "metadata": {},
     "output_type": "execute_result"
    }
   ],
   "source": [
    "# Exclude Labels On Edges\n",
    "labels_excl_edges = cle.exclude_labels_on_edges(labeled)\n",
    "labels_excl_edges"
   ]
  }
 ],
 "metadata": {
  "kernelspec": {
   "display_name": "Python 3 (ipykernel)",
   "language": "python",
   "name": "python3"
  },
  "language_info": {
   "codemirror_mode": {
    "name": "ipython",
    "version": 3
   },
   "file_extension": ".py",
   "mimetype": "text/x-python",
   "name": "python",
   "nbconvert_exporter": "python",
   "pygments_lexer": "ipython3",
   "version": "3.9.13"
  }
 },
 "nbformat": 4,
 "nbformat_minor": 4
}
