{
 "cells": [
  {
   "cell_type": "markdown",
   "id": "fa467b9c",
   "metadata": {},
   "source": [
    "# Backends\n",
    "The default backend is always [pyopencl](https://documen.tician.de/pyopencl/) based."
   ]
  },
  {
   "cell_type": "code",
   "execution_count": 1,
   "id": "69c32066",
   "metadata": {},
   "outputs": [
    {
     "data": {
      "text/plain": [
       "<gfx90c on Platform: AMD Accelerated Parallel Processing (2 refs)>"
      ]
     },
     "execution_count": 1,
     "metadata": {},
     "output_type": "execute_result"
    }
   ],
   "source": [
    "import numpy as np\n",
    "import pyclesperanto_prototype as cle\n",
    "\n",
    "cle.get_device()"
   ]
  },
  {
   "cell_type": "code",
   "execution_count": 2,
   "id": "6f7f61c0",
   "metadata": {},
   "outputs": [
    {
     "data": {
      "text/plain": [
       "cl.Array([[6., 7., 8.]], dtype=float32)"
      ]
     },
     "execution_count": 2,
     "metadata": {},
     "output_type": "execute_result"
    }
   ],
   "source": [
    "array = cle.push(np.asarray([[1, 2, 3]]))\n",
    "cle.add_image_and_scalar(array, scalar = 5)"
   ]
  },
  {
   "cell_type": "markdown",
   "id": "756943ab",
   "metadata": {},
   "source": [
    "# cupy backend\n",
    "One can switch to an experimental [cupy](https://cupy.dev) backend like this:"
   ]
  },
  {
   "cell_type": "code",
   "execution_count": 3,
   "id": "58651618",
   "metadata": {},
   "outputs": [
    {
     "data": {
      "text/plain": [
       "'cupy backend (experimental)'"
      ]
     },
     "execution_count": 3,
     "metadata": {},
     "output_type": "execute_result"
    }
   ],
   "source": [
    "cle.select_device(\"cupy\")"
   ]
  },
  {
   "cell_type": "code",
   "execution_count": 4,
   "id": "690dde8e",
   "metadata": {},
   "outputs": [
    {
     "name": "stderr",
     "output_type": "stream",
     "text": [
      "c:\\structure\\code\\pyclesperanto_prototype\\pyclesperanto_prototype\\_tier0\\_cuda_backend.py:31: UserWarning: clesperanto's cupy / CUDA backend is experimental. Please use it with care. The following functions are known to cause issues in the CUDA backend:\n",
      "affine_transform, apply_vector_field, create(uint64), create(int32), create(int64), label_spots, labelled_spots_to_pointlist, resample, scale, spots_to_pointlist, standard_deviation_of_touching_neighbors\n",
      "  warnings.warn(\"clesperanto's cupy / CUDA backend is experimental. Please use it with care. The following functions are known to cause issues in the CUDA backend:\\n\" +\n"
     ]
    },
    {
     "data": {
      "text/plain": [
       "experimental clesperanto CUDAArray([[6. 7. 8.]], dtype=float32)"
      ]
     },
     "execution_count": 4,
     "metadata": {},
     "output_type": "execute_result"
    }
   ],
   "source": [
    "array = cle.push(np.asarray([[1, 2, 3]]))\n",
    "cle.add_image_and_scalar(array, scalar = 5)"
   ]
  },
  {
   "cell_type": "code",
   "execution_count": null,
   "id": "bb399ac9",
   "metadata": {},
   "outputs": [],
   "source": []
  }
 ],
 "metadata": {
  "kernelspec": {
   "display_name": "Python 3 (ipykernel)",
   "language": "python",
   "name": "python3"
  },
  "language_info": {
   "codemirror_mode": {
    "name": "ipython",
    "version": 3
   },
   "file_extension": ".py",
   "mimetype": "text/x-python",
   "name": "python",
   "nbconvert_exporter": "python",
   "pygments_lexer": "ipython3",
   "version": "3.8.12"
  }
 },
 "nbformat": 4,
 "nbformat_minor": 5
}
