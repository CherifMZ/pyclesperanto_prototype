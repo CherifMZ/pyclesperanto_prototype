{
 "cells": [
  {
   "cell_type": "code",
   "execution_count": 1,
   "id": "2fbfeced",
   "metadata": {},
   "outputs": [
    {
     "data": {
      "text/plain": [
       "<gfx90c on Platform: AMD Accelerated Parallel Processing (2 refs)>"
      ]
     },
     "execution_count": 1,
     "metadata": {},
     "output_type": "execute_result"
    }
   ],
   "source": [
    "import pyclesperanto_prototype as cle\n",
    "import numpy as np\n",
    "\n",
    "cle.get_device()"
   ]
  },
  {
   "cell_type": "code",
   "execution_count": 2,
   "id": "8cf5fc5c",
   "metadata": {},
   "outputs": [
    {
     "data": {
      "image/png": "[encoded data removed]",
      "text/plain": [
       "<Figure size 432x288 with 1 Axes>"
      ]
     },
     "metadata": {
      "needs_background": "light"
     },
     "output_type": "display_data"
    }
   ],
   "source": [
    "img = np.zeros((100,100))\n",
    "img[25:75, 25:75] = 1\n",
    "\n",
    "image = cle.push(img)\n",
    "\n",
    "cle.imshow(image)"
   ]
  },
  {
   "cell_type": "code",
   "execution_count": 3,
   "id": "61711ccb",
   "metadata": {},
   "outputs": [
    {
     "data": {
      "image/png": "[encoded data removed]",
      "text/plain": [
       "<Figure size 432x288 with 1 Axes>"
      ]
     },
     "metadata": {
      "needs_background": "light"
     },
     "output_type": "display_data"
    }
   ],
   "source": [
    "binary_image = (image == 1)\n",
    "\n",
    "cle.imshow(binary_image)"
   ]
  },
  {
   "cell_type": "code",
   "execution_count": 4,
   "id": "6a99098f",
   "metadata": {},
   "outputs": [
    {
     "data": {
      "image/png": "[encoded data removed]",
      "text/plain": [
       "<Figure size 432x288 with 1 Axes>"
      ]
     },
     "metadata": {
      "needs_background": "light"
     },
     "output_type": "display_data"
    }
   ],
   "source": [
    "another_binary_image = cle.equal_constant(binary_image)\n",
    "cle.imshow(another_binary_image)"
   ]
  },
  {
   "cell_type": "code",
   "execution_count": 5,
   "id": "d2f8b067",
   "metadata": {},
   "outputs": [
    {
     "name": "stdout",
     "output_type": "stream",
     "text": [
      "Help on function equal_constant in module pyclesperanto_prototype._tier1._equal_constant:\n",
      "\n",
      "equal_constant(source: Union[numpy.ndarray, pyclesperanto_prototype._tier0._pycl.OCLArray, pyopencl._cl.Image, pyclesperanto_prototype._tier0._pycl._OCLImage], destination: Union[numpy.ndarray, pyclesperanto_prototype._tier0._pycl.OCLArray, pyopencl._cl.Image, pyclesperanto_prototype._tier0._pycl._OCLImage] = None, constant: float = 0)\n",
      "    Determines if an image A and a constant b are equal.\n",
      "    \n",
      "    <pre>f(a, b) = 1 if a == b; 0 otherwise.</pre>\n",
      "    \n",
      "    Parameters\n",
      "    ----------\n",
      "    source : Image\n",
      "        The image where every pixel is compared to the constant.\n",
      "    destination : Image\n",
      "        The resulting binary image where pixels will be 1 only if source1 \n",
      "    and source2 equal in the given pixel.\n",
      "    constant : float\n",
      "        The constant where every pixel is compared to.\n",
      "     \n",
      "    \n",
      "    Returns\n",
      "    -------\n",
      "    destination\n",
      "    \n",
      "    Examples\n",
      "    --------\n",
      "    >>> import pyclesperanto_prototype as cle\n",
      "    >>> cle.equal_constant(source, destination, constant)\n",
      "    \n",
      "    References\n",
      "    ----------\n",
      "    .. [1] https://clij.github.io/clij2-docs/reference_equalConstant\n",
      "\n"
     ]
    }
   ],
   "source": [
    "# The reason why this image is the inverted version of `binary_image` is that `constant` \n",
    "# in `equal_constant` has a default value: 0. Thus, you're checking if `binary_image` \n",
    "# is _equal to the constant 0_. See also documentation:\n",
    "help(cle.equal_constant)"
   ]
  },
  {
   "cell_type": "code",
   "execution_count": null,
   "id": "5aac8559",
   "metadata": {},
   "outputs": [],
   "source": []
  }
 ],
 "metadata": {
  "kernelspec": {
   "display_name": "Python 3 (ipykernel)",
   "language": "python",
   "name": "python3"
  },
  "language_info": {
   "codemirror_mode": {
    "name": "ipython",
    "version": 3
   },
   "file_extension": ".py",
   "mimetype": "text/x-python",
   "name": "python",
   "nbconvert_exporter": "python",
   "pygments_lexer": "ipython3",
   "version": "3.8.12"
  }
 },
 "nbformat": 4,
 "nbformat_minor": 5
}
