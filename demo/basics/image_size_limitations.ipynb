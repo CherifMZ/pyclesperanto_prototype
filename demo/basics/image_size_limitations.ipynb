{
 "cells": [
  {
   "cell_type": "markdown",
   "id": "0e033336",
   "metadata": {},
   "source": [
    "# Image size limitations\n",
    "Graphics processing units (GPUs) use memory which limits image size. E.g. on common GPUs, an image can have about a quarter of the size of available memory in the GPU. However, depending on what pixel data type we use, the limit can also be lower."
   ]
  },
  {
   "cell_type": "code",
   "execution_count": 5,
   "id": "ce83a7a8",
   "metadata": {},
   "outputs": [
    {
     "data": {
      "text/plain": [
       "<Apple M1 Max on Platform: Apple (2 refs)>"
      ]
     },
     "execution_count": 5,
     "metadata": {},
     "output_type": "execute_result"
    }
   ],
   "source": [
    "import pyclesperanto_prototype as cle\n",
    "\n",
    "cle.get_device()"
   ]
  },
  {
   "cell_type": "markdown",
   "id": "b277379c",
   "metadata": {},
   "source": [
    "Pixels in memory need to be addressable. If you want to access pixel 5, the computer must be able to locate where this pixel is stored. Pixel adresses are stored in the data type 32-bit integer. This means 2^32 adresses are available. If an image is of type 8-bit, that means every pixel consists of 8-bit, which means 1 byte. As the image can have 2^32 pixels, the image size of an 8-bit is limited to 2^32 bytes. These are..."
   ]
  },
  {
   "cell_type": "code",
   "execution_count": 7,
   "id": "ae28f7a5",
   "metadata": {},
   "outputs": [
    {
     "data": {
      "text/plain": [
       "4294967296"
      ]
     },
     "execution_count": 7,
     "metadata": {},
     "output_type": "execute_result"
    }
   ],
   "source": [
    "number_of_bytes = 2**32\n",
    "number_of_bytes"
   ]
  },
  {
   "cell_type": "code",
   "execution_count": 9,
   "id": "58a07efe",
   "metadata": {},
   "outputs": [
    {
     "data": {
      "text/plain": [
       "4194304.0"
      ]
     },
     "execution_count": 9,
     "metadata": {},
     "output_type": "execute_result"
    }
   ],
   "source": [
    "number_of_kilobytes = number_of_bytes / 1024\n",
    "number_of_kilobytes"
   ]
  },
  {
   "cell_type": "code",
   "execution_count": 10,
   "id": "54e79efd",
   "metadata": {},
   "outputs": [
    {
     "data": {
      "text/plain": [
       "4096.0"
      ]
     },
     "execution_count": 10,
     "metadata": {},
     "output_type": "execute_result"
    }
   ],
   "source": [
    "number_of_megabytes = number_of_kilobytes / 1024\n",
    "number_of_megabytes"
   ]
  },
  {
   "cell_type": "code",
   "execution_count": 12,
   "id": "23371c61",
   "metadata": {},
   "outputs": [
    {
     "data": {
      "text/plain": [
       "4.0"
      ]
     },
     "execution_count": 12,
     "metadata": {},
     "output_type": "execute_result"
    }
   ],
   "source": [
    "number_of_gigabytes = number_of_megabytes / 1024\n",
    "number_of_gigabytes"
   ]
  },
  {
   "cell_type": "markdown",
   "id": "d53f22a8",
   "metadata": {},
   "source": [
    "... Giga-Bytes."
   ]
  },
  {
   "cell_type": "markdown",
   "id": "e5d90410",
   "metadata": {},
   "source": [
    "This notebook is executed on a computer that has technically 32 GB of GPU memory. Hence, it should be possible to allocate multiple images of that size:"
   ]
  },
  {
   "cell_type": "code",
   "execution_count": 13,
   "id": "5dd589bd",
   "metadata": {},
   "outputs": [],
   "source": [
    "image = cle.create((1024, 1024, 4 * 1024))"
   ]
  },
  {
   "cell_type": "markdown",
   "id": "95fd6de1",
   "metadata": {},
   "source": [
    "... and apply an operations to it:"
   ]
  },
  {
   "cell_type": "code",
   "execution_count": 17,
   "id": "8b75d7a2",
   "metadata": {},
   "outputs": [
    {
     "data": {
      "text/plain": [
       "(1024, 1024, 4096)"
      ]
     },
     "execution_count": 17,
     "metadata": {},
     "output_type": "execute_result"
    }
   ],
   "source": [
    "result = cle.set_ramp_x(image)\n",
    "result.shape"
   ]
  },
  {
   "cell_type": "code",
   "execution_count": 16,
   "id": "1024f696",
   "metadata": {},
   "outputs": [
    {
     "data": {
      "image/png": "[encoded data removed]",
      "text/plain": [
       "<Figure size 432x288 with 1 Axes>"
      ]
     },
     "metadata": {
      "needs_background": "light"
     },
     "output_type": "display_data"
    }
   ],
   "source": [
    "cle.imshow(result)"
   ]
  },
  {
   "cell_type": "code",
   "execution_count": null,
   "id": "45940f07",
   "metadata": {},
   "outputs": [],
   "source": []
  },
  {
   "cell_type": "code",
   "execution_count": null,
   "id": "eccba4da",
   "metadata": {},
   "outputs": [],
   "source": []
  },
  {
   "cell_type": "code",
   "execution_count": null,
   "id": "7ee0b8b0",
   "metadata": {},
   "outputs": [],
   "source": []
  },
  {
   "cell_type": "code",
   "execution_count": null,
   "id": "bddc72b8",
   "metadata": {},
   "outputs": [],
   "source": []
  },
  {
   "cell_type": "code",
   "execution_count": 4,
   "id": "fad9c3be",
   "metadata": {
    "scrolled": false
   },
   "outputs": [
    {
     "name": "stdout",
     "output_type": "stream",
     "text": [
      "Apple\n",
      "EXTENSIONS:cl_APPLE_SetMemObjectDestructor cl_APPLE_ContextLoggingFunctions cl_APPLE_clut cl_APPLE_query_kernel_names cl_APPLE_gl_sharing cl_khr_gl_event\n",
      "NAME:Apple\n",
      "PROFILE:FULL_PROFILE\n",
      "VENDOR:Apple\n",
      "VERSION:OpenCL 1.2 (Nov 13 2021 00:45:09)\n",
      "\n",
      "\n",
      "    Apple M1 Max\n",
      "       ADDRESS_BITS:64\n",
      "       AVAILABLE:1\n",
      "       BUILT_IN_KERNELS:\n",
      "       COMPILER_AVAILABLE:1\n",
      "       DOUBLE_FP_CONFIG:63\n",
      "       DRIVER_VERSION:1.1\n",
      "       ENDIAN_LITTLE:1\n",
      "       ERROR_CORRECTION_SUPPORT:0\n",
      "       EXECUTION_CAPABILITIES:3\n",
      "       EXTENSIONS:cl_APPLE_SetMemObjectDestructor cl_APPLE_ContextLoggingFunctions cl_APPLE_clut cl_APPLE_query_kernel_names cl_APPLE_gl_sharing cl_khr_gl_event cl_khr_fp64 cl_khr_global_int32_base_atomics cl_khr_global_int32_extended_atomics cl_khr_local_int32_base_atomics cl_khr_local_int32_extended_atomics cl_khr_byte_addressable_store cl_khr_int64_base_atomics cl_khr_int64_extended_atomics cl_khr_3d_image_writes cl_khr_image2d_from_buffer cl_APPLE_fp64_basic_ops cl_APPLE_fixed_alpha_channel_orders cl_APPLE_biased_fixed_point_image_formats cl_APPLE_command_queue_priority\n",
      "       GLOBAL_MEM_CACHELINE_SIZE:4194304\n",
      "       GLOBAL_MEM_CACHE_SIZE:64\n",
      "       GLOBAL_MEM_CACHE_TYPE:2\n",
      "       GLOBAL_MEM_SIZE:34359738368\n",
      "       HALF_FP_CONFIG:None\n",
      "       HOST_UNIFIED_MEMORY:1\n",
      "       IMAGE2D_MAX_HEIGHT:8192\n",
      "       IMAGE2D_MAX_WIDTH:8192\n",
      "       IMAGE3D_MAX_DEPTH:2048\n",
      "       IMAGE3D_MAX_HEIGHT:2048\n",
      "       IMAGE3D_MAX_WIDTH:2048\n",
      "       IMAGE_MAX_ARRAY_SIZE:2048\n",
      "       IMAGE_MAX_BUFFER_SIZE:65536\n",
      "       IMAGE_SUPPORT:1\n",
      "       LINKER_AVAILABLE:1\n",
      "       LOCAL_MEM_SIZE:32768\n",
      "       LOCAL_MEM_TYPE:2\n",
      "       MAX_CLOCK_FREQUENCY:2400\n",
      "       MAX_COMPUTE_UNITS:10\n",
      "       MAX_CONSTANT_ARGS:8\n",
      "       MAX_CONSTANT_BUFFER_SIZE:65536\n",
      "       MAX_MEM_ALLOC_SIZE:8589934592\n",
      "       MAX_PARAMETER_SIZE:4096\n",
      "       MAX_READ_IMAGE_ARGS:128\n",
      "       MAX_SAMPLERS:16\n",
      "       MAX_WORK_GROUP_SIZE:1024\n",
      "       MAX_WORK_ITEM_DIMENSIONS:3\n",
      "       MAX_WORK_ITEM_SIZES:[1024, 1, 1]\n",
      "       MAX_WRITE_IMAGE_ARGS:8\n",
      "       MEM_BASE_ADDR_ALIGN:1024\n",
      "       MIN_DATA_TYPE_ALIGN_SIZE:128\n",
      "       NAME:Apple M1 Max\n",
      "       NATIVE_VECTOR_WIDTH_CHAR:16\n",
      "       NATIVE_VECTOR_WIDTH_DOUBLE:2\n",
      "       NATIVE_VECTOR_WIDTH_FLOAT:4\n",
      "       NATIVE_VECTOR_WIDTH_HALF:0\n",
      "       NATIVE_VECTOR_WIDTH_INT:4\n",
      "       NATIVE_VECTOR_WIDTH_LONG:2\n",
      "       NATIVE_VECTOR_WIDTH_SHORT:8\n",
      "       OPENCL_C_VERSION:OpenCL C 1.2 \n",
      "       PARTITION_AFFINITY_DOMAIN:[0]\n",
      "       PARTITION_MAX_SUB_DEVICES:0\n",
      "       PARTITION_PROPERTIES:[0]\n",
      "       PARTITION_TYPE:[0]\n",
      "       PLATFORM:<pyopencl.Platform 'Apple' at 0x7fff0000>\n",
      "       PREFERRED_INTEROP_USER_SYNC:1\n",
      "       PREFERRED_VECTOR_WIDTH_CHAR:16\n",
      "       PREFERRED_VECTOR_WIDTH_DOUBLE:2\n",
      "       PREFERRED_VECTOR_WIDTH_FLOAT:4\n",
      "       PREFERRED_VECTOR_WIDTH_HALF:0\n",
      "       PREFERRED_VECTOR_WIDTH_INT:4\n",
      "       PREFERRED_VECTOR_WIDTH_LONG:2\n",
      "       PREFERRED_VECTOR_WIDTH_SHORT:8\n",
      "       PRINTF_BUFFER_SIZE:None\n",
      "       PROFILE:FULL_PROFILE\n",
      "       PROFILING_TIMER_RESOLUTION:1\n",
      "       QUEUE_PROPERTIES:2\n",
      "       REFERENCE_COUNT:1\n",
      "       SINGLE_FP_CONFIG:191\n",
      "       TYPE:2\n",
      "       VENDOR:Intel\n",
      "       VENDOR_ID:4294967295\n",
      "       VERSION:OpenCL 1.2 \n",
      "\n",
      "\n",
      "    Apple M1 Max\n",
      "       ADDRESS_BITS:64\n",
      "       AVAILABLE:1\n",
      "       BUILT_IN_KERNELS:\n",
      "       COMPILER_AVAILABLE:1\n",
      "       DOUBLE_FP_CONFIG:0\n",
      "       DRIVER_VERSION:1.2 1.0\n",
      "       ENDIAN_LITTLE:1\n",
      "       ERROR_CORRECTION_SUPPORT:0\n",
      "       EXECUTION_CAPABILITIES:1\n",
      "       EXTENSIONS:cl_APPLE_SetMemObjectDestructor cl_APPLE_ContextLoggingFunctions cl_APPLE_clut cl_APPLE_query_kernel_names cl_APPLE_gl_sharing cl_khr_gl_event cl_khr_byte_addressable_store cl_khr_global_int32_base_atomics cl_khr_global_int32_extended_atomics cl_khr_local_int32_base_atomics cl_khr_local_int32_extended_atomics cl_khr_3d_image_writes cl_khr_image2d_from_buffer cl_khr_depth_images \n",
      "       GLOBAL_MEM_CACHELINE_SIZE:0\n",
      "       GLOBAL_MEM_CACHE_SIZE:0\n",
      "       GLOBAL_MEM_CACHE_TYPE:0\n",
      "       GLOBAL_MEM_SIZE:22906503168\n",
      "       HALF_FP_CONFIG:None\n",
      "       HOST_UNIFIED_MEMORY:1\n",
      "       IMAGE2D_MAX_HEIGHT:16384\n",
      "       IMAGE2D_MAX_WIDTH:16384\n",
      "       IMAGE3D_MAX_DEPTH:2048\n",
      "       IMAGE3D_MAX_HEIGHT:2048\n",
      "       IMAGE3D_MAX_WIDTH:2048\n",
      "       IMAGE_MAX_ARRAY_SIZE:2048\n",
      "       IMAGE_MAX_BUFFER_SIZE:268435456\n",
      "       IMAGE_SUPPORT:1\n",
      "       LINKER_AVAILABLE:1\n",
      "       LOCAL_MEM_SIZE:32768\n",
      "       LOCAL_MEM_TYPE:1\n",
      "       MAX_CLOCK_FREQUENCY:1000\n",
      "       MAX_COMPUTE_UNITS:32\n",
      "       MAX_CONSTANT_ARGS:31\n",
      "       MAX_CONSTANT_BUFFER_SIZE:1073741824\n",
      "       MAX_MEM_ALLOC_SIZE:4294967296\n",
      "       MAX_PARAMETER_SIZE:4096\n",
      "       MAX_READ_IMAGE_ARGS:128\n",
      "       MAX_SAMPLERS:32\n",
      "       MAX_WORK_GROUP_SIZE:256\n",
      "       MAX_WORK_ITEM_DIMENSIONS:3\n",
      "       MAX_WORK_ITEM_SIZES:[256, 256, 256]\n",
      "       MAX_WRITE_IMAGE_ARGS:8\n",
      "       MEM_BASE_ADDR_ALIGN:32768\n",
      "       MIN_DATA_TYPE_ALIGN_SIZE:1\n",
      "       NAME:Apple M1 Max\n",
      "       NATIVE_VECTOR_WIDTH_CHAR:1\n",
      "       NATIVE_VECTOR_WIDTH_DOUBLE:1\n",
      "       NATIVE_VECTOR_WIDTH_FLOAT:1\n",
      "       NATIVE_VECTOR_WIDTH_HALF:0\n",
      "       NATIVE_VECTOR_WIDTH_INT:1\n",
      "       NATIVE_VECTOR_WIDTH_LONG:1\n",
      "       NATIVE_VECTOR_WIDTH_SHORT:1\n",
      "       OPENCL_C_VERSION:OpenCL C 1.2 \n",
      "       PARTITION_AFFINITY_DOMAIN:[0]\n",
      "       PARTITION_MAX_SUB_DEVICES:0\n",
      "       PARTITION_PROPERTIES:[0]\n",
      "       PARTITION_TYPE:[0]\n",
      "       PLATFORM:<pyopencl.Platform 'Apple' at 0x7fff0000>\n",
      "       PREFERRED_INTEROP_USER_SYNC:1\n",
      "       PREFERRED_VECTOR_WIDTH_CHAR:1\n",
      "       PREFERRED_VECTOR_WIDTH_DOUBLE:1\n",
      "       PREFERRED_VECTOR_WIDTH_FLOAT:1\n",
      "       PREFERRED_VECTOR_WIDTH_HALF:0\n",
      "       PREFERRED_VECTOR_WIDTH_INT:1\n",
      "       PREFERRED_VECTOR_WIDTH_LONG:1\n",
      "       PREFERRED_VECTOR_WIDTH_SHORT:1\n",
      "       PRINTF_BUFFER_SIZE:None\n",
      "       PROFILE:FULL_PROFILE\n",
      "       PROFILING_TIMER_RESOLUTION:1000\n",
      "       QUEUE_PROPERTIES:2\n",
      "       REFERENCE_COUNT:1\n",
      "       SINGLE_FP_CONFIG:190\n",
      "       TYPE:4\n",
      "       VENDOR:Apple\n",
      "       VENDOR_ID:16940800\n",
      "       VERSION:OpenCL 1.2 \n",
      "\n",
      "\n",
      "\n",
      "\n",
      "Current device: Apple M1 Max\n"
     ]
    }
   ],
   "source": [
    "print(cle.cl_info())"
   ]
  },
  {
   "cell_type": "code",
   "execution_count": null,
   "id": "01fd3db9",
   "metadata": {},
   "outputs": [],
   "source": []
  }
 ],
 "metadata": {
  "kernelspec": {
   "display_name": "Python 3 (ipykernel)",
   "language": "python",
   "name": "python3"
  },
  "language_info": {
   "codemirror_mode": {
    "name": "ipython",
    "version": 3
   },
   "file_extension": ".py",
   "mimetype": "text/x-python",
   "name": "python",
   "nbconvert_exporter": "python",
   "pygments_lexer": "ipython3",
   "version": "3.9.9"
  }
 },
 "nbformat": 4,
 "nbformat_minor": 5
}
