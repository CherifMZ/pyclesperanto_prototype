{
 "cells": [
  {
   "cell_type": "markdown",
   "metadata": {},
   "source": [
    "# Matrix Multiplication\n",
    "\n",
    "This notebook has been translated from [ImageJ Macro](https://clij.github.io/clij2-docs/md/matrix_multiply/)\n",
    "\n",
    "It shows how to perform a matrix multiplication in the GPU.\n",
    "\n",
    "## Initialize GPU"
   ]
  },
  {
   "cell_type": "code",
   "execution_count": 1,
   "metadata": {},
   "outputs": [
    {
     "name": "stdout",
     "output_type": "stream",
     "text": [
      "Used GPU: gfx902\n"
     ]
    }
   ],
   "source": [
    "import pyclesperanto_prototype as cle\n",
    "\n",
    "from skimage.io import imread, imsave, imshow\n",
    "import matplotlib\n",
    "import numpy as np\n",
    "\n",
    "# initialize GPU\n",
    "cle.select_device(\"GTX\")\n",
    "print(\"Used GPU: \" + cle.get_device().name)"
   ]
  },
  {
   "cell_type": "markdown",
   "metadata": {},
   "source": [
    "## Define two arrays (vectors) and push them to the GPU"
   ]
  },
  {
   "cell_type": "code",
   "execution_count": 2,
   "metadata": {},
   "outputs": [],
   "source": [
    "array1 = np.asarray([[1, 2, 3, 4, 5]])\n",
    "array2 = np.asarray([[6, 7, 8, 9, 10]])\n",
    "\n",
    "vector1 = cle.push_zyx(array1)\n",
    "vector2 = cle.push_zyx(array2)"
   ]
  },
  {
   "cell_type": "markdown",
   "metadata": {},
   "source": [
    "## In order to multiplicate matrices, the input matrices must be of size (n * m) and (m * n)\n",
    "Therefore, we transpose one of our vectors:"
   ]
  },
  {
   "cell_type": "code",
   "execution_count": 4,
   "metadata": {},
   "outputs": [
    {
     "name": "stdout",
     "output_type": "stream",
     "text": [
      "Vector 1 (transposed): [[1.]\n",
      " [2.]\n",
      " [3.]\n",
      " [4.]\n",
      " [5.]]\n",
      "Vector 2: [[ 6.  7.  8.  9. 10.]]\n"
     ]
    }
   ],
   "source": [
    "vector1_t = cle.transpose_xy(vector1)\n",
    "\n",
    "print(\"Vector 1 (transposed): \" + str(vector1_t))\n",
    "print(\"Vector 2: \" + str(vector2))"
   ]
  },
  {
   "cell_type": "code",
   "execution_count": 8,
   "metadata": {},
   "outputs": [
    {
     "name": "stdout",
     "output_type": "stream",
     "text": [
      "[[ 6.  7.  8.  9. 10.]\n",
      " [12. 14. 16. 18. 20.]\n",
      " [18. 21. 24. 27. 30.]\n",
      " [24. 28. 32. 36. 40.]\n",
      " [30. 35. 40. 45. 50.]]\n"
     ]
    }
   ],
   "source": [
    "matrix = cle.create([vector1_t.shape[0], vector2.shape[1]])\n",
    "cle.multiply_matrix(vector1_t, vector2, matrix)\n",
    "\n",
    "print(matrix)"
   ]
  },
  {
   "cell_type": "code",
   "execution_count": 9,
   "metadata": {},
   "outputs": [
    {
     "name": "stderr",
     "output_type": "stream",
     "text": [
      "c:\\users\\rober\\miniconda3\\lib\\site-packages\\skimage\\io\\_plugins\\matplotlib_plugin.py:150: UserWarning: Float image out of standard range; displaying image with stretched contrast.\n",
      "  lo, hi, cmap = _get_display_range(image)\n"
     ]
    },
    {
     "data": {
      "text/plain": [
       "<matplotlib.image.AxesImage at 0x1943cea3f48>"
      ]
     },
     "execution_count": 9,
     "metadata": {},
     "output_type": "execute_result"
    },
    {
     "data": {
      "image/png": "[encoded data removed]",
      "text/plain": [
       "<Figure size 432x288 with 2 Axes>"
      ]
     },
     "metadata": {
      "needs_background": "light"
     },
     "output_type": "display_data"
    }
   ],
   "source": [
    "imshow(cle.pull_zyx(matrix))"
   ]
  },
  {
   "cell_type": "markdown",
   "metadata": {},
   "source": [
    "## Element by element multiplication of two matrices"
   ]
  },
  {
   "cell_type": "code",
   "execution_count": 14,
   "metadata": {},
   "outputs": [
    {
     "name": "stdout",
     "output_type": "stream",
     "text": [
      "[[ 0.22616261  5.6746645   3.4958653   4.5057087   9.762815  ]\n",
      " [ 6.9489827   0.78660697  7.6474037  17.792257   19.455872  ]\n",
      " [10.0111265   2.0576067   5.845306   24.150177   25.02832   ]\n",
      " [19.231754   21.08003    16.598803   26.666893   22.625704  ]\n",
      " [ 1.608865   14.509063   29.679478   34.252613   16.493982  ]]\n"
     ]
    },
    {
     "name": "stderr",
     "output_type": "stream",
     "text": [
      "c:\\users\\rober\\miniconda3\\lib\\site-packages\\skimage\\io\\_plugins\\matplotlib_plugin.py:150: UserWarning: Float image out of standard range; displaying image with stretched contrast.\n",
      "  lo, hi, cmap = _get_display_range(image)\n"
     ]
    },
    {
     "data": {
      "text/plain": [
       "<matplotlib.image.AxesImage at 0x1943ccb5488>"
      ]
     },
     "execution_count": 14,
     "metadata": {},
     "output_type": "execute_result"
    },
    {
     "data": {
      "image/png": "[encoded data removed]",
      "text/plain": [
       "<Figure size 432x288 with 2 Axes>"
      ]
     },
     "metadata": {
      "needs_background": "light"
     },
     "output_type": "display_data"
    }
   ],
   "source": [
    "# generate another matrix of the same size with random values\n",
    "another_matrix = cle.push_zyx(np.random.random(matrix.shape))\n",
    "\n",
    "# element by element multiplication\n",
    "matrix_element_wise_multiplied = cle.multiply_images(matrix, another_matrix)\n",
    "\n",
    "print(matrix_element_wise_multiplied)\n",
    "\n",
    "imshow(cle.pull_zyx(matrix_element_wise_multiplied))"
   ]
  },
  {
   "cell_type": "markdown",
   "metadata": {},
   "source": [
    "## Element by element multiplication of a matrix with a scalar"
   ]
  },
  {
   "cell_type": "code",
   "execution_count": 15,
   "metadata": {},
   "outputs": [
    {
     "name": "stdout",
     "output_type": "stream",
     "text": [
      "[[ 12.  14.  16.  18.  20.]\n",
      " [ 24.  28.  32.  36.  40.]\n",
      " [ 36.  42.  48.  54.  60.]\n",
      " [ 48.  56.  64.  72.  80.]\n",
      " [ 60.  70.  80.  90. 100.]]\n"
     ]
    },
    {
     "name": "stderr",
     "output_type": "stream",
     "text": [
      "c:\\users\\rober\\miniconda3\\lib\\site-packages\\pyopencl\\__init__.py:253: CompilerWarning: Non-empty compiler output encountered. Set the environment variable PYOPENCL_COMPILER_OUTPUT=1 to see more.\n",
      "  \"to see more.\", CompilerWarning)\n"
     ]
    }
   ],
   "source": [
    "elements_times_2 = cle.multiply_image_and_scalar(matrix, scalar=2)\n",
    "print(elements_times_2)"
   ]
  },
  {
   "cell_type": "code",
   "execution_count": null,
   "metadata": {},
   "outputs": [],
   "source": []
  }
 ],
 "metadata": {
  "kernelspec": {
   "display_name": "Python 3",
   "language": "python",
   "name": "python3"
  },
  "language_info": {
   "codemirror_mode": {
    "name": "ipython",
    "version": 3
   },
   "file_extension": ".py",
   "mimetype": "text/x-python",
   "name": "python",
   "nbconvert_exporter": "python",
   "pygments_lexer": "ipython3",
   "version": "3.7.7"
  }
 },
 "nbformat": 4,
 "nbformat_minor": 4
}
