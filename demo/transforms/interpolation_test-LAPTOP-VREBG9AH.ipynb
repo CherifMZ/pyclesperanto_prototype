{
 "cells": [
  {
   "cell_type": "code",
   "execution_count": 1,
   "metadata": {},
   "outputs": [
    {
     "name": "stdout",
     "output_type": "stream",
     "text": [
      "(834, 118, 209)\n",
      "(59, 1828, 209)\n"
     ]
    }
   ],
   "source": [
    "from skimage.io import imread\n",
    "import matplotlib.pyplot as plt\n",
    "import pyclesperanto_prototype as cle\n",
    "\n",
    "cle.get_device()\n",
    "\n",
    "voxel_size_x_in_microns = 0.1449922\n",
    "voxel_size_y_in_microns = 0.1449922\n",
    "voxel_size_z_in_microns = 0.3\n",
    "\n",
    "deskewing_angle_in_degrees = 30\n",
    "\n",
    "original_image = imread('../../data/RBC_tiny.tif')\n",
    "print(original_image.shape)\n",
    "\n",
    "deskewed = cle.deskew_y(original_image, \n",
    "                        angle_in_degrees=deskewing_angle_in_degrees, \n",
    "                        voxel_size_x=voxel_size_x_in_microns, \n",
    "                        voxel_size_y=voxel_size_y_in_microns, \n",
    "                        voxel_size_z=voxel_size_z_in_microns)\n",
    "\n",
    "print(deskewed.shape)"
   ]
  },
  {
   "cell_type": "code",
   "execution_count": null,
   "metadata": {},
   "outputs": [],
   "source": []
  },
  {
   "cell_type": "code",
   "execution_count": 2,
   "metadata": {},
   "outputs": [
    {
     "name": "stdout",
     "output_type": "stream",
     "text": [
      "(59, 1828, 209)\n"
     ]
    }
   ],
   "source": [
    "import math\n",
    "import pyclesperanto_prototype as cle\n",
    "from skimage.io import imread\n",
    "\n",
    "voxel_size_x_in_microns = 0.1449922\n",
    "voxel_size_y_in_microns = 0.1449922\n",
    "voxel_size_z_in_microns = 0.3\n",
    "\n",
    "deskewing_angle_in_degrees = 30\n",
    "\n",
    "original_image = imread('../../data/RBC_tiny.tif')\n",
    "\n",
    "\n",
    "#Defining Deskewing\n",
    "scale_factor = 1 #Scale factor is used in clesperanto if we want to scale the images in case they don't fit in memory\n",
    "\n",
    "#initialise a transform\n",
    "deskew_transform =cle.AffineTransform3D()\n",
    "#Shear\n",
    "shear_factor = math.sin((90 - deskewing_angle_in_degrees) * math.pi / 180.0) * (voxel_size_z_in_microns/voxel_size_y_in_microns)\n",
    "deskew_transform._matrix[1, 2] = shear_factor\n",
    "#Scale\n",
    "new_dz = math.sin(deskewing_angle_in_degrees * math.pi / 180.0) * voxel_size_z_in_microns\n",
    "scale_factor_z = (new_dz / voxel_size_y_in_microns) * scale_factor\n",
    "deskew_transform.scale(scale_x=scale_factor, scale_y=scale_factor, scale_z=scale_factor_z)\n",
    "#Rotate deskewing angle\n",
    "deskew_transform.rotate(angle_in_degrees = 0 - deskewing_angle_in_degrees, axis=0)\n",
    "\n",
    "deskewed = cle.affine_transform(source= original_image,transform = deskew_transform,auto_size=True)#,linear_interpolation=True)\n",
    "print(deskewed.shape)"
   ]
  },
  {
   "cell_type": "code",
   "execution_count": null,
   "metadata": {},
   "outputs": [],
   "source": [
    "#Defining Deskewing\n",
    "scale_factor = 1 #Scale factor is used in clesperanto if we want to scale the images in case they don't fit in memory\n",
    "\n",
    "#initialise a transform\n",
    "shear_transform =cle.AffineTransform3D()\n",
    "#Shear\n",
    "shear_factor = math.sin((90 - deskewing_angle_in_degrees) * math.pi / 180.0) * (voxel_size_z_in_microns/voxel_size_y_in_microns)\n",
    "shear_transform._matrix[1, 2] = shear_factor\n",
    "\n",
    "trans_rotate_transform =cle.AffineTransform3D()\n",
    "new_dz = math.sin(deskewing_angle_in_degrees * math.pi / 180.0) * voxel_size_z_in_microns\n",
    "scale_factor_z = (new_dz / voxel_size_y_in_microns) * scale_factor\n",
    "trans_rotate_transform.scale(scale_x=scale_factor, scale_y=scale_factor, scale_z=scale_factor_z)\n",
    "#Rotate deskewing angle\n",
    "trans_rotate_transform.rotate(angle_in_degrees = 0 - deskewing_angle_in_degrees, axis=0)\n"
   ]
  },
  {
   "cell_type": "code",
   "execution_count": null,
   "metadata": {},
   "outputs": [],
   "source": [
    "translate_x = cle.AffineTransform3D()\n",
    "translate_x.translate(translate_x=1/voxel_size_x_in_microns)\n",
    "\n",
    "translate_y = cle.AffineTransform3D()\n",
    "translate_y.translate(translate_x=1/voxel_size_y_in_microns)\n",
    "\n",
    "translate_z = cle.AffineTransform3D()\n",
    "translate_z.translate(translate_x=1/voxel_size_z_in_microns)\n",
    "\n",
    "\n",
    "\n"
   ]
  },
  {
   "cell_type": "code",
   "execution_count": 3,
   "metadata": {},
   "outputs": [],
   "source": [
    "plane = original_image[500,:,10]\n",
    "plane1 = original_image[501,:,10]\n",
    "plane0 = original_image[413,:,10]"
   ]
  },
  {
   "cell_type": "code",
   "execution_count": 7,
   "metadata": {},
   "outputs": [
    {
     "data": {
      "text/plain": [
       "(412.0, 0.0, 0.0)"
      ]
     },
     "execution_count": 7,
     "metadata": {},
     "output_type": "execute_result"
    }
   ],
   "source": [
    "#initialise a transform\n",
    "transl =cle.AffineTransform3D()\n",
    "transl.translate(translate_z=1)\n",
    "transl.inverse()\n",
    "\n",
    "mat = transl._matrix\n",
    "z=413\n",
    "y=0\n",
    "x=0\n",
    "z1 = mat[2][0]*x+mat[2][1]*y+mat[2][2]*z+mat[2][3]\n",
    "y1 = mat[1][0]*x+mat[1][1]*y+mat[1][2]*z+mat[1][3]\n",
    "x1 = mat[0][0]*x+mat[0][1]*y+mat[0][2]*z+mat[0][3]\n",
    "(z1,y1,x1)"
   ]
  },
  {
   "cell_type": "code",
   "execution_count": 24,
   "metadata": {},
   "outputs": [
    {
     "data": {
      "text/plain": [
       "(834, 118, 209)"
      ]
     },
     "execution_count": 24,
     "metadata": {},
     "output_type": "execute_result"
    }
   ],
   "source": [
    "original_image.shape"
   ]
  },
  {
   "cell_type": "code",
   "execution_count": 23,
   "metadata": {},
   "outputs": [
    {
     "data": {
      "text/plain": [
       "196.66666666666669"
      ]
     },
     "execution_count": 23,
     "metadata": {},
     "output_type": "execute_result"
    }
   ],
   "source": [
    "1"
   ]
  },
  {
   "cell_type": "code",
   "execution_count": 70,
   "metadata": {},
   "outputs": [
    {
     "data": {
      "text/plain": [
       "array([[ 1.,  0.,  0.,  0.],\n",
       "       [ 0.,  1.,  0.,  0.],\n",
       "       [ 0.,  0.,  1., -1.],\n",
       "       [ 0.,  0.,  0.,  1.]])"
      ]
     },
     "execution_count": 70,
     "metadata": {},
     "output_type": "execute_result"
    }
   ],
   "source": [
    "transl =cle.AffineTransform3D()\n",
    "transl.translate(translate_z=1)\n",
    "transl.inverse()\n",
    "transl._matrix"
   ]
  },
  {
   "cell_type": "code",
   "execution_count": 58,
   "metadata": {},
   "outputs": [
    {
     "data": {
      "text/plain": [
       "(-69.99999999999996, 1153.712889362898, 10.0)"
      ]
     },
     "execution_count": 58,
     "metadata": {},
     "output_type": "execute_result"
    }
   ],
   "source": [
    "mat = deskew_transform._matrix\n",
    "z=499\n",
    "y=140\n",
    "x=10\n",
    "z1 = mat[2][0]*x+mat[2][1]*y+mat[2][2]*z+mat[2][3]\n",
    "y1 = mat[1][0]*x+mat[1][1]*y+mat[1][2]*z+mat[1][3]\n",
    "x1 = mat[0][0]*x+mat[0][1]*y+mat[0][2]*z+mat[0][3]\n",
    "()"
   ]
  },
  {
   "cell_type": "code",
   "execution_count": null,
   "metadata": {},
   "outputs": [],
   "source": []
  },
  {
   "cell_type": "code",
   "execution_count": null,
   "metadata": {},
   "outputs": [],
   "source": [
    "\n",
    "original_image"
   ]
  },
  {
   "cell_type": "code",
   "execution_count": 3,
   "metadata": {},
   "outputs": [
    {
     "ename": "TypeError",
     "evalue": "get_info(): incompatible function arguments. The following argument types are supported:\n    1. (self: pyopencl._cl.Context, arg0: int) -> object\n\nInvoked with: 4225",
     "output_type": "error",
     "traceback": [
      "\u001b[1;31m---------------------------------------------------------------------------\u001b[0m",
      "\u001b[1;31mTypeError\u001b[0m                                 Traceback (most recent call last)",
      "Cell \u001b[1;32mIn [3], line 2\u001b[0m\n\u001b[0;32m      1\u001b[0m \u001b[39mimport\u001b[39;00m \u001b[39mpyopencl\u001b[39;00m \u001b[39mas\u001b[39;00m \u001b[39mcl\u001b[39;00m \n\u001b[1;32m----> 2\u001b[0m cl\u001b[39m.\u001b[39mContext\u001b[39m.\u001b[39mget_info(cl\u001b[39m.\u001b[39mcontext_info\u001b[39m.\u001b[39mDEVICES)\n",
      "\u001b[1;31mTypeError\u001b[0m: get_info(): incompatible function arguments. The following argument types are supported:\n    1. (self: pyopencl._cl.Context, arg0: int) -> object\n\nInvoked with: 4225"
     ]
    }
   ],
   "source": [
    "import pyopencl as cl \n",
    "cl.Context.get_info(cl.context_info.DEVICES)"
   ]
  },
  {
   "cell_type": "code",
   "execution_count": 4,
   "metadata": {},
   "outputs": [],
   "source": [
    "platform = cl.get_platforms()\n",
    "my_gpu_devices = platform[0].get_devices(device_type=cl.device_type.GPU)\n",
    "ctx = cl.Context(devices=my_gpu_devices)"
   ]
  },
  {
   "cell_type": "code",
   "execution_count": 13,
   "metadata": {},
   "outputs": [
    {
     "data": {
      "text/plain": [
       "[<pyopencl.Device 'NVIDIA GeForce RTX 3080' on 'NVIDIA CUDA' at 0x25dd2e80920>]"
      ]
     },
     "execution_count": 13,
     "metadata": {},
     "output_type": "execute_result"
    }
   ],
   "source": [
    "my_gpu_devices"
   ]
  },
  {
   "cell_type": "code",
   "execution_count": null,
   "metadata": {},
   "outputs": [],
   "source": []
  }
 ],
 "metadata": {
  "kernelspec": {
   "display_name": "Python 3.9.13 ('pycles_test')",
   "language": "python",
   "name": "python3"
  },
  "language_info": {
   "codemirror_mode": {
    "name": "ipython",
    "version": 3
   },
   "file_extension": ".py",
   "mimetype": "text/x-python",
   "name": "python",
   "nbconvert_exporter": "python",
   "pygments_lexer": "ipython3",
   "version": "3.9.13"
  },
  "orig_nbformat": 4,
  "vscode": {
   "interpreter": {
    "hash": "2006ea8656a996a1cfe7d1c3d7635f8e93c52501bf180efec5b800be947afadf"
   }
  }
 },
 "nbformat": 4,
 "nbformat_minor": 2
}
