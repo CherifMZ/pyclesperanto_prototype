{
 "cells": [
  {
   "cell_type": "code",
   "execution_count": 1,
   "metadata": {},
   "outputs": [
    {
     "data": {
      "text/plain": [
       "array([[ 1.00000000e+00,  0.00000000e+00,  0.00000000e+00,\n",
       "         0.00000000e+00],\n",
       "       [ 0.00000000e+00,  8.66025404e-01,  8.27630728e+00,\n",
       "         0.00000000e+00],\n",
       "       [ 0.00000000e+00, -5.00000000e-01,  2.23480946e-16,\n",
       "         5.90000000e+01],\n",
       "       [ 0.00000000e+00,  0.00000000e+00,  0.00000000e+00,\n",
       "         1.00000000e+00]])"
      ]
     },
     "execution_count": 1,
     "metadata": {},
     "output_type": "execute_result"
    }
   ],
   "source": [
    "import math\n",
    "import pyclesperanto_prototype as cle\n",
    "from pyclesperanto_prototype._tier8._affine_transform import _determine_translation_and_bounding_box\n",
    "from skimage.io import imread\n",
    "\n",
    "voxel_size_x_in_microns = 0.1449922\n",
    "voxel_size_y_in_microns = 0.1449922\n",
    "voxel_size_z_in_microns = 0.3\n",
    "\n",
    "deskewing_angle_in_degrees = 30\n",
    "\n",
    "original_image = imread('../../data/RBC_tiny.tif')\n",
    "original_image = original_image[::4]\n",
    "voxel_size_z_in_microns = voxel_size_z_in_microns * 4\n",
    "\n",
    "#Defining Deskewing\n",
    "scale_factor = 1 #Scale factor is used in clesperanto if we want to scale the images in case they don't fit in memory\n",
    "\n",
    "#initialise a transform\n",
    "deskew_transform =cle.AffineTransform3D()\n",
    "#Shear\n",
    "shear_factor = math.sin((90 - deskewing_angle_in_degrees) * math.pi / 180.0) * (voxel_size_z_in_microns/voxel_size_y_in_microns)\n",
    "deskew_transform._matrix[1, 2] = shear_factor\n",
    "#Scale\n",
    "new_dz = math.sin(deskewing_angle_in_degrees * math.pi / 180.0) * voxel_size_z_in_microns\n",
    "scale_factor_z = (new_dz / voxel_size_y_in_microns) * scale_factor\n",
    "deskew_transform.scale(scale_x=scale_factor, scale_y=scale_factor, scale_z=scale_factor_z)\n",
    "#Rotate deskewing angle\n",
    "deskew_transform.rotate(angle_in_degrees = 0 - deskewing_angle_in_degrees, axis=0)\n",
    "\n",
    "_,deskew_transform,translation = _determine_translation_and_bounding_box(original_image, deskew_transform)\n",
    "\n",
    "deskew_transform._matrix\n",
    "\n",
    "\n",
    "#deskewed = cle.affine_transform(source= original_image,transform = deskew_transform,auto_size=True)#,linear_interpolation=True)\n",
    "#print(deskewed.shape)"
   ]
  },
  {
   "cell_type": "code",
   "execution_count": 2,
   "metadata": {},
   "outputs": [
    {
     "data": {
      "text/plain": [
       "array([-0., -0., 59.])"
      ]
     },
     "execution_count": 2,
     "metadata": {},
     "output_type": "execute_result"
    }
   ],
   "source": [
    "translation"
   ]
  },
  {
   "cell_type": "code",
   "execution_count": 7,
   "metadata": {},
   "outputs": [
    {
     "data": {
      "text/plain": [
       "<pyclesperanto_prototype._tier8._AffineTransform3D.AffineTransform3D at 0x29d1ec17190>"
      ]
     },
     "execution_count": 7,
     "metadata": {},
     "output_type": "execute_result"
    }
   ],
   "source": [
    "shear_transform =cle.AffineTransform3D()\n",
    "#Shear\n",
    "shear_factor = math.sin((90 - deskewing_angle_in_degrees) * math.pi / 180.0) * (voxel_size_z_in_microns/voxel_size_y_in_microns)\n",
    "shear_transform._matrix[1, 2] = shear_factor\n",
    "\n",
    "trans_rotate_mat = cle.AffineTransform3D()\n",
    "new_dz = math.sin(deskewing_angle_in_degrees * math.pi / 180.0) * voxel_size_z_in_microns\n",
    "scale_factor_z = (new_dz / voxel_size_y_in_microns) * scale_factor\n",
    "trans_rotate_mat.scale(scale_x=scale_factor, scale_y=scale_factor, scale_z=scale_factor_z)\n",
    "#Rotate deskewing angle\n",
    "trans_rotate_mat.rotate(angle_in_degrees = 0 - deskewing_angle_in_degrees, axis=0)\n",
    "\n",
    "\n",
    "transform_z = cle.AffineTransform3D()\n",
    "transform_z.translate(translate_z=1/voxel_size_z_in_microns)\n",
    "#transform_z.concatenate(shear_transform_inverse)\n",
    "\n",
    "transform_y = cle.AffineTransform3D()\n",
    "transform_y.translate(translate_y=1/voxel_size_y_in_microns)#\n",
    "#transform_y._pre_concatenate(shear_transform_inverse)\n",
    "\n",
    "transform_x = cle.AffineTransform3D()\n",
    "transform_x.translate(translate_x=1/voxel_size_x_in_microns)#\n",
    "#transform_x._pre_concatenate(shear_transform_inverse)\n",
    "\n",
    "#deskewed_test = cle.affine_transform(source= original_image,\n",
    "                                            #transform = deskew_transform,\n",
    "                                           #auto_size=True)#,linear_interpolation=True)\n",
    "#print(deskewed_test.shape)"
   ]
  },
  {
   "cell_type": "code",
   "execution_count": 4,
   "metadata": {},
   "outputs": [
    {
     "ename": "NameError",
     "evalue": "name 'deskewed_test' is not defined",
     "output_type": "error",
     "traceback": [
      "\u001b[1;31m---------------------------------------------------------------------------\u001b[0m",
      "\u001b[1;31mNameError\u001b[0m                                 Traceback (most recent call last)",
      "Cell \u001b[1;32mIn [4], line 2\u001b[0m\n\u001b[0;32m      1\u001b[0m \u001b[39mimport\u001b[39;00m \u001b[39mnumpy\u001b[39;00m \u001b[39mas\u001b[39;00m \u001b[39mnp\u001b[39;00m\n\u001b[1;32m----> 2\u001b[0m deskewed_test \u001b[39m=\u001b[39m np\u001b[39m.\u001b[39masarray(deskewed_test)\n\u001b[0;32m      3\u001b[0m deskewed_test\u001b[39m.\u001b[39mmax()\n",
      "\u001b[1;31mNameError\u001b[0m: name 'deskewed_test' is not defined"
     ]
    }
   ],
   "source": [
    "import numpy as np\n",
    "deskewed_test = np.asarray(deskewed_test)\n",
    "deskewed_test.max()"
   ]
  },
  {
   "cell_type": "code",
   "execution_count": 5,
   "metadata": {},
   "outputs": [
    {
     "data": {
      "text/plain": [
       "array([[1., 0., 0., 0.],\n",
       "       [0., 1., 0., 1.],\n",
       "       [0., 0., 1., 0.],\n",
       "       [0., 0., 0., 1.]])"
      ]
     },
     "execution_count": 5,
     "metadata": {},
     "output_type": "execute_result"
    }
   ],
   "source": [
    "transform_y._matrix"
   ]
  },
  {
   "cell_type": "code",
   "execution_count": 12,
   "metadata": {},
   "outputs": [
    {
     "data": {
      "text/plain": [
       "<Image layer 'deskewed_test_affine' at 0x29d9e450d00>"
      ]
     },
     "execution_count": 12,
     "metadata": {},
     "output_type": "execute_result"
    }
   ],
   "source": [
    "import numpy as np \n",
    "deskewed_test_affine = cle.affine_transform_deskew(source= original_image,\n",
    "                                            transform = deskew_transform,\n",
    "                                           auto_size=True,\n",
    "                                            shear_transform=shear_transform,\n",
    "                                            translatez = transform_z,\n",
    "                                            translatey = transform_y,\n",
    "                                            translatex = transform_x,\n",
    "                                            linear_interpolation=True)\n",
    "import napari \n",
    "viewer = napari.Viewer() \n",
    "deskewed_test_affine = np.asarray(deskewed_test_affine)\n",
    "viewer.add_image(deskewed_test_affine)"
   ]
  },
  {
   "cell_type": "code",
   "execution_count": 15,
   "metadata": {},
   "outputs": [
    {
     "data": {
      "text/plain": [
       "(59, 1832, 209)"
      ]
     },
     "execution_count": 15,
     "metadata": {},
     "output_type": "execute_result"
    }
   ],
   "source": [
    "deskewed_test_affine.shape"
   ]
  },
  {
   "cell_type": "code",
   "execution_count": 8,
   "metadata": {},
   "outputs": [
    {
     "name": "stdout",
     "output_type": "stream",
     "text": [
      "(59, 1832, 209)\n"
     ]
    },
    {
     "data": {
      "text/plain": [
       "255.0"
      ]
     },
     "execution_count": 8,
     "metadata": {},
     "output_type": "execute_result"
    }
   ],
   "source": [
    "print(deskewed_test_affine.shape)\n",
    "import numpy as np\n",
    "deskewed_test_affine = np.asarray(deskewed_test_affine)\n",
    "deskewed_test_affine.max()"
   ]
  },
  {
   "cell_type": "code",
   "execution_count": 9,
   "metadata": {},
   "outputs": [
    {
     "data": {
      "text/plain": [
       "<Image layer 'deskewed_test_affine' at 0x12a9eda93a0>"
      ]
     },
     "execution_count": 9,
     "metadata": {},
     "output_type": "execute_result"
    }
   ],
   "source": [
    "import numpy as np\n",
    "\n",
    "import napari \n",
    "viewer = napari.Viewer() \n",
    "viewer.add_image(deskewed_test_affine)"
   ]
  },
  {
   "cell_type": "code",
   "execution_count": 21,
   "metadata": {},
   "outputs": [
    {
     "data": {
      "image/png": "[encoded data removed]",
      "text/plain": [
       "<Figure size 640x480 with 1 Axes>"
      ]
     },
     "metadata": {},
     "output_type": "display_data"
    }
   ],
   "source": [
    "cle.imshow(deskewed_test_affine[:,200])"
   ]
  },
  {
   "cell_type": "code",
   "execution_count": 6,
   "metadata": {},
   "outputs": [
    {
     "data": {
      "image/png": "[encoded data removed]",
      "text/plain": [
       "<Figure size 640x480 with 1 Axes>"
      ]
     },
     "metadata": {},
     "output_type": "display_data"
    }
   ],
   "source": [
    "cle.imshow(original_image[150,:,:])"
   ]
  },
  {
   "cell_type": "code",
   "execution_count": null,
   "metadata": {},
   "outputs": [],
   "source": []
  }
 ],
 "metadata": {
  "kernelspec": {
   "display_name": "pyclesp_orth",
   "language": "python",
   "name": "python3"
  },
  "language_info": {
   "codemirror_mode": {
    "name": "ipython",
    "version": 3
   },
   "file_extension": ".py",
   "mimetype": "text/x-python",
   "name": "python",
   "nbconvert_exporter": "python",
   "pygments_lexer": "ipython3",
   "version": "3.9.13"
  },
  "orig_nbformat": 4,
  "vscode": {
   "interpreter": {
    "hash": "c2b46194c6f53d1309ec6efbc337d4d86cf8be9dd82cf5e27a48142022d8f42e"
   }
  }
 },
 "nbformat": 4,
 "nbformat_minor": 2
}
