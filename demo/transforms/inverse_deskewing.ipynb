{
 "cells": [
  {
   "cell_type": "code",
   "execution_count": 2,
   "id": "c68efefe-3080-494e-859c-3a3c568c7a0d",
   "metadata": {},
   "outputs": [],
   "source": [
    "import numpy as np\n",
    "import pyclesperanto_prototype as cle"
   ]
  },
  {
   "cell_type": "code",
   "execution_count": 4,
   "id": "b1e34b66-7dae-485f-99c4-34b11e629a77",
   "metadata": {},
   "outputs": [
    {
     "data": {
      "text/plain": [
       "(150, 118, 209)"
      ]
     },
     "execution_count": 4,
     "metadata": {},
     "output_type": "execute_result"
    }
   ],
   "source": [
    "\n",
    "voxel_size_x_in_microns = 0.1449922\n",
    "voxel_size_y_in_microns = 0.1449922\n",
    "voxel_size_z_in_microns = 0.3\n",
    "\n",
    "deskewing_angle_in_degrees = 30\n",
    "\n",
    "\n",
    "rbc = np.zeros([150, 118, 209])\n",
    "rbc.shape"
   ]
  },
  {
   "cell_type": "code",
   "execution_count": 5,
   "id": "84db02cf-9dae-44b0-aef3-4462c20ace76",
   "metadata": {},
   "outputs": [
    {
     "data": {
      "text/plain": [
       "(59, 416, 209)"
      ]
     },
     "execution_count": 5,
     "metadata": {},
     "output_type": "execute_result"
    }
   ],
   "source": [
    "deskewed = cle.deskew_y(rbc, \n",
    "                        angle_in_degrees=deskewing_angle_in_degrees, \n",
    "                        voxel_size_x=voxel_size_x_in_microns, \n",
    "                        voxel_size_y=voxel_size_y_in_microns, \n",
    "                        voxel_size_z=voxel_size_z_in_microns)\n",
    "\n",
    "deskewed.shape"
   ]
  },
  {
   "cell_type": "markdown",
   "id": "63d2fd1e-e724-4ea0-8115-c59dd26de18f",
   "metadata": {},
   "source": [
    "## Reverse the deskewing transformation from deskewed volume back into the original volume"
   ]
  },
  {
   "cell_type": "code",
   "execution_count": 9,
   "id": "215fda6f-f959-4ddc-bb63-d896116fb39d",
   "metadata": {},
   "outputs": [
    {
     "data": {
      "text/plain": [
       "<pyclesperanto_prototype._tier8._AffineTransform3D.AffineTransform3D at 0x7f87f054fc10>"
      ]
     },
     "execution_count": 9,
     "metadata": {},
     "output_type": "execute_result"
    }
   ],
   "source": [
    "transform = cle.AffineTransform3D()\n",
    "transform._deskew_y(angle_in_degrees=deskewing_angle_in_degrees, \n",
    "                        voxel_size_x=voxel_size_x_in_microns, \n",
    "                        voxel_size_y=voxel_size_y_in_microns, \n",
    "                        voxel_size_z=voxel_size_z_in_microns)"
   ]
  },
  {
   "cell_type": "code",
   "execution_count": 13,
   "id": "186fbd61-4b8b-48bb-85d7-772c0f8b9eba",
   "metadata": {},
   "outputs": [],
   "source": [
    "new_size, autosize_transform, _ = cle._tier8._affine_transform._determine_translation_and_bounding_box(\n",
    "                                    rbc, transform)\n"
   ]
  },
  {
   "cell_type": "code",
   "execution_count": 14,
   "id": "1ace2f44-ad8d-4dbc-96a4-5bba98fa1670",
   "metadata": {},
   "outputs": [],
   "source": [
    "inverse_transform = autosize_transform.inverse()"
   ]
  },
  {
   "cell_type": "code",
   "execution_count": 17,
   "id": "e2584d5f-4376-4eee-99e8-44806c8477f4",
   "metadata": {},
   "outputs": [
    {
     "data": {
      "text/plain": [
       "(252, 118, 209)"
      ]
     },
     "execution_count": 17,
     "metadata": {},
     "output_type": "execute_result"
    }
   ],
   "source": [
    "undeskewed = cle.affine_transform(deskewed, transform=inverse_transform, auto_size=True)\n",
    "\n",
    "undeskewed.shape"
   ]
  },
  {
   "cell_type": "code",
   "execution_count": null,
   "id": "c748082a-e24b-4b33-99db-9d326fcb1528",
   "metadata": {},
   "outputs": [],
   "source": []
  }
 ],
 "metadata": {
  "kernelspec": {
   "display_name": "Python 3 (ipykernel)",
   "language": "python",
   "name": "python3"
  },
  "language_info": {
   "codemirror_mode": {
    "name": "ipython",
    "version": 3
   },
   "file_extension": ".py",
   "mimetype": "text/x-python",
   "name": "python",
   "nbconvert_exporter": "python",
   "pygments_lexer": "ipython3",
   "version": "3.9.0"
  }
 },
 "nbformat": 4,
 "nbformat_minor": 5
}
