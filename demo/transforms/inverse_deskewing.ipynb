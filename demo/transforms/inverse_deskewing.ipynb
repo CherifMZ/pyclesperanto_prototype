{
 "cells": [
  {
   "cell_type": "code",
   "execution_count": 1,
   "id": "c68efefe-3080-494e-859c-3a3c568c7a0d",
   "metadata": {},
   "outputs": [],
   "source": [
    "import numpy as np\n",
    "import pyclesperanto_prototype as cle"
   ]
  },
  {
   "cell_type": "markdown",
   "id": "a108f5d4-b7d1-468b-9de5-3e6a974c913b",
   "metadata": {},
   "source": [
    "## Setup example data"
   ]
  },
  {
   "cell_type": "code",
   "execution_count": 2,
   "id": "b1e34b66-7dae-485f-99c4-34b11e629a77",
   "metadata": {},
   "outputs": [
    {
     "data": {
      "text/plain": [
       "(150, 118, 209)"
      ]
     },
     "execution_count": 2,
     "metadata": {},
     "output_type": "execute_result"
    }
   ],
   "source": [
    "\n",
    "voxel_size_x_in_microns = 0.1449922\n",
    "voxel_size_y_in_microns = 0.1449922\n",
    "voxel_size_z_in_microns = 0.3\n",
    "\n",
    "deskewing_angle_in_degrees = 30\n",
    "\n",
    "\n",
    "rbc = np.ones([150, 118, 209])\n",
    "rbc.shape"
   ]
  },
  {
   "cell_type": "markdown",
   "id": "08f86cc8-9ca7-4b83-bba7-fa4fdb3c9e7b",
   "metadata": {},
   "source": [
    "## Deskew it"
   ]
  },
  {
   "cell_type": "code",
   "execution_count": 3,
   "id": "84db02cf-9dae-44b0-aef3-4462c20ace76",
   "metadata": {},
   "outputs": [
    {
     "data": {
      "text/plain": [
       "(59, 416, 209)"
      ]
     },
     "execution_count": 3,
     "metadata": {},
     "output_type": "execute_result"
    }
   ],
   "source": [
    "deskewed = cle.deskew_y(rbc, \n",
    "                        angle_in_degrees=deskewing_angle_in_degrees, \n",
    "                        voxel_size_x=voxel_size_x_in_microns, \n",
    "                        voxel_size_y=voxel_size_y_in_microns, \n",
    "                        voxel_size_z=voxel_size_z_in_microns)\n",
    "\n",
    "deskewed.shape"
   ]
  },
  {
   "cell_type": "markdown",
   "id": "63d2fd1e-e724-4ea0-8115-c59dd26de18f",
   "metadata": {},
   "source": [
    "To reverse the deskewing transformation from deskewed volume back into the original volume, we need to get the deskewing-transformation first as an object."
   ]
  },
  {
   "cell_type": "code",
   "execution_count": 4,
   "id": "215fda6f-f959-4ddc-bb63-d896116fb39d",
   "metadata": {},
   "outputs": [
    {
     "data": {
      "text/plain": [
       "<pyclesperanto_prototype._tier8._AffineTransform3D.AffineTransform3D at 0x7fc6985f5be0>"
      ]
     },
     "execution_count": 4,
     "metadata": {},
     "output_type": "execute_result"
    }
   ],
   "source": [
    "transform = cle.AffineTransform3D()\n",
    "transform._deskew_y(angle_in_degrees=deskewing_angle_in_degrees, \n",
    "                        voxel_size_x=voxel_size_x_in_microns, \n",
    "                        voxel_size_y=voxel_size_y_in_microns, \n",
    "                        voxel_size_z=voxel_size_z_in_microns)"
   ]
  },
  {
   "cell_type": "markdown",
   "id": "c859442b-d3c6-45f3-89f0-46fc2a2e732b",
   "metadata": {},
   "source": [
    "Compute the size of the original image stack and the corresponding transform"
   ]
  },
  {
   "cell_type": "code",
   "execution_count": 5,
   "id": "186fbd61-4b8b-48bb-85d7-772c0f8b9eba",
   "metadata": {},
   "outputs": [
    {
     "data": {
      "text/plain": [
       "[59, 416, 209]"
      ]
     },
     "execution_count": 5,
     "metadata": {},
     "output_type": "execute_result"
    }
   ],
   "source": [
    "new_size, autosize_transform, translation = cle._tier8._affine_transform._determine_translation_and_bounding_box(\n",
    "                                    rbc, transform)\n",
    "\n",
    "new_size"
   ]
  },
  {
   "cell_type": "code",
   "execution_count": null,
   "id": "877d990c-f8db-4099-bafd-8710abedabc0",
   "metadata": {},
   "outputs": [],
   "source": []
  },
  {
   "cell_type": "markdown",
   "id": "0dbf695b-6e64-47ca-b121-0324a2f47806",
   "metadata": {},
   "source": [
    "## Invert the transform\n",
    "Once we set up the transform, we can invert it."
   ]
  },
  {
   "cell_type": "code",
   "execution_count": 6,
   "id": "1ace2f44-ad8d-4dbc-96a4-5bba98fa1670",
   "metadata": {},
   "outputs": [],
   "source": [
    "inverse_transform = autosize_transform.inverse()"
   ]
  },
  {
   "cell_type": "markdown",
   "id": "581478f9-f6fa-42df-b2ca-1e7a2dbeb3a1",
   "metadata": {},
   "source": [
    "## Apply the inverse transform"
   ]
  },
  {
   "cell_type": "code",
   "execution_count": 7,
   "id": "e2584d5f-4376-4eee-99e8-44806c8477f4",
   "metadata": {},
   "outputs": [
    {
     "data": {
      "text/plain": [
       "(252, 118, 209)"
      ]
     },
     "execution_count": 7,
     "metadata": {},
     "output_type": "execute_result"
    }
   ],
   "source": [
    "undeskewed = cle.affine_transform(deskewed, transform=inverse_transform, auto_size=True)\n",
    "\n",
    "undeskewed.shape"
   ]
  },
  {
   "cell_type": "code",
   "execution_count": 8,
   "id": "c748082a-e24b-4b33-99db-9d326fcb1528",
   "metadata": {},
   "outputs": [
    {
     "data": {
      "text/plain": [
       "(150, 118, 209)"
      ]
     },
     "execution_count": 8,
     "metadata": {},
     "output_type": "execute_result"
    }
   ],
   "source": [
    "rbc.shape"
   ]
  },
  {
   "cell_type": "markdown",
   "id": "cfae7c74-659f-4402-891a-152099a9c34f",
   "metadata": {},
   "source": [
    "## Visualize where the pixels went"
   ]
  },
  {
   "cell_type": "code",
   "execution_count": 9,
   "id": "f28f127e-2b5e-4dc6-823c-29ec8b3c5f24",
   "metadata": {},
   "outputs": [
    {
     "data": {
      "image/png": "[encoded data removed]",
      "text/plain": [
       "<Figure size 432x288 with 2 Axes>"
      ]
     },
     "metadata": {
      "needs_background": "light"
     },
     "output_type": "display_data"
    }
   ],
   "source": [
    "cle.imshow(cle.maximum_x_projection(undeskewed), colorbar=True)"
   ]
  },
  {
   "cell_type": "code",
   "execution_count": 10,
   "id": "5c3a1976-daa4-477b-a259-ed6a2dda9607",
   "metadata": {},
   "outputs": [
    {
     "data": {
      "image/png": "[encoded data removed]",
      "text/plain": [
       "<Figure size 432x288 with 2 Axes>"
      ]
     },
     "metadata": {
      "needs_background": "light"
     },
     "output_type": "display_data"
    }
   ],
   "source": [
    "cle.imshow(cle.maximum_y_projection(undeskewed), colorbar=True)"
   ]
  },
  {
   "cell_type": "code",
   "execution_count": 11,
   "id": "e87f0642-2b0f-4ec4-9356-c2a31f56fc87",
   "metadata": {},
   "outputs": [
    {
     "data": {
      "image/png": "[encoded data removed]",
      "text/plain": [
       "<Figure size 432x288 with 2 Axes>"
      ]
     },
     "metadata": {
      "needs_background": "light"
     },
     "output_type": "display_data"
    }
   ],
   "source": [
    "cle.imshow(cle.maximum_z_projection(undeskewed), colorbar=True)"
   ]
  },
  {
   "cell_type": "code",
   "execution_count": null,
   "id": "7ea26fe0-acfe-443c-a96c-65b35e17b564",
   "metadata": {},
   "outputs": [],
   "source": []
  }
 ],
 "metadata": {
  "kernelspec": {
   "display_name": "Python 3 (ipykernel)",
   "language": "python",
   "name": "python3"
  },
  "language_info": {
   "codemirror_mode": {
    "name": "ipython",
    "version": 3
   },
   "file_extension": ".py",
   "mimetype": "text/x-python",
   "name": "python",
   "nbconvert_exporter": "python",
   "pygments_lexer": "ipython3",
   "version": "3.9.0"
  }
 },
 "nbformat": 4,
 "nbformat_minor": 5
}
