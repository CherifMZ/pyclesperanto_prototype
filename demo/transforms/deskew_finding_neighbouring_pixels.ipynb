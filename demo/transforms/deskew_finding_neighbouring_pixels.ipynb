{
 "cells": [
  {
   "cell_type": "markdown",
   "metadata": {},
   "source": [
    "### Determining actual neighbours in deskewed image using affine matrices\n",
    "\n",
    "When deskewing, the actual neighbours are in the intermediated sheared image\n",
    "\n",
    "We use trilinear interpolation by first determining neighbours in 3D, x0,y0,z0 to x8,y8,z8\n",
    "from the sheared image. Once we find the neighbours, we apply an inverse shear transform to find the position of these neighbours in the raw data and interpolate these points\n",
    "\n",
    "https://en.wikipedia.org/wiki/Trilinear_interpolation"
   ]
  },
  {
   "cell_type": "code",
   "execution_count": 1,
   "metadata": {},
   "outputs": [
    {
     "ename": "FileNotFoundError",
     "evalue": "[Errno 2] No such file or directory: 'D:\\\\OneDrive - wehi.edu.au\\\\WEHI_projects\\\\Lightsheet\\\\pyclesperanto_prototype\\\\data\\\\RBC_tiny.tif'",
     "output_type": "error",
     "traceback": [
      "\u001b[1;31m---------------------------------------------------------------------------\u001b[0m",
      "\u001b[1;31mFileNotFoundError\u001b[0m                         Traceback (most recent call last)",
      "Cell \u001b[1;32mIn [1], line 15\u001b[0m\n\u001b[0;32m     11\u001b[0m voxel_size_z_in_microns \u001b[39m=\u001b[39m \u001b[39m0.3\u001b[39m\n\u001b[0;32m     13\u001b[0m deskewing_angle_in_degrees \u001b[39m=\u001b[39m \u001b[39m30\u001b[39m\n\u001b[1;32m---> 15\u001b[0m original_image \u001b[39m=\u001b[39m imread(\u001b[39m\"\u001b[39;49m\u001b[39mD:\u001b[39;49m\u001b[39m\\\\\u001b[39;49;00m\u001b[39mOneDrive - wehi.edu.au\u001b[39;49m\u001b[39m\\\\\u001b[39;49;00m\u001b[39mWEHI_projects\u001b[39;49m\u001b[39m\\\\\u001b[39;49;00m\u001b[39mLightsheet\u001b[39;49m\u001b[39m\\\\\u001b[39;49;00m\u001b[39mpyclesperanto_prototype\u001b[39;49m\u001b[39m\\\\\u001b[39;49;00m\u001b[39mdata\u001b[39;49m\u001b[39m\\\\\u001b[39;49;00m\u001b[39mRBC_tiny.tif\u001b[39;49m\u001b[39m\"\u001b[39;49m)\n\u001b[0;32m     16\u001b[0m \u001b[39m#\"C:\\\\Users\\\\deepu\\\\OneDrive - wehi.edu.au\\\\WEHI_projects\\\\Lightsheet\\\\pyclesperanto_prototype\\\\data\\\\RBC_tiny.tif\")\u001b[39;00m\n\u001b[0;32m     17\u001b[0m original_image \u001b[39m=\u001b[39m original_image[::\u001b[39m4\u001b[39m]\n",
      "File \u001b[1;32mc:\\Users\\deepu\\Anaconda3\\envs\\pycles_test\\lib\\site-packages\\skimage\\io\\_io.py:53\u001b[0m, in \u001b[0;36mimread\u001b[1;34m(fname, as_gray, plugin, **plugin_args)\u001b[0m\n\u001b[0;32m     50\u001b[0m         plugin \u001b[39m=\u001b[39m \u001b[39m'\u001b[39m\u001b[39mtifffile\u001b[39m\u001b[39m'\u001b[39m\n\u001b[0;32m     52\u001b[0m \u001b[39mwith\u001b[39;00m file_or_url_context(fname) \u001b[39mas\u001b[39;00m fname:\n\u001b[1;32m---> 53\u001b[0m     img \u001b[39m=\u001b[39m call_plugin(\u001b[39m'\u001b[39m\u001b[39mimread\u001b[39m\u001b[39m'\u001b[39m, fname, plugin\u001b[39m=\u001b[39mplugin, \u001b[39m*\u001b[39m\u001b[39m*\u001b[39mplugin_args)\n\u001b[0;32m     55\u001b[0m \u001b[39mif\u001b[39;00m \u001b[39mnot\u001b[39;00m \u001b[39mhasattr\u001b[39m(img, \u001b[39m'\u001b[39m\u001b[39mndim\u001b[39m\u001b[39m'\u001b[39m):\n\u001b[0;32m     56\u001b[0m     \u001b[39mreturn\u001b[39;00m img\n",
      "File \u001b[1;32mc:\\Users\\deepu\\Anaconda3\\envs\\pycles_test\\lib\\site-packages\\skimage\\io\\manage_plugins.py:207\u001b[0m, in \u001b[0;36mcall_plugin\u001b[1;34m(kind, *args, **kwargs)\u001b[0m\n\u001b[0;32m    203\u001b[0m     \u001b[39mexcept\u001b[39;00m \u001b[39mIndexError\u001b[39;00m:\n\u001b[0;32m    204\u001b[0m         \u001b[39mraise\u001b[39;00m \u001b[39mRuntimeError\u001b[39;00m(\u001b[39m'\u001b[39m\u001b[39mCould not find the plugin \u001b[39m\u001b[39m\"\u001b[39m\u001b[39m%s\u001b[39;00m\u001b[39m\"\u001b[39m\u001b[39m for \u001b[39m\u001b[39m%s\u001b[39;00m\u001b[39m.\u001b[39m\u001b[39m'\u001b[39m \u001b[39m%\u001b[39m\n\u001b[0;32m    205\u001b[0m                            (plugin, kind))\n\u001b[1;32m--> 207\u001b[0m \u001b[39mreturn\u001b[39;00m func(\u001b[39m*\u001b[39margs, \u001b[39m*\u001b[39m\u001b[39m*\u001b[39mkwargs)\n",
      "File \u001b[1;32mc:\\Users\\deepu\\Anaconda3\\envs\\pycles_test\\lib\\site-packages\\skimage\\io\\_plugins\\tifffile_plugin.py:30\u001b[0m, in \u001b[0;36mimread\u001b[1;34m(fname, **kwargs)\u001b[0m\n\u001b[0;32m     27\u001b[0m \u001b[39mif\u001b[39;00m \u001b[39m'\u001b[39m\u001b[39mimg_num\u001b[39m\u001b[39m'\u001b[39m \u001b[39min\u001b[39;00m kwargs:\n\u001b[0;32m     28\u001b[0m     kwargs[\u001b[39m'\u001b[39m\u001b[39mkey\u001b[39m\u001b[39m'\u001b[39m] \u001b[39m=\u001b[39m kwargs\u001b[39m.\u001b[39mpop(\u001b[39m'\u001b[39m\u001b[39mimg_num\u001b[39m\u001b[39m'\u001b[39m)\n\u001b[1;32m---> 30\u001b[0m \u001b[39mreturn\u001b[39;00m tifffile_imread(fname, \u001b[39m*\u001b[39m\u001b[39m*\u001b[39mkwargs)\n",
      "File \u001b[1;32m~\\AppData\\Roaming\\Python\\Python39\\site-packages\\tifffile\\tifffile.py:825\u001b[0m, in \u001b[0;36mimread\u001b[1;34m(files, aszarr, **kwargs)\u001b[0m\n\u001b[0;32m    822\u001b[0m     files \u001b[39m=\u001b[39m files[\u001b[39m0\u001b[39m]\n\u001b[0;32m    824\u001b[0m \u001b[39mif\u001b[39;00m \u001b[39misinstance\u001b[39m(files, (\u001b[39mstr\u001b[39m, os\u001b[39m.\u001b[39mPathLike)) \u001b[39mor\u001b[39;00m \u001b[39mhasattr\u001b[39m(files, \u001b[39m'\u001b[39m\u001b[39mseek\u001b[39m\u001b[39m'\u001b[39m):\n\u001b[1;32m--> 825\u001b[0m     \u001b[39mwith\u001b[39;00m TiffFile(files, \u001b[39m*\u001b[39m\u001b[39m*\u001b[39mkwargs_file) \u001b[39mas\u001b[39;00m tif:\n\u001b[0;32m    826\u001b[0m         \u001b[39mif\u001b[39;00m aszarr:\n\u001b[0;32m    827\u001b[0m             \u001b[39mreturn\u001b[39;00m tif\u001b[39m.\u001b[39maszarr(\u001b[39m*\u001b[39m\u001b[39m*\u001b[39mkwargs)\n",
      "File \u001b[1;32m~\\AppData\\Roaming\\Python\\Python39\\site-packages\\tifffile\\tifffile.py:3147\u001b[0m, in \u001b[0;36mTiffFile.__init__\u001b[1;34m(self, arg, mode, name, offset, size, _multifile, _useframes, _parent, **kwargs)\u001b[0m\n\u001b[0;32m   3144\u001b[0m \u001b[39mif\u001b[39;00m mode \u001b[39mnot\u001b[39;00m \u001b[39min\u001b[39;00m (\u001b[39mNone\u001b[39;00m, \u001b[39m'\u001b[39m\u001b[39mrb\u001b[39m\u001b[39m'\u001b[39m, \u001b[39m'\u001b[39m\u001b[39mr+b\u001b[39m\u001b[39m'\u001b[39m):\n\u001b[0;32m   3145\u001b[0m     \u001b[39mraise\u001b[39;00m \u001b[39mValueError\u001b[39;00m(\u001b[39mf\u001b[39m\u001b[39m'\u001b[39m\u001b[39minvalid mode \u001b[39m\u001b[39m{\u001b[39;00mmode\u001b[39m!r}\u001b[39;00m\u001b[39m'\u001b[39m)\n\u001b[1;32m-> 3147\u001b[0m fh \u001b[39m=\u001b[39m FileHandle(arg, mode\u001b[39m=\u001b[39;49mmode, name\u001b[39m=\u001b[39;49mname, offset\u001b[39m=\u001b[39;49moffset, size\u001b[39m=\u001b[39;49msize)\n\u001b[0;32m   3148\u001b[0m \u001b[39mself\u001b[39m\u001b[39m.\u001b[39m_fh \u001b[39m=\u001b[39m fh\n\u001b[0;32m   3149\u001b[0m \u001b[39mself\u001b[39m\u001b[39m.\u001b[39m_multifile \u001b[39m=\u001b[39m \u001b[39mbool\u001b[39m(_multifile)\n",
      "File \u001b[1;32m~\\AppData\\Roaming\\Python\\Python39\\site-packages\\tifffile\\tifffile.py:10566\u001b[0m, in \u001b[0;36mFileHandle.__init__\u001b[1;34m(self, file, mode, name, offset, size)\u001b[0m\n\u001b[0;32m  10564\u001b[0m \u001b[39mself\u001b[39m\u001b[39m.\u001b[39mis_file \u001b[39m=\u001b[39m \u001b[39mNone\u001b[39;00m\n\u001b[0;32m  10565\u001b[0m \u001b[39mself\u001b[39m\u001b[39m.\u001b[39m_lock \u001b[39m=\u001b[39m NullContext()\n\u001b[1;32m> 10566\u001b[0m \u001b[39mself\u001b[39;49m\u001b[39m.\u001b[39;49mopen()\n",
      "File \u001b[1;32m~\\AppData\\Roaming\\Python\\Python39\\site-packages\\tifffile\\tifffile.py:10579\u001b[0m, in \u001b[0;36mFileHandle.open\u001b[1;34m(self)\u001b[0m\n\u001b[0;32m  10577\u001b[0m \u001b[39mself\u001b[39m\u001b[39m.\u001b[39m_file \u001b[39m=\u001b[39m os\u001b[39m.\u001b[39mpath\u001b[39m.\u001b[39mrealpath(\u001b[39mself\u001b[39m\u001b[39m.\u001b[39m_file)\n\u001b[0;32m  10578\u001b[0m \u001b[39mself\u001b[39m\u001b[39m.\u001b[39m_dir, \u001b[39mself\u001b[39m\u001b[39m.\u001b[39m_name \u001b[39m=\u001b[39m os\u001b[39m.\u001b[39mpath\u001b[39m.\u001b[39msplit(\u001b[39mself\u001b[39m\u001b[39m.\u001b[39m_file)\n\u001b[1;32m> 10579\u001b[0m \u001b[39mself\u001b[39m\u001b[39m.\u001b[39m_fh \u001b[39m=\u001b[39m \u001b[39mopen\u001b[39;49m(\u001b[39mself\u001b[39;49m\u001b[39m.\u001b[39;49m_file, \u001b[39mself\u001b[39;49m\u001b[39m.\u001b[39;49m_mode)\n\u001b[0;32m  10580\u001b[0m \u001b[39mself\u001b[39m\u001b[39m.\u001b[39m_close \u001b[39m=\u001b[39m \u001b[39mTrue\u001b[39;00m\n\u001b[0;32m  10581\u001b[0m \u001b[39mif\u001b[39;00m \u001b[39mself\u001b[39m\u001b[39m.\u001b[39m_offset \u001b[39mis\u001b[39;00m \u001b[39mNone\u001b[39;00m:\n",
      "\u001b[1;31mFileNotFoundError\u001b[0m: [Errno 2] No such file or directory: 'D:\\\\OneDrive - wehi.edu.au\\\\WEHI_projects\\\\Lightsheet\\\\pyclesperanto_prototype\\\\data\\\\RBC_tiny.tif'"
     ]
    }
   ],
   "source": [
    "import math\n",
    "import pyclesperanto_prototype as cle\n",
    "from pyclesperanto_prototype._tier8._affine_transform import _determine_translation_and_bounding_box\n",
    "from skimage.io import imread\n",
    "import numpy as np \n",
    "#Disable scientific notation for numbers\n",
    "np.set_printoptions(suppress=True)\n",
    "\n",
    "voxel_size_x_in_microns = 0.1449922\n",
    "voxel_size_y_in_microns = 0.1449922\n",
    "voxel_size_z_in_microns = 0.3\n",
    "\n",
    "deskewing_angle_in_degrees = 30\n",
    "\n",
    "original_image = imread(\"D:\\\\OneDrive - wehi.edu.au\\\\WEHI_projects\\\\Lightsheet\\\\pyclesperanto_prototype\\\\data\\\\RBC_tiny.tif\")\n",
    "#\"C:\\\\Users\\\\deepu\\\\OneDrive - wehi.edu.au\\\\WEHI_projects\\\\Lightsheet\\\\pyclesperanto_prototype\\\\data\\\\RBC_tiny.tif\")\n",
    "original_image = original_image[::4]\n",
    "voxel_size_z_in_microns = voxel_size_z_in_microns * 4\n",
    "print(original_image.shape)\n",
    "\n",
    "\n",
    "#Defining Deskewing transform \n",
    "\n",
    "scale_factor = 1 #Scale factor is used in clesperanto if we want to scale the images in case they don't fit in memory\n",
    "\n",
    "#initialise a transform\n",
    "deskew_transform =cle.AffineTransform3D()\n",
    "#Shear\n",
    "shear_factor = math.sin((90 - deskewing_angle_in_degrees) * math.pi / 180.0) * (voxel_size_z_in_microns/voxel_size_y_in_microns)\n",
    "deskew_transform._matrix[1, 2] = shear_factor\n",
    "#Scale\n",
    "new_dz = math.sin(deskewing_angle_in_degrees * math.pi / 180.0) * voxel_size_z_in_microns\n",
    "scale_factor_z = (new_dz / voxel_size_y_in_microns) * scale_factor\n",
    "deskew_transform.scale(scale_x=scale_factor, scale_y=scale_factor, scale_z=scale_factor_z)\n",
    "#Rotate deskewing angle\n",
    "deskew_transform.rotate(angle_in_degrees = 0 - deskewing_angle_in_degrees, axis=0)\n",
    "_,deskew_transform,translation = _determine_translation_and_bounding_box(original_image, deskew_transform)\n",
    "\n",
    "deskew_transform._matrix\n",
    "deskewed = cle.affine_transform(source= original_image,transform = deskew_transform,auto_size=True,linear_interpolation=True)\n",
    "deskewed = cle.pull(deskewed)\n",
    "print(deskewed.shape)\n",
    "\n",
    "print(\"Current interpolation yields:\")\n",
    "cle.imshow(deskewed[:,200])"
   ]
  },
  {
   "cell_type": "code",
   "execution_count": 69,
   "metadata": {},
   "outputs": [
    {
     "data": {
      "image/png": "[encoded data removed]",
      "text/plain": [
       "<Figure size 640x480 with 1 Axes>"
      ]
     },
     "metadata": {},
     "output_type": "display_data"
    }
   ],
   "source": [
    "cle.imshow(cle.maximum_x_projection(deskewed))"
   ]
  },
  {
   "cell_type": "code",
   "execution_count": 8,
   "metadata": {},
   "outputs": [
    {
     "name": "stdout",
     "output_type": "stream",
     "text": [
      "Current interpolation yields:\n"
     ]
    },
    {
     "data": {
      "image/png": "[encoded data removed]",
      "text/plain": [
       "<Figure size 640x480 with 1 Axes>"
      ]
     },
     "metadata": {},
     "output_type": "display_data"
    }
   ],
   "source": []
  },
  {
   "cell_type": "code",
   "execution_count": 12,
   "metadata": {},
   "outputs": [
    {
     "data": {
      "text/plain": [
       "0.5999999999999999"
      ]
     },
     "execution_count": 12,
     "metadata": {},
     "output_type": "execute_result"
    }
   ],
   "source": [
    "new_dz"
   ]
  },
  {
   "cell_type": "markdown",
   "metadata": {},
   "source": []
  },
  {
   "cell_type": "code",
   "execution_count": 6,
   "metadata": {},
   "outputs": [],
   "source": [
    "#Get shear transform\n",
    "shear_transform =cle.AffineTransform3D()\n",
    "#Shear\n",
    "shear_factor = math.sin((90 - deskewing_angle_in_degrees) * math.pi / 180.0) * (voxel_size_z_in_microns/voxel_size_y_in_microns)\n",
    "shear_transform._matrix[1, 2] = shear_factor\n",
    "\n",
    "#Inverse shear transform\n",
    "shear_inverse = shear_transform.copy().inverse()\n",
    "\n",
    "\n",
    "##rotation,scaling and translation\n",
    "#second step of the deskewing workflow\n",
    "rot_trans = cle.AffineTransform3D()\n",
    "#Scale\n",
    "new_dz = math.sin(deskewing_angle_in_degrees * math.pi / 180.0) * voxel_size_z_in_microns\n",
    "scale_factor_z = (new_dz / voxel_size_y_in_microns) * scale_factor\n",
    "rot_trans.scale(scale_x=scale_factor, scale_y=scale_factor, scale_z=scale_factor_z)\n",
    "#Rotate deskewing angle\n",
    "rot_trans.rotate(angle_in_degrees = 0 - deskewing_angle_in_degrees, axis=0)\n",
    "rot_trans.translate(translation[0],translation[1],translation[2])\n",
    "\n",
    "#inverse rotate translate matrix\n",
    "rot_trans_inv = rot_trans.copy().inverse()\n",
    "\n",
    "#inverse deskew\n",
    "deskew_inverse = deskew_transform.copy().inverse()\n"
   ]
  },
  {
   "cell_type": "code",
   "execution_count": 24,
   "metadata": {},
   "outputs": [
    {
     "name": "stdout",
     "output_type": "stream",
     "text": [
      "Deskewed image coordinates are: [70, 464, 21, 1]\n",
      "On raw image, coordinates are: [70.         76.         48.11107853  1.        ]\n",
      "On intermediate sheared image, reverse rot trans gives coordinates: [ 70.         420.83578736  48.11107853   1.        ]\n",
      "On intermediate sheared image, inverse shear gives coordinates: [ 70.         420.83578736  48.11107853   1.        ]\n",
      "Neighbour in deskew (orthogonal neighbours)\n",
      "orth_before [ 70.         420.83578736  46.91107853   1.        ]\n",
      "orth after [ 70.         420.83578736  49.31107853   1.        ]\n",
      "nearest_before [ 70.         420.69079516  46.91107853   1.        ]\n",
      "nearest after [ 70.         420.98077956  49.31107853   1.        ]\n",
      "Actual neighbours in the raw image\n",
      "orth_before  [70.         24.17784295 48.31830764  1.        ]\n",
      "orth after [70.         19.37784295 48.82057536  1.        ]\n",
      "Nearest before [70.         84.45599862 46.91107853  1.        ]\n",
      "Nearest after [70.         67.54400138 49.31107853  1.        ]\n"
     ]
    }
   ],
   "source": [
    "\n",
    "#Bilinear interpolation\n",
    "\n",
    "#Lets say we want to find neighbours for coordinate in deskewed image (xyz): 70, 464, 21\n",
    "#\n",
    "coord = [70,464,21,1]\n",
    "print(\"Deskewed image coordinates are:\", coord)\n",
    "\n",
    "#Apply inverse deskew to find corresponding coordinaes in original image\n",
    "deskew_inv_coord = deskew_transform.copy().inverse()._matrix@coord\n",
    "print(\"On raw image, coordinates are:\", deskew_inv_coord)\n",
    "\n",
    "#Apply shear transform to find coordinates in sheared image\n",
    "sheared_img_coord_rev = rot_trans_inv._matrix@coord\n",
    "print(\"On intermediate sheared image, reverse rot trans gives coordinates:\", sheared_img_coord_rev)\n",
    "\n",
    "#Apply shear transform to find coordinates in sheared image\n",
    "sheared_img_coord = shear_transform._matrix@deskew_inv_coord\n",
    "print(\"On intermediate sheared image, inverse shear gives coordinates:\", sheared_img_coord)\n",
    "\n",
    "#Get shear transform\n",
    "shear_transform =cle.AffineTransform3D()\n",
    "#Shear\n",
    "shear_factor = math.sin((90 - deskewing_angle_in_degrees) * math.pi / 180.0) * (voxel_size_z_in_microns/voxel_size_y_in_microns)\n",
    "shear_transform._matrix[1, 2] = shear_factor\n",
    "\n",
    "\n",
    "#Inverse shear transform\n",
    "shear_inverse = shear_transform.copy().inverse()\n",
    "\n",
    "\n",
    "\n",
    "#Find neighbours in the yz plane for the sheared image\n",
    "transform_yz1_orth= cle.AffineTransform3D()\n",
    "transform_yz2_orth= cle.AffineTransform3D()\n",
    "transform_yz3_nearest= cle.AffineTransform3D()\n",
    "transform_yz4_nearest= cle.AffineTransform3D()\n",
    "\n",
    "#Distance between neighbours in xyz\n",
    "z_step_orth = 1/voxel_size_z_in_microns\n",
    "y_step_orth = voxel_size_y_in_microns\n",
    "\n",
    "z_step_nearest = voxel_size_z_in_microns\n",
    "y_step_nearest = voxel_size_y_in_microns\n",
    "\n",
    "\n",
    "transform_yz1_orth.translate(translate_z=-z_step_orth)\n",
    "\n",
    "transform_yz2_orth.translate(translate_z=z_step_orth)\n",
    "\n",
    "transform_yz3_nearest.translate(translate_y=-y_step_nearest, translate_z=-z_step_nearest)\n",
    "\n",
    "transform_yz4_nearest.translate(translate_y=y_step_nearest, translate_z=z_step_nearest)\n",
    "\n",
    "\n",
    "yz1_orth_deskew = transform_yz1_orth._matrix@sheared_img_coord\n",
    "yz2_orth_deskew  = transform_yz2_orth._matrix@sheared_img_coord\n",
    "\n",
    "\n",
    "\n",
    "\n",
    "yz3_nearest_sheared = transform_yz3_nearest._matrix@sheared_img_coord\n",
    "yz4_nearest_sheared = transform_yz4_nearest._matrix@sheared_img_coord\n",
    "\n",
    "print(\"Neighbour in deskew (orthogonal neighbours)\")\n",
    "print(\"orth_before\", yz1_orth_deskew)\n",
    "print(\"orth after\",yz2_orth_deskew)\n",
    "print(\"nearest_before\", yz3_nearest_sheared)\n",
    "print(\"nearest after\",yz4_nearest_sheared)\n",
    "\n",
    "#get inverse shear transform\n",
    "deskew_inverse = deskew_transform.copy().inverse()\n",
    "\n",
    "\n",
    "yz1_orth = deskew_inverse._matrix@yz1_orth_deskew\n",
    "yz2_orth = deskew_inverse._matrix@yz2_orth_deskew\n",
    "yz3_nearest = shear_inverse._matrix@yz3_nearest_sheared\n",
    "yz4_nearest = shear_inverse._matrix@yz4_nearest_sheared\n",
    "\n",
    "\n",
    "print(\"Actual neighbours in the raw image\")\n",
    "\n",
    "print(\"orth_before \", yz1_orth)\n",
    "print(\"orth after\",yz2_orth)\n",
    "print(\"Nearest before\",yz3_nearest)\n",
    "print(\"Nearest after\",yz4_nearest)\n"
   ]
  },
  {
   "cell_type": "code",
   "execution_count": 28,
   "metadata": {},
   "outputs": [
    {
     "name": "stdout",
     "output_type": "stream",
     "text": [
      "356.3557775342113 357.3557775342113\n",
      "0.0 1.2\n"
     ]
    }
   ],
   "source": [
    "plane_before = (464 - (21/np.tan(deskewing_angle_in_degrees * math.pi / 180.0)))/voxel_size_z_in_microns\n",
    "plane_after= plane_before + 1\n",
    "print(plane_before, plane_after)\n",
    "l_before = (464 - (21/np.tan(deskewing_angle_in_degrees * math.pi / 180.0))) - (plane_before*voxel_size_z_in_microns)\n",
    "l_after = voxel_size_z_in_microns - l_before\n",
    "print(l_before, l_after)"
   ]
  },
  {
   "cell_type": "code",
   "execution_count": 32,
   "metadata": {},
   "outputs": [
    {
     "data": {
      "text/plain": [
       "928.0000000000001"
      ]
     },
     "execution_count": 32,
     "metadata": {},
     "output_type": "execute_result"
    }
   ],
   "source": [
    "z = 464\n",
    "za = z/(np.sin(deskewing_angle_in_degrees * math.pi / 180.0))\n",
    "virtual_pos_before = za + l_before*(np.sin(deskewing_angle_in_degrees * math.pi / 180.0))\n",
    "virtual_pos_before\n",
    "za"
   ]
  },
  {
   "cell_type": "code",
   "execution_count": 38,
   "metadata": {},
   "outputs": [
    {
     "data": {
      "text/plain": [
       "array([ 70.        , 390.83578736, 251.05255888,   1.        ])"
      ]
     },
     "execution_count": 38,
     "metadata": {},
     "output_type": "execute_result"
    }
   ],
   "source": [
    "coord = [70,464,22,1]\n",
    "\n",
    "rotate_tr = cle.AffineTransform3D()\n",
    "\n",
    "rotate_tr.rotate(angle_in_degrees = deskewing_angle_in_degrees, axis=0)\n",
    "\n",
    "rotate_tr._matrix@coord"
   ]
  },
  {
   "cell_type": "code",
   "execution_count": 67,
   "metadata": {},
   "outputs": [
    {
     "name": "stdout",
     "output_type": "stream",
     "text": [
      "Deskewed image coordinates are: [70, 464, 21, 1]\n",
      "On raw image, coordinates are: [70.         76.         48.11107853  1.        ]\n",
      "On intermediate sheared image, reverse rot trans gives coordinates: [ 70.         420.83578736  48.11107853   1.        ]\n",
      "On intermediate sheared image, inverse shear gives coordinates: [ 70.         420.83578736  48.11107853   1.        ]\n",
      "Neighbour in deskew (orthogonal neighbours)\n",
      "orth_before [ 70.  464.   22.2   1. ]\n",
      "orth after [ 70.  464.   19.8   1. ]\n",
      "nearest_before [ 70.         464.69282032  22.2          1.        ]\n",
      "nearest after [ 70.         463.30717968  19.8          1.        ]\n",
      "Actual neighbours in the raw image\n",
      "orth_before  [70.         73.6        48.36221238  1.        ]\n",
      "orth after [70.         78.4        47.85994467  1.        ]\n",
      "Nearest before [70.         73.6        48.44592367  1.        ]\n",
      "Nearest after [70.         78.4        47.77623338  1.        ]\n"
     ]
    }
   ],
   "source": [
    "#Bilinear interpolation\n",
    "\n",
    "#Lets say we want to find neighbours for coordinate in deskewed image (xyz): 70, 464, 21\n",
    "#\n",
    "coord = [70,464,21,1]\n",
    "print(\"Deskewed image coordinates are:\", coord)\n",
    "\n",
    "#Apply inverse deskew to find corresponding coordinaes in original image\n",
    "deskew_inv_coord = deskew_transform.copy().inverse()._matrix@coord\n",
    "print(\"On raw image, coordinates are:\", deskew_inv_coord)\n",
    "\n",
    "#Apply shear transform to find coordinates in sheared image\n",
    "sheared_img_coord_rev = rot_trans_inv._matrix@coord\n",
    "print(\"On intermediate sheared image, reverse rot trans gives coordinates:\", sheared_img_coord_rev)\n",
    "\n",
    "#Apply shear transform to find coordinates in sheared image\n",
    "sheared_img_coord = shear_transform._matrix@deskew_inv_coord\n",
    "print(\"On intermediate sheared image, inverse shear gives coordinates:\", sheared_img_coord)\n",
    "\n",
    "#Get shear transform\n",
    "shear_transform =cle.AffineTransform3D()\n",
    "#Shear\n",
    "shear_factor = math.sin((90 - deskewing_angle_in_degrees) * math.pi / 180.0) * (voxel_size_z_in_microns/voxel_size_y_in_microns)\n",
    "shear_transform._matrix[1, 2] = shear_factor\n",
    "\n",
    "\n",
    "#Inverse shear transform\n",
    "shear_inverse = shear_transform.copy().inverse()\n",
    "\n",
    "\n",
    "\n",
    "#Find neighbours in the yz plane for the sheared image\n",
    "transform_yz1_orth= cle.AffineTransform3D()\n",
    "transform_yz2_orth= cle.AffineTransform3D()\n",
    "transform_yz3_nearest= cle.AffineTransform3D()\n",
    "transform_yz4_nearest= cle.AffineTransform3D()\n",
    "\n",
    "#Distance between neighbours in xyz\n",
    "z_step_orth = 1/voxel_size_z_in_microns\n",
    "y_step_orth = voxel_size_y_in_microns\n",
    "\n",
    "z_step_nearest = 1\n",
    "y_step_nearest = voxel_size_z_in_microns*np.tan(deskewing_angle_in_degrees * math.pi / 180.0)\n",
    "\n",
    "\n",
    "transform_yz1_orth.translate(translate_z=z_step_orth)\n",
    "\n",
    "transform_yz2_orth.translate(translate_z=-z_step_orth)\n",
    "\n",
    "transform_yz3_nearest.translate(translate_y=y_step_nearest, translate_z=z_step_nearest)\n",
    "\n",
    "transform_yz4_nearest.translate(translate_y=-y_step_nearest, translate_z=-z_step_nearest)\n",
    "\n",
    "\n",
    "yz1_orth_deskew = transform_yz1_orth._matrix@coord\n",
    "yz2_orth_deskew  = transform_yz2_orth._matrix@coord\n",
    "\n",
    "\n",
    "\n",
    "\n",
    "yz3_nearest_deskew = transform_yz3_nearest._matrix@coord\n",
    "yz4_nearest_deskew = transform_yz4_nearest._matrix@coord\n",
    "\n",
    "print(\"Neighbour in deskew (orthogonal neighbours)\")\n",
    "print(\"orth_before\", yz1_orth_deskew)\n",
    "print(\"orth after\",yz2_orth_deskew)\n",
    "print(\"nearest_before\", yz3_nearest_deskew)\n",
    "print(\"nearest after\",yz4_nearest_deskew)\n",
    "\n",
    "#get inverse shear transform\n",
    "deskew_inverse = deskew_transform.copy().inverse()\n",
    "\n",
    "\n",
    "yz1_orth = deskew_inverse._matrix@yz1_orth_deskew\n",
    "yz2_orth = deskew_inverse._matrix@yz2_orth_deskew\n",
    "yz3_nearest = deskew_inverse._matrix@yz3_nearest_deskew\n",
    "yz4_nearest = deskew_inverse._matrix@yz4_nearest_deskew\n",
    "\n",
    "\n",
    "print(\"Actual neighbours in the raw image\")\n",
    "\n",
    "print(\"orth_before \", yz1_orth)\n",
    "print(\"orth after\",yz2_orth)\n",
    "print(\"Nearest before\",yz3_nearest)\n",
    "print(\"Nearest after\",yz4_nearest)"
   ]
  },
  {
   "cell_type": "code",
   "execution_count": 58,
   "metadata": {},
   "outputs": [
    {
     "data": {
      "text/plain": [
       "0.48112522432468807"
      ]
     },
     "execution_count": 58,
     "metadata": {},
     "output_type": "execute_result"
    }
   ],
   "source": [
    "1/(voxel_size_z_in_microns/np.tan(deskewing_angle_in_degrees * math.pi / 180.0))"
   ]
  },
  {
   "cell_type": "code",
   "execution_count": 61,
   "metadata": {},
   "outputs": [
    {
     "data": {
      "text/plain": [
       "384.9346158590978"
      ]
     },
     "execution_count": 61,
     "metadata": {},
     "output_type": "execute_result"
    }
   ],
   "source": [
    "(464 - voxel_size_z_in_microns/np.tan(deskewing_angle_in_degrees * math.pi / 180.0))/voxel_size_z_in_microns"
   ]
  },
  {
   "cell_type": "markdown",
   "metadata": {},
   "source": [
    "Have to determine how the neighbours are defined!\n",
    "\n",
    "Currently, using translations in y and z to get neighbours\n",
    "\n",
    "### Trilinear interpolation?\n",
    "Get neighbours in yz plane\n",
    "* (y+1,z-1)\n",
    "* (y-1,z-1)\n",
    "* (y-1,z+1)\n",
    "* (y+1,z+1)\n",
    "\n",
    "Get neighbours in xy plane\n",
    "* (x-1,y+1)\n",
    "* (x-1,y-1)\n",
    "* (x+1,y-1)\n",
    "* (x+1,y+1)"
   ]
  },
  {
   "cell_type": "code",
   "execution_count": 7,
   "metadata": {},
   "outputs": [
    {
     "name": "stdout",
     "output_type": "stream",
     "text": [
      "Deskewed image coordinates are: [70, 464, 21, 1]\n",
      "On raw image, coordinates are: [70.         76.         48.11107853  1.        ]\n",
      "\\Deskewed image neighbour coordinates plane 1\n",
      "bottom left [ 69.8550078 464.1449922  19.8         1.       ]\n",
      "top left [ 69.8550078 463.8550078  19.8         1.       ]\n",
      "top right [ 70.1449922 463.8550078  19.8         1.       ]\n",
      "bottom right [ 70.1449922 464.1449922  19.8         1.       ]\n",
      "Deskewed image neighbour coordinates plane 2\n",
      "bottom left [ 69.8550078 464.1449922  22.2         1.       ]\n",
      "top left [ 69.8550078 463.8550078  22.2         1.       ]\n",
      "top right [ 70.1449922 463.8550078  22.2         1.       ]\n",
      "bottom right [ 70.1449922 464.1449922  22.2         1.       ]\n",
      "\n",
      "Actual neighbours in the raw image plane 1\n",
      "bottom left [69.8550078  78.4        47.87746362  1.        ]\n",
      "top left [69.8550078  78.4        47.84242572  1.        ]\n",
      "top right [70.1449922  78.4        47.84242572  1.        ]\n",
      "bottom right [70.1449922  78.4        47.87746362  1.        ]\n",
      "Actual neighbours in the raw image plane 2\n",
      "bottom left [69.8550078  73.6        48.37973133  1.        ]\n",
      "top left [69.8550078  73.6        48.34469343  1.        ]\n",
      "top right [70.1449922  73.6        48.34469343  1.        ]\n",
      "bottom right [70.1449922  73.6        48.37973133  1.        ]\n"
     ]
    }
   ],
   "source": [
    "#Lets say we want to find neighbours for coordinate in deskewed image (xyz): 70, 464, 21\n",
    "#\n",
    "coord = [70,464,21,1]\n",
    "print(\"Deskewed image coordinates are:\", coord)\n",
    "\n",
    "#Apply inverse deskew to find corresponding coordinaes in original image\n",
    "deskew_inv_coord = deskew_transform.copy().inverse()._matrix@coord\n",
    "print(\"On raw image, coordinates are:\", deskew_inv_coord)\n",
    "\n",
    "\n",
    "#find neighbours using translation in xyz coordinates\n",
    "\n",
    "\n",
    "transform_xyz1= cle.AffineTransform3D()\n",
    "transform_xyz2= cle.AffineTransform3D()\n",
    "transform_xyz3= cle.AffineTransform3D()\n",
    "transform_xyz4= cle.AffineTransform3D()\n",
    "\n",
    "\n",
    "transform_xyz5= cle.AffineTransform3D()\n",
    "transform_xyz6= cle.AffineTransform3D()\n",
    "transform_xyz7= cle.AffineTransform3D()\n",
    "transform_xyz8= cle.AffineTransform3D()\n",
    "\n",
    "\n",
    "#Distance between neighbours in xyz\n",
    "z_step = voxel_size_z_in_microns\n",
    "y_step = voxel_size_y_in_microns\n",
    "x_step = voxel_size_x_in_microns\n",
    "\n",
    "\n",
    "transform_xyz1.translate(translate_x=-x_step,translate_y=y_step,translate_z=-z_step)\n",
    "transform_xyz2.translate(translate_x=-x_step,translate_y=-y_step,translate_z=-z_step)\n",
    "transform_xyz3.translate(translate_x=x_step,translate_y=-y_step,translate_z=-z_step)\n",
    "transform_xyz4.translate(translate_x=x_step,translate_y=y_step,translate_z=-z_step)\n",
    "\n",
    "transform_xyz5.translate(translate_x=-x_step,translate_y=y_step,translate_z=z_step)\n",
    "transform_xyz6.translate(translate_x=-x_step,translate_y=-y_step,translate_z=z_step)\n",
    "transform_xyz7.translate(translate_x=x_step,translate_y=-y_step,translate_z=z_step)\n",
    "transform_xyz8.translate(translate_x=x_step,translate_y=y_step,translate_z=z_step)\n",
    "\n",
    "\n",
    "xyz1_deskewed = transform_xyz1._matrix@coord\n",
    "xyz2_deskewed = transform_xyz2._matrix@coord\n",
    "\n",
    "xyz3_deskewed = transform_xyz3._matrix@coord\n",
    "xyz4_deskewed = transform_xyz4._matrix@coord\n",
    "\n",
    "\n",
    "xyz5_deskewed = transform_xyz5._matrix@coord\n",
    "xyz6_deskewed = transform_xyz6._matrix@coord\n",
    "\n",
    "xyz7_deskewed = transform_xyz7._matrix@coord\n",
    "xyz8_deskewed = transform_xyz8._matrix@coord\n",
    "\n",
    "\n",
    "print(\"\\Deskewed image neighbour coordinates plane 1\")\n",
    "print(\"bottom left\", xyz1_deskewed)\n",
    "print(\"top left\",xyz2_deskewed)\n",
    "print(\"top right\",xyz3_deskewed)\n",
    "print(\"bottom right\",xyz4_deskewed)\n",
    "\n",
    "\n",
    "\n",
    "print(\"Deskewed image neighbour coordinates plane 2\")\n",
    "print(\"bottom left\", xyz5_deskewed)\n",
    "print(\"top left\",xyz6_deskewed)\n",
    "print(\"top right\",xyz7_deskewed)\n",
    "print(\"bottom right\",xyz8_deskewed)\n",
    "\n",
    "\n",
    "#Apply inverse deskew transform to get the neighbouring coordinates in original image\n",
    "xyz1 = deskew_inverse._matrix@xyz1_deskewed\n",
    "xyz2 = deskew_inverse._matrix@xyz2_deskewed\n",
    "xyz3 = deskew_inverse._matrix@xyz3_deskewed\n",
    "xyz4 = deskew_inverse._matrix@xyz4_deskewed\n",
    "\n",
    "\n",
    "xyz5 = deskew_inverse._matrix@xyz5_deskewed\n",
    "xyz6 = deskew_inverse._matrix@xyz6_deskewed\n",
    "xyz7 = deskew_inverse._matrix@xyz7_deskewed\n",
    "xyz8 = deskew_inverse._matrix@xyz8_deskewed\n",
    "\n",
    "print(\"\\nActual neighbours in the raw image plane 1\")\n",
    "\n",
    "print(\"bottom left\", xyz1)\n",
    "print(\"top left\",xyz2)\n",
    "print(\"top right\",xyz3)\n",
    "print(\"bottom right\",xyz4)\n",
    "\n",
    "print(\"Actual neighbours in the raw image plane 2\")\n",
    "\n",
    "print(\"bottom left\", xyz5)\n",
    "print(\"top left\",xyz6)\n",
    "print(\"top right\",xyz7)\n",
    "print(\"bottom right\",xyz8)\n",
    "\n",
    "\n"
   ]
  },
  {
   "cell_type": "code",
   "execution_count": 36,
   "metadata": {},
   "outputs": [
    {
     "name": "stdout",
     "output_type": "stream",
     "text": [
      "Deskewed image coordinates are: [70, 464, 21, 1]\n",
      "On raw image, coordinates are: [70.         76.         48.11107853  1.        ]\n",
      "On intermediate sheared image, coordinates are: [ 70.         420.83578736  48.11107853   1.        ]\n",
      "\n",
      "Sheared image neighbour coordinates plane 1\n",
      "bottom left [ 69.8550078  420.98077956  46.91107853   1.        ]\n",
      "top left [ 69.8550078  420.69079516  46.91107853   1.        ]\n",
      "top right [ 70.1449922  420.69079516  46.91107853   1.        ]\n",
      "bottom right [ 70.1449922  420.98077956  46.91107853   1.        ]\n",
      "Sheared image neighbour coordinates plane 2\n",
      "bottom left [ 69.8550078  420.98077956  49.31107853   1.        ]\n",
      "top left [ 69.8550078  420.69079516  49.31107853   1.        ]\n",
      "top right [ 70.1449922  420.69079516  49.31107853   1.        ]\n",
      "bottom right [ 70.1449922  420.98077956  49.31107853   1.        ]\n",
      "\n",
      "Actual neighbours in the raw image plane 1\n",
      "bottom left [69.8550078  84.74598302 46.91107853  1.        ]\n",
      "top left [69.8550078  84.45599862 46.91107853  1.        ]\n",
      "top right [70.1449922  84.45599862 46.91107853  1.        ]\n",
      "bottom right [70.1449922  84.74598302 46.91107853  1.        ]\n",
      "Actual neighbours in the raw image plane 2\n",
      "bottom left [69.8550078  67.54400138 49.31107853  1.        ]\n",
      "top left [69.8550078  67.25401698 49.31107853  1.        ]\n",
      "top right [70.1449922  67.25401698 49.31107853  1.        ]\n",
      "bottom right [70.1449922  67.54400138 49.31107853  1.        ]\n"
     ]
    }
   ],
   "source": [
    "#Lets say we want to find neighbours for coordinate in deskewed image (xyz): 70, 464, 21\n",
    "#\n",
    "coord = [70,464,21,1]\n",
    "print(\"Deskewed image coordinates are:\", coord)\n",
    "\n",
    "#Apply inverse deskew to find corresponding coordinaes in original image\n",
    "deskew_inv_coord = deskew_transform.copy().inverse()._matrix@coord\n",
    "print(\"On raw image, coordinates are:\", deskew_inv_coord)\n",
    "\n",
    "#Apply shear transform to find coordinates in sheared image\n",
    "sheared_img_coord = shear_transform._matrix@deskew_inv_coord\n",
    "print(\"On intermediate sheared image, coordinates are:\", sheared_img_coord)\n",
    "\n",
    "\n",
    "#get 8 coordinates\n",
    "\n",
    "\n",
    "\n",
    "#Find neighbours in the yz plane for the sheared image\n",
    "#Distance between neighbours in xyz\n",
    "z_step = voxel_size_z_in_microns\n",
    "y_step = voxel_size_y_in_microns\n",
    "x_step = voxel_size_x_in_microns\n",
    "\n",
    "transform_xyz1= cle.AffineTransform3D()\n",
    "transform_xyz2= cle.AffineTransform3D()\n",
    "transform_xyz3= cle.AffineTransform3D()\n",
    "transform_xyz4= cle.AffineTransform3D()\n",
    "\n",
    "\n",
    "transform_xyz5= cle.AffineTransform3D()\n",
    "transform_xyz6= cle.AffineTransform3D()\n",
    "transform_xyz7= cle.AffineTransform3D()\n",
    "transform_xyz8= cle.AffineTransform3D()\n",
    "\n",
    "\n",
    "transform_xyz1.translate(translate_x=-x_step,translate_y=y_step,translate_z=-z_step)\n",
    "transform_xyz2.translate(translate_x=-x_step,translate_y=-y_step,translate_z=-z_step)\n",
    "transform_xyz3.translate(translate_x=x_step,translate_y=-y_step,translate_z=-z_step)\n",
    "transform_xyz4.translate(translate_x=x_step,translate_y=y_step,translate_z=-z_step)\n",
    "\n",
    "transform_xyz5.translate(translate_x=-x_step,translate_y=y_step,translate_z=z_step)\n",
    "transform_xyz6.translate(translate_x=-x_step,translate_y=-y_step,translate_z=z_step)\n",
    "transform_xyz7.translate(translate_x=x_step,translate_y=-y_step,translate_z=z_step)\n",
    "transform_xyz8.translate(translate_x=x_step,translate_y=y_step,translate_z=z_step)\n",
    "\n",
    "orthogonal_plane2 = cle.AffineTransform3D()\n",
    "transform_xyz8.translate(translate_x=x_step,translate_y=0,translate_z=z_step)\n",
    "\n",
    "\n",
    "xyz1_sheared = transform_xyz1._matrix@sheared_img_coord\n",
    "xyz2_sheared = transform_xyz2._matrix@sheared_img_coord\n",
    "\n",
    "xyz3_sheared = transform_xyz3._matrix@sheared_img_coord\n",
    "xyz4_sheared = transform_xyz4._matrix@sheared_img_coord\n",
    "\n",
    "\n",
    "xyz5_sheared = transform_xyz5._matrix@sheared_img_coord\n",
    "xyz6_sheared = transform_xyz6._matrix@sheared_img_coord\n",
    "\n",
    "xyz7_sheared = transform_xyz7._matrix@sheared_img_coord\n",
    "xyz8_sheared = transform_xyz8._matrix@sheared_img_coord\n",
    "\n",
    "\n",
    "print(\"\\nSheared image neighbour coordinates plane 1\")\n",
    "print(\"bottom left\", xyz1_sheared)\n",
    "print(\"top left\",xyz2_sheared)\n",
    "print(\"top right\",xyz3_sheared)\n",
    "print(\"bottom right\",xyz4_sheared)\n",
    "\n",
    "\n",
    "\n",
    "print(\"Sheared image neighbour coordinates plane 2\")\n",
    "print(\"bottom left\", xyz5_sheared)\n",
    "print(\"top left\",xyz6_sheared)\n",
    "print(\"top right\",xyz7_sheared)\n",
    "print(\"bottom right\",xyz8_sheared)\n",
    "\n",
    "\n",
    "#get inverse shear transform\n",
    "shear_transform_inverse = shear_transform.copy().inverse()\n",
    "\n",
    "\n",
    "xyz1 = shear_transform_inverse._matrix@xyz1_sheared\n",
    "xyz2 = shear_transform_inverse._matrix@xyz2_sheared\n",
    "xyz3 = shear_transform_inverse._matrix@xyz3_sheared\n",
    "xyz4 = shear_transform_inverse._matrix@xyz4_sheared\n",
    "\n",
    "\n",
    "xyz5 = shear_transform_inverse._matrix@xyz5_sheared\n",
    "xyz6 = shear_transform_inverse._matrix@xyz6_sheared\n",
    "xyz7 = shear_transform_inverse._matrix@xyz7_sheared\n",
    "xyz8 = shear_transform_inverse._matrix@xyz8_sheared\n",
    "\n",
    "print(\"\\nActual neighbours in the raw image plane 1\")\n",
    "\n",
    "print(\"bottom left\", xyz1)\n",
    "print(\"top left\",xyz2)\n",
    "print(\"top right\",xyz3)\n",
    "print(\"bottom right\",xyz4)\n",
    "\n",
    "print(\"Actual neighbours in the raw image plane 2\")\n",
    "\n",
    "print(\"bottom left\", xyz5)\n",
    "print(\"top left\",xyz6)\n",
    "print(\"top right\",xyz7)\n",
    "print(\"bottom right\",xyz8)\n",
    "\n"
   ]
  },
  {
   "cell_type": "code",
   "execution_count": 42,
   "metadata": {},
   "outputs": [
    {
     "name": "stdout",
     "output_type": "stream",
     "text": [
      "45.0000000000028\n"
     ]
    },
    {
     "data": {
      "text/plain": [
       "89.99999999999439"
      ]
     },
     "execution_count": 42,
     "metadata": {},
     "output_type": "execute_result"
    }
   ],
   "source": [
    "\n",
    "import numpy as np\n",
    "import math\n",
    "\n",
    "def angle_between_three_points(pointA, pointB, pointC):\n",
    "    \n",
    "    x1x2s = math.pow((pointA[0] - pointB[0]),2)\n",
    "    x1x3s = math.pow((pointA[0] - pointC[0]),2)\n",
    "    x2x3s = math.pow((pointB[0] - pointC[0]),2)\n",
    "    \n",
    "    y1y2s = math.pow((pointA[1] - pointB[1]),2)\n",
    "    y1y3s = math.pow((pointA[1] - pointC[1]),2)\n",
    "    y2y3s = math.pow((pointB[1] - pointC[1]),2)\n",
    "\n",
    "    cosine_angle = np.arccos((x1x2s + y1y2s + x2x3s + y2y3s - x1x3s - y1y3s)/(2*math.sqrt(x1x2s + y1y2s)*math.sqrt(x2x3s + y2y3s)))\n",
    "\n",
    "    return np.degrees(cosine_angle)\n",
    "\n",
    "print(angle_between_three_points(sheared_img_coord,xyz7_sheared,xyz8_sheared))\n",
    "\n",
    "#origin\n",
    "\n",
    "angle_between_three_points(xyz8_sheared,sheared_img_coord,xyz7_sheared)"
   ]
  },
  {
   "cell_type": "code",
   "execution_count": 27,
   "metadata": {},
   "outputs": [
    {
     "data": {
      "text/plain": [
       "1.2"
      ]
     },
     "execution_count": 27,
     "metadata": {},
     "output_type": "execute_result"
    }
   ],
   "source": [
    "voxel_size_z_in_microns"
   ]
  },
  {
   "cell_type": "code",
   "execution_count": 24,
   "metadata": {},
   "outputs": [
    {
     "data": {
      "text/plain": [
       "44.96051932817026"
      ]
     },
     "execution_count": 24,
     "metadata": {},
     "output_type": "execute_result"
    }
   ],
   "source": [
    "import math \n",
    "math.degrees(math.atan(420.54580296/421.12577176))"
   ]
  },
  {
   "cell_type": "code",
   "execution_count": 20,
   "metadata": {},
   "outputs": [
    {
     "data": {
      "text/plain": [
       "373.3020590991896"
      ]
     },
     "execution_count": 20,
     "metadata": {},
     "output_type": "execute_result"
    }
   ],
   "source": [
    "virtual_plane = 420.83578736 - (48.11107853 - math.tan(deskewing_angle_in_degrees * math.pi / 180.0))\n",
    "virtual_plane"
   ]
  },
  {
   "cell_type": "code",
   "execution_count": 13,
   "metadata": {},
   "outputs": [
    {
     "name": "stdout",
     "output_type": "stream",
     "text": [
      "Deskewed image coordinates are: [70, 464, 21, 1]\n",
      "On raw image, coordinates are: [70.         76.         48.11107853  1.        ]\n",
      "On shearedimage, invert rotate coordinates are: [ 70.         420.83578736  48.11107853   1.        ]\n",
      "On intermediate sheared image, coordinates are: [ 70.         420.83578736  48.11107853   1.        ]\n"
     ]
    }
   ],
   "source": [
    "#Testint the affine matrix steps and if the coordinates match\n",
    "#Creating affine matrix for the rotation and translation step\n",
    "trans_rotate =cle.AffineTransform3D()\n",
    "#Scale\n",
    "new_dz = math.sin(deskewing_angle_in_degrees * math.pi / 180.0) * voxel_size_z_in_microns\n",
    "scale_factor_z = (new_dz / voxel_size_y_in_microns) * scale_factor\n",
    "trans_rotate.scale(scale_x=scale_factor, scale_y=scale_factor, scale_z=scale_factor_z)\n",
    "#Rotate deskewing angle\n",
    "trans_rotate.rotate(angle_in_degrees = 0 - deskewing_angle_in_degrees, axis=0)\n",
    "trans_rotate.translate(translate_z=59)\n",
    "print(trans_rotate._matrix)\n",
    "\n",
    "trans_rotate_inverse = trans_rotate.copy().inverse()\n",
    "trans_rotate_inverse._matrix\n",
    "\n",
    "coord = [70,464,21,1]\n",
    "print(\"Deskewed image coordinates are:\", coord)\n",
    "\n",
    "#Apply inverse deskew to find corresponding coordinaes in original image\n",
    "deskew_inv_coord = deskew_transform.copy().inverse()._matrix@coord\n",
    "print(\"On raw image, coordinates are:\", deskew_inv_coord)\n",
    "\n",
    "#inverse rotate\n",
    "#Apply inverse deskew to find corresponding coordinaes in original image\n",
    "rotate_inv_coord =  trans_rotate_inverse._matrix@coord\n",
    "print(\"On sheared image, invert rotate coordinates are:\", rotate_inv_coord)\n",
    "\n",
    "\n",
    "#Apply shear transform to find coordinates in sheared image\n",
    "sheared_img_coord = shear_transform._matrix@deskew_inv_coord\n",
    "print(\"On intermediate sheared image, coordinates are:\", sheared_img_coord)\n"
   ]
  },
  {
   "cell_type": "code",
   "execution_count": 19,
   "metadata": {},
   "outputs": [
    {
     "name": "stdout",
     "output_type": "stream",
     "text": [
      "Deskewed image coordinates are: [70, 464, 21, 1]\n",
      "On raw image, coordinates are: [70.         76.         48.11107853  1.        ]\n",
      "Deskew image neighbour coordinates (actual neighbours)\n",
      "top left  [ 70.        463.8550078  19.8         1.       ]\n",
      "top right [ 70.        463.8550078  21.          1.       ]\n",
      "bottom left [ 70.        464.1449922  22.2         1.       ]\n",
      "bottom right [ 70.        464.1449922  21.          1.       ]\n",
      "Actual neighbours in the raw image\n",
      "top left  [70.         78.4        47.84242572  1.        ]\n",
      "top right [70.         76.         48.09355958  1.        ]\n",
      "bottom left [70.         73.6        48.37973133  1.        ]\n",
      "bottom right [70.         76.         48.12859747  1.        ]\n"
     ]
    }
   ],
   "source": [
    "\n",
    "\n",
    "#Bilinear interpolation\n",
    "\n",
    "#Lets say we want to find neighbours for coordinate in deskewed image (xyz): 70, 464, 21\n",
    "#\n",
    "coord = [70,464,21,1]\n",
    "print(\"Deskewed image coordinates are:\", coord)\n",
    "\n",
    "#Apply inverse deskew to find corresponding coordinaes in original image\n",
    "deskew_inv_coord = deskew_transform.copy().inverse()._matrix@coord\n",
    "print(\"On raw image, coordinates are:\", deskew_inv_coord)\n",
    "\n",
    "\n",
    "\n",
    "#Find neighbours in the yz plane for the sheared image\n",
    "transform_yz1= cle.AffineTransform3D()\n",
    "transform_yz2= cle.AffineTransform3D()\n",
    "transform_yz3= cle.AffineTransform3D()\n",
    "transform_yz4= cle.AffineTransform3D()\n",
    "\n",
    "#Distance between neighbours in xyz\n",
    "z_step = voxel_size_z_in_microns\n",
    "y_step = voxel_size_y_in_microns\n",
    "\n",
    "\n",
    "\n",
    "\n",
    "transform_yz1.translate(translate_y= -y_step,translate_z=-z_step)\n",
    "\n",
    "#orth1\n",
    "transform_yz2.translate(translate_y=-y_step)\n",
    "\n",
    "transform_yz3.translate(translate_y=y_step,translate_z=z_step)\n",
    "\n",
    "#orth2\n",
    "transform_yz4.translate(translate_y=y_step)\n",
    "\n",
    "\n",
    "yz1_skew = transform_yz1._matrix@coord\n",
    "yz2_skew = transform_yz2._matrix@coord\n",
    "\n",
    "yz3_skew = transform_yz3._matrix@coord\n",
    "yz4_skew = transform_yz4._matrix@coord\n",
    "\n",
    "print(\"Deskew image neighbour coordinates (actual neighbours)\")\n",
    "print(\"top left \", yz1_skew)\n",
    "print(\"top right\",yz2_skew)\n",
    "print(\"bottom left\",yz3_skew)\n",
    "print(\"bottom right\",yz4_skew)\n",
    "\n",
    "#get inverse shear transform\n",
    "deskew_inverse = deskew_transform.copy().inverse()\n",
    "\n",
    "\n",
    "yz1 = deskew_inverse._matrix@yz1_skew\n",
    "yz2 = deskew_inverse._matrix@yz2_skew\n",
    "yz3 = deskew_inverse._matrix@yz3_skew\n",
    "yz4 = deskew_inverse._matrix@yz4_skew\n",
    "\n",
    "\n",
    "print(\"Actual neighbours in the raw image\")\n",
    "\n",
    "print(\"top left \", yz1)\n",
    "print(\"top right\",yz2)\n",
    "print(\"bottom left\",yz3)\n",
    "print(\"bottom right\",yz4)\n"
   ]
  },
  {
   "cell_type": "code",
   "execution_count": 46,
   "metadata": {},
   "outputs": [
    {
     "name": "stdout",
     "output_type": "stream",
     "text": [
      "Deskewed image coordinates are: [70, 464, 21, 1]\n",
      "On raw image, coordinates are: [70.         76.         48.11107853  1.        ]\n",
      "On intermediate sheared image, coordinates are: [ 70.         420.83578736  48.11107853   1.        ]\n",
      "Neighbour in deskew (orthogonal neighbours)\n",
      "orth_before [ 70.        464.         20.8550078   1.       ]\n",
      "orth after [ 70.        464.         21.1449922   1.       ]\n",
      "nearest_before [ 70.         420.83578736  46.91107853   1.        ]\n",
      "nearest after [ 70.         420.83578736  49.31107853   1.        ]\n",
      "Actual neighbours in the raw image\n",
      "orth_before  [70.         76.2899844  48.08073482  1.        ]\n",
      "orth after [70.         75.7100156  48.14142223  1.        ]\n",
      "Nearest before [70.         84.60099082 46.91107853  1.        ]\n",
      "Nearest after [70.         67.39900918 49.31107853  1.        ]\n"
     ]
    }
   ],
   "source": [
    "\n",
    "#Bilinear interpolation\n",
    "\n",
    "#Lets say we want to find neighbours for coordinate in deskewed image (xyz): 70, 464, 21\n",
    "#\n",
    "coord = [70,464,21,1]\n",
    "print(\"Deskewed image coordinates are:\", coord)\n",
    "\n",
    "#Apply inverse deskew to find corresponding coordinaes in original image\n",
    "deskew_inv_coord = deskew_transform.copy().inverse()._matrix@coord\n",
    "print(\"On raw image, coordinates are:\", deskew_inv_coord)\n",
    "\n",
    "#Apply shear transform to find coordinates in sheared image\n",
    "sheared_img_coord = shear_transform._matrix@deskew_inv_coord\n",
    "print(\"On intermediate sheared image, coordinates are:\", sheared_img_coord)\n",
    "\n",
    "#Get shear transform\n",
    "shear_transform =cle.AffineTransform3D()\n",
    "#Shear\n",
    "shear_factor = math.sin((90 - deskewing_angle_in_degrees) * math.pi / 180.0) * (voxel_size_z_in_microns/voxel_size_y_in_microns)\n",
    "shear_transform._matrix[1, 2] = shear_factor\n",
    "\n",
    "\n",
    "#Inverse shear transform\n",
    "shear_inverse = shear_transform.copy().inverse()\n",
    "\n",
    "\n",
    "\n",
    "#Find neighbours in the yz plane for the sheared image\n",
    "transform_yz1_orth= cle.AffineTransform3D()\n",
    "transform_yz2_orth= cle.AffineTransform3D()\n",
    "transform_yz3_nearest= cle.AffineTransform3D()\n",
    "transform_yz4_nearest= cle.AffineTransform3D()\n",
    "\n",
    "#Distance between neighbours in xyz\n",
    "z_step_orth = voxel_size_y_in_microns\n",
    "y_step_orth = voxel_size_y_in_microns\n",
    "\n",
    "z_step_nearest = voxel_size_z_in_microns\n",
    "y_step_nearest = voxel_size_y_in_microns\n",
    "\n",
    "\n",
    "transform_yz1_orth.translate(translate_z=-z_step_orth)\n",
    "\n",
    "transform_yz2_orth.translate(translate_z=z_step_orth)\n",
    "\n",
    "transform_yz3_nearest.translate(translate_z=-z_step_nearest)\n",
    "\n",
    "transform_yz4_nearest.translate(translate_z=z_step_nearest)\n",
    "\n",
    "\n",
    "yz1_orth_deskew = transform_yz1_orth._matrix@coord\n",
    "yz2_orth_deskew  = transform_yz2_orth._matrix@coord\n",
    "\n",
    "\n",
    "\n",
    "\n",
    "yz3_nearest_sheared = transform_yz3_nearest._matrix@sheared_img_coord\n",
    "yz4_nearest_sheared = transform_yz4_nearest._matrix@sheared_img_coord\n",
    "\n",
    "print(\"Neighbour in deskew (orthogonal neighbours)\")\n",
    "print(\"orth_before\", yz1_orth_deskew)\n",
    "print(\"orth after\",yz2_orth_deskew)\n",
    "print(\"nearest_before\", yz3_nearest_sheared)\n",
    "print(\"nearest after\",yz4_nearest_sheared)\n",
    "\n",
    "#get inverse shear transform\n",
    "deskew_inverse = deskew_transform.copy().inverse()\n",
    "\n",
    "\n",
    "yz1_orth = deskew_inverse._matrix@yz1_orth_deskew\n",
    "yz2_orth = deskew_inverse._matrix@yz2_orth_deskew\n",
    "yz3_nearest = shear_inverse._matrix@yz3_nearest_sheared\n",
    "yz4_nearest = shear_inverse._matrix@yz4_nearest_sheared\n",
    "\n",
    "\n",
    "print(\"Actual neighbours in the raw image\")\n",
    "\n",
    "print(\"orth_before \", yz1_orth)\n",
    "print(\"orth after\",yz2_orth)\n",
    "print(\"Nearest before\",yz3_nearest)\n",
    "print(\"Nearest after\",yz4_nearest)\n"
   ]
  },
  {
   "cell_type": "code",
   "execution_count": null,
   "metadata": {},
   "outputs": [],
   "source": [
    "# get the deskew coordinates and find orthogonal coordinates\n",
    "#get deskew coord, translate by z+1 and z-1\n",
    "#deskew inverse to get orthogonal coord\n",
    "\n",
    "# get the raw coord\n",
    "#translate by z+1 and z-1 to get nearest neighbours in raw plane"
   ]
  }
 ],
 "metadata": {
  "kernelspec": {
   "display_name": "Python 3.9.13 ('pycles_test')",
   "language": "python",
   "name": "python3"
  },
  "language_info": {
   "codemirror_mode": {
    "name": "ipython",
    "version": 3
   },
   "file_extension": ".py",
   "mimetype": "text/x-python",
   "name": "python",
   "nbconvert_exporter": "python",
   "pygments_lexer": "ipython3",
   "version": "3.9.13"
  },
  "orig_nbformat": 4,
  "vscode": {
   "interpreter": {
    "hash": "2006ea8656a996a1cfe7d1c3d7635f8e93c52501bf180efec5b800be947afadf"
   }
  }
 },
 "nbformat": 4,
 "nbformat_minor": 2
}
