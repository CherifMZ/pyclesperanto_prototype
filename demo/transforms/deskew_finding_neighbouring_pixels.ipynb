{
 "cells": [
  {
   "cell_type": "markdown",
   "metadata": {},
   "source": [
    "### Determining actual neighbours in deskewed image using affine matrices\n",
    "\n",
    "When deskewing, the actual neighbours are in the intermediated sheared image\n",
    "\n",
    "As transformation is in the yz plane,  we determine neighbours in the sheared image and then apply inverse shear transform to find corresponding pixel values in the raw image"
   ]
  },
  {
   "cell_type": "code",
   "execution_count": 9,
   "metadata": {},
   "outputs": [
    {
     "name": "stdout",
     "output_type": "stream",
     "text": [
      "(209, 118, 209)\n",
      "(59, 1832, 209)\n"
     ]
    }
   ],
   "source": [
    "import math\n",
    "import pyclesperanto_prototype as cle\n",
    "from pyclesperanto_prototype._tier8._affine_transform import _determine_translation_and_bounding_box\n",
    "from skimage.io import imread\n",
    "import numpy as np \n",
    "#Disable scientific notation for numbers\n",
    "np.set_printoptions(suppress=True)\n",
    "\n",
    "voxel_size_x_in_microns = 0.1449922\n",
    "voxel_size_y_in_microns = 0.1449922\n",
    "voxel_size_z_in_microns = 0.3\n",
    "\n",
    "deskewing_angle_in_degrees = 30\n",
    "\n",
    "original_image = imread('./pyclesperanto_prototype/data/RBC_tiny.tif')\n",
    "original_image = original_image[::4]\n",
    "voxel_size_z_in_microns = voxel_size_z_in_microns * 4\n",
    "print(original_image.shape)\n",
    "\n",
    "#Defining Deskewing transform \n",
    "\n",
    "scale_factor = 1 #Scale factor is used in clesperanto if we want to scale the images in case they don't fit in memory\n",
    "\n",
    "#initialise a transform\n",
    "deskew_transform =cle.AffineTransform3D()\n",
    "#Shear\n",
    "shear_factor = math.sin((90 - deskewing_angle_in_degrees) * math.pi / 180.0) * (voxel_size_z_in_microns/voxel_size_y_in_microns)\n",
    "deskew_transform._matrix[1, 2] = shear_factor\n",
    "#Scale\n",
    "new_dz = math.sin(deskewing_angle_in_degrees * math.pi / 180.0) * voxel_size_z_in_microns\n",
    "scale_factor_z = (new_dz / voxel_size_y_in_microns) * scale_factor\n",
    "deskew_transform.scale(scale_x=scale_factor, scale_y=scale_factor, scale_z=scale_factor_z)\n",
    "#Rotate deskewing angle\n",
    "deskew_transform.rotate(angle_in_degrees = 0 - deskewing_angle_in_degrees, axis=0)\n",
    "_,deskew_transform,translation = _determine_translation_and_bounding_box(original_image, deskew_transform)\n",
    "\n",
    "deskew_transform._matrix\n",
    "deskewed = cle.affine_transform(source= original_image,transform = deskew_transform,auto_size=True)\n",
    "deskewed = cle.pull(deskewed)\n",
    "print(deskewed.shape)"
   ]
  },
  {
   "cell_type": "code",
   "execution_count": 11,
   "metadata": {},
   "outputs": [
    {
     "name": "stdout",
     "output_type": "stream",
     "text": [
      "[[1.         0.         0.         0.        ]\n",
      " [0.         1.         7.16749235 0.        ]\n",
      " [0.         0.         1.         0.        ]\n",
      " [0.         0.         0.         1.        ]]\n",
      "[[ 1.          0.          0.          0.        ]\n",
      " [ 0.          1.         -7.16749235  0.        ]\n",
      " [ 0.          0.          1.          0.        ]\n",
      " [ 0.          0.          0.          1.        ]]\n"
     ]
    }
   ],
   "source": [
    "#Get shear transform\n",
    "shear_transform =cle.AffineTransform3D()\n",
    "#Shear\n",
    "shear_factor = math.sin((90 - deskewing_angle_in_degrees) * math.pi / 180.0) * (voxel_size_z_in_microns/voxel_size_y_in_microns)\n",
    "shear_transform._matrix[1, 2] = shear_factor\n",
    "print(shear_transform._matrix)\n",
    "\n",
    "#Inverse shear transform\n",
    "shear_inverse = shear_transform.copy().inverse()\n",
    "print(shear_inverse._matrix)\n"
   ]
  },
  {
   "cell_type": "code",
   "execution_count": 13,
   "metadata": {},
   "outputs": [
    {
     "name": "stdout",
     "output_type": "stream",
     "text": [
      "Deskewed image coordinates are: [70, 464, 21, 1]\n",
      "On raw image, coordinates are: [70.         76.         48.11107853  1.        ]\n",
      "On intermediate sheared image, coordinates are: [ 70.         420.83578736  48.11107853   1.        ]\n",
      "Sheared image neighbour coordinates (actual neighbours)\n",
      "top left  [ 70.         419.83578736  46.91107853   1.        ]\n",
      "top right [ 70.         419.83578736  49.31107853   1.        ]\n",
      "bottom left [ 70.         421.83578736  46.91107853   1.        ]\n",
      "bottom right [ 70.         421.83578736  49.31107853   1.        ]\n",
      "Actual neighbours in the raw image\n",
      "top left  [70.         83.60099082 46.91107853  1.        ]\n",
      "top right [70.         66.39900918 49.31107853  1.        ]\n",
      "bottom left [70.         85.60099082 46.91107853  1.        ]\n",
      "bottom right [70.         68.39900918 49.31107853  1.        ]\n"
     ]
    }
   ],
   "source": [
    "#Lets say we want to find neighbours for coordinate in deskewed image (xyz): 70, 464, 21\n",
    "#\n",
    "coord = [70,464,21,1]\n",
    "print(\"Deskewed image coordinates are:\", coord)\n",
    "\n",
    "#Apply inverse deskew to find corresponding coordinaes in original image\n",
    "deskew_inv_coord = deskew_transform.copy().inverse()._matrix@coord\n",
    "print(\"On raw image, coordinates are:\", deskew_inv_coord)\n",
    "\n",
    "#Apply shear transform to find coordinates in sheared image\n",
    "sheared_img_coord = shear_transform._matrix@deskew_inv_coord\n",
    "print(\"On intermediate sheared image, coordinates are:\", sheared_img_coord)\n",
    "\n",
    "\n",
    "#Find neighbours in the yz plane for the sheared image\n",
    "transform_yz1= cle.AffineTransform3D()\n",
    "transform_yz2= cle.AffineTransform3D()\n",
    "transform_yz3= cle.AffineTransform3D()\n",
    "transform_yz4= cle.AffineTransform3D()\n",
    "\n",
    "#The pixels are shifted by value equivalent to pixel size in y and z\n",
    "transform_yz1.translate(translate_y=-1,translate_z=-voxel_size_z_in_microns)\n",
    "transform_yz2.translate(translate_y=-1,translate_z=voxel_size_z_in_microns)\n",
    "transform_yz3.translate(translate_y=1,translate_z=-voxel_size_z_in_microns)\n",
    "transform_yz4.translate(translate_y=1,translate_z=voxel_size_z_in_microns)\n",
    "\n",
    "yz1_sheared = transform_yz1._matrix@sheared_img_coord\n",
    "yz2_sheared = transform_yz2._matrix@sheared_img_coord\n",
    "\n",
    "yz3_sheared = transform_yz3._matrix@sheared_img_coord\n",
    "yz4_sheared = transform_yz4._matrix@sheared_img_coord\n",
    "\n",
    "print(\"Sheared image neighbour coordinates (actual neighbours)\")\n",
    "print(\"top left \", yz1_sheared)\n",
    "print(\"top right\",yz2_sheared)\n",
    "print(\"bottom left\",yz3_sheared)\n",
    "print(\"bottom right\",yz4_sheared)\n",
    "\n",
    "#get inverse shear transform\n",
    "shear_transform_inverse = shear_transform.copy().inverse()\n",
    "\n",
    "\n",
    "yz1 = shear_transform_inverse._matrix@yz1_sheared\n",
    "yz2 = shear_transform_inverse._matrix@yz2_sheared\n",
    "yz3 = shear_transform_inverse._matrix@yz3_sheared\n",
    "yz4 = shear_transform_inverse._matrix@yz4_sheared\n",
    "\n",
    "\n",
    "print(\"Actual neighbours in the raw image\")\n",
    "\n",
    "print(\"top left \", yz1)\n",
    "print(\"top right\",yz2)\n",
    "print(\"bottom left\",yz3)\n",
    "print(\"bottom right\",yz4)\n"
   ]
  },
  {
   "cell_type": "code",
   "execution_count": 8,
   "metadata": {},
   "outputs": [
    {
     "data": {
      "text/plain": [
       "<Image layer 'sheared' at 0x1e796bd8cd0>"
      ]
     },
     "execution_count": 8,
     "metadata": {},
     "output_type": "execute_result"
    }
   ],
   "source": [
    "import napari\n",
    "viewer = napari.Viewer()\n",
    "viewer.add_image(original_image)\n",
    "#viewer.add_image(deskewed)\n",
    "sheared = cle.affine_transform(source= original_image,transform = shear_transform,auto_size=True)\n",
    "viewer.add_image(sheared)\n"
   ]
  },
  {
   "cell_type": "code",
   "execution_count": 7,
   "metadata": {},
   "outputs": [
    {
     "name": "stdout",
     "output_type": "stream",
     "text": [
      "45.0\n",
      "84.45599862191726\n",
      "39.1781611917957\n",
      "45.0\n",
      "67.25401697808275\n",
      "41.57816119179571\n",
      "45.0\n",
      "84.74598302191725\n",
      "39.1781611917957\n",
      "45.0\n",
      "67.54400137808274\n",
      "41.57816119179571\n"
     ]
    }
   ],
   "source": [
    "print((shear_transform_inverse._matrix[0,:]@transform_yz1._matrix)@sheared_img_coord)\n",
    "print(shear_transform_inverse._matrix[1,:]@transform_yz1._matrix@sheared_img_coord)\n",
    "print(shear_transform_inverse._matrix[2,:]@transform_yz1._matrix@sheared_img_coord)\n",
    "\n",
    "print((shear_transform_inverse._matrix[0,:]@transform_yz2._matrix)@sheared_img_coord)\n",
    "print(shear_transform_inverse._matrix[1,:]@transform_yz2._matrix@sheared_img_coord)\n",
    "print(shear_transform_inverse._matrix[2,:]@transform_yz2._matrix@sheared_img_coord)\n",
    "\n",
    "print((shear_transform_inverse._matrix[0,:]@transform_yz3._matrix)@sheared_img_coord)\n",
    "print(shear_transform_inverse._matrix[1,:]@transform_yz3._matrix@sheared_img_coord)\n",
    "print(shear_transform_inverse._matrix[2,:]@transform_yz3._matrix@sheared_img_coord)\n",
    "\n",
    "\n",
    "print((shear_transform_inverse._matrix[0,:]@transform_yz4._matrix)@sheared_img_coord)\n",
    "print(shear_transform_inverse._matrix[1,:]@transform_yz4._matrix@sheared_img_coord)\n",
    "print(shear_transform_inverse._matrix[2,:]@transform_yz4._matrix@sheared_img_coord)"
   ]
  },
  {
   "cell_type": "code",
   "execution_count": 43,
   "metadata": {},
   "outputs": [
    {
     "name": "stdout",
     "output_type": "stream",
     "text": [
      "139 219 100 255\n"
     ]
    }
   ],
   "source": [
    "pix1 = original_image[47,82,70]\n",
    "pix2 = original_image[49,67,70]\n",
    "pix3 = original_image[47,84,70]\n",
    "pix4 = original_image[49,69,70]\n",
    "print(pix1,pix2,pix3,pix4)"
   ]
  }
 ],
 "metadata": {
  "kernelspec": {
   "display_name": "pyclesp_orth",
   "language": "python",
   "name": "python3"
  },
  "language_info": {
   "codemirror_mode": {
    "name": "ipython",
    "version": 3
   },
   "file_extension": ".py",
   "mimetype": "text/x-python",
   "name": "python",
   "nbconvert_exporter": "python",
   "pygments_lexer": "ipython3",
   "version": "3.9.13 | packaged by conda-forge | (main, May 27 2022, 16:51:29) [MSC v.1929 64 bit (AMD64)]"
  },
  "orig_nbformat": 4,
  "vscode": {
   "interpreter": {
    "hash": "c2b46194c6f53d1309ec6efbc337d4d86cf8be9dd82cf5e27a48142022d8f42e"
   }
  }
 },
 "nbformat": 4,
 "nbformat_minor": 2
}
