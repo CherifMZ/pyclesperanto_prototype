{
 "cells": [
  {
   "cell_type": "markdown",
   "metadata": {},
   "source": [
    "View differences in interpolation with OPM deskew and pyclesperanto deskew. \n",
    "Need to write tests, so working out the best way to do this. "
   ]
  },
  {
   "cell_type": "code",
   "execution_count": 2,
   "metadata": {},
   "outputs": [],
   "source": [
    "#OPM implementation\n",
    "#need numba installed\n",
    "\n",
    "import numpy as np\n",
    "from numba import njit, prange\n",
    "\n",
    "   \n",
    "# http://numba.pydata.org/numba-doc/latest/user/parallel.html#numba-parallel\n",
    "@njit(parallel=True)\n",
    "def deskew(data,theta,distance,pixel_size):\n",
    "    \"\"\"\n",
    "    Perform parallelized orthogonal interpolation into a uniform pixel size grid.\n",
    "    \n",
    "    :param data: ndarray\n",
    "        image stack of uniformly spaced OPM planes\n",
    "    :param theta: float \n",
    "        angle relative to coverslip\n",
    "    :param distance: float \n",
    "        step between image planes along coverslip\n",
    "    :param pizel_size: float \n",
    "        in-plane camera pixel size in OPM coordinates\n",
    "    :return output: ndarray\n",
    "        image stack of deskewed OPM planes on uniform grid\n",
    "    \"\"\"\n",
    "\n",
    "    # unwrap parameters \n",
    "    [num_images,ny,nx]=data.shape     # (pixels)\n",
    "\n",
    "    # change step size from physical space (nm) to camera space (pixels)\n",
    "    pixel_step = distance/pixel_size    # (pixels)\n",
    "\n",
    "    # calculate the number of pixels scanned during stage scan \n",
    "    scan_end = num_images * pixel_step  # (pixels)\n",
    "\n",
    "    # calculate properties for final image\n",
    "    final_ny = np.int64(np.ceil(scan_end+ny*np.cos(theta*np.pi/180))) # (pixels)\n",
    "    final_nz = np.int64(np.ceil(ny*np.sin(theta*np.pi/180)))          # (pixels)\n",
    "    final_nx = np.int64(nx)                                           # (pixels)\n",
    "\n",
    "    # create final image\n",
    "    output = np.zeros((final_nz, final_ny, final_nx),dtype=np.float32)  # (time, pixels,pixels,pixels - data is float32)\n",
    "\n",
    "    # precalculate trig functions for scan angle\n",
    "    tantheta = np.float32(np.tan(theta * np.pi/180)) # (float32)\n",
    "    sintheta = np.float32(np.sin(theta * np.pi/180)) # (float32)\n",
    "    costheta = np.float32(np.cos(theta * np.pi/180)) # (float32)\n",
    "\n",
    "    # perform orthogonal interpolation\n",
    "\n",
    "    # loop through output z planes\n",
    "    # defined as parallel loop in numba\n",
    "    # http://numba.pydata.org/numba-doc/latest/user/parallel.html#numba-parallel\n",
    "    for z in prange(0,final_nz):\n",
    "        # calculate range of output y pixels to populate\n",
    "        y_range_min=np.minimum(0,np.int64(np.floor(np.float32(z)/tantheta)))\n",
    "        y_range_max=np.maximum(final_ny,np.int64(np.ceil(scan_end+np.float32(z)/tantheta+1)))\n",
    "\n",
    "        # loop through final y pixels\n",
    "        # defined as parallel loop in numba\n",
    "        # http://numba.pydata.org/numba-doc/latest/user/parallel.html#numba-parallel\n",
    "        for y in prange(y_range_min,y_range_max):\n",
    "\n",
    "            # find the virtual tilted plane that intersects the interpolated plane \n",
    "            virtual_plane = y - z/tantheta\n",
    "\n",
    "            # find raw data planes that surround the virtual plane\n",
    "            plane_before = np.int64(np.floor(virtual_plane/pixel_step))\n",
    "            plane_after = np.int64(plane_before+1)\n",
    "\n",
    "            # continue if raw data planes are within the data range\n",
    "            if ((plane_before>=0) and (plane_after<num_images)):\n",
    "                \n",
    "                # find distance of a point on the  interpolated plane to plane_before and plane_after\n",
    "                l_before = virtual_plane - plane_before * pixel_step\n",
    "                l_after = pixel_step - l_before\n",
    "                \n",
    "                # determine location of a point along the interpolated plane\n",
    "                za = z/sintheta\n",
    "                virtual_pos_before = za + l_before*costheta\n",
    "                virtual_pos_after = za - l_after*costheta\n",
    "\n",
    "                # determine nearest data points to interpoloated point in raw data\n",
    "                pos_before = np.int64(np.floor(virtual_pos_before))\n",
    "                pos_after = np.int64(np.floor(virtual_pos_after))\n",
    "\n",
    "                # continue if within data bounds\n",
    "                if ((pos_before>=0) and (pos_after >= 0) and (pos_before<ny-1) and (pos_after<ny-1)):\n",
    "                    \n",
    "                    # determine points surrounding interpolated point on the virtual plane \n",
    "                    dz_before = virtual_pos_before - pos_before\n",
    "                    dz_after = virtual_pos_after - pos_after\n",
    "\n",
    "                    # compute final image plane using orthogonal interpolation\n",
    "                    output[z,y,:] = (l_before * dz_after * data[plane_after,pos_after+1,:] +\n",
    "                                    l_before * (1-dz_after) * data[plane_after,pos_after,:] +\n",
    "                                    l_after * dz_before * data[plane_before,pos_before+1,:] +\n",
    "                                    l_after * (1-dz_before) * data[plane_before,pos_before,:]) /pixel_step\n",
    "\n",
    "\n",
    "    return output"
   ]
  },
  {
   "cell_type": "markdown",
   "metadata": {},
   "source": [
    "TRY OPM DESKEW"
   ]
  },
  {
   "cell_type": "code",
   "execution_count": 3,
   "metadata": {},
   "outputs": [
    {
     "data": {
      "text/plain": [
       "(5, 19, 10)"
      ]
     },
     "execution_count": 3,
     "metadata": {},
     "output_type": "execute_result"
    }
   ],
   "source": [
    "source = np.zeros((10, 10, 10))\n",
    "source[1, 1, 1] = 1\n",
    "\n",
    "result = deskew(source,theta = 30, distance = 1, pixel_size = 1)\n",
    "result.shape"
   ]
  },
  {
   "cell_type": "markdown",
   "metadata": {},
   "source": [
    "Find positions in array where result>0"
   ]
  },
  {
   "cell_type": "code",
   "execution_count": 4,
   "metadata": {},
   "outputs": [
    {
     "data": {
      "text/plain": [
       "(array([1], dtype=int64), array([2], dtype=int64), array([1], dtype=int64))"
      ]
     },
     "execution_count": 4,
     "metadata": {},
     "output_type": "execute_result"
    }
   ],
   "source": [
    "np.where(result>0)"
   ]
  },
  {
   "cell_type": "markdown",
   "metadata": {},
   "source": [
    "TRY pyclesperanto deskew"
   ]
  },
  {
   "cell_type": "code",
   "execution_count": 5,
   "metadata": {},
   "outputs": [
    {
     "data": {
      "text/plain": [
       "(5, 19, 10)"
      ]
     },
     "execution_count": 5,
     "metadata": {},
     "output_type": "execute_result"
    }
   ],
   "source": [
    "import pyclesperanto_prototype as cle \n",
    "\n",
    "cle_result = cle.deskew_y(source,angle_in_degrees=30,voxel_size_x=1,voxel_size_y=1,voxel_size_z=1)\n",
    "cle_result.shape"
   ]
  },
  {
   "cell_type": "code",
   "execution_count": 6,
   "metadata": {},
   "outputs": [
    {
     "data": {
      "text/plain": [
       "(array([0, 0], dtype=int64),\n",
       " array([1, 2], dtype=int64),\n",
       " array([1, 1], dtype=int64))"
      ]
     },
     "execution_count": 6,
     "metadata": {},
     "output_type": "execute_result"
    }
   ],
   "source": [
    "np.where(cle_result>0)"
   ]
  },
  {
   "cell_type": "code",
   "execution_count": 11,
   "metadata": {},
   "outputs": [
    {
     "name": "stdout",
     "output_type": "stream",
     "text": [
      "0.43301263\n",
      "0.16506355\n"
     ]
    }
   ],
   "source": [
    "print(cle_result[0,1,1])\n",
    "print(cle_result[0,2,1])"
   ]
  },
  {
   "cell_type": "code",
   "execution_count": 15,
   "metadata": {},
   "outputs": [
    {
     "name": "stdout",
     "output_type": "stream",
     "text": [
      "We get diffferent results with pyclesperanto and OPM deskew. Not sure if this is a difference due to algorithmic implementation or differences in CPU/GPU implementation?\n"
     ]
    }
   ],
   "source": [
    "print(\"We get different results with pyclesperanto and OPM deskew. Not sure if this is a difference due to algorithmic implementation or differences in CPU/GPU implementation?\")"
   ]
  },
  {
   "cell_type": "markdown",
   "metadata": {},
   "source": [
    "### Use a test image and  a metric such as structure similarity index measure to compare the results"
   ]
  },
  {
   "cell_type": "code",
   "execution_count": 16,
   "metadata": {},
   "outputs": [
    {
     "data": {
      "text/plain": [
       "(834, 118, 209)"
      ]
     },
     "execution_count": 16,
     "metadata": {},
     "output_type": "execute_result"
    }
   ],
   "source": [
    "from skimage.io import imread\n",
    "original_image = imread('../../data/RBC_tiny.tif')\n",
    "voxel_size_x_in_microns = 0.1449922\n",
    "voxel_size_y_in_microns = 0.1449922\n",
    "voxel_size_z_in_microns = 0.3\n",
    "\n",
    "deskewing_angle_in_degrees = 30\n",
    "original_image.shape\n"
   ]
  },
  {
   "cell_type": "code",
   "execution_count": 18,
   "metadata": {},
   "outputs": [
    {
     "data": {
      "text/plain": [
       "(59, 1828, 209)"
      ]
     },
     "execution_count": 18,
     "metadata": {},
     "output_type": "execute_result"
    }
   ],
   "source": [
    "cle_rbc = cle.deskew_y(original_image,angle_in_degrees=deskewing_angle_in_degrees,voxel_size_x=voxel_size_x_in_microns,\n",
    "                          voxel_size_y=voxel_size_y_in_microns,voxel_size_z=voxel_size_z_in_microns)\n",
    "\n",
    "cle_rbc.shape"
   ]
  },
  {
   "cell_type": "code",
   "execution_count": 19,
   "metadata": {},
   "outputs": [
    {
     "data": {
      "text/plain": [
       "(59, 1828, 209)"
      ]
     },
     "execution_count": 19,
     "metadata": {},
     "output_type": "execute_result"
    }
   ],
   "source": [
    "opm_rbc = deskew(original_image,theta = deskewing_angle_in_degrees, distance = voxel_size_z_in_microns,\n",
    "                 pixel_size = voxel_size_y_in_microns)\n",
    "opm_rbc.shape"
   ]
  },
  {
   "cell_type": "code",
   "execution_count": 35,
   "metadata": {},
   "outputs": [],
   "source": [
    "from skimage.metrics import structural_similarity\n",
    "\n",
    "mssim,s_img = structural_similarity(cle_rbc, opm_rbc,full=True)\n",
    "\n",
    "#Subtract images to see differences\n",
    "diff_img = cle_rbc - opm_rbc"
   ]
  },
  {
   "cell_type": "code",
   "execution_count": 27,
   "metadata": {},
   "outputs": [
    {
     "name": "stdout",
     "output_type": "stream",
     "text": [
      "Mean SSIM:  0.8292349569424358\n"
     ]
    },
    {
     "data": {
      "image/png": "[encoded data removed]",
      "text/plain": [
       "<Figure size 640x480 with 1 Axes>"
      ]
     },
     "metadata": {},
     "output_type": "display_data"
    }
   ],
   "source": [
    "print(\"Mean SSIM: \", mssim)\n",
    "cle.imshow(s_img)"
   ]
  },
  {
   "cell_type": "code",
   "execution_count": 36,
   "metadata": {},
   "outputs": [
    {
     "data": {
      "text/plain": [
       "<Image layer 'diff_img' at 0x230b3731fd0>"
      ]
     },
     "execution_count": 36,
     "metadata": {},
     "output_type": "execute_result"
    }
   ],
   "source": [
    "import napari \n",
    "\n",
    "viewer = napari.Viewer()\n",
    "viewer.add_image(cle_rbc, name='cle_rbc')\n",
    "viewer.add_image(opm_rbc, name='opm_rbc')\n",
    "viewer.add_image(s_img, name='SSIM_img')\n",
    "viewer.add_image(diff_img, name='diff_img')\n"
   ]
  },
  {
   "cell_type": "code",
   "execution_count": null,
   "metadata": {},
   "outputs": [],
   "source": []
  }
 ],
 "metadata": {
  "kernelspec": {
   "display_name": "Python 3.9.13 ('pyclesp_orth')",
   "language": "python",
   "name": "python3"
  },
  "language_info": {
   "codemirror_mode": {
    "name": "ipython",
    "version": 3
   },
   "file_extension": ".py",
   "mimetype": "text/x-python",
   "name": "python",
   "nbconvert_exporter": "python",
   "pygments_lexer": "ipython3",
   "version": "3.9.13"
  },
  "orig_nbformat": 4,
  "vscode": {
   "interpreter": {
    "hash": "c2b46194c6f53d1309ec6efbc337d4d86cf8be9dd82cf5e27a48142022d8f42e"
   }
  }
 },
 "nbformat": 4,
 "nbformat_minor": 2
}
