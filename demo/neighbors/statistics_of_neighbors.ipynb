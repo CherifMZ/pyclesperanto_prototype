{
 "cells": [
  {
   "cell_type": "markdown",
   "id": "e9de210d-a426-44b9-b4ad-a211680db15d",
   "metadata": {},
   "source": [
    "# Statistics of neighbors\n",
    "When characterizing tissues, it may be useful to summarize statistics such as the average distance labels to their neighbors. \n",
    "\n",
    "Note: When measuring distances, the centroid-to-centroid distance is called _distance_ for simplicity unless mentioned otherwise. Furthermore, keep in mind that most of the shown measurements only work correctly when using label images with isotropic pixels / voxels."
   ]
  },
  {
   "cell_type": "code",
   "execution_count": 1,
   "id": "768bb5ea-2e1d-4c88-8f73-515fd450c1ff",
   "metadata": {},
   "outputs": [],
   "source": [
    "import numpy as np\n",
    "import pyclesperanto_prototype as cle\n",
    "from skimage.io import imread\n",
    "import matplotlib.pyplot as plt\n",
    "import pandas as pd"
   ]
  },
  {
   "cell_type": "markdown",
   "id": "939779d2-54c4-4cbb-9b29-cf9753dc9d87",
   "metadata": {},
   "source": [
    "We use this example label image to show what the different measurements mean. In the following, most measures will be explained for the object number `7` in the center of the image."
   ]
  },
  {
   "cell_type": "code",
   "execution_count": 2,
   "id": "74b80485-c5da-493e-886b-78231634b637",
   "metadata": {},
   "outputs": [
    {
     "data": {
      "text/html": [
       "<table>\n",
       "<tr>\n",
       "<td>\n",
       "<img src=\"data:image/png;base64,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\"></img>\n",
       "</td>\n",
       "<td style=\"text-align: center; vertical-align: top;\">\n",
       "<b><a href=\"https://github.com/clEsperanto/pyclesperanto_prototype\" target=\"_blank\">cle._</a> image</b><br/>\n",
       "<table>\n",
       "<tr><td>shape</td><td>(80,&nbsp;80)</td></tr>\n",
       "<tr><td>dtype</td><td>uint32</td></tr>\n",
       "<tr><td>size</td><td>25.0 kB</td></tr>\n",
       "<tr><td>min</td><td>1.0</td></tr><tr><td>max</td><td>7.0</td></tr>\n",
       "</table>\n",
       "\n",
       "</td>\n",
       "</tr>\n",
       "</table>"
      ],
      "text/plain": [
       "cl.OCLArray([[1, 1, 1, ..., 3, 3, 3],\n",
       "       [1, 1, 1, ..., 3, 3, 3],\n",
       "       [1, 1, 1, ..., 3, 3, 3],\n",
       "       ...,\n",
       "       [5, 5, 5, ..., 4, 4, 4],\n",
       "       [5, 5, 5, ..., 4, 4, 4],\n",
       "       [5, 5, 5, ..., 4, 4, 4]], dtype=uint32)"
      ]
     },
     "execution_count": 2,
     "metadata": {},
     "output_type": "execute_result"
    }
   ],
   "source": [
    "labels = cle.scale(cle.asarray([\n",
    "   [1, 1, 2, 2, 3, 3, 3, 3],\n",
    "   [1, 1, 2, 2, 3, 3, 3, 3],\n",
    "   [1, 1, 7, 7, 7, 7, 3, 3],\n",
    "   [1, 1, 7, 7, 7, 7, 3, 3],\n",
    "   [6, 6, 7, 7, 7, 7, 4, 4],\n",
    "   [6, 6, 7, 7, 7, 7, 4, 4],\n",
    "   [5, 5, 5, 5, 5, 5, 4, 4],\n",
    "   [5, 5, 5, 5, 5, 5, 4, 4],\n",
    "]), factor_x=10, factor_y=10, auto_size=True).astype(np.uint32)\n",
    "\n",
    "labels"
   ]
  },
  {
   "cell_type": "markdown",
   "id": "15916c9f-dfd0-432b-8cf7-7d4392048341",
   "metadata": {},
   "source": [
    "# Distance meshes\n",
    "Before diving into details we should first have a look at neighborhood relationships and distances between neighbors. A distance mesh visualizes the distances between centroids in colour."
   ]
  },
  {
   "cell_type": "code",
   "execution_count": 3,
   "id": "113e2acd-0d92-47ad-ba67-ba5b8bfe569b",
   "metadata": {},
   "outputs": [
    {
     "data": {
      "image/png": "[encoded data removed]",
      "text/plain": [
       "<Figure size 432x288 with 2 Axes>"
      ]
     },
     "metadata": {
      "needs_background": "light"
     },
     "output_type": "display_data"
    }
   ],
   "source": [
    "distance_mesh = cle.draw_distance_mesh_between_touching_labels(labels)\n",
    "cle.imshow(distance_mesh, colorbar=True, colormap=\"rainbow\")"
   ]
  },
  {
   "cell_type": "markdown",
   "id": "62080990-6ca8-4900-a419-088955684f38",
   "metadata": {},
   "source": [
    "Simple statistics such as the longest distance between direct neighbors can be measured from that image."
   ]
  },
  {
   "cell_type": "code",
   "execution_count": 4,
   "id": "c5745e43-7d9d-4104-af0a-2efbe71f47f7",
   "metadata": {},
   "outputs": [
    {
     "data": {
      "text/plain": [
       "43.843155"
      ]
     },
     "execution_count": 4,
     "metadata": {},
     "output_type": "execute_result"
    }
   ],
   "source": [
    "distance_mesh.max()"
   ]
  },
  {
   "cell_type": "markdown",
   "id": "65196c9f-c988-42d5-996e-7d4ee8ea6892",
   "metadata": {},
   "source": [
    "For more detailed statistics we use a table / pandas DataFrame."
   ]
  },
  {
   "cell_type": "code",
   "execution_count": 5,
   "id": "ed8124f6-61c2-4add-98f8-28efda93b23f",
   "metadata": {},
   "outputs": [
    {
     "data": {
      "text/html": [
       "<div>\n",
       "<style scoped>\n",
       "    .dataframe tbody tr th:only-of-type {\n",
       "        vertical-align: middle;\n",
       "    }\n",
       "\n",
       "    .dataframe tbody tr th {\n",
       "        vertical-align: top;\n",
       "    }\n",
       "\n",
       "    .dataframe thead th {\n",
       "        text-align: right;\n",
       "    }\n",
       "</style>\n",
       "<table border=\"1\" class=\"dataframe\">\n",
       "  <thead>\n",
       "    <tr style=\"text-align: right;\">\n",
       "      <th></th>\n",
       "      <th>label</th>\n",
       "      <th>touching_neighbor_count</th>\n",
       "      <th>minimum_distance_of_touching_neighbors</th>\n",
       "      <th>average_distance_of_touching_neighbors</th>\n",
       "      <th>maximum_distance_of_touching_neighbors</th>\n",
       "      <th>max_min_distance_ratio_of_touching_neighbors</th>\n",
       "      <th>proximal_neighbor_count_d10</th>\n",
       "      <th>proximal_neighbor_count_d20</th>\n",
       "      <th>proximal_neighbor_count_d40</th>\n",
       "      <th>proximal_neighbor_count_d80</th>\n",
       "      <th>...</th>\n",
       "      <th>touching_neighbor_count_dilated_r_10</th>\n",
       "      <th>minimum_distance_of_touching_neighbors_dilated_r_10</th>\n",
       "      <th>average_distance_of_touching_neighbors_dilated_r_10</th>\n",
       "      <th>maximum_distance_of_touching_neighbors_dilated_r_10</th>\n",
       "      <th>max_min_distance_ratio_of_touching_neighbors_dilated_r_10</th>\n",
       "      <th>touch_count_sum_dilated_r_10</th>\n",
       "      <th>minimum_touch_count_dilated_r_10</th>\n",
       "      <th>maximum_touch_count_dilated_r_10</th>\n",
       "      <th>minimum_touch_portion_dilated_r_10</th>\n",
       "      <th>maximum_touch_portion_dilated_r_10</th>\n",
       "    </tr>\n",
       "  </thead>\n",
       "  <tbody>\n",
       "    <tr>\n",
       "      <th>0</th>\n",
       "      <td>1</td>\n",
       "      <td>3.0</td>\n",
       "      <td>22.360680</td>\n",
       "      <td>29.472061</td>\n",
       "      <td>36.055511</td>\n",
       "      <td>1.612452</td>\n",
       "      <td>0.0</td>\n",
       "      <td>0.0</td>\n",
       "      <td>3.0</td>\n",
       "      <td>6.0</td>\n",
       "      <td>...</td>\n",
       "      <td>3.0</td>\n",
       "      <td>22.360680</td>\n",
       "      <td>29.472061</td>\n",
       "      <td>36.055511</td>\n",
       "      <td>1.612452</td>\n",
       "      <td>60.0</td>\n",
       "      <td>20.0</td>\n",
       "      <td>20.0</td>\n",
       "      <td>0.333333</td>\n",
       "      <td>0.333333</td>\n",
       "    </tr>\n",
       "    <tr>\n",
       "      <th>1</th>\n",
       "      <td>2</td>\n",
       "      <td>3.0</td>\n",
       "      <td>22.360680</td>\n",
       "      <td>29.325638</td>\n",
       "      <td>33.993465</td>\n",
       "      <td>1.520234</td>\n",
       "      <td>0.0</td>\n",
       "      <td>0.0</td>\n",
       "      <td>3.0</td>\n",
       "      <td>6.0</td>\n",
       "      <td>...</td>\n",
       "      <td>3.0</td>\n",
       "      <td>22.360680</td>\n",
       "      <td>29.325638</td>\n",
       "      <td>33.993465</td>\n",
       "      <td>1.520234</td>\n",
       "      <td>60.0</td>\n",
       "      <td>20.0</td>\n",
       "      <td>20.0</td>\n",
       "      <td>0.333333</td>\n",
       "      <td>0.333333</td>\n",
       "    </tr>\n",
       "    <tr>\n",
       "      <th>2</th>\n",
       "      <td>3</td>\n",
       "      <td>3.0</td>\n",
       "      <td>32.998318</td>\n",
       "      <td>36.944981</td>\n",
       "      <td>43.843155</td>\n",
       "      <td>1.328648</td>\n",
       "      <td>0.0</td>\n",
       "      <td>0.0</td>\n",
       "      <td>2.0</td>\n",
       "      <td>6.0</td>\n",
       "      <td>...</td>\n",
       "      <td>3.0</td>\n",
       "      <td>32.998318</td>\n",
       "      <td>36.944981</td>\n",
       "      <td>43.843155</td>\n",
       "      <td>1.328648</td>\n",
       "      <td>80.0</td>\n",
       "      <td>20.0</td>\n",
       "      <td>40.0</td>\n",
       "      <td>0.250000</td>\n",
       "      <td>0.500000</td>\n",
       "    </tr>\n",
       "    <tr>\n",
       "      <th>3</th>\n",
       "      <td>4</td>\n",
       "      <td>3.0</td>\n",
       "      <td>36.055511</td>\n",
       "      <td>40.376572</td>\n",
       "      <td>43.843155</td>\n",
       "      <td>1.215990</td>\n",
       "      <td>0.0</td>\n",
       "      <td>0.0</td>\n",
       "      <td>1.0</td>\n",
       "      <td>6.0</td>\n",
       "      <td>...</td>\n",
       "      <td>3.0</td>\n",
       "      <td>36.055511</td>\n",
       "      <td>40.376572</td>\n",
       "      <td>43.843155</td>\n",
       "      <td>1.215990</td>\n",
       "      <td>60.0</td>\n",
       "      <td>20.0</td>\n",
       "      <td>20.0</td>\n",
       "      <td>0.333333</td>\n",
       "      <td>0.333333</td>\n",
       "    </tr>\n",
       "    <tr>\n",
       "      <th>4</th>\n",
       "      <td>5</td>\n",
       "      <td>3.0</td>\n",
       "      <td>28.284271</td>\n",
       "      <td>33.712700</td>\n",
       "      <td>41.231056</td>\n",
       "      <td>1.457738</td>\n",
       "      <td>0.0</td>\n",
       "      <td>0.0</td>\n",
       "      <td>2.0</td>\n",
       "      <td>6.0</td>\n",
       "      <td>...</td>\n",
       "      <td>3.0</td>\n",
       "      <td>28.284271</td>\n",
       "      <td>33.712700</td>\n",
       "      <td>41.231056</td>\n",
       "      <td>1.457738</td>\n",
       "      <td>80.0</td>\n",
       "      <td>20.0</td>\n",
       "      <td>40.0</td>\n",
       "      <td>0.250000</td>\n",
       "      <td>0.500000</td>\n",
       "    </tr>\n",
       "    <tr>\n",
       "      <th>5</th>\n",
       "      <td>6</td>\n",
       "      <td>3.0</td>\n",
       "      <td>28.284271</td>\n",
       "      <td>29.969013</td>\n",
       "      <td>31.622776</td>\n",
       "      <td>1.118034</td>\n",
       "      <td>0.0</td>\n",
       "      <td>0.0</td>\n",
       "      <td>3.0</td>\n",
       "      <td>6.0</td>\n",
       "      <td>...</td>\n",
       "      <td>3.0</td>\n",
       "      <td>28.284271</td>\n",
       "      <td>29.969013</td>\n",
       "      <td>31.622776</td>\n",
       "      <td>1.118034</td>\n",
       "      <td>60.0</td>\n",
       "      <td>20.0</td>\n",
       "      <td>20.0</td>\n",
       "      <td>0.333333</td>\n",
       "      <td>0.333333</td>\n",
       "    </tr>\n",
       "    <tr>\n",
       "      <th>6</th>\n",
       "      <td>7</td>\n",
       "      <td>6.0</td>\n",
       "      <td>31.622776</td>\n",
       "      <td>33.329609</td>\n",
       "      <td>36.055511</td>\n",
       "      <td>1.140175</td>\n",
       "      <td>0.0</td>\n",
       "      <td>0.0</td>\n",
       "      <td>6.0</td>\n",
       "      <td>6.0</td>\n",
       "      <td>...</td>\n",
       "      <td>6.0</td>\n",
       "      <td>31.622776</td>\n",
       "      <td>33.329609</td>\n",
       "      <td>36.055511</td>\n",
       "      <td>1.140175</td>\n",
       "      <td>160.0</td>\n",
       "      <td>20.0</td>\n",
       "      <td>40.0</td>\n",
       "      <td>0.125000</td>\n",
       "      <td>0.250000</td>\n",
       "    </tr>\n",
       "  </tbody>\n",
       "</table>\n",
       "<p>7 rows × 64 columns</p>\n",
       "</div>"
      ],
      "text/plain": [
       "   label  touching_neighbor_count  minimum_distance_of_touching_neighbors  \\\n",
       "0      1                      3.0                               22.360680   \n",
       "1      2                      3.0                               22.360680   \n",
       "2      3                      3.0                               32.998318   \n",
       "3      4                      3.0                               36.055511   \n",
       "4      5                      3.0                               28.284271   \n",
       "5      6                      3.0                               28.284271   \n",
       "6      7                      6.0                               31.622776   \n",
       "\n",
       "   average_distance_of_touching_neighbors  \\\n",
       "0                               29.472061   \n",
       "1                               29.325638   \n",
       "2                               36.944981   \n",
       "3                               40.376572   \n",
       "4                               33.712700   \n",
       "5                               29.969013   \n",
       "6                               33.329609   \n",
       "\n",
       "   maximum_distance_of_touching_neighbors  \\\n",
       "0                               36.055511   \n",
       "1                               33.993465   \n",
       "2                               43.843155   \n",
       "3                               43.843155   \n",
       "4                               41.231056   \n",
       "5                               31.622776   \n",
       "6                               36.055511   \n",
       "\n",
       "   max_min_distance_ratio_of_touching_neighbors  proximal_neighbor_count_d10  \\\n",
       "0                                      1.612452                          0.0   \n",
       "1                                      1.520234                          0.0   \n",
       "2                                      1.328648                          0.0   \n",
       "3                                      1.215990                          0.0   \n",
       "4                                      1.457738                          0.0   \n",
       "5                                      1.118034                          0.0   \n",
       "6                                      1.140175                          0.0   \n",
       "\n",
       "   proximal_neighbor_count_d20  proximal_neighbor_count_d40  \\\n",
       "0                          0.0                          3.0   \n",
       "1                          0.0                          3.0   \n",
       "2                          0.0                          2.0   \n",
       "3                          0.0                          1.0   \n",
       "4                          0.0                          2.0   \n",
       "5                          0.0                          3.0   \n",
       "6                          0.0                          6.0   \n",
       "\n",
       "   proximal_neighbor_count_d80  ...  touching_neighbor_count_dilated_r_10  \\\n",
       "0                          6.0  ...                                   3.0   \n",
       "1                          6.0  ...                                   3.0   \n",
       "2                          6.0  ...                                   3.0   \n",
       "3                          6.0  ...                                   3.0   \n",
       "4                          6.0  ...                                   3.0   \n",
       "5                          6.0  ...                                   3.0   \n",
       "6                          6.0  ...                                   6.0   \n",
       "\n",
       "   minimum_distance_of_touching_neighbors_dilated_r_10  \\\n",
       "0                                          22.360680     \n",
       "1                                          22.360680     \n",
       "2                                          32.998318     \n",
       "3                                          36.055511     \n",
       "4                                          28.284271     \n",
       "5                                          28.284271     \n",
       "6                                          31.622776     \n",
       "\n",
       "   average_distance_of_touching_neighbors_dilated_r_10  \\\n",
       "0                                          29.472061     \n",
       "1                                          29.325638     \n",
       "2                                          36.944981     \n",
       "3                                          40.376572     \n",
       "4                                          33.712700     \n",
       "5                                          29.969013     \n",
       "6                                          33.329609     \n",
       "\n",
       "   maximum_distance_of_touching_neighbors_dilated_r_10  \\\n",
       "0                                          36.055511     \n",
       "1                                          33.993465     \n",
       "2                                          43.843155     \n",
       "3                                          43.843155     \n",
       "4                                          41.231056     \n",
       "5                                          31.622776     \n",
       "6                                          36.055511     \n",
       "\n",
       "   max_min_distance_ratio_of_touching_neighbors_dilated_r_10  \\\n",
       "0                                           1.612452           \n",
       "1                                           1.520234           \n",
       "2                                           1.328648           \n",
       "3                                           1.215990           \n",
       "4                                           1.457738           \n",
       "5                                           1.118034           \n",
       "6                                           1.140175           \n",
       "\n",
       "   touch_count_sum_dilated_r_10  minimum_touch_count_dilated_r_10  \\\n",
       "0                          60.0                              20.0   \n",
       "1                          60.0                              20.0   \n",
       "2                          80.0                              20.0   \n",
       "3                          60.0                              20.0   \n",
       "4                          80.0                              20.0   \n",
       "5                          60.0                              20.0   \n",
       "6                         160.0                              20.0   \n",
       "\n",
       "   maximum_touch_count_dilated_r_10  minimum_touch_portion_dilated_r_10  \\\n",
       "0                              20.0                            0.333333   \n",
       "1                              20.0                            0.333333   \n",
       "2                              40.0                            0.250000   \n",
       "3                              20.0                            0.333333   \n",
       "4                              40.0                            0.250000   \n",
       "5                              20.0                            0.333333   \n",
       "6                              40.0                            0.125000   \n",
       "\n",
       "   maximum_touch_portion_dilated_r_10  \n",
       "0                            0.333333  \n",
       "1                            0.333333  \n",
       "2                            0.500000  \n",
       "3                            0.333333  \n",
       "4                            0.500000  \n",
       "5                            0.333333  \n",
       "6                            0.250000  \n",
       "\n",
       "[7 rows x 64 columns]"
      ]
     },
     "execution_count": 5,
     "metadata": {},
     "output_type": "execute_result"
    }
   ],
   "source": [
    "stats = pd.DataFrame(cle.statistics_of_labelled_neighbors(labels))\n",
    "stats"
   ]
  },
  {
   "cell_type": "markdown",
   "id": "c2382f75-f475-44a8-9f21-ab6e17f1b2f2",
   "metadata": {},
   "source": [
    "This table contains these columns:"
   ]
  },
  {
   "cell_type": "code",
   "execution_count": 6,
   "id": "5546c297-98e5-4fd9-b28a-f7bc0196779c",
   "metadata": {},
   "outputs": [
    {
     "data": {
      "text/html": [
       "<div>\n",
       "<style scoped>\n",
       "    .dataframe tbody tr th:only-of-type {\n",
       "        vertical-align: middle;\n",
       "    }\n",
       "\n",
       "    .dataframe tbody tr th {\n",
       "        vertical-align: top;\n",
       "    }\n",
       "\n",
       "    .dataframe thead th {\n",
       "        text-align: right;\n",
       "    }\n",
       "</style>\n",
       "<table border=\"1\" class=\"dataframe\">\n",
       "  <thead>\n",
       "    <tr style=\"text-align: right;\">\n",
       "      <th></th>\n",
       "      <th>count</th>\n",
       "      <th>mean</th>\n",
       "      <th>std</th>\n",
       "      <th>min</th>\n",
       "      <th>25%</th>\n",
       "      <th>50%</th>\n",
       "      <th>75%</th>\n",
       "      <th>max</th>\n",
       "    </tr>\n",
       "  </thead>\n",
       "  <tbody>\n",
       "    <tr>\n",
       "      <th>label</th>\n",
       "      <td>7.0</td>\n",
       "      <td>4.000000</td>\n",
       "      <td>2.160247</td>\n",
       "      <td>1.000000</td>\n",
       "      <td>2.500000</td>\n",
       "      <td>4.000000</td>\n",
       "      <td>5.500000</td>\n",
       "      <td>7.000000</td>\n",
       "    </tr>\n",
       "    <tr>\n",
       "      <th>touching_neighbor_count</th>\n",
       "      <td>7.0</td>\n",
       "      <td>3.428571</td>\n",
       "      <td>1.133893</td>\n",
       "      <td>3.000000</td>\n",
       "      <td>3.000000</td>\n",
       "      <td>3.000000</td>\n",
       "      <td>3.000000</td>\n",
       "      <td>6.000000</td>\n",
       "    </tr>\n",
       "    <tr>\n",
       "      <th>minimum_distance_of_touching_neighbors</th>\n",
       "      <td>7.0</td>\n",
       "      <td>28.852358</td>\n",
       "      <td>5.191000</td>\n",
       "      <td>22.360680</td>\n",
       "      <td>25.322475</td>\n",
       "      <td>28.284271</td>\n",
       "      <td>32.310547</td>\n",
       "      <td>36.055511</td>\n",
       "    </tr>\n",
       "    <tr>\n",
       "      <th>average_distance_of_touching_neighbors</th>\n",
       "      <td>7.0</td>\n",
       "      <td>33.304363</td>\n",
       "      <td>4.184873</td>\n",
       "      <td>29.325638</td>\n",
       "      <td>29.720537</td>\n",
       "      <td>33.329609</td>\n",
       "      <td>35.328840</td>\n",
       "      <td>40.376572</td>\n",
       "    </tr>\n",
       "    <tr>\n",
       "      <th>maximum_distance_of_touching_neighbors</th>\n",
       "      <td>7.0</td>\n",
       "      <td>38.092091</td>\n",
       "      <td>4.881063</td>\n",
       "      <td>31.622776</td>\n",
       "      <td>35.024488</td>\n",
       "      <td>36.055511</td>\n",
       "      <td>42.537106</td>\n",
       "      <td>43.843155</td>\n",
       "    </tr>\n",
       "    <tr>\n",
       "      <th>...</th>\n",
       "      <td>...</td>\n",
       "      <td>...</td>\n",
       "      <td>...</td>\n",
       "      <td>...</td>\n",
       "      <td>...</td>\n",
       "      <td>...</td>\n",
       "      <td>...</td>\n",
       "      <td>...</td>\n",
       "    </tr>\n",
       "    <tr>\n",
       "      <th>touch_count_sum_dilated_r_10</th>\n",
       "      <td>7.0</td>\n",
       "      <td>80.000000</td>\n",
       "      <td>36.514839</td>\n",
       "      <td>60.000000</td>\n",
       "      <td>60.000000</td>\n",
       "      <td>60.000000</td>\n",
       "      <td>80.000000</td>\n",
       "      <td>160.000000</td>\n",
       "    </tr>\n",
       "    <tr>\n",
       "      <th>minimum_touch_count_dilated_r_10</th>\n",
       "      <td>7.0</td>\n",
       "      <td>20.000000</td>\n",
       "      <td>0.000000</td>\n",
       "      <td>20.000000</td>\n",
       "      <td>20.000000</td>\n",
       "      <td>20.000000</td>\n",
       "      <td>20.000000</td>\n",
       "      <td>20.000000</td>\n",
       "    </tr>\n",
       "    <tr>\n",
       "      <th>maximum_touch_count_dilated_r_10</th>\n",
       "      <td>7.0</td>\n",
       "      <td>28.571428</td>\n",
       "      <td>10.690450</td>\n",
       "      <td>20.000000</td>\n",
       "      <td>20.000000</td>\n",
       "      <td>20.000000</td>\n",
       "      <td>40.000000</td>\n",
       "      <td>40.000000</td>\n",
       "    </tr>\n",
       "    <tr>\n",
       "      <th>minimum_touch_portion_dilated_r_10</th>\n",
       "      <td>7.0</td>\n",
       "      <td>0.279762</td>\n",
       "      <td>0.078743</td>\n",
       "      <td>0.125000</td>\n",
       "      <td>0.250000</td>\n",
       "      <td>0.333333</td>\n",
       "      <td>0.333333</td>\n",
       "      <td>0.333333</td>\n",
       "    </tr>\n",
       "    <tr>\n",
       "      <th>maximum_touch_portion_dilated_r_10</th>\n",
       "      <td>7.0</td>\n",
       "      <td>0.369048</td>\n",
       "      <td>0.094491</td>\n",
       "      <td>0.250000</td>\n",
       "      <td>0.333333</td>\n",
       "      <td>0.333333</td>\n",
       "      <td>0.416667</td>\n",
       "      <td>0.500000</td>\n",
       "    </tr>\n",
       "  </tbody>\n",
       "</table>\n",
       "<p>64 rows × 8 columns</p>\n",
       "</div>"
      ],
      "text/plain": [
       "                                        count       mean        std  \\\n",
       "label                                     7.0   4.000000   2.160247   \n",
       "touching_neighbor_count                   7.0   3.428571   1.133893   \n",
       "minimum_distance_of_touching_neighbors    7.0  28.852358   5.191000   \n",
       "average_distance_of_touching_neighbors    7.0  33.304363   4.184873   \n",
       "maximum_distance_of_touching_neighbors    7.0  38.092091   4.881063   \n",
       "...                                       ...        ...        ...   \n",
       "touch_count_sum_dilated_r_10              7.0  80.000000  36.514839   \n",
       "minimum_touch_count_dilated_r_10          7.0  20.000000   0.000000   \n",
       "maximum_touch_count_dilated_r_10          7.0  28.571428  10.690450   \n",
       "minimum_touch_portion_dilated_r_10        7.0   0.279762   0.078743   \n",
       "maximum_touch_portion_dilated_r_10        7.0   0.369048   0.094491   \n",
       "\n",
       "                                              min        25%        50%  \\\n",
       "label                                    1.000000   2.500000   4.000000   \n",
       "touching_neighbor_count                  3.000000   3.000000   3.000000   \n",
       "minimum_distance_of_touching_neighbors  22.360680  25.322475  28.284271   \n",
       "average_distance_of_touching_neighbors  29.325638  29.720537  33.329609   \n",
       "maximum_distance_of_touching_neighbors  31.622776  35.024488  36.055511   \n",
       "...                                           ...        ...        ...   \n",
       "touch_count_sum_dilated_r_10            60.000000  60.000000  60.000000   \n",
       "minimum_touch_count_dilated_r_10        20.000000  20.000000  20.000000   \n",
       "maximum_touch_count_dilated_r_10        20.000000  20.000000  20.000000   \n",
       "minimum_touch_portion_dilated_r_10       0.125000   0.250000   0.333333   \n",
       "maximum_touch_portion_dilated_r_10       0.250000   0.333333   0.333333   \n",
       "\n",
       "                                              75%         max  \n",
       "label                                    5.500000    7.000000  \n",
       "touching_neighbor_count                  3.000000    6.000000  \n",
       "minimum_distance_of_touching_neighbors  32.310547   36.055511  \n",
       "average_distance_of_touching_neighbors  35.328840   40.376572  \n",
       "maximum_distance_of_touching_neighbors  42.537106   43.843155  \n",
       "...                                           ...         ...  \n",
       "touch_count_sum_dilated_r_10            80.000000  160.000000  \n",
       "minimum_touch_count_dilated_r_10        20.000000   20.000000  \n",
       "maximum_touch_count_dilated_r_10        40.000000   40.000000  \n",
       "minimum_touch_portion_dilated_r_10       0.333333    0.333333  \n",
       "maximum_touch_portion_dilated_r_10       0.416667    0.500000  \n",
       "\n",
       "[64 rows x 8 columns]"
      ]
     },
     "execution_count": 6,
     "metadata": {},
     "output_type": "execute_result"
    }
   ],
   "source": [
    "stats.describe().T"
   ]
  },
  {
   "cell_type": "code",
   "execution_count": 7,
   "id": "72a060f0-8af7-4c6a-8a41-5e6eb18901b4",
   "metadata": {},
   "outputs": [
    {
     "name": "stdout",
     "output_type": "stream",
     "text": [
      "label\n",
      "touching_neighbor_count\n",
      "minimum_distance_of_touching_neighbors\n",
      "average_distance_of_touching_neighbors\n",
      "maximum_distance_of_touching_neighbors\n",
      "max_min_distance_ratio_of_touching_neighbors\n",
      "proximal_neighbor_count_d10\n",
      "proximal_neighbor_count_d20\n",
      "proximal_neighbor_count_d40\n",
      "proximal_neighbor_count_d80\n",
      "proximal_neighbor_count_d160\n",
      "maximum_distance_of_n1_nearest_neighbors\n",
      "average_distance_of_n1_nearest_neighbors\n",
      "maximum_distance_of_n2_nearest_neighbors\n",
      "average_distance_of_n2_nearest_neighbors\n",
      "maximum_distance_of_n3_nearest_neighbors\n",
      "average_distance_of_n3_nearest_neighbors\n",
      "maximum_distance_of_n4_nearest_neighbors\n",
      "average_distance_of_n4_nearest_neighbors\n",
      "maximum_distance_of_n5_nearest_neighbors\n",
      "average_distance_of_n5_nearest_neighbors\n",
      "maximum_distance_of_n6_nearest_neighbors\n",
      "average_distance_of_n6_nearest_neighbors\n",
      "maximum_distance_of_n7_nearest_neighbors\n",
      "average_distance_of_n7_nearest_neighbors\n",
      "maximum_distance_of_n8_nearest_neighbors\n",
      "average_distance_of_n8_nearest_neighbors\n",
      "maximum_distance_of_n10_nearest_neighbors\n",
      "average_distance_of_n10_nearest_neighbors\n",
      "maximum_distance_of_n20_nearest_neighbors\n",
      "average_distance_of_n20_nearest_neighbors\n",
      "distance_to_most_distant_other\n",
      "touch_portion_above_0_neighbor_count\n",
      "touch_portion_above_0.16_neighbor_count\n",
      "touch_portion_above_0.2_neighbor_count\n",
      "touch_portion_above_0.33_neighbor_count\n",
      "touch_portion_above_0.5_neighbor_count\n",
      "touch_portion_above_0.75_neighbor_count\n",
      "touch_count_sum\n",
      "minimum_touch_count\n",
      "maximum_touch_count\n",
      "minimum_touch_portion\n",
      "maximum_touch_portion\n",
      "standard_deviation_touch_portion\n",
      "touching_neighbor_count_dilated_r_5\n",
      "minimum_distance_of_touching_neighbors_dilated_r_5\n",
      "average_distance_of_touching_neighbors_dilated_r_5\n",
      "maximum_distance_of_touching_neighbors_dilated_r_5\n",
      "max_min_distance_ratio_of_touching_neighbors_dilated_r_5\n",
      "touch_count_sum_dilated_r_5\n",
      "minimum_touch_count_dilated_r_5\n",
      "maximum_touch_count_dilated_r_5\n",
      "minimum_touch_portion_dilated_r_5\n",
      "maximum_touch_portion_dilated_r_5\n",
      "touching_neighbor_count_dilated_r_10\n",
      "minimum_distance_of_touching_neighbors_dilated_r_10\n",
      "average_distance_of_touching_neighbors_dilated_r_10\n",
      "maximum_distance_of_touching_neighbors_dilated_r_10\n",
      "max_min_distance_ratio_of_touching_neighbors_dilated_r_10\n",
      "touch_count_sum_dilated_r_10\n",
      "minimum_touch_count_dilated_r_10\n",
      "maximum_touch_count_dilated_r_10\n",
      "minimum_touch_portion_dilated_r_10\n",
      "maximum_touch_portion_dilated_r_10\n"
     ]
    }
   ],
   "source": [
    "for k in stats.keys():\n",
    "    print(k)"
   ]
  },
  {
   "cell_type": "markdown",
   "id": "734c41d1-32b4-4ea2-9535-a88fa263db71",
   "metadata": {},
   "source": [
    "The following code snippets show how we can interpret that table. All examples refer to the labeled object `7` in the center of the label image shown above."
   ]
  },
  {
   "cell_type": "code",
   "execution_count": 8,
   "id": "e19217a5-d478-464d-b6e7-51582176c985",
   "metadata": {},
   "outputs": [
    {
     "name": "stdout",
     "output_type": "stream",
     "text": [
      "The label of the last object is 7\n"
     ]
    }
   ],
   "source": [
    "print(\"The label of the last object is\", \n",
    "      stats[\"label\"].tolist()[-1])"
   ]
  },
  {
   "cell_type": "code",
   "execution_count": 9,
   "id": "52f9eded-4d92-406e-888b-01f7bdd21ae3",
   "metadata": {},
   "outputs": [
    {
     "name": "stdout",
     "output_type": "stream",
     "text": [
      "The last object has 6.0 touching neighbors\n"
     ]
    }
   ],
   "source": [
    "print(\"The last object has\", \n",
    "      stats[\"touching_neighbor_count\"].tolist()[-1],\n",
    "     \"touching neighbors\")"
   ]
  },
  {
   "cell_type": "code",
   "execution_count": 10,
   "id": "b17dbf55-a7d8-44b7-a03a-afd871ea2aec",
   "metadata": {},
   "outputs": [
    {
     "name": "stdout",
     "output_type": "stream",
     "text": [
      "The maximum distance of any label centroid to any other is 43.843155\n"
     ]
    }
   ],
   "source": [
    "print(\"The maximum distance of any label centroid to any other is\", \n",
    "      stats[\"maximum_distance_of_touching_neighbors\"].max())"
   ]
  },
  {
   "cell_type": "code",
   "execution_count": 11,
   "id": "73567a74-b83e-4a9b-b8e0-9898cdc1846a",
   "metadata": {},
   "outputs": [
    {
     "name": "stdout",
     "output_type": "stream",
     "text": [
      "The last object has an average distance to its touching neighbors of 33.32960891723633\n"
     ]
    }
   ],
   "source": [
    "print(\"The last object has an average distance to its touching neighbors of\",\n",
    "     stats[\"average_distance_of_touching_neighbors\"].tolist()[-1]\n",
    "     )"
   ]
  },
  {
   "cell_type": "code",
   "execution_count": 12,
   "id": "3c187b25-c606-4260-84d8-ab5b521f68ed",
   "metadata": {},
   "outputs": [
    {
     "name": "stdout",
     "output_type": "stream",
     "text": [
      "The last object has an minimum distance to its touching neighbors of 31.62277603149414\n"
     ]
    }
   ],
   "source": [
    "print(\"The last object has an minimum distance to its touching neighbors of\",\n",
    "     stats[\"minimum_distance_of_touching_neighbors\"].tolist()[-1]\n",
    "     )"
   ]
  },
  {
   "cell_type": "code",
   "execution_count": 13,
   "id": "f9787526-fbc5-41d0-b30a-ec8f4792e2c3",
   "metadata": {},
   "outputs": [
    {
     "name": "stdout",
     "output_type": "stream",
     "text": [
      "The last object has an maximum distance to its touching neighbors of 36.055511474609375\n"
     ]
    }
   ],
   "source": [
    "print(\"The last object has an maximum distance to its touching neighbors of\",\n",
    "     stats[\"maximum_distance_of_touching_neighbors\"].tolist()[-1]\n",
    "     )"
   ]
  },
  {
   "cell_type": "code",
   "execution_count": 14,
   "id": "c6e78678-d763-455d-aec7-af09963a29b2",
   "metadata": {},
   "outputs": [
    {
     "name": "stdout",
     "output_type": "stream",
     "text": [
      "There are 0.0 objects around the last labeled object within a radius of 10 pixels\n",
      "There are 0.0 objects around the last labeled object within a radius of 20 pixels\n",
      "There are 6.0 objects around the last labeled object within a radius of 40 pixels\n",
      "There are 6.0 objects around the last labeled object within a radius of 80 pixels\n"
     ]
    }
   ],
   "source": [
    "for d in [10, 20, 40, 80]:\n",
    "    print(\"There are\",\n",
    "          stats[\"proximal_neighbor_count_d\" + str(d)].tolist()[-1],\n",
    "          \"objects around the last labeled object within a radius of\",\n",
    "          d,\n",
    "          \"pixels\"\n",
    "         )"
   ]
  },
  {
   "cell_type": "code",
   "execution_count": 15,
   "id": "7544c773-d918-4c8e-a989-21b40bfccd23",
   "metadata": {},
   "outputs": [
    {
     "name": "stdout",
     "output_type": "stream",
     "text": [
      "The 1. neighbor of the last label is 31.62277603149414 pixels away.\n",
      "The 2. neighbor of the last label is 31.62277603149414 pixels away.\n",
      "The 3. neighbor of the last label is 31.62277603149414 pixels away.\n",
      "The 4. neighbor of the last label is 32.99831771850586 pixels away.\n",
      "The 5. neighbor of the last label is 36.055511474609375 pixels away.\n",
      "The 6. neighbor of the last label is 36.055511474609375 pixels away.\n"
     ]
    }
   ],
   "source": [
    "for n in [1,2,3,4,5,6]:\n",
    "    print(\"The \" + str(n) + \". neighbor of the last label is\",\n",
    "          stats[\"maximum_distance_of_n\" + str(n) + \"_nearest_neighbors\"].tolist()[-1],\n",
    "          \"pixels away.\"\n",
    "    )"
   ]
  },
  {
   "cell_type": "code",
   "execution_count": 16,
   "id": "d9ff5a1a-2e04-41b1-954b-70f7e4b28f8f",
   "metadata": {},
   "outputs": [
    {
     "name": "stdout",
     "output_type": "stream",
     "text": [
      "The average distance to the 1 neighbors of the last label is 31.62277603149414 pixels.\n",
      "The average distance to the 2 neighbors of the last label is 31.62277603149414 pixels.\n",
      "The average distance to the 3 neighbors of the last label is 31.62277603149414 pixels.\n",
      "The average distance to the 4 neighbors of the last label is 31.966663360595703 pixels.\n",
      "The average distance to the 5 neighbors of the last label is 32.7844352722168 pixels.\n",
      "The average distance to the 6 neighbors of the last label is 33.32960891723633 pixels.\n"
     ]
    }
   ],
   "source": [
    "for n in [1,2,3,4,5,6]:\n",
    "    print(\"The average distance to the \" + str(n) + \" neighbors of the last label is\",\n",
    "          stats[\"average_distance_of_n\" + str(n) + \"_nearest_neighbors\"].tolist()[-1],\n",
    "          \"pixels.\"\n",
    "    )"
   ]
  },
  {
   "cell_type": "markdown",
   "id": "1bdc1f51-6908-4457-a8b0-0b12311d6fb2",
   "metadata": {},
   "source": [
    "## Tocuh count and touch portion\n",
    "Just for reader's convenience we visualize the label image again."
   ]
  },
  {
   "cell_type": "code",
   "execution_count": 17,
   "id": "a52ec48f-c03b-4f4f-8d0f-ed5fc599419f",
   "metadata": {},
   "outputs": [
    {
     "data": {
      "text/html": [
       "<table>\n",
       "<tr>\n",
       "<td>\n",
       "<img src=\"data:image/png;base64,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\"></img>\n",
       "</td>\n",
       "<td style=\"text-align: center; vertical-align: top;\">\n",
       "<b><a href=\"https://github.com/clEsperanto/pyclesperanto_prototype\" target=\"_blank\">cle._</a> image</b><br/>\n",
       "<table>\n",
       "<tr><td>shape</td><td>(80,&nbsp;80)</td></tr>\n",
       "<tr><td>dtype</td><td>uint32</td></tr>\n",
       "<tr><td>size</td><td>25.0 kB</td></tr>\n",
       "<tr><td>min</td><td>1.0</td></tr><tr><td>max</td><td>7.0</td></tr>\n",
       "</table>\n",
       "\n",
       "</td>\n",
       "</tr>\n",
       "</table>"
      ],
      "text/plain": [
       "cl.OCLArray([[1, 1, 1, ..., 3, 3, 3],\n",
       "       [1, 1, 1, ..., 3, 3, 3],\n",
       "       [1, 1, 1, ..., 3, 3, 3],\n",
       "       ...,\n",
       "       [5, 5, 5, ..., 4, 4, 4],\n",
       "       [5, 5, 5, ..., 4, 4, 4],\n",
       "       [5, 5, 5, ..., 4, 4, 4]], dtype=uint32)"
      ]
     },
     "execution_count": 17,
     "metadata": {},
     "output_type": "execute_result"
    }
   ],
   "source": [
    "labels"
   ]
  },
  {
   "cell_type": "code",
   "execution_count": 18,
   "id": "07b6bb22-d99f-43dc-b6bb-122d6b8eeda0",
   "metadata": {},
   "outputs": [
    {
     "name": "stdout",
     "output_type": "stream",
     "text": [
      "The last labelled object has 160.0 pixels where it touches others\n"
     ]
    }
   ],
   "source": [
    "print(\"The last labelled object has\", \n",
    "      stats[\"touch_count_sum\"].tolist()[-1],\n",
    "      \"pixels where it touches others\")"
   ]
  },
  {
   "cell_type": "code",
   "execution_count": 19,
   "id": "c3948bdf-fbf3-453f-917d-bb6f442cc1b8",
   "metadata": {},
   "outputs": [
    {
     "name": "stdout",
     "output_type": "stream",
     "text": [
      "The last labelled object touches an other object with at least 20.0 pixels\n"
     ]
    }
   ],
   "source": [
    "print(\"The last labelled object touches an other object with at least\", \n",
    "      stats[\"minimum_touch_count\"].tolist()[-1],\n",
    "      \"pixels\")"
   ]
  },
  {
   "cell_type": "code",
   "execution_count": 20,
   "id": "c35a35a1-3f23-4395-8a90-00b72ab17fae",
   "metadata": {},
   "outputs": [
    {
     "name": "stdout",
     "output_type": "stream",
     "text": [
      "The last labelled object touches an other object with up to 40.0 pixels\n"
     ]
    }
   ],
   "source": [
    "print(\"The last labelled object touches an other object with up to\", \n",
    "      stats[\"maximum_touch_count\"].tolist()[-1],\n",
    "      \"pixels\")"
   ]
  },
  {
   "cell_type": "code",
   "execution_count": 21,
   "id": "22d28dbb-c13a-45be-a542-07a1d52f1873",
   "metadata": {},
   "outputs": [
    {
     "name": "stdout",
     "output_type": "stream",
     "text": [
      "The last labelled object touches an other object with at least 12.5 percent of its border\n"
     ]
    }
   ],
   "source": [
    "print(\"The last labelled object touches an other object with at least\", \n",
    "      stats[\"minimum_touch_portion\"].tolist()[-1] * 100,\n",
    "      \"percent of its border\")"
   ]
  },
  {
   "cell_type": "code",
   "execution_count": 22,
   "id": "68498ed8-664a-414b-8145-9d0968aae32f",
   "metadata": {},
   "outputs": [
    {
     "name": "stdout",
     "output_type": "stream",
     "text": [
      "The last labelled object touches an other object with up to 25.0 percent of its border\n"
     ]
    }
   ],
   "source": [
    "print(\"The last labelled object touches an other object with up to\", \n",
    "      stats[\"maximum_touch_portion\"].tolist()[-1] * 100,\n",
    "      \"percent of its border\")"
   ]
  },
  {
   "cell_type": "markdown",
   "id": "e0534b4f-2784-4c53-b4ca-f4e8b980e2a4",
   "metadata": {},
   "source": [
    "## Visualization of statistics\n",
    "We can visualize those measurements in parametric map images.\n",
    "\n",
    "For visualization of the table columns as maps, we typically need to prefix the measurements with a `0`. This `0` represents the measurement of the background."
   ]
  },
  {
   "cell_type": "code",
   "execution_count": 23,
   "id": "27f65f82-e567-4d44-aeed-72911698b61c",
   "metadata": {},
   "outputs": [
    {
     "data": {
      "text/plain": [
       "[3.0, 3.0, 3.0, 3.0, 3.0, 3.0, 6.0]"
      ]
     },
     "execution_count": 23,
     "metadata": {},
     "output_type": "execute_result"
    }
   ],
   "source": [
    "stats[\"touching_neighbor_count\"].tolist()"
   ]
  },
  {
   "cell_type": "code",
   "execution_count": 24,
   "id": "2011c972-feeb-4588-af55-7d03b78e79e8",
   "metadata": {},
   "outputs": [
    {
     "data": {
      "text/html": [
       "<pre>cle.array([[0. 3. 3. 3. 3. 3. 3. 6.]], dtype=float32)</pre>"
      ],
      "text/plain": [
       "cl.OCLArray([[0., 3., 3., 3., 3., 3., 3., 6.]], dtype=float32)"
      ]
     },
     "execution_count": 24,
     "metadata": {},
     "output_type": "execute_result"
    }
   ],
   "source": [
    "list_of_measurements = cle.prefix_in_x([stats[\"touching_neighbor_count\"].tolist()])\n",
    "list_of_measurements"
   ]
  },
  {
   "cell_type": "code",
   "execution_count": 25,
   "id": "e6d09d49-a594-4acf-ae6c-36218276dd5f",
   "metadata": {},
   "outputs": [
    {
     "data": {
      "text/html": [
       "<table>\n",
       "<tr>\n",
       "<td>\n",
       "<img src=\"data:image/png;base64,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\"></img>\n",
       "</td>\n",
       "<td style=\"text-align: center; vertical-align: top;\">\n",
       "<b><a href=\"https://github.com/clEsperanto/pyclesperanto_prototype\" target=\"_blank\">cle._</a> image</b><br/>\n",
       "<table>\n",
       "<tr><td>shape</td><td>(80,&nbsp;80)</td></tr>\n",
       "<tr><td>dtype</td><td>float32</td></tr>\n",
       "<tr><td>size</td><td>25.0 kB</td></tr>\n",
       "<tr><td>min</td><td>3.0</td></tr><tr><td>max</td><td>6.0</td></tr>\n",
       "</table>\n",
       "<img src=\"data:image/png;base64,iVBORw0KGgoAAAANSUhEUgAAAIEAAABWCAYAAADom/XHAAAAOXRFWHRTb2Z0d2FyZQBNYXRwbG90bGliIHZlcnNpb24zLjUuMiwgaHR0cHM6Ly9tYXRwbG90bGliLm9yZy8qNh9FAAAACXBIWXMAAAsTAAALEwEAmpwYAAABGUlEQVR4nO3csW0CQRBA0b+WS4DYWyaN0cVRBLHdw7oFrDuEkN+LR6MJvm6zG2ut+N8+Xn0ArycCRIAISAQkAhIBiYBEQPW5d8HpdFpzzgNO4Si32+1nrXV+dH53BHPOtm3bu4YDjTHuf5n3HPCcCObl2rxcn7GaJ/AlQASIgERAIiARkAhIBCQCEgGJgERAIiARkAhIBCQCEgGJgERAIiARkAhIBCQCEgGJgERAIiARkAhIBCQCEgGJgERAIiARkAhIBCSCt3XkD0NFgAgQAYmAREAiIBGQCEgEJAISAYmAREAiIBGQCEgEJAISAYmAaqy19i0Y47u6H3MOB/laa50fHd4dAe/Pc4AIEAGJgERAIiARkAhIBFS/mFcfgX5DLoUAAAAASUVORK5CYII=\"></img>\n",
       "</td>\n",
       "</tr>\n",
       "</table>"
      ],
      "text/plain": [
       "cl.OCLArray([[3., 3., 3., ..., 3., 3., 3.],\n",
       "       [3., 3., 3., ..., 3., 3., 3.],\n",
       "       [3., 3., 3., ..., 3., 3., 3.],\n",
       "       ...,\n",
       "       [3., 3., 3., ..., 3., 3., 3.],\n",
       "       [3., 3., 3., ..., 3., 3., 3.],\n",
       "       [3., 3., 3., ..., 3., 3., 3.]], dtype=float32)"
      ]
     },
     "execution_count": 25,
     "metadata": {},
     "output_type": "execute_result"
    }
   ],
   "source": [
    "cle.replace_intensities(labels, list_of_measurements)"
   ]
  },
  {
   "cell_type": "markdown",
   "id": "f47a73e6-1f9f-4fb8-98c2-70dd6fda943c",
   "metadata": {},
   "source": [
    "As more realistic example, we visualize the measurements in an image stack of a Tribolium embryo. The dataset, curtesy of Daniela Vorkel / Myers lab / MPI-CBG / CSBD can be [downloaded here](https://github.com/clEsperanto/clesperanto_example_data/blob/main/Lund-100MB.tif). "
   ]
  },
  {
   "cell_type": "code",
   "execution_count": 26,
   "id": "ed12c5ef-9cde-4b1e-a7e1-eeabe8439130",
   "metadata": {},
   "outputs": [],
   "source": [
    "embryo = imread(\"../../../clesperanto_example_data/Lund-100MB.tif\")[3]\n",
    "\n",
    "bg_subtracted = cle.top_hat_box(embryo, radius_x=5, radius_y=5)\n",
    "\n",
    "nuclei_labels = cle.voronoi_otsu_labeling(bg_subtracted, spot_sigma=0.5, outline_sigma=1)\n",
    "\n",
    "cell_estimation = cle.dilate_labels(nuclei_labels, radius=12)"
   ]
  },
  {
   "cell_type": "code",
   "execution_count": 27,
   "id": "21bfab9d-baee-4b6e-8320-a981b7b7e1b9",
   "metadata": {},
   "outputs": [
    {
     "data": {
      "image/png": "[encoded data removed]",
      "text/plain": [
       "<Figure size 720x720 with 4 Axes>"
      ]
     },
     "metadata": {
      "needs_background": "light"
     },
     "output_type": "display_data"
    }
   ],
   "source": [
    "fig, axs = plt.subplots(1, 4, figsize=(10,10))\n",
    "\n",
    "axs[0].set_title(\"Raw\")\n",
    "cle.imshow(embryo, plot=axs[0])\n",
    "axs[1].set_title(\"Background subtracted\")\n",
    "cle.imshow(bg_subtracted, plot=axs[1])\n",
    "axs[2].set_title(\"Nuclei segmentation\")\n",
    "cle.imshow(nuclei_labels, plot=axs[2], labels=True)\n",
    "axs[3].set_title(\"Cell estimation\")\n",
    "cle.imshow(cell_estimation, plot=axs[3], labels=True)"
   ]
  },
  {
   "cell_type": "code",
   "execution_count": null,
   "id": "0620605a-9b59-42d3-bfe9-fa7d2f540569",
   "metadata": {},
   "outputs": [],
   "source": [
    "tribolium_statistics = pd.DataFrame(cle.statistics_of_labelled_neighbors(cell_estimation))\n",
    "tribolium_statistics.head()"
   ]
  },
  {
   "cell_type": "code",
   "execution_count": null,
   "id": "cc2ec4f6-02c5-4600-8d9b-42517ff87e94",
   "metadata": {},
   "outputs": [],
   "source": [
    "def visualize(label_image, statistics, column):\n",
    "    list_of_measurements = cle.prefix_in_x([statistics[column].tolist()])\n",
    "    \n",
    "    return cle.replace_intensities(label_image, list_of_measurements)"
   ]
  },
  {
   "cell_type": "code",
   "execution_count": null,
   "id": "ea87ecbd-4757-467e-aa0d-548eceffa58d",
   "metadata": {},
   "outputs": [],
   "source": [
    "visualize(cell_estimation, tribolium_statistics, \"label\")"
   ]
  },
  {
   "cell_type": "markdown",
   "id": "0a938830-fa56-4eea-b868-8860b0475696",
   "metadata": {},
   "source": [
    "### Number of touching neighbors and proximal neighbors"
   ]
  },
  {
   "cell_type": "code",
   "execution_count": null,
   "id": "368cb0a1-24e4-454b-a92c-e628c55ecbf3",
   "metadata": {},
   "outputs": [],
   "source": [
    "visualize(cell_estimation, tribolium_statistics, \"touching_neighbor_count\")"
   ]
  },
  {
   "cell_type": "code",
   "execution_count": null,
   "id": "7c4df2d9-7b6e-4924-a947-d72a5d579934",
   "metadata": {},
   "outputs": [],
   "source": [
    "visualize(cell_estimation, tribolium_statistics, \"proximal_neighbor_count_d10\")"
   ]
  },
  {
   "cell_type": "code",
   "execution_count": null,
   "id": "81219e01-ac2c-4a9e-a7c3-6fdd151f6ecc",
   "metadata": {},
   "outputs": [],
   "source": [
    "visualize(cell_estimation, tribolium_statistics, \"proximal_neighbor_count_d20\")"
   ]
  },
  {
   "cell_type": "code",
   "execution_count": null,
   "id": "a1e2c91e-d1c4-4a24-9e71-422f81111e86",
   "metadata": {},
   "outputs": [],
   "source": [
    "visualize(cell_estimation, tribolium_statistics, \"proximal_neighbor_count_d40\")"
   ]
  },
  {
   "cell_type": "markdown",
   "id": "2cc75c39-15ae-4034-b9c1-8bd4082eb146",
   "metadata": {},
   "source": [
    "### Distances to touching neighbors"
   ]
  },
  {
   "cell_type": "code",
   "execution_count": null,
   "id": "02878043-cf73-4ac3-8531-2b23e934dcde",
   "metadata": {},
   "outputs": [],
   "source": [
    "visualize(cell_estimation, tribolium_statistics, \"minimum_distance_of_touching_neighbors\")"
   ]
  },
  {
   "cell_type": "code",
   "execution_count": null,
   "id": "693675a0-df78-4131-9e7f-5bd2c1904d1c",
   "metadata": {},
   "outputs": [],
   "source": [
    "visualize(cell_estimation, tribolium_statistics, \"average_distance_of_touching_neighbors\")"
   ]
  },
  {
   "cell_type": "code",
   "execution_count": null,
   "id": "6c1288b0-6e00-4c4c-9ad4-f208870f90b0",
   "metadata": {},
   "outputs": [],
   "source": [
    "visualize(cell_estimation, tribolium_statistics, \"maximum_distance_of_touching_neighbors\")"
   ]
  },
  {
   "cell_type": "markdown",
   "id": "97777408-8516-4a51-8fcf-9863a745f8d5",
   "metadata": {},
   "source": [
    "### Distance to nearest neighbors"
   ]
  },
  {
   "cell_type": "code",
   "execution_count": null,
   "id": "ac4a6ed6-9443-4536-958a-c8edf3269429",
   "metadata": {},
   "outputs": [],
   "source": [
    "visualize(cell_estimation, tribolium_statistics, \"maximum_distance_of_n1_nearest_neighbors\")"
   ]
  },
  {
   "cell_type": "code",
   "execution_count": null,
   "id": "d006f8c0-2637-47a5-9a83-f2434ab198ee",
   "metadata": {},
   "outputs": [],
   "source": [
    "visualize(cell_estimation, tribolium_statistics, \"maximum_distance_of_n6_nearest_neighbors\")"
   ]
  },
  {
   "cell_type": "code",
   "execution_count": null,
   "id": "09451225-0da1-4609-ac2e-bf2d5cdc0710",
   "metadata": {},
   "outputs": [],
   "source": [
    "visualize(cell_estimation, tribolium_statistics, \"maximum_distance_of_n10_nearest_neighbors\")"
   ]
  },
  {
   "cell_type": "markdown",
   "id": "30e65657-d813-4f06-8581-404650503532",
   "metadata": {},
   "source": [
    "### Distance to the most distant other label"
   ]
  },
  {
   "cell_type": "code",
   "execution_count": null,
   "id": "6d8584f2-b470-461c-b01a-35a442e1a034",
   "metadata": {},
   "outputs": [],
   "source": [
    "visualize(cell_estimation, tribolium_statistics, \"distance_to_most_distant_other\")"
   ]
  },
  {
   "cell_type": "markdown",
   "id": "0101dee8-43db-4b17-b099-ee9df5f9b149",
   "metadata": {},
   "source": [
    "### Touch count\n",
    "Touch count is the number of voxels labels touch others."
   ]
  },
  {
   "cell_type": "code",
   "execution_count": null,
   "id": "32cf884f-4125-40c1-a1c0-7c788fcaac61",
   "metadata": {},
   "outputs": [],
   "source": [
    "visualize(cell_estimation, tribolium_statistics, \"touch_count_sum\")"
   ]
  },
  {
   "cell_type": "code",
   "execution_count": null,
   "id": "74dba3d1-346d-4e04-8872-cc627048f1a8",
   "metadata": {},
   "outputs": [],
   "source": [
    "visualize(cell_estimation, tribolium_statistics, \"minimum_touch_count\")"
   ]
  },
  {
   "cell_type": "code",
   "execution_count": null,
   "id": "f483ff3c-182a-4029-bbe6-aa2b60960f25",
   "metadata": {},
   "outputs": [],
   "source": [
    "visualize(cell_estimation, tribolium_statistics, \"maximum_touch_count\")"
   ]
  },
  {
   "cell_type": "markdown",
   "id": "8edd095a-e9b1-4f7f-a72f-d7240b0db4f0",
   "metadata": {},
   "source": [
    "### Touch portion\n",
    "Touch portion is the relative amount of pixels where objects touch one other object divided by the number of all pixels where the object touches others."
   ]
  },
  {
   "cell_type": "code",
   "execution_count": null,
   "id": "7a900a57-640f-4dd7-988d-6bee8f9ff72a",
   "metadata": {},
   "outputs": [],
   "source": [
    "visualize(cell_estimation, tribolium_statistics, \"minimum_touch_portion\")"
   ]
  },
  {
   "cell_type": "code",
   "execution_count": null,
   "id": "5ffa76f0-0204-4cb7-867d-32af5192d719",
   "metadata": {},
   "outputs": [],
   "source": [
    "visualize(cell_estimation, tribolium_statistics, \"maximum_touch_portion\")"
   ]
  },
  {
   "cell_type": "code",
   "execution_count": null,
   "id": "08ab71b0-88b3-4b12-b37e-c579e4b4d0d0",
   "metadata": {},
   "outputs": [],
   "source": [
    "visualize(cell_estimation, tribolium_statistics, \"standard_deviation_touch_portion\")"
   ]
  },
  {
   "cell_type": "code",
   "execution_count": null,
   "id": "7adbd75a-cdb4-46f0-a858-8795b8f8c081",
   "metadata": {},
   "outputs": [],
   "source": []
  }
 ],
 "metadata": {
  "kernelspec": {
   "display_name": "Python 3 (ipykernel)",
   "language": "python",
   "name": "python3"
  },
  "language_info": {
   "codemirror_mode": {
    "name": "ipython",
    "version": 3
   },
   "file_extension": ".py",
   "mimetype": "text/x-python",
   "name": "python",
   "nbconvert_exporter": "python",
   "pygments_lexer": "ipython3",
   "version": "3.9.13"
  }
 },
 "nbformat": 4,
 "nbformat_minor": 5
}
