{
 "cells": [
  {
   "cell_type": "code",
   "execution_count": 1,
   "id": "672540b3-f92d-45e4-a440-aa1dc98b5b5d",
   "metadata": {},
   "outputs": [],
   "source": [
    "import numpy as np\n",
    "import pyclesperanto_prototype as cle"
   ]
  },
  {
   "cell_type": "code",
   "execution_count": 2,
   "id": "15960938-b036-476a-b3b9-bb7681d37390",
   "metadata": {},
   "outputs": [
    {
     "data": {
      "text/html": [
       "<table>\n",
       "<tr>\n",
       "<td>\n",
       "<img src=\"data:image/png;base64,iVBORw0KGgoAAAANSUhEUgAAAbAAAAEgCAYAAADVKCZpAAAAOXRFWHRTb2Z0d2FyZQBNYXRwbG90bGliIHZlcnNpb24zLjUuMiwgaHR0cHM6Ly9tYXRwbG90bGliLm9yZy8qNh9FAAAACXBIWXMAAAsTAAALEwEAmpwYAAANiElEQVR4nO3cX6yfBX3H8c93BYOomzCBdIBDE7JozMSkYSTsAkUMU2PNEpwmLr1g6Y1LMHNR9GbRxMwr481umkls4r+RKIM4s9nUMbfEKWXigIGDGIKEhjqZiiNqwO8uzs/sUAuRIed5vvT1Sprn9zw9v55PWsr793vOgeruAMA0v7b0AAD4/xAwAEYSMABGEjAARhIwAEYSMABGEjAARhIwAEYSMABGEjAARhIwAEYSMABGEjAARhIwAEYSMABGEjAARhIwAEYSMABGEjAARhIwAEYSMABGEjAARhIwAEYSMABGEjAARhIwAEYSMABGEjAARhIwAEYSMABGEjAARhKwFaqqK6vqW1V1b1Vdu/QegDWq7l56A9tU1a4k/5nkiiQPJLklyTu6+z8WHQawMt6Brc/FSe7t7m9390+TfDbJ3oU3AazOKUsP4Becm+Q7284fSPJ7T/WEl5xefcGLvRaZ5PZ++dITeBoe+8GxPP7oD2rpHTyRgK3Pif6S/MJ93qran2R/krz0NypH9r/w2d7Fr9AFP/7Y0hN4Go4efPfSEzgBL9vX54Ek5287Py/Jg8d/UHcf6O493b3nrNO9MAROPgK2PrckubCqXlZVz0vy9iQ3LbwJYHXcQlyZ7n6sqv40yT8k2ZXkuu6+c+FZAKsjYCvU3V9M8sWldwCsmVuIAIwkYACMJGAAjCRgAIwkYACMJGAAjCRgAIwkYACMJGAAjCRgAIwkYACMJGAAjCRgAIwkYACMJGAAjCRgAIwkYACMJGAAjCRgAIwkYACMJGAAjCRgAIwkYACMJGAAjCRgAIwkYACMJGAAjCRgAIwkYAupquuq6lhV3bHt2plVdaiq7tkcz1hyI8CaCdhyPpHkyuOuXZvkcHdfmOTw5hyAExCwhXT3V5I8fNzlvUkObh4fTPLWndwEMImArcs53X00STbHsxfeA7BaAjZUVe2vqiNVdeS7j/bScwB2nICty0NVtTtJNsdjT/aB3X2gu/d0956zTq8dGwiwFgK2Ljcl2bd5vC/JjQtuAVg1AVtIVX0myVeT/E5VPVBVVyf5SJIrquqeJFdszgE4gVOWHnCy6u53PMlPXb6jQwCG8g4MgJEEDICRBAyAkQQMgJEEDICRBAyAkQQMgJEEDICRBAyAkQQMgJEEDICRBAyAkQQMgJEEDICRBAyAkQQMgJEEDICRBAyAkQQMgJEEDICRBAyAkQQMgJEEDICRBAyAkQQMgJEEDICRBAyAkQRsIVV1flX9Y1XdVVV3VtU1m+tnVtWhqrpnczxj6a0AayRgy3ksyXu6+xVJLknyrqp6ZZJrkxzu7guTHN6cA3CcU5YecLLq7qNJjm4eP1JVdyU5N8neJJdtPuxgkpuTvG+Bic8pf/J3/7r0hCc4/eG/XHrCEzx61R8tPQGeNu/AVqCqLkjymiRfS3LOJm4/j9zZC04DWC0BW1hVvTDJ55K8u7t/+DSet7+qjlTVke8+2s/eQICVErAFVdWp2YrXp7r785vLD1XV7s3P705y7ETP7e4D3b2nu/ecdXrtzGCAFRGwhVRVJfl4kru6+6PbfuqmJPs2j/cluXGntwFM4Js4lnNpkj9OcntV3ba59oEkH0lyfVVdneT+JFctMw9g3QRsId39L0me7N7f5Tu5BWAitxABGEnAABhJwAAYScAAGEnAABhJwAAYScAAGEnAABhJwAAYScAAGEnAABhJwAAYScAAGEnAABhJwAAYScAAGEnAABhJwAAYScAAGEnAABhJwAAYScAAGEnAABhJwAAYScAAGEnAABhJwAAYScAWUlWnVdXXq+qbVXVnVX1wc/3MqjpUVfdsjmcsvRVgjQRsOT9J8rrufnWSi5JcWVWXJLk2yeHuvjDJ4c05AMc5ZekBJ6vu7iQ/2pyeuvnRSfYmuWxz/WCSm5O876l+rR8//Lzc9dnfelZ2Pme8aOkBT/TBf3pk6QlP8KHDXic9lYdOe2DpCZyAd2ALqqpdVXVbkmNJDnX315Kc091Hk2RzPHvBiQCrJWAL6u7Hu/uiJOclubiqXvXLPreq9lfVkao68vDjjz1rGwHWSsBWoLu/n61bhVcmeaiqdifJ5njsSZ5zoLv3dPeeM3e5EwycfARsIVV1VlW9ePP4+Ulen+TuJDcl2bf5sH1JblxkIMDKeem+nN1JDlbVrmy9kLi+u79QVV9Ncn1VXZ3k/iRXLTkSYK0EbCHd/e9JXnOC699LcvnOLwKYxS1EAEYSMABGEjAARhIwAEYSMABGEjAARhIwAEYSMABGEjAARhIwAEYSMABGEjAARhIwAEYSMABGEjAARhIwAEYSMABGEjAARhIwAEYSMABGEjAARhIwAEYSMABGEjAARhIwAEYSMABGEjAARhKwBVXVrqr6RlV9YXN+ZlUdqqp7Nsczlt4IsFYCtqxrkty17fzaJIe7+8IkhzfnAJzAKUsPOFlV1XlJ3pTkw0n+bHN5b5LLNo8PJrk5yft2ettz0Xse+cOlJzzB2w77qwfPlHdgy/lYkvcm+dm2a+d099Ek2RzPXmAXwAgCtoCqenOSY9196zP4NfZX1ZGqOvLw44/9CtcBzOA+xjIuTfKWqnpjktOS/HpVfTLJQ1W1u7uPVtXuJMee7Bfo7gNJDiTJq057fu/EaIA18Q5sAd39/u4+r7svSPL2JF/u7ncmuSnJvs2H7Uty40ITAVZPwNblI0muqKp7klyxOQfgBNxCXFh335yt7zZMd38vyeVL7gGYwjswAEYSMABGEjAARhIwAEYSMABGEjAARhIwAEYSMABGEjAARhIwAEYSMABGEjAARhIwAEYSMABGEjAARhIwAEYSMABGEjAARhIwAEYSMABGEjAARhIwAEYSMABGEjAARhIwAEYSMABGEjAARhIwAEY6ZekBJ7Oqui/JI0keT/JYd++pqjOT/E2SC5Lcl+Rt3f3fS20EWCvvwJb32u6+qLv3bM6vTXK4uy9McnhzDsBxBGx99iY5uHl8MMlbl5sCsF4CtqxO8qWqurWq9m+undPdR5Nkczx7sXUAK+ZrYMu6tLsfrKqzkxyqqrt/2Sdugrc/SXaf4o8ROPl4B7ag7n5wczyW5IYkFyd5qKp2J8nmeOxJnnugu/d0954zdwkYcPIRsIVU1Quq6kU/f5zkDUnuSHJTkn2bD9uX5MZlFgKsm5fuyzknyQ1VlWz9OXy6u/++qm5Jcn1VXZ3k/iRXLbgRYLUEbCHd/e0krz7B9e8luXznFwHM4hYiACMJGAAjCRgAIwkYACMJGAAjCRgAIwkYACMJGAAjCRgAIwkYACMJGAAjCRgAIwkYACMJGAAjCRgAIwkYACMJGAAjCRgAIwkYACMJGAAjCRgAIwkYACMJGAAjCRgAIwkYACMJGAAjCRgAIwkYACMJGAAjVXcvvYFnqKq+m+R/kvzX0luO85Ksa5M9T21te5L1bPrt7j5r6RE8kYA9R1TVke7es/SO7da2yZ6ntrY9yTo3sR5uIQIwkoABMJKAPXccWHrACaxtkz1PbW17knVuYiV8DQyAkbwDA2AkAXsOqKorq+pbVXVvVV27wOe/rqqOVdUd266dWVWHquqezfGMHdxzflX9Y1XdVVV3VtU1K9h0WlV9vaq+udn0waU3bT7/rqr6RlV9Yek9VXVfVd1eVbdV1ZGl97B+AjZcVe1K8ldJ/iDJK5O8o6peucMzPpHkyuOuXZvkcHdfmOTw5nynPJbkPd39iiSXJHnX5vdkyU0/SfK67n51kouSXFlVlyy8KUmuSXLXtvOl97y2uy/a9q3zS+9hxQRsvouT3Nvd3+7unyb5bJK9Ozmgu7+S5OHjLu9NcnDz+GCSt+7gnqPd/W+bx49k61/Q5y68qbv7R5vTUzc/eslNVXVekjcl+ettlxfb8yTWtocVEbD5zk3ynW3nD2yuLe2c7j6abAUlydlLjKiqC5K8JsnXlt60uV13W5JjSQ5199KbPpbkvUl+tu3akns6yZeq6taq2r+CPazcKUsP4BmrE1zzraVJquqFST6X5N3d/cOqE/1W7ZzufjzJRVX14iQ3VNWrltpSVW9Ocqy7b62qy5bacZxLu/vBqjo7yaGqunvpQaybd2DzPZDk/G3n5yV5cKEt2z1UVbuTZHM8tpOfvKpOzVa8PtXdn1/Dpp/r7u8nuTlbXzdcatOlSd5SVfdl67bz66rqkwvuSXc/uDkeS3JDtm6Pr+LPjHUSsPluSXJhVb2sqp6X5O1Jblp4U7K1Yd/m8b4kN+7UJ66tt1ofT3JXd390JZvO2rzzSlU9P8nrk9y91Kbufn93n9fdF2Trn5kvd/c7l9pTVS+oqhf9/HGSNyS5Y6k9zOA/ZH4OqKo3ZuvrGbuSXNfdH97hz/+ZJJdl6/8c/lCSv0jyt0muT/LSJPcnuaq7j/9Gj2drz+8n+eckt+f/vr7zgWx9HWypTb+brW9C2JWtF47Xd/eHquo3l9q0bdtlSf68u9+81J6qenm23nUlW1/a+HR3f3gNvz+sl4ABMJJbiACMJGAAjCRgAIwkYACMJGAAjCRgAIwkYACMJGAAjCRgAIwkYACMJGAAjCRgAIwkYACMJGAAjCRgAIwkYACMJGAAjCRgAIwkYACMJGAAjPS/44VVETT88ZQAAAAASUVORK5CYII=\"></img>\n",
       "</td>\n",
       "<td style=\"text-align: center; vertical-align: top;\">\n",
       "<b><a href=\"https://github.com/clEsperanto/pyclesperanto_prototype\" target=\"_blank\">cle._</a> image</b><br/>\n",
       "<table>\n",
       "<tr><td>shape</td><td>(60,&nbsp;60)</td></tr>\n",
       "<tr><td>dtype</td><td>uint32</td></tr>\n",
       "<tr><td>size</td><td>14.1 kB</td></tr>\n",
       "<tr><td>min</td><td>1.0</td></tr><tr><td>max</td><td>7.0</td></tr>\n",
       "</table>\n",
       "\n",
       "</td>\n",
       "</tr>\n",
       "</table>"
      ],
      "text/plain": [
       "cl.OCLArray([[1, 1, 1, ..., 2, 2, 2],\n",
       "       [1, 1, 1, ..., 2, 2, 2],\n",
       "       [1, 1, 1, ..., 2, 2, 2],\n",
       "       ...,\n",
       "       [4, 4, 4, ..., 3, 3, 3],\n",
       "       [4, 4, 4, ..., 3, 3, 3],\n",
       "       [4, 4, 4, ..., 3, 3, 3]], dtype=uint32)"
      ]
     },
     "execution_count": 2,
     "metadata": {},
     "output_type": "execute_result"
    }
   ],
   "source": [
    "labels = cle.scale(cle.asarray([\n",
    "    [1, 1, 1, 2, 2, 2],\n",
    "    [1, 1, 1, 2, 2, 2],\n",
    "    [1, 1, 5, 6, 2, 2],\n",
    "    [4, 4, 5, 7, 3, 3],\n",
    "    [4, 4, 4, 3, 3, 3],\n",
    "    [4, 4, 4, 3, 3, 3],\n",
    "]), factor_x=10, factor_y=10, auto_size=True).astype(np.uint32)\n",
    "labels"
   ]
  },
  {
   "cell_type": "code",
   "execution_count": 3,
   "id": "367d8651-bcd5-422c-af71-e1f9125fecc6",
   "metadata": {},
   "outputs": [
    {
     "data": {
      "text/html": [
       "<table>\n",
       "<tr>\n",
       "<td>\n",
       "<img src=\"data:image/png;base64,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\"></img>\n",
       "</td>\n",
       "<td style=\"text-align: center; vertical-align: top;\">\n",
       "<b><a href=\"https://github.com/clEsperanto/pyclesperanto_prototype\" target=\"_blank\">cle._</a> image</b><br/>\n",
       "<table>\n",
       "<tr><td>shape</td><td>(60,&nbsp;60)</td></tr>\n",
       "<tr><td>dtype</td><td>uint32</td></tr>\n",
       "<tr><td>size</td><td>14.1 kB</td></tr>\n",
       "<tr><td>min</td><td>1.0</td></tr><tr><td>max</td><td>6.0</td></tr>\n",
       "</table>\n",
       "\n",
       "</td>\n",
       "</tr>\n",
       "</table>"
      ],
      "text/plain": [
       "cl.OCLArray([[1, 1, 1, ..., 2, 2, 2],\n",
       "       [1, 1, 1, ..., 2, 2, 2],\n",
       "       [1, 1, 1, ..., 2, 2, 2],\n",
       "       ...,\n",
       "       [4, 4, 4, ..., 3, 3, 3],\n",
       "       [4, 4, 4, ..., 3, 3, 3],\n",
       "       [4, 4, 4, ..., 3, 3, 3]], dtype=uint32)"
      ]
     },
     "execution_count": 3,
     "metadata": {},
     "output_type": "execute_result"
    }
   ],
   "source": [
    "cle.merge_small_touching_labels(labels, maximum_pixel_count=200)"
   ]
  },
  {
   "cell_type": "code",
   "execution_count": 4,
   "id": "093f1d81-4338-434b-83c7-561da0347fac",
   "metadata": {},
   "outputs": [
    {
     "data": {
      "text/html": [
       "<table>\n",
       "<tr>\n",
       "<td>\n",
       "<img src=\"data:image/png;base64,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\"></img>\n",
       "</td>\n",
       "<td style=\"text-align: center; vertical-align: top;\">\n",
       "<b><a href=\"https://github.com/clEsperanto/pyclesperanto_prototype\" target=\"_blank\">cle._</a> image</b><br/>\n",
       "<table>\n",
       "<tr><td>shape</td><td>(60,&nbsp;60)</td></tr>\n",
       "<tr><td>dtype</td><td>uint32</td></tr>\n",
       "<tr><td>size</td><td>14.1 kB</td></tr>\n",
       "<tr><td>min</td><td>1.0</td></tr><tr><td>max</td><td>5.0</td></tr>\n",
       "</table>\n",
       "\n",
       "</td>\n",
       "</tr>\n",
       "</table>"
      ],
      "text/plain": [
       "cl.OCLArray([[1, 1, 1, ..., 2, 2, 2],\n",
       "       [1, 1, 1, ..., 2, 2, 2],\n",
       "       [1, 1, 1, ..., 2, 2, 2],\n",
       "       ...,\n",
       "       [4, 4, 4, ..., 3, 3, 3],\n",
       "       [4, 4, 4, ..., 3, 3, 3],\n",
       "       [4, 4, 4, ..., 3, 3, 3]], dtype=uint32)"
      ]
     },
     "execution_count": 4,
     "metadata": {},
     "output_type": "execute_result"
    }
   ],
   "source": [
    "cle.merge_small_touching_labels(labels, maximum_pixel_count=400)"
   ]
  },
  {
   "cell_type": "code",
   "execution_count": 5,
   "id": "1a56d07e-e3ee-47f4-85c3-75d2d15ad866",
   "metadata": {},
   "outputs": [
    {
     "data": {
      "text/html": [
       "<table>\n",
       "<tr>\n",
       "<td>\n",
       "<img src=\"data:image/png;base64,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\"></img>\n",
       "</td>\n",
       "<td style=\"text-align: center; vertical-align: top;\">\n",
       "<b><a href=\"https://github.com/clEsperanto/pyclesperanto_prototype\" target=\"_blank\">cle._</a> image</b><br/>\n",
       "<table>\n",
       "<tr><td>shape</td><td>(60,&nbsp;60)</td></tr>\n",
       "<tr><td>dtype</td><td>uint32</td></tr>\n",
       "<tr><td>size</td><td>14.1 kB</td></tr>\n",
       "<tr><td>min</td><td>1.0</td></tr><tr><td>max</td><td>3.0</td></tr>\n",
       "</table>\n",
       "\n",
       "</td>\n",
       "</tr>\n",
       "</table>"
      ],
      "text/plain": [
       "cl.OCLArray([[1, 1, 1, ..., 2, 2, 2],\n",
       "       [1, 1, 1, ..., 2, 2, 2],\n",
       "       [1, 1, 1, ..., 2, 2, 2],\n",
       "       ...,\n",
       "       [1, 1, 1, ..., 3, 3, 3],\n",
       "       [1, 1, 1, ..., 3, 3, 3],\n",
       "       [1, 1, 1, ..., 3, 3, 3]], dtype=uint32)"
      ]
     },
     "execution_count": 5,
     "metadata": {},
     "output_type": "execute_result"
    }
   ],
   "source": [
    "cle.merge_small_touching_labels(labels, maximum_pixel_count=1000)"
   ]
  },
  {
   "cell_type": "code",
   "execution_count": 6,
   "id": "f3cb1982-fee7-4558-b7f1-476592134db5",
   "metadata": {},
   "outputs": [
    {
     "data": {
      "text/html": [
       "<table>\n",
       "<tr>\n",
       "<td>\n",
       "<img src=\"data:image/png;base64,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\"></img>\n",
       "</td>\n",
       "<td style=\"text-align: center; vertical-align: top;\">\n",
       "<b><a href=\"https://github.com/clEsperanto/pyclesperanto_prototype\" target=\"_blank\">cle._</a> image</b><br/>\n",
       "<table>\n",
       "<tr><td>shape</td><td>(60,&nbsp;60)</td></tr>\n",
       "<tr><td>dtype</td><td>uint32</td></tr>\n",
       "<tr><td>size</td><td>14.1 kB</td></tr>\n",
       "<tr><td>min</td><td>1.0</td></tr><tr><td>max</td><td>2.0</td></tr>\n",
       "</table>\n",
       "\n",
       "</td>\n",
       "</tr>\n",
       "</table>"
      ],
      "text/plain": [
       "cl.OCLArray([[1, 1, 1, ..., 2, 2, 2],\n",
       "       [1, 1, 1, ..., 2, 2, 2],\n",
       "       [1, 1, 1, ..., 2, 2, 2],\n",
       "       ...,\n",
       "       [1, 1, 1, ..., 2, 2, 2],\n",
       "       [1, 1, 1, ..., 2, 2, 2],\n",
       "       [1, 1, 1, ..., 2, 2, 2]], dtype=uint32)"
      ]
     },
     "execution_count": 6,
     "metadata": {},
     "output_type": "execute_result"
    }
   ],
   "source": [
    "cle.merge_small_touching_labels(labels, maximum_pixel_count=2000)"
   ]
  },
  {
   "cell_type": "code",
   "execution_count": null,
   "id": "fff9c754-3f0e-4018-99bc-f8417f387f26",
   "metadata": {},
   "outputs": [],
   "source": []
  }
 ],
 "metadata": {
  "kernelspec": {
   "display_name": "Python 3 (ipykernel)",
   "language": "python",
   "name": "python3"
  },
  "language_info": {
   "codemirror_mode": {
    "name": "ipython",
    "version": 3
   },
   "file_extension": ".py",
   "mimetype": "text/x-python",
   "name": "python",
   "nbconvert_exporter": "python",
   "pygments_lexer": "ipython3",
   "version": "3.9.13"
  }
 },
 "nbformat": 4,
 "nbformat_minor": 5
}
