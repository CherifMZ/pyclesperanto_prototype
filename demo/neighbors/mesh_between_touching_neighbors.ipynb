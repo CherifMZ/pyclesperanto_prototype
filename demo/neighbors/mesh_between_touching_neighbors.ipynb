{
 "cells": [
  {
   "cell_type": "code",
   "execution_count": 1,
   "metadata": {},
   "outputs": [],
   "source": [
    "import pyclesperanto_prototype as cle\n",
    "import numpy as np\n",
    "from skimage.io import imshow"
   ]
  },
  {
   "cell_type": "markdown",
   "metadata": {},
   "source": [
    "# Generating an artificial tissue image"
   ]
  },
  {
   "cell_type": "code",
   "execution_count": 2,
   "metadata": {},
   "outputs": [
    {
     "name": "stdout",
     "output_type": "stream",
     "text": [
      "[[  0. 100. 200. 300. 400.  50. 150. 250. 350.   0. 100. 200. 300. 400.\n",
      "   50. 150. 250. 350.   0. 100. 200. 300. 400.]\n",
      " [  0.   0.   0.   0.   0.  40.  40.  40.  40.  80.  80.  80.  80.  80.\n",
      "  120. 120. 120. 120. 160. 160. 160. 160. 160.]]\n"
     ]
    }
   ],
   "source": [
    "# define centroids of cells\n",
    "pointlist = cle.push_zyx(np.asarray(\n",
    "[\n",
    "    [0, 100, 200, 300, 400, 50, 150, 250, 350, 0,  100, 200, 300, 400, 50,  150, 250, 350, 0,   100, 200, 300, 400],\n",
    "    [0, 0,   0,   0,   0,   40,  40, 40,  40,  80, 80,  80,  80,  80,  120, 120, 120, 120, 160, 160, 160, 160, 160]\n",
    "]))\n",
    "print(pointlist)"
   ]
  },
  {
   "cell_type": "code",
   "execution_count": 3,
   "metadata": {},
   "outputs": [
    {
     "name": "stderr",
     "output_type": "stream",
     "text": [
      "c:\\users\\rober\\miniconda3\\lib\\site-packages\\pyopencl\\__init__.py:252: CompilerWarning: Non-empty compiler output encountered. Set the environment variable PYOPENCL_COMPILER_OUTPUT=1 to see more.\n",
      "  warn(\"Non-empty compiler output encountered. Set the \"\n",
      "c:\\users\\rober\\miniconda3\\lib\\site-packages\\skimage\\io\\_plugins\\matplotlib_plugin.py:150: UserWarning: Low image data range; displaying image with stretched contrast.\n",
      "  lo, hi, cmap = _get_display_range(image)\n",
      "c:\\users\\rober\\miniconda3\\lib\\site-packages\\skimage\\io\\_plugins\\matplotlib_plugin.py:150: UserWarning: Float image out of standard range; displaying image with stretched contrast.\n",
      "  lo, hi, cmap = _get_display_range(image)\n"
     ]
    },
    {
     "data": {
      "text/plain": [
       "<matplotlib.image.AxesImage at 0x18b3ca10130>"
      ]
     },
     "execution_count": 3,
     "metadata": {},
     "output_type": "execute_result"
    },
    {
     "data": {
      "image/png": "[encoded data removed]",
      "text/plain": [
       "<Figure size 432x288 with 2 Axes>"
      ]
     },
     "metadata": {
      "needs_background": "light"
     },
     "output_type": "display_data"
    }
   ],
   "source": [
    "# generate an image where the centroid are labelled (labelled spots image)\n",
    "labelled_spots = cle.pointlist_to_labelled_spots(pointlist)\n",
    "imshow(cle.pull_zyx(labelled_spots))"
   ]
  },
  {
   "cell_type": "code",
   "execution_count": 4,
   "metadata": {},
   "outputs": [
    {
     "name": "stderr",
     "output_type": "stream",
     "text": [
      "c:\\users\\rober\\miniconda3\\lib\\site-packages\\pyopencl\\__init__.py:252: CompilerWarning: Non-empty compiler output encountered. Set the environment variable PYOPENCL_COMPILER_OUTPUT=1 to see more.\n",
      "  warn(\"Non-empty compiler output encountered. Set the \"\n"
     ]
    },
    {
     "data": {
      "text/plain": [
       "<matplotlib.image.AxesImage at 0x18b3cb58610>"
      ]
     },
     "execution_count": 4,
     "metadata": {},
     "output_type": "execute_result"
    },
    {
     "data": {
      "image/png": "[encoded data removed]",
      "text/plain": [
       "<Figure size 432x288 with 2 Axes>"
      ]
     },
     "metadata": {
      "needs_background": "light"
     },
     "output_type": "display_data"
    }
   ],
   "source": [
    "# extend the spots to make some artificial tissue image (label image)\n",
    "cells = cle.extend_labeling_via_voronoi(labelled_spots)\n",
    "imshow(cle.pull_zyx(cells))"
   ]
  },
  {
   "cell_type": "markdown",
   "metadata": {},
   "source": [
    "# Draw a mesh between touching neighbors"
   ]
  },
  {
   "cell_type": "code",
   "execution_count": 5,
   "metadata": {},
   "outputs": [
    {
     "name": "stdout",
     "output_type": "stream",
     "text": [
      "[[ 13.554028 100.       200.       300.       386.44598   50.\n",
      "  150.       250.       350.        13.57647  100.       200.\n",
      "  300.       386.42352   50.       150.       250.       350.\n",
      "   13.845719 100.       200.       300.       386.15427 ]\n",
      " [ 15.785854  15.711423  15.711423  15.711423  15.785854  39.46\n",
      "   39.46      39.46      39.46      79.460785  79.46      79.46\n",
      "   79.46      79.460785 119.65166  119.65166  119.65166  119.65166\n",
      "  143.8476   143.92326  143.92326  143.92326  143.8476  ]]\n"
     ]
    }
   ],
   "source": [
    "pointlist = cle.label_centroids_to_pointlist(cells)\n",
    "print(pointlist)"
   ]
  },
  {
   "cell_type": "code",
   "execution_count": 6,
   "metadata": {},
   "outputs": [
    {
     "data": {
      "text/plain": [
       "<matplotlib.image.AxesImage at 0x18b3cbfef70>"
      ]
     },
     "execution_count": 6,
     "metadata": {},
     "output_type": "execute_result"
    },
    {
     "data": {
      "image/png": "[encoded data removed]",
      "text/plain": [
       "<Figure size 432x288 with 1 Axes>"
      ]
     },
     "metadata": {
      "needs_background": "light"
     },
     "output_type": "display_data"
    }
   ],
   "source": [
    "touch_matrix = cle.generate_touch_matrix(cells)\n",
    "imshow(cle.pull_zyx(touch_matrix))"
   ]
  },
  {
   "cell_type": "code",
   "execution_count": 7,
   "metadata": {},
   "outputs": [
    {
     "data": {
      "text/plain": [
       "<matplotlib.image.AxesImage at 0x18b3dc32f10>"
      ]
     },
     "execution_count": 7,
     "metadata": {},
     "output_type": "execute_result"
    },
    {
     "data": {
      "image/png": "[encoded data removed]",
      "text/plain": [
       "<Figure size 432x288 with 1 Axes>"
      ]
     },
     "metadata": {
      "needs_background": "light"
     },
     "output_type": "display_data"
    }
   ],
   "source": [
    "mesh = cle.touch_matrix_to_mesh(pointlist, touch_matrix)\n",
    "imshow(cle.pull_zyx(mesh))"
   ]
  },
  {
   "cell_type": "code",
   "execution_count": null,
   "metadata": {},
   "outputs": [],
   "source": []
  }
 ],
 "metadata": {
  "kernelspec": {
   "display_name": "Python 3",
   "language": "python",
   "name": "python3"
  },
  "language_info": {
   "codemirror_mode": {
    "name": "ipython",
    "version": 3
   },
   "file_extension": ".py",
   "mimetype": "text/x-python",
   "name": "python",
   "nbconvert_exporter": "python",
   "pygments_lexer": "ipython3",
   "version": "3.8.3"
  }
 },
 "nbformat": 4,
 "nbformat_minor": 4
}
