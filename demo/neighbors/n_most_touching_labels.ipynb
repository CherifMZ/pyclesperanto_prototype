{
 "cells": [
  {
   "cell_type": "code",
   "execution_count": 1,
   "id": "92c1ad07-a05c-42a8-b869-c30ebc24e064",
   "metadata": {},
   "outputs": [
    {
     "data": {
      "text/plain": [
       "<NVIDIA GeForce RTX 3050 Ti Laptop GPU on Platform: NVIDIA CUDA (1 refs)>"
      ]
     },
     "execution_count": 1,
     "metadata": {},
     "output_type": "execute_result"
    }
   ],
   "source": [
    "import numpy as np\n",
    "import pyclesperanto_prototype as cle\n",
    "from pyclesperanto_prototype import Image, plugin_function\n",
    "\n",
    "cle.select_device(\"RTX\")"
   ]
  },
  {
   "cell_type": "code",
   "execution_count": 2,
   "id": "f0cd28ec-ffd5-4945-98c8-dc7ef9a945e9",
   "metadata": {},
   "outputs": [
    {
     "data": {
      "text/html": [
       "<table>\n",
       "<tr>\n",
       "<td>\n",
       "<img src=\"data:image/png;base64,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\"></img>\n",
       "</td>\n",
       "<td style=\"text-align: center; vertical-align: top;\">\n",
       "<b><a href=\"https://github.com/clEsperanto/pyclesperanto_prototype\" target=\"_blank\">cle._</a> image</b><br/>\n",
       "<table>\n",
       "<tr><td>shape</td><td>(60,&nbsp;70)</td></tr>\n",
       "<tr><td>dtype</td><td>uint32</td></tr>\n",
       "<tr><td>size</td><td>16.4 kB</td></tr>\n",
       "<tr><td>min</td><td>0.0</td></tr><tr><td>max</td><td>4.0</td></tr>\n",
       "</table>\n",
       "\n",
       "</td>\n",
       "</tr>\n",
       "</table>"
      ],
      "text/plain": [
       "cl.OCLArray([[0, 0, 0, ..., 0, 0, 0],\n",
       "       [0, 0, 0, ..., 0, 0, 0],\n",
       "       [0, 0, 0, ..., 0, 0, 0],\n",
       "       ...,\n",
       "       [0, 0, 0, ..., 0, 0, 0],\n",
       "       [0, 0, 0, ..., 0, 0, 0],\n",
       "       [0, 0, 0, ..., 0, 0, 0]], dtype=uint32)"
      ]
     },
     "execution_count": 2,
     "metadata": {},
     "output_type": "execute_result"
    }
   ],
   "source": [
    "labels = cle.asarray([\n",
    "    [0, 0, 0, 0, 0, 0, 0],\n",
    "    [0, 1, 1, 0, 2, 2, 0],\n",
    "    [0, 1, 1, 1, 2, 2, 0],\n",
    "    [0, 0, 3, 3, 3, 3, 0],\n",
    "    [0, 0, 4, 4, 4, 0, 0],\n",
    "    [0, 0, 0, 0, 0, 0, 0],\n",
    "])\n",
    "labels = cle.scale(labels, factor_x=10, factor_y=10, auto_size=True).astype(np.uint32)\n",
    "labels"
   ]
  },
  {
   "cell_type": "code",
   "execution_count": 3,
   "id": "e9296321-f147-4e29-88f7-593560599442",
   "metadata": {},
   "outputs": [
    {
     "name": "stdout",
     "output_type": "stream",
     "text": [
      "[[ 0 70 50 30 50]\n",
      " [70  0 10 20  0]\n",
      " [50 10  0 20  0]\n",
      " [30 20 20  0 30]\n",
      " [50  0  0 30  0]]\n"
     ]
    }
   ],
   "source": [
    "touch_count_matrix = cle.generate_touch_count_matrix(labels)\n",
    "print(touch_count_matrix)"
   ]
  },
  {
   "cell_type": "code",
   "execution_count": 4,
   "id": "1ca2d825-7fbc-4a77-a567-7815cdefbf00",
   "metadata": {},
   "outputs": [
    {
     "name": "stdout",
     "output_type": "stream",
     "text": [
      "[[0.         0.7        0.625      0.29999998 0.625     ]\n",
      " [0.35       0.         0.125      0.19999999 0.        ]\n",
      " [0.25       0.09999999 0.         0.19999999 0.        ]\n",
      " [0.14999999 0.19999999 0.25       0.         0.375     ]\n",
      " [0.25       0.         0.         0.29999998 0.        ]]\n"
     ]
    }
   ],
   "source": [
    "touch_portion_matrix = cle.generate_touch_portion_matrix(labels)\n",
    "print(touch_portion_matrix)"
   ]
  },
  {
   "cell_type": "code",
   "execution_count": null,
   "id": "26866c5d-b484-4c38-a22b-f806c2161b27",
   "metadata": {},
   "outputs": [],
   "source": []
  },
  {
   "cell_type": "code",
   "execution_count": 5,
   "id": "868a2ebd-c051-4d64-864c-0c10ed37509f",
   "metadata": {},
   "outputs": [
    {
     "data": {
      "text/plain": [
       "True"
      ]
     },
     "execution_count": 5,
     "metadata": {},
     "output_type": "execute_result"
    }
   ],
   "source": [
    "cle.is_matrix_symmetric(touch_count_matrix)"
   ]
  },
  {
   "cell_type": "code",
   "execution_count": 6,
   "id": "10ed3895-7f77-4e31-83fa-8e5f6c70bcb5",
   "metadata": {},
   "outputs": [
    {
     "data": {
      "text/plain": [
       "False"
      ]
     },
     "execution_count": 6,
     "metadata": {},
     "output_type": "execute_result"
    }
   ],
   "source": [
    "cle.is_matrix_symmetric(touch_portion_matrix)"
   ]
  },
  {
   "cell_type": "code",
   "execution_count": null,
   "id": "27d431fe-eecf-411e-858c-7d629bbf53d2",
   "metadata": {},
   "outputs": [],
   "source": []
  },
  {
   "cell_type": "code",
   "execution_count": 7,
   "id": "f225f609-c57b-4e4f-8090-400b5bfb09ae",
   "metadata": {},
   "outputs": [
    {
     "data": {
      "text/html": [
       "<pre>cle.array([[0. 0. 0. 0. 0.]\n",
       " [0. 0. 0. 0. 0.]\n",
       " [0. 0. 0. 0. 0.]\n",
       " [0. 1. 1. 0. 0.]\n",
       " [0. 0. 0. 1. 0.]], dtype=float32)</pre>"
      ],
      "text/plain": [
       "cl.OCLArray([[0., 0., 0., 0., 0.],\n",
       "       [0., 0., 0., 0., 0.],\n",
       "       [0., 0., 0., 0., 0.],\n",
       "       [0., 1., 1., 0., 0.],\n",
       "       [0., 0., 0., 1., 0.]], dtype=float32)"
      ]
     },
     "execution_count": 7,
     "metadata": {},
     "output_type": "execute_result"
    }
   ],
   "source": [
    "cle.generate_n_most_touching_neighbors_matrix(touch_count_matrix, n=1)"
   ]
  },
  {
   "cell_type": "code",
   "execution_count": 8,
   "id": "3c7e54b6-cee4-47ef-8866-59f9e174bf8e",
   "metadata": {},
   "outputs": [
    {
     "data": {
      "text/html": [
       "<pre>cle.array([[0. 0. 0. 0. 0.]\n",
       " [0. 0. 0. 0. 0.]\n",
       " [0. 0. 0. 0. 0.]\n",
       " [0. 1. 1. 0. 0.]\n",
       " [0. 0. 0. 1. 0.]], dtype=float32)</pre>"
      ],
      "text/plain": [
       "cl.OCLArray([[0., 0., 0., 0., 0.],\n",
       "       [0., 0., 0., 0., 0.],\n",
       "       [0., 0., 0., 0., 0.],\n",
       "       [0., 1., 1., 0., 0.],\n",
       "       [0., 0., 0., 1., 0.]], dtype=float32)"
      ]
     },
     "execution_count": 8,
     "metadata": {},
     "output_type": "execute_result"
    }
   ],
   "source": [
    "cle.generate_n_most_touching_neighbors_matrix(touch_portion_matrix, n=1)"
   ]
  },
  {
   "cell_type": "code",
   "execution_count": 9,
   "id": "f090d070-3357-4e74-bcb5-0e67f447a98f",
   "metadata": {},
   "outputs": [
    {
     "data": {
      "text/html": [
       "<pre>cle.array([[0. 0. 0. 0. 0.]\n",
       " [0. 0. 0. 0. 0.]\n",
       " [0. 1. 0. 0. 0.]\n",
       " [0. 1. 1. 0. 0.]\n",
       " [0. 0. 0. 1. 0.]], dtype=float32)</pre>"
      ],
      "text/plain": [
       "cl.OCLArray([[0., 0., 0., 0., 0.],\n",
       "       [0., 0., 0., 0., 0.],\n",
       "       [0., 1., 0., 0., 0.],\n",
       "       [0., 1., 1., 0., 0.],\n",
       "       [0., 0., 0., 1., 0.]], dtype=float32)"
      ]
     },
     "execution_count": 9,
     "metadata": {},
     "output_type": "execute_result"
    }
   ],
   "source": [
    "cle.generate_n_most_touching_neighbors_matrix(touch_portion_matrix, n=2)"
   ]
  },
  {
   "cell_type": "code",
   "execution_count": null,
   "id": "ab6ca7f6-52c2-4da2-ac07-489b6a24f902",
   "metadata": {},
   "outputs": [],
   "source": []
  },
  {
   "cell_type": "code",
   "execution_count": 10,
   "id": "fe34db0c-fec7-4543-97ac-a9f76e5d5b4e",
   "metadata": {},
   "outputs": [
    {
     "data": {
      "image/png": "[encoded data removed]",
      "text/plain": [
       "<Figure size 432x288 with 1 Axes>"
      ]
     },
     "metadata": {
      "needs_background": "light"
     },
     "output_type": "display_data"
    }
   ],
   "source": [
    "mesh = cle.draw_mesh_between_n_most_touching_labels(labels, n=1)\n",
    "\n",
    "cle.imshow(labels, labels=True, continue_drawing=True)\n",
    "cle.imshow(mesh, alpha=0.5)"
   ]
  },
  {
   "cell_type": "code",
   "execution_count": 11,
   "id": "960c3f96-182d-4149-a1ec-7bc04a8bcc00",
   "metadata": {},
   "outputs": [
    {
     "data": {
      "image/png": "[encoded data removed]",
      "text/plain": [
       "<Figure size 432x288 with 1 Axes>"
      ]
     },
     "metadata": {
      "needs_background": "light"
     },
     "output_type": "display_data"
    }
   ],
   "source": [
    "mesh = cle.draw_mesh_between_n_most_touching_labels(labels, n=2)\n",
    "\n",
    "cle.imshow(labels, labels=True, continue_drawing=True)\n",
    "cle.imshow(mesh, alpha=0.5)"
   ]
  },
  {
   "cell_type": "code",
   "execution_count": null,
   "id": "bf74501c-4e80-440d-a3b0-7b9fc1d9156a",
   "metadata": {},
   "outputs": [],
   "source": []
  },
  {
   "cell_type": "code",
   "execution_count": 12,
   "id": "9a878cf1-7d76-473c-941c-7b6847f23c89",
   "metadata": {},
   "outputs": [
    {
     "data": {
      "text/html": [
       "<table>\n",
       "<tr>\n",
       "<td>\n",
       "<img src=\"data:image/png;base64,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\"></img>\n",
       "</td>\n",
       "<td style=\"text-align: center; vertical-align: top;\">\n",
       "<b><a href=\"https://github.com/clEsperanto/pyclesperanto_prototype\" target=\"_blank\">cle._</a> image</b><br/>\n",
       "<table>\n",
       "<tr><td>shape</td><td>(60,&nbsp;70)</td></tr>\n",
       "<tr><td>dtype</td><td>float32</td></tr>\n",
       "<tr><td>size</td><td>16.4 kB</td></tr>\n",
       "<tr><td>min</td><td>0.0</td></tr><tr><td>max</td><td>0.8451543</td></tr>\n",
       "</table>\n",
       "<img src=\"data:image/png;base64,iVBORw0KGgoAAAANSUhEUgAAAIEAAABWCAYAAADom/XHAAAAOXRFWHRTb2Z0d2FyZQBNYXRwbG90bGliIHZlcnNpb24zLjUuMiwgaHR0cHM6Ly9tYXRwbG90bGliLm9yZy8qNh9FAAAACXBIWXMAAAsTAAALEwEAmpwYAAABJUlEQVR4nO3cwW3CQBBA0e8oJcA5WyaN0QUUwTnpYWmByLaQxXvn1WgOX97DSl7mnPHZvt69AO8nAkSACEgEJAISAYmARED1vXbA6XSaY4wNVmEr9/v9b855fvX86gjGGN1ut7Vj2NCyLI//nHcdsE8E43JtXK57jGYHvgSIABGQCEgEJAISAYmAREAiIBGQCEgEJAISAYmAREAiIBGQCEgEJAISAYmAREAiIBGQCEgEJAISAYmAREAiIBGQCEgEJAISAYmARLCro/zUUwSIABGQCEgEJAISAYmAREAiIBGQCA5ry3cJESCCo7z07enjI0AEJAISAYmAREC1zDnXDViW3+qxzTps5GfOeX718OoIOD7XASJABCQCEgGJgERAIiARUD0BD4UktUNl9iMAAAAASUVORK5CYII=\"></img>\n",
       "</td>\n",
       "</tr>\n",
       "</table>"
      ],
      "text/plain": [
       "cl.OCLArray([[0., 0., 0., ..., 0., 0., 0.],\n",
       "       [0., 0., 0., ..., 0., 0., 0.],\n",
       "       [0., 0., 0., ..., 0., 0., 0.],\n",
       "       ...,\n",
       "       [0., 0., 0., ..., 0., 0., 0.],\n",
       "       [0., 0., 0., ..., 0., 0., 0.],\n",
       "       [0., 0., 0., ..., 0., 0., 0.]], dtype=float32)"
      ]
     },
     "execution_count": 12,
     "metadata": {},
     "output_type": "execute_result"
    }
   ],
   "source": [
    "sd_map = cle.standard_deviation_of_n_most_touching_neighbors_map(labels, labels, n=2)\n",
    "\n",
    "sd_map"
   ]
  },
  {
   "cell_type": "code",
   "execution_count": null,
   "id": "8cc2fd96-43a2-454a-8f39-69063974e7c4",
   "metadata": {},
   "outputs": [],
   "source": []
  },
  {
   "cell_type": "code",
   "execution_count": 13,
   "id": "342ca106-5faa-47e2-b487-841401b10d16",
   "metadata": {},
   "outputs": [
    {
     "data": {
      "text/html": [
       "<table>\n",
       "<tr>\n",
       "<td>\n",
       "<img src=\"data:image/png;base64,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\"></img>\n",
       "</td>\n",
       "<td style=\"text-align: center; vertical-align: top;\">\n",
       "<b><a href=\"https://github.com/clEsperanto/pyclesperanto_prototype\" target=\"_blank\">cle._</a> image</b><br/>\n",
       "<table>\n",
       "<tr><td>shape</td><td>(60,&nbsp;70)</td></tr>\n",
       "<tr><td>dtype</td><td>float32</td></tr>\n",
       "<tr><td>size</td><td>16.4 kB</td></tr>\n",
       "<tr><td>min</td><td>0.0</td></tr><tr><td>max</td><td>3.0</td></tr>\n",
       "</table>\n",
       "<img src=\"data:image/png;base64,iVBORw0KGgoAAAANSUhEUgAAAIEAAABWCAYAAADom/XHAAAAOXRFWHRTb2Z0d2FyZQBNYXRwbG90bGliIHZlcnNpb24zLjUuMiwgaHR0cHM6Ly9tYXRwbG90bGliLm9yZy8qNh9FAAAACXBIWXMAAAsTAAALEwEAmpwYAAABLklEQVR4nO3dsU3DUBRA0WvECEnN34eFMgILZYtkB1KHHT4tZZAdhYhz6q+nV1x9V7aXOWf8by+PXoDHEwEiQAQkAhIBiYBEQCKgel07YLfbzTHGBquwlfP5/DXn3N96fnUEY4xOp9PaMWxoWZbLb857HHCfCMbh2Dgc7zGaO3ATIAJEQCIgEZAISAQkAhIBiYBEQCIgEZAISAQkAhIBiYBEQCIgEZAISAQkAhIBiYBEQCIgEZAIaIOPVPwFP1+D//x4f+Amz8lNgAgQAYmAREAiIBGQCEgEJAISAYmAREAiIBGQCEgEJAISAYmAREAiIBGQCJ7Wlr8dFAEiQAQkAhIBiYBqmXOuG7As1+qyzTps5G3Oub/18OoIeH4eB4gAEZAISAQkAhIBiYBEQPUNzfgig6GFWJoAAAAASUVORK5CYII=\"></img>\n",
       "</td>\n",
       "</tr>\n",
       "</table>"
      ],
      "text/plain": [
       "cl.OCLArray([[0., 0., 0., ..., 0., 0., 0.],\n",
       "       [0., 0., 0., ..., 0., 0., 0.],\n",
       "       [0., 0., 0., ..., 0., 0., 0.],\n",
       "       ...,\n",
       "       [0., 0., 0., ..., 0., 0., 0.],\n",
       "       [0., 0., 0., ..., 0., 0., 0.],\n",
       "       [0., 0., 0., ..., 0., 0., 0.]], dtype=float32)"
      ]
     },
     "execution_count": 13,
     "metadata": {},
     "output_type": "execute_result"
    }
   ],
   "source": [
    "min_map = cle.minimum_of_n_most_touching_neighbors_map(labels, labels, n=2)\n",
    "\n",
    "min_map"
   ]
  },
  {
   "cell_type": "code",
   "execution_count": null,
   "id": "c6fb070b-d342-4794-9ac5-f9c127608ccc",
   "metadata": {},
   "outputs": [],
   "source": []
  },
  {
   "cell_type": "code",
   "execution_count": 14,
   "id": "d5a003be-f3bd-4e94-a774-b301b488e1d3",
   "metadata": {},
   "outputs": [
    {
     "data": {
      "text/html": [
       "<table>\n",
       "<tr>\n",
       "<td>\n",
       "<img src=\"data:image/png;base64,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\"></img>\n",
       "</td>\n",
       "<td style=\"text-align: center; vertical-align: top;\">\n",
       "<b><a href=\"https://github.com/clEsperanto/pyclesperanto_prototype\" target=\"_blank\">cle._</a> image</b><br/>\n",
       "<table>\n",
       "<tr><td>shape</td><td>(60,&nbsp;70)</td></tr>\n",
       "<tr><td>dtype</td><td>float32</td></tr>\n",
       "<tr><td>size</td><td>16.4 kB</td></tr>\n",
       "<tr><td>min</td><td>0.0</td></tr><tr><td>max</td><td>4.0</td></tr>\n",
       "</table>\n",
       "<img src=\"data:image/png;base64,iVBORw0KGgoAAAANSUhEUgAAAIEAAABWCAYAAADom/XHAAAAOXRFWHRTb2Z0d2FyZQBNYXRwbG90bGliIHZlcnNpb24zLjUuMiwgaHR0cHM6Ly9tYXRwbG90bGliLm9yZy8qNh9FAAAACXBIWXMAAAsTAAALEwEAmpwYAAABHklEQVR4nO3csW3DMBBA0c8gI9h1OKYX8xb2EK6THZgVHEiCYeS9mjhc8SGy0lhrxf/28eoFeD0RIAJEQCIgEZAISAQkAqrPrQNOp9Oac+6wCnu53+8/a63zs+c3RzDn7Ha7bR3DjsYYj7+cdx1wTATzcm1erkeM5gC+BIgAEZAISAQkAhIBiYBEQCIgEZAISAQkAhIBiYBEQCIgEZAISAQkAhIBiYBEQCIgEZAISAQkAhIBiYBEQCIgEZAISAQkAhIBiYBEcKh3+amnCBABIiARvK093xsiQASIgERAIiARkAhIBCQCEgGJgERAIiARkAhIBFRjrbVtwBjf1WOfddjJ11rr/OzhzRHw/lwHiAARkAhIBCQCEgGJgERA9QsoFSIbPvgrXQAAAABJRU5ErkJggg==\"></img>\n",
       "</td>\n",
       "</tr>\n",
       "</table>"
      ],
      "text/plain": [
       "cl.OCLArray([[0., 0., 0., ..., 0., 0., 0.],\n",
       "       [0., 0., 0., ..., 0., 0., 0.],\n",
       "       [0., 0., 0., ..., 0., 0., 0.],\n",
       "       ...,\n",
       "       [0., 0., 0., ..., 0., 0., 0.],\n",
       "       [0., 0., 0., ..., 0., 0., 0.],\n",
       "       [0., 0., 0., ..., 0., 0., 0.]], dtype=float32)"
      ]
     },
     "execution_count": 14,
     "metadata": {},
     "output_type": "execute_result"
    }
   ],
   "source": [
    "max_map = cle.maximum_of_n_most_touching_neighbors_map(labels, labels, n=1)\n",
    "\n",
    "max_map"
   ]
  },
  {
   "cell_type": "code",
   "execution_count": null,
   "id": "d490e551-02f8-4e72-8fac-3221e6365ee2",
   "metadata": {},
   "outputs": [],
   "source": []
  },
  {
   "cell_type": "code",
   "execution_count": 15,
   "id": "9957c6a9-6696-421e-b906-518c806e0e4c",
   "metadata": {},
   "outputs": [
    {
     "data": {
      "text/html": [
       "<table>\n",
       "<tr>\n",
       "<td>\n",
       "<img src=\"data:image/png;base64,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\"></img>\n",
       "</td>\n",
       "<td style=\"text-align: center; vertical-align: top;\">\n",
       "<b><a href=\"https://github.com/clEsperanto/pyclesperanto_prototype\" target=\"_blank\">cle._</a> image</b><br/>\n",
       "<table>\n",
       "<tr><td>shape</td><td>(60,&nbsp;70)</td></tr>\n",
       "<tr><td>dtype</td><td>float32</td></tr>\n",
       "<tr><td>size</td><td>16.4 kB</td></tr>\n",
       "<tr><td>min</td><td>0.0</td></tr><tr><td>max</td><td>3.5</td></tr>\n",
       "</table>\n",
       "<img src=\"data:image/png;base64,iVBORw0KGgoAAAANSUhEUgAAAIEAAABWCAYAAADom/XHAAAAOXRFWHRTb2Z0d2FyZQBNYXRwbG90bGliIHZlcnNpb24zLjUuMiwgaHR0cHM6Ly9tYXRwbG90bGliLm9yZy8qNh9FAAAACXBIWXMAAAsTAAALEwEAmpwYAAABMklEQVR4nO3dsU3DQBiA0c+IEUKN92GhjMBC2SLZgdSww9FSBvmsKPBefTr9xac7WZbsZYwR/9vTvQfg/kSACBABiYBEQCIgEZAIqJ63bnA4HMa6rhNGYZbL5fI1xni5df3mCNZ17Xw+b92GiZZluf5mveuAfSJYj6fW42mPrdmBkwARIAISAYmAREAiIBGQCEgEJAISAYmAREAiIBGQCEgEJAISAYmAREAiIBGQCEgEJAISAYmAREAiIBGQCEgEJAISAYmAREAiIBGQCEgEJILpHvGTviJABIiAREAiIBHQhH8g/XU/H/c+3t/uOMl+nASIABGQCEgED2vmOwoRIAJEQCIgEZAIqJYxxrYNluWzus4Zh0lexxgvty7eHAGPz3WACBABiYBEQCIgEZAISARU33r+JR25CIreAAAAAElFTkSuQmCC\"></img>\n",
       "</td>\n",
       "</tr>\n",
       "</table>"
      ],
      "text/plain": [
       "cl.OCLArray([[0., 0., 0., ..., 0., 0., 0.],\n",
       "       [0., 0., 0., ..., 0., 0., 0.],\n",
       "       [0., 0., 0., ..., 0., 0., 0.],\n",
       "       ...,\n",
       "       [0., 0., 0., ..., 0., 0., 0.],\n",
       "       [0., 0., 0., ..., 0., 0., 0.],\n",
       "       [0., 0., 0., ..., 0., 0., 0.]], dtype=float32)"
      ]
     },
     "execution_count": 15,
     "metadata": {},
     "output_type": "execute_result"
    }
   ],
   "source": [
    "mean_map = cle.mean_of_n_most_touching_neighbors_map(labels, labels, n=1)\n",
    "\n",
    "mean_map"
   ]
  },
  {
   "cell_type": "code",
   "execution_count": null,
   "id": "27d10ddd-377f-4422-87a4-516cb914933f",
   "metadata": {},
   "outputs": [],
   "source": []
  },
  {
   "cell_type": "code",
   "execution_count": 16,
   "id": "a01f946b-6b09-422a-bf79-085fa68ca5be",
   "metadata": {},
   "outputs": [
    {
     "data": {
      "text/html": [
       "<table>\n",
       "<tr>\n",
       "<td>\n",
       "<img src=\"data:image/png;base64,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\"></img>\n",
       "</td>\n",
       "<td style=\"text-align: center; vertical-align: top;\">\n",
       "<b><a href=\"https://github.com/clEsperanto/pyclesperanto_prototype\" target=\"_blank\">cle._</a> image</b><br/>\n",
       "<table>\n",
       "<tr><td>shape</td><td>(60,&nbsp;70)</td></tr>\n",
       "<tr><td>dtype</td><td>float32</td></tr>\n",
       "<tr><td>size</td><td>16.4 kB</td></tr>\n",
       "<tr><td>min</td><td>0.0</td></tr><tr><td>max</td><td>3.0</td></tr>\n",
       "</table>\n",
       "<img src=\"data:image/png;base64,iVBORw0KGgoAAAANSUhEUgAAAIEAAABWCAYAAADom/XHAAAAOXRFWHRTb2Z0d2FyZQBNYXRwbG90bGliIHZlcnNpb24zLjUuMiwgaHR0cHM6Ly9tYXRwbG90bGliLm9yZy8qNh9FAAAACXBIWXMAAAsTAAALEwEAmpwYAAABLklEQVR4nO3dsU3DUBRA0WvECEnN34eFMgILZYtkB1KHHT4tZZAdhYhz6q+nV1x9N5a9zDnjf3t59AI8nggQASIgEZAISAQkAhIB1evaAbvdbo4xNliFrZzP56855/7W86sjGGN0Op3WjmFDy7JcfnPe44D7RDAOx8bheI/R3IGbABEgAhIBiYBEQCIgEZAISAQkAhIBiYBEQCIgEZAISAQkAhIBiYBEQCIgEZAISAQkAhIBiYBEQCIgEZAISARPa8uvwYgAESACEgGJgERAIiARkAhIBCQCEgGJgERAIiARkAhIBLTBL/H+gp+vWX1+vD9wk+fkJkAEiIBEQCIgEZAISARUy5xz3YBluVaXbdZhI29zzv2th1dHwPPzOEAEiIBEQCIgEZAISAQkAqpvfu0igy8EUvsAAAAASUVORK5CYII=\"></img>\n",
       "</td>\n",
       "</tr>\n",
       "</table>"
      ],
      "text/plain": [
       "cl.OCLArray([[0., 0., 0., ..., 0., 0., 0.],\n",
       "       [0., 0., 0., ..., 0., 0., 0.],\n",
       "       [0., 0., 0., ..., 0., 0., 0.],\n",
       "       ...,\n",
       "       [0., 0., 0., ..., 0., 0., 0.],\n",
       "       [0., 0., 0., ..., 0., 0., 0.],\n",
       "       [0., 0., 0., ..., 0., 0., 0.]], dtype=float32)"
      ]
     },
     "execution_count": 16,
     "metadata": {},
     "output_type": "execute_result"
    }
   ],
   "source": [
    "mode_map = cle.mode_of_n_most_touching_neighbors_map(labels, labels, n=1)\n",
    "mode_map"
   ]
  },
  {
   "cell_type": "code",
   "execution_count": 17,
   "id": "ddc88aec-739b-48d5-84fc-562bce1f4c88",
   "metadata": {},
   "outputs": [
    {
     "data": {
      "text/html": [
       "<pre>cle.array([[0. 0. 0. 0. 0.]\n",
       " [0. 0. 0. 0. 0.]\n",
       " [0. 1. 0. 0. 0.]\n",
       " [0. 1. 1. 0. 0.]\n",
       " [0. 0. 0. 1. 0.]], dtype=float32)</pre>"
      ],
      "text/plain": [
       "cl.OCLArray([[0., 0., 0., 0., 0.],\n",
       "       [0., 0., 0., 0., 0.],\n",
       "       [0., 1., 0., 0., 0.],\n",
       "       [0., 1., 1., 0., 0.],\n",
       "       [0., 0., 0., 1., 0.]], dtype=float32)"
      ]
     },
     "execution_count": 17,
     "metadata": {},
     "output_type": "execute_result"
    }
   ],
   "source": [
    "cle.generate_n_most_touching_neighbors_matrix(touch_count_matrix, n=2)"
   ]
  },
  {
   "cell_type": "code",
   "execution_count": 18,
   "id": "4a0c665d-8456-491a-9100-6c8770f242ae",
   "metadata": {},
   "outputs": [
    {
     "data": {
      "text/html": [
       "<table>\n",
       "<tr>\n",
       "<td>\n",
       "<img src=\"data:image/png;base64,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\"></img>\n",
       "</td>\n",
       "<td style=\"text-align: center; vertical-align: top;\">\n",
       "<b><a href=\"https://github.com/clEsperanto/pyclesperanto_prototype\" target=\"_blank\">cle._</a> image</b><br/>\n",
       "<table>\n",
       "<tr><td>shape</td><td>(60,&nbsp;70)</td></tr>\n",
       "<tr><td>dtype</td><td>float32</td></tr>\n",
       "<tr><td>size</td><td>16.4 kB</td></tr>\n",
       "<tr><td>min</td><td>0.0</td></tr><tr><td>max</td><td>1.0</td></tr>\n",
       "</table>\n",
       "<img src=\"data:image/png;base64,iVBORw0KGgoAAAANSUhEUgAAAIEAAABWCAYAAADom/XHAAAAOXRFWHRTb2Z0d2FyZQBNYXRwbG90bGliIHZlcnNpb24zLjUuMiwgaHR0cHM6Ly9tYXRwbG90bGliLm9yZy8qNh9FAAAACXBIWXMAAAsTAAALEwEAmpwYAAABGUlEQVR4nO3dsW0CQRBA0b+WS4DYWyaN0cVRBLHdw7oFrDuEkN+LR6MJvm7DG2ut+N8+Xn0ArycCRIAISAQkAhIBiYBEQPW5d8HpdFpzzgNO4Si32+1nrXV+dH53BHPOtm3bu4YDjTHuf5n3HPCcCObl2rxcn7GaJ/AlQASIgERAIiARkAhIBCQCEgGJgERAIiARkAhIBCQCEgGJgERAIiARkAhIBCQCEgGJgERAIiARkAhIBCQCEgGJgERAIiARkAhIBCQCEgGJgERAIiARkAhIBCQCEgGJgERAIiARkAhIBCQCEgGJgERAInhbR/6UfKy19i0Y47u6H3INR/laa50fHd4dAe/Pc4AIEAGJgERAIiARkAhIBFS/fggfgUioOVoAAAAASUVORK5CYII=\"></img>\n",
       "</td>\n",
       "</tr>\n",
       "</table>"
      ],
      "text/plain": [
       "cl.OCLArray([[0., 0., 0., ..., 0., 0., 0.],\n",
       "       [0., 0., 0., ..., 0., 0., 0.],\n",
       "       [0., 0., 0., ..., 0., 0., 0.],\n",
       "       ...,\n",
       "       [0., 0., 0., ..., 0., 0., 0.],\n",
       "       [0., 0., 0., ..., 0., 0., 0.],\n",
       "       [0., 0., 0., ..., 0., 0., 0.]], dtype=float32)"
      ]
     },
     "execution_count": 18,
     "metadata": {},
     "output_type": "execute_result"
    }
   ],
   "source": [
    "cle.draw_mesh_between_n_most_touching_labels(labels, n=2)"
   ]
  },
  {
   "cell_type": "code",
   "execution_count": 19,
   "id": "d68c063d-0865-4904-a5e8-458be964c55d",
   "metadata": {},
   "outputs": [
    {
     "data": {
      "text/html": [
       "<pre>cle.array([[0. 0. 0. 0. 0.]\n",
       " [0. 0. 0. 0. 0.]\n",
       " [0. 1. 0. 0. 0.]\n",
       " [0. 1. 1. 0. 0.]\n",
       " [0. 0. 0. 1. 0.]], dtype=float32)</pre>"
      ],
      "text/plain": [
       "cl.OCLArray([[0., 0., 0., 0., 0.],\n",
       "       [0., 0., 0., 0., 0.],\n",
       "       [0., 1., 0., 0., 0.],\n",
       "       [0., 1., 1., 0., 0.],\n",
       "       [0., 0., 0., 1., 0.]], dtype=float32)"
      ]
     },
     "execution_count": 19,
     "metadata": {},
     "output_type": "execute_result"
    }
   ],
   "source": [
    "cle.generate_n_most_touching_neighbors_matrix(touch_count_matrix, n=2)"
   ]
  },
  {
   "cell_type": "code",
   "execution_count": 20,
   "id": "4a008a94-b9c2-4035-929e-8e4a781fa5f1",
   "metadata": {},
   "outputs": [
    {
     "data": {
      "text/html": [
       "<table>\n",
       "<tr>\n",
       "<td>\n",
       "<img src=\"data:image/png;base64,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\"></img>\n",
       "</td>\n",
       "<td style=\"text-align: center; vertical-align: top;\">\n",
       "<b><a href=\"https://github.com/clEsperanto/pyclesperanto_prototype\" target=\"_blank\">cle._</a> image</b><br/>\n",
       "<table>\n",
       "<tr><td>shape</td><td>(60,&nbsp;70)</td></tr>\n",
       "<tr><td>dtype</td><td>float32</td></tr>\n",
       "<tr><td>size</td><td>16.4 kB</td></tr>\n",
       "<tr><td>min</td><td>0.0</td></tr><tr><td>max</td><td>1.0</td></tr>\n",
       "</table>\n",
       "<img src=\"data:image/png;base64,iVBORw0KGgoAAAANSUhEUgAAAIEAAABWCAYAAADom/XHAAAAOXRFWHRTb2Z0d2FyZQBNYXRwbG90bGliIHZlcnNpb24zLjUuMiwgaHR0cHM6Ly9tYXRwbG90bGliLm9yZy8qNh9FAAAACXBIWXMAAAsTAAALEwEAmpwYAAABGUlEQVR4nO3dsW0CQRBA0b+WS4DYWyaN0cVRBLHdw7oFrDuEkN+LR6MJvm7DG2ut+N8+Xn0ArycCRIAISAQkAhIBiYBEQPW5d8HpdFpzzgNO4Si32+1nrXV+dH53BHPOtm3bu4YDjTHuf5n3HPCcCObl2rxcn7GaJ/AlQASIgERAIiARkAhIBCQCEgGJgERAIiARkAhIBCQCEgGJgERAIiARkAhIBCQCEgGJgERAIiARkAhIBCQCEgGJgERAIiARkAhIBCQCEgGJgERAIiARkAhIBCQCEgGJgERAIiARkAhIBCQCEgGJgERAInhbR/6UfKy19i0Y47u6H3INR/laa50fHd4dAe/Pc4AIEAGJgERAIiARkAhIBFS/fggfgUioOVoAAAAASUVORK5CYII=\"></img>\n",
       "</td>\n",
       "</tr>\n",
       "</table>"
      ],
      "text/plain": [
       "cl.OCLArray([[0., 0., 0., ..., 0., 0., 0.],\n",
       "       [0., 0., 0., ..., 0., 0., 0.],\n",
       "       [0., 0., 0., ..., 0., 0., 0.],\n",
       "       ...,\n",
       "       [0., 0., 0., ..., 0., 0., 0.],\n",
       "       [0., 0., 0., ..., 0., 0., 0.],\n",
       "       [0., 0., 0., ..., 0., 0., 0.]], dtype=float32)"
      ]
     },
     "execution_count": 20,
     "metadata": {},
     "output_type": "execute_result"
    }
   ],
   "source": [
    "cle.draw_mesh_between_n_most_touching_labels(labels, n=3)"
   ]
  },
  {
   "cell_type": "code",
   "execution_count": null,
   "id": "c7063ad8-2017-47ed-ac42-affce6d22d9f",
   "metadata": {},
   "outputs": [],
   "source": []
  }
 ],
 "metadata": {
  "kernelspec": {
   "display_name": "Python 3 (ipykernel)",
   "language": "python",
   "name": "python3"
  },
  "language_info": {
   "codemirror_mode": {
    "name": "ipython",
    "version": 3
   },
   "file_extension": ".py",
   "mimetype": "text/x-python",
   "name": "python",
   "nbconvert_exporter": "python",
   "pygments_lexer": "ipython3",
   "version": "3.9.13"
  }
 },
 "nbformat": 4,
 "nbformat_minor": 5
}
