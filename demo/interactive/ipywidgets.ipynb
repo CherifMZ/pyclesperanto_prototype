{
  "nbformat": 4,
  "nbformat_minor": 5,
  "metadata": {
    "kernelspec": {
      "display_name": "Python 3",
      "language": "python",
      "name": "python3"
    },
    "language_info": {
      "codemirror_mode": {
        "name": "ipython",
        "version": 3
      },
      "file_extension": ".py",
      "mimetype": "text/x-python",
      "name": "python",
      "nbconvert_exporter": "python",
      "pygments_lexer": "ipython3",
      "version": "3.9.4"
    },
    "colab": {
      "name": "ipywidgets.ipynb",
      "provenance": []
    },
    "accelerator": "GPU",
    "widgets": {
      "application/vnd.jupyter.widget-state+json": {
        "a733b64da5e5473ab6a350898a479d9a": {
          "model_module": "@jupyter-widgets/controls",
          "model_name": "ImageModel",
          "state": {
            "_view_name": "ImageView",
            "_dom_classes": [],
            "_model_name": "ImageModel",
            "format": "jpeg",
            "_view_module": "@jupyter-widgets/controls",
            "_model_module_version": "1.5.0",
            "_view_count": null,
            "width": "",
            "_view_module_version": "1.5.0",
            "layout": "IPY_MODEL_fea8644820d04edcaeda7e3e393babd5",
            "height": "",
            "_model_module": "@jupyter-widgets/controls"
          }
        },
        "fea8644820d04edcaeda7e3e393babd5": {
          "model_module": "@jupyter-widgets/base",
          "model_name": "LayoutModel",
          "state": {
            "_view_name": "LayoutView",
            "grid_template_rows": null,
            "right": null,
            "justify_content": null,
            "_view_module": "@jupyter-widgets/base",
            "overflow": null,
            "_model_module_version": "1.2.0",
            "_view_count": null,
            "flex_flow": null,
            "width": null,
            "min_width": null,
            "border": null,
            "align_items": null,
            "bottom": null,
            "_model_module": "@jupyter-widgets/base",
            "top": null,
            "grid_column": null,
            "overflow_y": null,
            "overflow_x": null,
            "grid_auto_flow": null,
            "grid_area": null,
            "grid_template_columns": null,
            "flex": null,
            "_model_name": "LayoutModel",
            "justify_items": null,
            "grid_row": null,
            "max_height": null,
            "align_content": null,
            "visibility": null,
            "align_self": null,
            "height": null,
            "min_height": null,
            "padding": null,
            "grid_auto_rows": null,
            "grid_gap": null,
            "max_width": null,
            "order": null,
            "_view_module_version": "1.2.0",
            "grid_template_areas": null,
            "object_position": null,
            "object_fit": null,
            "grid_auto_columns": null,
            "margin": null,
            "display": null,
            "left": null
          }
        },
        "0515bd324dda4bd8ba09516b1eb105ca": {
          "model_module": "@jupyter-widgets/controls",
          "model_name": "ImageModel",
          "state": {
            "_view_name": "ImageView",
            "_dom_classes": [],
            "_model_name": "ImageModel",
            "format": "jpeg",
            "_view_module": "@jupyter-widgets/controls",
            "_model_module_version": "1.5.0",
            "_view_count": null,
            "width": "",
            "_view_module_version": "1.5.0",
            "layout": "IPY_MODEL_cca85110e3b34db8b231d2e089dae729",
            "height": "",
            "_model_module": "@jupyter-widgets/controls"
          }
        },
        "cca85110e3b34db8b231d2e089dae729": {
          "model_module": "@jupyter-widgets/base",
          "model_name": "LayoutModel",
          "state": {
            "_view_name": "LayoutView",
            "grid_template_rows": null,
            "right": null,
            "justify_content": null,
            "_view_module": "@jupyter-widgets/base",
            "overflow": null,
            "_model_module_version": "1.2.0",
            "_view_count": null,
            "flex_flow": null,
            "width": null,
            "min_width": null,
            "border": null,
            "align_items": null,
            "bottom": null,
            "_model_module": "@jupyter-widgets/base",
            "top": null,
            "grid_column": null,
            "overflow_y": null,
            "overflow_x": null,
            "grid_auto_flow": null,
            "grid_area": null,
            "grid_template_columns": null,
            "flex": null,
            "_model_name": "LayoutModel",
            "justify_items": null,
            "grid_row": null,
            "max_height": null,
            "align_content": null,
            "visibility": null,
            "align_self": null,
            "height": null,
            "min_height": null,
            "padding": null,
            "grid_auto_rows": null,
            "grid_gap": null,
            "max_width": null,
            "order": null,
            "_view_module_version": "1.2.0",
            "grid_template_areas": null,
            "object_position": null,
            "object_fit": null,
            "grid_auto_columns": null,
            "margin": null,
            "display": null,
            "left": null
          }
        },
        "19d1f2c25bc34b64a6f2c0ce91cfb3fb": {
          "model_module": "@jupyter-widgets/controls",
          "model_name": "IntSliderModel",
          "state": {
            "_view_name": "IntSliderView",
            "style": "IPY_MODEL_64b6def74d9f42cead220c28fe8b34ad",
            "_dom_classes": [],
            "description": "",
            "step": 1,
            "_model_name": "IntSliderModel",
            "orientation": "horizontal",
            "max": 180,
            "_view_module": "@jupyter-widgets/controls",
            "_model_module_version": "1.5.0",
            "value": 1,
            "_view_count": null,
            "disabled": false,
            "_view_module_version": "1.5.0",
            "min": -180,
            "continuous_update": true,
            "readout_format": "d",
            "description_tooltip": null,
            "readout": true,
            "_model_module": "@jupyter-widgets/controls",
            "layout": "IPY_MODEL_ca0bc55e0bd64cc1b212a945ee9f0c7c"
          }
        },
        "64b6def74d9f42cead220c28fe8b34ad": {
          "model_module": "@jupyter-widgets/controls",
          "model_name": "SliderStyleModel",
          "state": {
            "_view_name": "StyleView",
            "handle_color": null,
            "_model_name": "SliderStyleModel",
            "description_width": "",
            "_view_module": "@jupyter-widgets/base",
            "_model_module_version": "1.5.0",
            "_view_count": null,
            "_view_module_version": "1.2.0",
            "_model_module": "@jupyter-widgets/controls"
          }
        },
        "ca0bc55e0bd64cc1b212a945ee9f0c7c": {
          "model_module": "@jupyter-widgets/base",
          "model_name": "LayoutModel",
          "state": {
            "_view_name": "LayoutView",
            "grid_template_rows": null,
            "right": null,
            "justify_content": null,
            "_view_module": "@jupyter-widgets/base",
            "overflow": null,
            "_model_module_version": "1.2.0",
            "_view_count": null,
            "flex_flow": null,
            "width": null,
            "min_width": null,
            "border": null,
            "align_items": null,
            "bottom": null,
            "_model_module": "@jupyter-widgets/base",
            "top": null,
            "grid_column": null,
            "overflow_y": null,
            "overflow_x": null,
            "grid_auto_flow": null,
            "grid_area": null,
            "grid_template_columns": null,
            "flex": null,
            "_model_name": "LayoutModel",
            "justify_items": null,
            "grid_row": null,
            "max_height": null,
            "align_content": null,
            "visibility": null,
            "align_self": null,
            "height": null,
            "min_height": null,
            "padding": null,
            "grid_auto_rows": null,
            "grid_gap": null,
            "max_width": null,
            "order": null,
            "_view_module_version": "1.2.0",
            "grid_template_areas": null,
            "object_position": null,
            "object_fit": null,
            "grid_auto_columns": null,
            "margin": null,
            "display": null,
            "left": null
          }
        },
        "0c53f07d742f4d31bacff91d38a033a2": {
          "model_module": "@jupyter-widgets/controls",
          "model_name": "HBoxModel",
          "state": {
            "_view_name": "HBoxView",
            "_dom_classes": [],
            "_model_name": "HBoxModel",
            "_view_module": "@jupyter-widgets/controls",
            "_model_module_version": "1.5.0",
            "_view_count": null,
            "_view_module_version": "1.5.0",
            "box_style": "",
            "layout": "IPY_MODEL_d31acf8e6d2649d9a163e9f095e460fe",
            "_model_module": "@jupyter-widgets/controls",
            "children": [
              "IPY_MODEL_49225ff0a84a42cb90c743ea6b59b673",
              "IPY_MODEL_121e20eb80374ddc886c035ef853d4d3",
              "IPY_MODEL_78a6c83bc8f34cebb2ba791829144f73",
              "IPY_MODEL_9fc404d208684df29534af5c541eb375"
            ]
          }
        },
        "d31acf8e6d2649d9a163e9f095e460fe": {
          "model_module": "@jupyter-widgets/base",
          "model_name": "LayoutModel",
          "state": {
            "_view_name": "LayoutView",
            "grid_template_rows": null,
            "right": null,
            "justify_content": null,
            "_view_module": "@jupyter-widgets/base",
            "overflow": null,
            "_model_module_version": "1.2.0",
            "_view_count": null,
            "flex_flow": null,
            "width": null,
            "min_width": null,
            "border": null,
            "align_items": null,
            "bottom": null,
            "_model_module": "@jupyter-widgets/base",
            "top": null,
            "grid_column": null,
            "overflow_y": null,
            "overflow_x": null,
            "grid_auto_flow": null,
            "grid_area": null,
            "grid_template_columns": null,
            "flex": null,
            "_model_name": "LayoutModel",
            "justify_items": null,
            "grid_row": null,
            "max_height": null,
            "align_content": null,
            "visibility": null,
            "align_self": null,
            "height": null,
            "min_height": null,
            "padding": null,
            "grid_auto_rows": null,
            "grid_gap": null,
            "max_width": null,
            "order": null,
            "_view_module_version": "1.2.0",
            "grid_template_areas": null,
            "object_position": null,
            "object_fit": null,
            "grid_auto_columns": null,
            "margin": null,
            "display": null,
            "left": null
          }
        },
        "49225ff0a84a42cb90c743ea6b59b673": {
          "model_module": "@jupyter-widgets/controls",
          "model_name": "IntSliderModel",
          "state": {
            "_view_name": "IntSliderView",
            "style": "IPY_MODEL_274655296e4c4ed4a0e1d52c77ca29ce",
            "_dom_classes": [],
            "description": "",
            "step": 1,
            "_model_name": "IntSliderModel",
            "orientation": "vertical",
            "max": 256,
            "_view_module": "@jupyter-widgets/controls",
            "_model_module_version": "1.5.0",
            "value": 128,
            "_view_count": null,
            "disabled": false,
            "_view_module_version": "1.5.0",
            "min": 0,
            "continuous_update": true,
            "readout_format": "d",
            "description_tooltip": null,
            "readout": true,
            "_model_module": "@jupyter-widgets/controls",
            "layout": "IPY_MODEL_de9fda24d8a645d7a4e050db10a40772"
          }
        },
        "121e20eb80374ddc886c035ef853d4d3": {
          "model_module": "@jupyter-widgets/controls",
          "model_name": "ImageModel",
          "state": {
            "_view_name": "ImageView",
            "_dom_classes": [],
            "_model_name": "ImageModel",
            "format": "jpeg",
            "_view_module": "@jupyter-widgets/controls",
            "_model_module_version": "1.5.0",
            "_view_count": null,
            "width": "",
            "_view_module_version": "1.5.0",
            "layout": "IPY_MODEL_b382e33f3f784e04b7f2b1cac8061024",
            "height": "",
            "_model_module": "@jupyter-widgets/controls"
          }
        },
        "78a6c83bc8f34cebb2ba791829144f73": {
          "model_module": "@jupyter-widgets/controls",
          "model_name": "ImageModel",
          "state": {
            "_view_name": "ImageView",
            "_dom_classes": [],
            "_model_name": "ImageModel",
            "format": "jpeg",
            "_view_module": "@jupyter-widgets/controls",
            "_model_module_version": "1.5.0",
            "_view_count": null,
            "width": "",
            "_view_module_version": "1.5.0",
            "layout": "IPY_MODEL_8ab6f08fdd21410f8c65642bd262f55f",
            "height": "",
            "_model_module": "@jupyter-widgets/controls"
          }
        },
        "9fc404d208684df29534af5c541eb375": {
          "model_module": "@jupyter-widgets/controls",
          "model_name": "VBoxModel",
          "state": {
            "_view_name": "VBoxView",
            "_dom_classes": [],
            "_model_name": "VBoxModel",
            "_view_module": "@jupyter-widgets/controls",
            "_model_module_version": "1.5.0",
            "_view_count": null,
            "_view_module_version": "1.5.0",
            "box_style": "",
            "layout": "IPY_MODEL_f7048421787c41b19d003852d4e62658",
            "_model_module": "@jupyter-widgets/controls",
            "children": [
              "IPY_MODEL_cf73e6377f224efd84b4dd7812d558b5",
              "IPY_MODEL_d33000be93224fed99696b4fcf7b79aa",
              "IPY_MODEL_4392a82b8f9a4ef0a78234176141741b",
              "IPY_MODEL_0a4c7ebe998740b6858d607796b43e43",
              "IPY_MODEL_523b64b5d120406d9aa5fe37c73958d1"
            ]
          }
        },
        "274655296e4c4ed4a0e1d52c77ca29ce": {
          "model_module": "@jupyter-widgets/controls",
          "model_name": "SliderStyleModel",
          "state": {
            "_view_name": "StyleView",
            "handle_color": null,
            "_model_name": "SliderStyleModel",
            "description_width": "",
            "_view_module": "@jupyter-widgets/base",
            "_model_module_version": "1.5.0",
            "_view_count": null,
            "_view_module_version": "1.2.0",
            "_model_module": "@jupyter-widgets/controls"
          }
        },
        "de9fda24d8a645d7a4e050db10a40772": {
          "model_module": "@jupyter-widgets/base",
          "model_name": "LayoutModel",
          "state": {
            "_view_name": "LayoutView",
            "grid_template_rows": null,
            "right": null,
            "justify_content": null,
            "_view_module": "@jupyter-widgets/base",
            "overflow": null,
            "_model_module_version": "1.2.0",
            "_view_count": null,
            "flex_flow": null,
            "width": null,
            "min_width": null,
            "border": null,
            "align_items": null,
            "bottom": null,
            "_model_module": "@jupyter-widgets/base",
            "top": null,
            "grid_column": null,
            "overflow_y": null,
            "overflow_x": null,
            "grid_auto_flow": null,
            "grid_area": null,
            "grid_template_columns": null,
            "flex": null,
            "_model_name": "LayoutModel",
            "justify_items": null,
            "grid_row": null,
            "max_height": null,
            "align_content": null,
            "visibility": null,
            "align_self": null,
            "height": null,
            "min_height": null,
            "padding": null,
            "grid_auto_rows": null,
            "grid_gap": null,
            "max_width": null,
            "order": null,
            "_view_module_version": "1.2.0",
            "grid_template_areas": null,
            "object_position": null,
            "object_fit": null,
            "grid_auto_columns": null,
            "margin": null,
            "display": null,
            "left": null
          }
        },
        "b382e33f3f784e04b7f2b1cac8061024": {
          "model_module": "@jupyter-widgets/base",
          "model_name": "LayoutModel",
          "state": {
            "_view_name": "LayoutView",
            "grid_template_rows": null,
            "right": null,
            "justify_content": null,
            "_view_module": "@jupyter-widgets/base",
            "overflow": null,
            "_model_module_version": "1.2.0",
            "_view_count": null,
            "flex_flow": null,
            "width": null,
            "min_width": null,
            "border": null,
            "align_items": null,
            "bottom": null,
            "_model_module": "@jupyter-widgets/base",
            "top": null,
            "grid_column": null,
            "overflow_y": null,
            "overflow_x": null,
            "grid_auto_flow": null,
            "grid_area": null,
            "grid_template_columns": null,
            "flex": null,
            "_model_name": "LayoutModel",
            "justify_items": null,
            "grid_row": null,
            "max_height": null,
            "align_content": null,
            "visibility": null,
            "align_self": null,
            "height": null,
            "min_height": null,
            "padding": null,
            "grid_auto_rows": null,
            "grid_gap": null,
            "max_width": null,
            "order": null,
            "_view_module_version": "1.2.0",
            "grid_template_areas": null,
            "object_position": null,
            "object_fit": null,
            "grid_auto_columns": null,
            "margin": null,
            "display": null,
            "left": null
          }
        },
        "8ab6f08fdd21410f8c65642bd262f55f": {
          "model_module": "@jupyter-widgets/base",
          "model_name": "LayoutModel",
          "state": {
            "_view_name": "LayoutView",
            "grid_template_rows": null,
            "right": null,
            "justify_content": null,
            "_view_module": "@jupyter-widgets/base",
            "overflow": null,
            "_model_module_version": "1.2.0",
            "_view_count": null,
            "flex_flow": null,
            "width": null,
            "min_width": null,
            "border": null,
            "align_items": null,
            "bottom": null,
            "_model_module": "@jupyter-widgets/base",
            "top": null,
            "grid_column": null,
            "overflow_y": null,
            "overflow_x": null,
            "grid_auto_flow": null,
            "grid_area": null,
            "grid_template_columns": null,
            "flex": null,
            "_model_name": "LayoutModel",
            "justify_items": null,
            "grid_row": null,
            "max_height": null,
            "align_content": null,
            "visibility": null,
            "align_self": null,
            "height": null,
            "min_height": null,
            "padding": null,
            "grid_auto_rows": null,
            "grid_gap": null,
            "max_width": null,
            "order": null,
            "_view_module_version": "1.2.0",
            "grid_template_areas": null,
            "object_position": null,
            "object_fit": null,
            "grid_auto_columns": null,
            "margin": null,
            "display": null,
            "left": null
          }
        },
        "f7048421787c41b19d003852d4e62658": {
          "model_module": "@jupyter-widgets/base",
          "model_name": "LayoutModel",
          "state": {
            "_view_name": "LayoutView",
            "grid_template_rows": null,
            "right": null,
            "justify_content": null,
            "_view_module": "@jupyter-widgets/base",
            "overflow": null,
            "_model_module_version": "1.2.0",
            "_view_count": null,
            "flex_flow": null,
            "width": null,
            "min_width": null,
            "border": null,
            "align_items": null,
            "bottom": null,
            "_model_module": "@jupyter-widgets/base",
            "top": null,
            "grid_column": null,
            "overflow_y": null,
            "overflow_x": null,
            "grid_auto_flow": null,
            "grid_area": null,
            "grid_template_columns": null,
            "flex": null,
            "_model_name": "LayoutModel",
            "justify_items": null,
            "grid_row": null,
            "max_height": null,
            "align_content": null,
            "visibility": null,
            "align_self": null,
            "height": null,
            "min_height": null,
            "padding": null,
            "grid_auto_rows": null,
            "grid_gap": null,
            "max_width": null,
            "order": null,
            "_view_module_version": "1.2.0",
            "grid_template_areas": null,
            "object_position": null,
            "object_fit": null,
            "grid_auto_columns": null,
            "margin": null,
            "display": null,
            "left": null
          }
        },
        "cf73e6377f224efd84b4dd7812d558b5": {
          "model_module": "@jupyter-widgets/controls",
          "model_name": "FloatSliderModel",
          "state": {
            "_view_name": "FloatSliderView",
            "style": "IPY_MODEL_eff5a0626a6e4b6090d3113f61ea1eb9",
            "_dom_classes": [],
            "description": "Background subtraction:",
            "step": 0.1,
            "_model_name": "FloatSliderModel",
            "orientation": "horizontal",
            "max": 20,
            "_view_module": "@jupyter-widgets/controls",
            "_model_module_version": "1.5.0",
            "value": 4.5,
            "_view_count": null,
            "disabled": false,
            "_view_module_version": "1.5.0",
            "min": 0,
            "continuous_update": false,
            "readout_format": ".1f",
            "description_tooltip": null,
            "readout": true,
            "_model_module": "@jupyter-widgets/controls",
            "layout": "IPY_MODEL_092f205de0294264897eef98d0534045"
          }
        },
        "d33000be93224fed99696b4fcf7b79aa": {
          "model_module": "@jupyter-widgets/controls",
          "model_name": "FloatSliderModel",
          "state": {
            "_view_name": "FloatSliderView",
            "style": "IPY_MODEL_997573a3064448eca9f442fdb0fe952d",
            "_dom_classes": [],
            "description": "Noise removal:",
            "step": 0.1,
            "_model_name": "FloatSliderModel",
            "orientation": "horizontal",
            "max": 20,
            "_view_module": "@jupyter-widgets/controls",
            "_model_module_version": "1.5.0",
            "value": 2.2,
            "_view_count": null,
            "disabled": false,
            "_view_module_version": "1.5.0",
            "min": 0,
            "continuous_update": false,
            "readout_format": ".1f",
            "description_tooltip": null,
            "readout": true,
            "_model_module": "@jupyter-widgets/controls",
            "layout": "IPY_MODEL_a99af7f81deb4b299d6b5b27557a8111"
          }
        },
        "4392a82b8f9a4ef0a78234176141741b": {
          "model_module": "@jupyter-widgets/controls",
          "model_name": "FloatSliderModel",
          "state": {
            "_view_name": "FloatSliderView",
            "style": "IPY_MODEL_10912ff0ec1c489c8e09012e083d706d",
            "_dom_classes": [],
            "description": "Edge dilation:",
            "step": 0.1,
            "_model_name": "FloatSliderModel",
            "orientation": "horizontal",
            "max": 20,
            "_view_module": "@jupyter-widgets/controls",
            "_model_module_version": "1.5.0",
            "value": 1.4,
            "_view_count": null,
            "disabled": false,
            "_view_module_version": "1.5.0",
            "min": 0,
            "continuous_update": false,
            "readout_format": ".1f",
            "description_tooltip": null,
            "readout": true,
            "_model_module": "@jupyter-widgets/controls",
            "layout": "IPY_MODEL_04f7974a62af4defa3c696707f2ff879"
          }
        },
        "0a4c7ebe998740b6858d607796b43e43": {
          "model_module": "@jupyter-widgets/controls",
          "model_name": "FloatSliderModel",
          "state": {
            "_view_name": "FloatSliderView",
            "style": "IPY_MODEL_100f02572dbb4f6fa7b56d481579ed29",
            "_dom_classes": [],
            "description": "Threshold:",
            "step": 0.1,
            "_model_name": "FloatSliderModel",
            "orientation": "horizontal",
            "max": 50,
            "_view_module": "@jupyter-widgets/controls",
            "_model_module_version": "1.5.0",
            "value": 10,
            "_view_count": null,
            "disabled": false,
            "_view_module_version": "1.5.0",
            "min": 0,
            "continuous_update": false,
            "readout_format": ".1f",
            "description_tooltip": null,
            "readout": true,
            "_model_module": "@jupyter-widgets/controls",
            "layout": "IPY_MODEL_fc42f3f2caff4a4e935aac4f8412750d"
          }
        },
        "523b64b5d120406d9aa5fe37c73958d1": {
          "model_module": "@jupyter-widgets/controls",
          "model_name": "RadioButtonsModel",
          "state": {
            "_options_labels": [
              "background subtracted",
              "denoised",
              "edge eroded",
              "binary",
              "labels",
              "result"
            ],
            "_view_name": "RadioButtonsView",
            "style": "IPY_MODEL_a9776f22121c4512bd2e40f4332bd143",
            "_dom_classes": [],
            "description": "Show output:",
            "_model_name": "RadioButtonsModel",
            "index": 5,
            "_view_module": "@jupyter-widgets/controls",
            "_model_module_version": "1.5.0",
            "_view_count": null,
            "disabled": false,
            "_view_module_version": "1.5.0",
            "description_tooltip": null,
            "_model_module": "@jupyter-widgets/controls",
            "layout": "IPY_MODEL_b3de8dc2b979477ab3e56caa9dce13a0"
          }
        },
        "eff5a0626a6e4b6090d3113f61ea1eb9": {
          "model_module": "@jupyter-widgets/controls",
          "model_name": "SliderStyleModel",
          "state": {
            "_view_name": "StyleView",
            "handle_color": null,
            "_model_name": "SliderStyleModel",
            "description_width": "",
            "_view_module": "@jupyter-widgets/base",
            "_model_module_version": "1.5.0",
            "_view_count": null,
            "_view_module_version": "1.2.0",
            "_model_module": "@jupyter-widgets/controls"
          }
        },
        "092f205de0294264897eef98d0534045": {
          "model_module": "@jupyter-widgets/base",
          "model_name": "LayoutModel",
          "state": {
            "_view_name": "LayoutView",
            "grid_template_rows": null,
            "right": null,
            "justify_content": null,
            "_view_module": "@jupyter-widgets/base",
            "overflow": null,
            "_model_module_version": "1.2.0",
            "_view_count": null,
            "flex_flow": null,
            "width": null,
            "min_width": null,
            "border": null,
            "align_items": null,
            "bottom": null,
            "_model_module": "@jupyter-widgets/base",
            "top": null,
            "grid_column": null,
            "overflow_y": null,
            "overflow_x": null,
            "grid_auto_flow": null,
            "grid_area": null,
            "grid_template_columns": null,
            "flex": null,
            "_model_name": "LayoutModel",
            "justify_items": null,
            "grid_row": null,
            "max_height": null,
            "align_content": null,
            "visibility": null,
            "align_self": null,
            "height": null,
            "min_height": null,
            "padding": null,
            "grid_auto_rows": null,
            "grid_gap": null,
            "max_width": null,
            "order": null,
            "_view_module_version": "1.2.0",
            "grid_template_areas": null,
            "object_position": null,
            "object_fit": null,
            "grid_auto_columns": null,
            "margin": null,
            "display": null,
            "left": null
          }
        },
        "997573a3064448eca9f442fdb0fe952d": {
          "model_module": "@jupyter-widgets/controls",
          "model_name": "SliderStyleModel",
          "state": {
            "_view_name": "StyleView",
            "handle_color": null,
            "_model_name": "SliderStyleModel",
            "description_width": "",
            "_view_module": "@jupyter-widgets/base",
            "_model_module_version": "1.5.0",
            "_view_count": null,
            "_view_module_version": "1.2.0",
            "_model_module": "@jupyter-widgets/controls"
          }
        },
        "a99af7f81deb4b299d6b5b27557a8111": {
          "model_module": "@jupyter-widgets/base",
          "model_name": "LayoutModel",
          "state": {
            "_view_name": "LayoutView",
            "grid_template_rows": null,
            "right": null,
            "justify_content": null,
            "_view_module": "@jupyter-widgets/base",
            "overflow": null,
            "_model_module_version": "1.2.0",
            "_view_count": null,
            "flex_flow": null,
            "width": null,
            "min_width": null,
            "border": null,
            "align_items": null,
            "bottom": null,
            "_model_module": "@jupyter-widgets/base",
            "top": null,
            "grid_column": null,
            "overflow_y": null,
            "overflow_x": null,
            "grid_auto_flow": null,
            "grid_area": null,
            "grid_template_columns": null,
            "flex": null,
            "_model_name": "LayoutModel",
            "justify_items": null,
            "grid_row": null,
            "max_height": null,
            "align_content": null,
            "visibility": null,
            "align_self": null,
            "height": null,
            "min_height": null,
            "padding": null,
            "grid_auto_rows": null,
            "grid_gap": null,
            "max_width": null,
            "order": null,
            "_view_module_version": "1.2.0",
            "grid_template_areas": null,
            "object_position": null,
            "object_fit": null,
            "grid_auto_columns": null,
            "margin": null,
            "display": null,
            "left": null
          }
        },
        "10912ff0ec1c489c8e09012e083d706d": {
          "model_module": "@jupyter-widgets/controls",
          "model_name": "SliderStyleModel",
          "state": {
            "_view_name": "StyleView",
            "handle_color": null,
            "_model_name": "SliderStyleModel",
            "description_width": "",
            "_view_module": "@jupyter-widgets/base",
            "_model_module_version": "1.5.0",
            "_view_count": null,
            "_view_module_version": "1.2.0",
            "_model_module": "@jupyter-widgets/controls"
          }
        },
        "04f7974a62af4defa3c696707f2ff879": {
          "model_module": "@jupyter-widgets/base",
          "model_name": "LayoutModel",
          "state": {
            "_view_name": "LayoutView",
            "grid_template_rows": null,
            "right": null,
            "justify_content": null,
            "_view_module": "@jupyter-widgets/base",
            "overflow": null,
            "_model_module_version": "1.2.0",
            "_view_count": null,
            "flex_flow": null,
            "width": null,
            "min_width": null,
            "border": null,
            "align_items": null,
            "bottom": null,
            "_model_module": "@jupyter-widgets/base",
            "top": null,
            "grid_column": null,
            "overflow_y": null,
            "overflow_x": null,
            "grid_auto_flow": null,
            "grid_area": null,
            "grid_template_columns": null,
            "flex": null,
            "_model_name": "LayoutModel",
            "justify_items": null,
            "grid_row": null,
            "max_height": null,
            "align_content": null,
            "visibility": null,
            "align_self": null,
            "height": null,
            "min_height": null,
            "padding": null,
            "grid_auto_rows": null,
            "grid_gap": null,
            "max_width": null,
            "order": null,
            "_view_module_version": "1.2.0",
            "grid_template_areas": null,
            "object_position": null,
            "object_fit": null,
            "grid_auto_columns": null,
            "margin": null,
            "display": null,
            "left": null
          }
        },
        "100f02572dbb4f6fa7b56d481579ed29": {
          "model_module": "@jupyter-widgets/controls",
          "model_name": "SliderStyleModel",
          "state": {
            "_view_name": "StyleView",
            "handle_color": null,
            "_model_name": "SliderStyleModel",
            "description_width": "",
            "_view_module": "@jupyter-widgets/base",
            "_model_module_version": "1.5.0",
            "_view_count": null,
            "_view_module_version": "1.2.0",
            "_model_module": "@jupyter-widgets/controls"
          }
        },
        "fc42f3f2caff4a4e935aac4f8412750d": {
          "model_module": "@jupyter-widgets/base",
          "model_name": "LayoutModel",
          "state": {
            "_view_name": "LayoutView",
            "grid_template_rows": null,
            "right": null,
            "justify_content": null,
            "_view_module": "@jupyter-widgets/base",
            "overflow": null,
            "_model_module_version": "1.2.0",
            "_view_count": null,
            "flex_flow": null,
            "width": null,
            "min_width": null,
            "border": null,
            "align_items": null,
            "bottom": null,
            "_model_module": "@jupyter-widgets/base",
            "top": null,
            "grid_column": null,
            "overflow_y": null,
            "overflow_x": null,
            "grid_auto_flow": null,
            "grid_area": null,
            "grid_template_columns": null,
            "flex": null,
            "_model_name": "LayoutModel",
            "justify_items": null,
            "grid_row": null,
            "max_height": null,
            "align_content": null,
            "visibility": null,
            "align_self": null,
            "height": null,
            "min_height": null,
            "padding": null,
            "grid_auto_rows": null,
            "grid_gap": null,
            "max_width": null,
            "order": null,
            "_view_module_version": "1.2.0",
            "grid_template_areas": null,
            "object_position": null,
            "object_fit": null,
            "grid_auto_columns": null,
            "margin": null,
            "display": null,
            "left": null
          }
        },
        "a9776f22121c4512bd2e40f4332bd143": {
          "model_module": "@jupyter-widgets/controls",
          "model_name": "DescriptionStyleModel",
          "state": {
            "_view_name": "StyleView",
            "_model_name": "DescriptionStyleModel",
            "description_width": "",
            "_view_module": "@jupyter-widgets/base",
            "_model_module_version": "1.5.0",
            "_view_count": null,
            "_view_module_version": "1.2.0",
            "_model_module": "@jupyter-widgets/controls"
          }
        },
        "b3de8dc2b979477ab3e56caa9dce13a0": {
          "model_module": "@jupyter-widgets/base",
          "model_name": "LayoutModel",
          "state": {
            "_view_name": "LayoutView",
            "grid_template_rows": null,
            "right": null,
            "justify_content": null,
            "_view_module": "@jupyter-widgets/base",
            "overflow": null,
            "_model_module_version": "1.2.0",
            "_view_count": null,
            "flex_flow": null,
            "width": null,
            "min_width": null,
            "border": null,
            "align_items": null,
            "bottom": null,
            "_model_module": "@jupyter-widgets/base",
            "top": null,
            "grid_column": null,
            "overflow_y": null,
            "overflow_x": null,
            "grid_auto_flow": null,
            "grid_area": null,
            "grid_template_columns": null,
            "flex": null,
            "_model_name": "LayoutModel",
            "justify_items": null,
            "grid_row": null,
            "max_height": null,
            "align_content": null,
            "visibility": null,
            "align_self": null,
            "height": null,
            "min_height": null,
            "padding": null,
            "grid_auto_rows": null,
            "grid_gap": null,
            "max_width": null,
            "order": null,
            "_view_module_version": "1.2.0",
            "grid_template_areas": null,
            "object_position": null,
            "object_fit": null,
            "grid_auto_columns": null,
            "margin": null,
            "display": null,
            "left": null
          }
        }
      }
    }
  },
  "cells": [
    {
      "cell_type": "markdown",
      "metadata": {
        "id": "72b6ee91"
      },
      "source": [
        "# Interactive image processing with ipywidgets and numpy_image_widget\n",
        "ipywidgets can be used in jupyter notebooks to interactively change parameters and view resuls of computation without adapting and rerunning code. The numpy image widget is a convenient addon allowing to use ipywidgets with image data as numpy arrays. Combining both allows to tune image processing workflow parameters right in your notebook.\n",
        "\n",
        "See also: \n",
        "* [Widget types](https://ipywidgets.readthedocs.io/en/latest/examples/Widget%20List.html)\n",
        "* [Widget events](https://ipywidgets.readthedocs.io/en/latest/examples/Widget%20Events.html)\n",
        "* [The Numpy Image Widget](https://github.com/Who8MyLunch/Numpy_Image_Widget)"
      ],
      "id": "72b6ee91"
    },
    {
      "cell_type": "code",
      "metadata": {
        "id": "ClB6qhHGq0H2",
        "outputId": "4055344a-dd9f-4b55-8a03-89c236d67d84",
        "colab": {
          "base_uri": "https://localhost:8080/"
        }
      },
      "source": [
        "!pip install pyclesperanto_prototype"
      ],
      "id": "ClB6qhHGq0H2",
      "execution_count": 1,
      "outputs": [
        {
          "output_type": "stream",
          "text": [
            "Requirement already satisfied: pyclesperanto_prototype in /usr/local/lib/python3.7/dist-packages (0.9.1)\n",
            "Requirement already satisfied: toolz in /usr/local/lib/python3.7/dist-packages (from pyclesperanto_prototype) (0.11.1)\n",
            "Requirement already satisfied: transforms3d in /usr/local/lib/python3.7/dist-packages (from pyclesperanto_prototype) (0.3.1)\n",
            "Requirement already satisfied: matplotlib in /usr/local/lib/python3.7/dist-packages (from pyclesperanto_prototype) (3.2.2)\n",
            "Requirement already satisfied: scikit-image>=0.18.0 in /usr/local/lib/python3.7/dist-packages (from pyclesperanto_prototype) (0.18.1)\n",
            "Requirement already satisfied: numpy!=1.19.4 in /usr/local/lib/python3.7/dist-packages (from pyclesperanto_prototype) (1.19.5)\n",
            "Requirement already satisfied: pyopencl in /usr/local/lib/python3.7/dist-packages (from pyclesperanto_prototype) (2021.2.2)\n",
            "Requirement already satisfied: kiwisolver>=1.0.1 in /usr/local/lib/python3.7/dist-packages (from matplotlib->pyclesperanto_prototype) (1.3.1)\n",
            "Requirement already satisfied: pyparsing!=2.0.4,!=2.1.2,!=2.1.6,>=2.0.1 in /usr/local/lib/python3.7/dist-packages (from matplotlib->pyclesperanto_prototype) (2.4.7)\n",
            "Requirement already satisfied: cycler>=0.10 in /usr/local/lib/python3.7/dist-packages (from matplotlib->pyclesperanto_prototype) (0.10.0)\n",
            "Requirement already satisfied: python-dateutil>=2.1 in /usr/local/lib/python3.7/dist-packages (from matplotlib->pyclesperanto_prototype) (2.8.1)\n",
            "Requirement already satisfied: scipy>=1.0.1 in /usr/local/lib/python3.7/dist-packages (from scikit-image>=0.18.0->pyclesperanto_prototype) (1.4.1)\n",
            "Requirement already satisfied: pillow!=7.1.0,!=7.1.1,>=4.3.0 in /usr/local/lib/python3.7/dist-packages (from scikit-image>=0.18.0->pyclesperanto_prototype) (7.1.2)\n",
            "Requirement already satisfied: networkx>=2.0 in /usr/local/lib/python3.7/dist-packages (from scikit-image>=0.18.0->pyclesperanto_prototype) (2.5.1)\n",
            "Requirement already satisfied: imageio>=2.3.0 in /usr/local/lib/python3.7/dist-packages (from scikit-image>=0.18.0->pyclesperanto_prototype) (2.4.1)\n",
            "Requirement already satisfied: tifffile>=2019.7.26 in /usr/local/lib/python3.7/dist-packages (from scikit-image>=0.18.0->pyclesperanto_prototype) (2021.4.8)\n",
            "Requirement already satisfied: PyWavelets>=1.1.1 in /usr/local/lib/python3.7/dist-packages (from scikit-image>=0.18.0->pyclesperanto_prototype) (1.1.1)\n",
            "Requirement already satisfied: appdirs>=1.4.0 in /usr/local/lib/python3.7/dist-packages (from pyopencl->pyclesperanto_prototype) (1.4.4)\n",
            "Requirement already satisfied: pytools>=2017.6 in /usr/local/lib/python3.7/dist-packages (from pyopencl->pyclesperanto_prototype) (2021.2.7)\n",
            "Requirement already satisfied: six in /usr/local/lib/python3.7/dist-packages (from cycler>=0.10->matplotlib->pyclesperanto_prototype) (1.15.0)\n",
            "Requirement already satisfied: decorator<5,>=4.3 in /usr/local/lib/python3.7/dist-packages (from networkx>=2.0->scikit-image>=0.18.0->pyclesperanto_prototype) (4.4.2)\n"
          ],
          "name": "stdout"
        }
      ]
    },
    {
      "cell_type": "markdown",
      "metadata": {
        "id": "cb5b3bfe"
      },
      "source": [
        "Optionally exectute this to install dependencies:"
      ],
      "id": "cb5b3bfe"
    },
    {
      "cell_type": "markdown",
      "metadata": {
        "id": "21b0ae11"
      },
      "source": [
        "!pip install ipywidgets numpy_image_widget \n",
        "\n"
      ],
      "id": "21b0ae11"
    },
    {
      "cell_type": "code",
      "metadata": {
        "id": "bkVOJSM_rQUK",
        "outputId": "c8c7b623-70be-4188-aa6c-0600e0994200",
        "colab": {
          "base_uri": "https://localhost:8080/"
        }
      },
      "source": [
        "!pip install ipywidgets numpy_image_widget \n"
      ],
      "id": "bkVOJSM_rQUK",
      "execution_count": 2,
      "outputs": [
        {
          "output_type": "stream",
          "text": [
            "Requirement already satisfied: ipywidgets in /usr/local/lib/python3.7/dist-packages (7.6.3)\n",
            "Requirement already satisfied: numpy_image_widget in /usr/local/lib/python3.7/dist-packages (2020.7.21)\n",
            "Requirement already satisfied: ipykernel>=4.5.1 in /usr/local/lib/python3.7/dist-packages (from ipywidgets) (4.10.1)\n",
            "Requirement already satisfied: ipython>=4.0.0; python_version >= \"3.3\" in /usr/local/lib/python3.7/dist-packages (from ipywidgets) (5.5.0)\n",
            "Requirement already satisfied: nbformat>=4.2.0 in /usr/local/lib/python3.7/dist-packages (from ipywidgets) (5.1.3)\n",
            "Requirement already satisfied: widgetsnbextension~=3.5.0 in /usr/local/lib/python3.7/dist-packages (from ipywidgets) (3.5.1)\n",
            "Requirement already satisfied: traitlets>=4.3.1 in /usr/local/lib/python3.7/dist-packages (from ipywidgets) (5.0.5)\n",
            "Requirement already satisfied: jupyterlab-widgets>=1.0.0; python_version >= \"3.6\" in /usr/local/lib/python3.7/dist-packages (from ipywidgets) (1.0.0)\n",
            "Requirement already satisfied: numpy in /usr/local/lib/python3.7/dist-packages (from numpy_image_widget) (1.19.5)\n",
            "Requirement already satisfied: image-attendant in /usr/local/lib/python3.7/dist-packages (from numpy_image_widget) (2020.7.29)\n",
            "Requirement already satisfied: ipyevents in /usr/local/lib/python3.7/dist-packages (from numpy_image_widget) (0.8.2)\n",
            "Requirement already satisfied: tornado>=4.0 in /usr/local/lib/python3.7/dist-packages (from ipykernel>=4.5.1->ipywidgets) (5.1.1)\n",
            "Requirement already satisfied: jupyter-client in /usr/local/lib/python3.7/dist-packages (from ipykernel>=4.5.1->ipywidgets) (5.3.5)\n",
            "Requirement already satisfied: pygments in /usr/local/lib/python3.7/dist-packages (from ipython>=4.0.0; python_version >= \"3.3\"->ipywidgets) (2.6.1)\n",
            "Requirement already satisfied: prompt-toolkit<2.0.0,>=1.0.4 in /usr/local/lib/python3.7/dist-packages (from ipython>=4.0.0; python_version >= \"3.3\"->ipywidgets) (1.0.18)\n",
            "Requirement already satisfied: decorator in /usr/local/lib/python3.7/dist-packages (from ipython>=4.0.0; python_version >= \"3.3\"->ipywidgets) (4.4.2)\n",
            "Requirement already satisfied: pexpect; sys_platform != \"win32\" in /usr/local/lib/python3.7/dist-packages (from ipython>=4.0.0; python_version >= \"3.3\"->ipywidgets) (4.8.0)\n",
            "Requirement already satisfied: simplegeneric>0.8 in /usr/local/lib/python3.7/dist-packages (from ipython>=4.0.0; python_version >= \"3.3\"->ipywidgets) (0.8.1)\n",
            "Requirement already satisfied: setuptools>=18.5 in /usr/local/lib/python3.7/dist-packages (from ipython>=4.0.0; python_version >= \"3.3\"->ipywidgets) (57.0.0)\n",
            "Requirement already satisfied: pickleshare in /usr/local/lib/python3.7/dist-packages (from ipython>=4.0.0; python_version >= \"3.3\"->ipywidgets) (0.7.5)\n",
            "Requirement already satisfied: ipython-genutils in /usr/local/lib/python3.7/dist-packages (from nbformat>=4.2.0->ipywidgets) (0.2.0)\n",
            "Requirement already satisfied: jupyter-core in /usr/local/lib/python3.7/dist-packages (from nbformat>=4.2.0->ipywidgets) (4.7.1)\n",
            "Requirement already satisfied: jsonschema!=2.5.0,>=2.4 in /usr/local/lib/python3.7/dist-packages (from nbformat>=4.2.0->ipywidgets) (2.6.0)\n",
            "Requirement already satisfied: notebook>=4.4.1 in /usr/local/lib/python3.7/dist-packages (from widgetsnbextension~=3.5.0->ipywidgets) (5.3.1)\n",
            "Requirement already satisfied: requests in /usr/local/lib/python3.7/dist-packages (from image-attendant->numpy_image_widget) (2.23.0)\n",
            "Requirement already satisfied: Pillow in /usr/local/lib/python3.7/dist-packages (from image-attendant->numpy_image_widget) (7.1.2)\n",
            "Requirement already satisfied: python-dateutil>=2.1 in /usr/local/lib/python3.7/dist-packages (from jupyter-client->ipykernel>=4.5.1->ipywidgets) (2.8.1)\n",
            "Requirement already satisfied: pyzmq>=13 in /usr/local/lib/python3.7/dist-packages (from jupyter-client->ipykernel>=4.5.1->ipywidgets) (22.0.3)\n",
            "Requirement already satisfied: wcwidth in /usr/local/lib/python3.7/dist-packages (from prompt-toolkit<2.0.0,>=1.0.4->ipython>=4.0.0; python_version >= \"3.3\"->ipywidgets) (0.2.5)\n",
            "Requirement already satisfied: six>=1.9.0 in /usr/local/lib/python3.7/dist-packages (from prompt-toolkit<2.0.0,>=1.0.4->ipython>=4.0.0; python_version >= \"3.3\"->ipywidgets) (1.15.0)\n",
            "Requirement already satisfied: ptyprocess>=0.5 in /usr/local/lib/python3.7/dist-packages (from pexpect; sys_platform != \"win32\"->ipython>=4.0.0; python_version >= \"3.3\"->ipywidgets) (0.7.0)\n",
            "Requirement already satisfied: jinja2 in /usr/local/lib/python3.7/dist-packages (from notebook>=4.4.1->widgetsnbextension~=3.5.0->ipywidgets) (2.11.3)\n",
            "Requirement already satisfied: Send2Trash in /usr/local/lib/python3.7/dist-packages (from notebook>=4.4.1->widgetsnbextension~=3.5.0->ipywidgets) (1.5.0)\n",
            "Requirement already satisfied: terminado>=0.8.1 in /usr/local/lib/python3.7/dist-packages (from notebook>=4.4.1->widgetsnbextension~=3.5.0->ipywidgets) (0.10.0)\n",
            "Requirement already satisfied: nbconvert in /usr/local/lib/python3.7/dist-packages (from notebook>=4.4.1->widgetsnbextension~=3.5.0->ipywidgets) (5.6.1)\n",
            "Requirement already satisfied: chardet<4,>=3.0.2 in /usr/local/lib/python3.7/dist-packages (from requests->image-attendant->numpy_image_widget) (3.0.4)\n",
            "Requirement already satisfied: certifi>=2017.4.17 in /usr/local/lib/python3.7/dist-packages (from requests->image-attendant->numpy_image_widget) (2020.12.5)\n",
            "Requirement already satisfied: idna<3,>=2.5 in /usr/local/lib/python3.7/dist-packages (from requests->image-attendant->numpy_image_widget) (2.10)\n",
            "Requirement already satisfied: urllib3!=1.25.0,!=1.25.1,<1.26,>=1.21.1 in /usr/local/lib/python3.7/dist-packages (from requests->image-attendant->numpy_image_widget) (1.24.3)\n",
            "Requirement already satisfied: MarkupSafe>=0.23 in /usr/local/lib/python3.7/dist-packages (from jinja2->notebook>=4.4.1->widgetsnbextension~=3.5.0->ipywidgets) (2.0.1)\n",
            "Requirement already satisfied: testpath in /usr/local/lib/python3.7/dist-packages (from nbconvert->notebook>=4.4.1->widgetsnbextension~=3.5.0->ipywidgets) (0.5.0)\n",
            "Requirement already satisfied: entrypoints>=0.2.2 in /usr/local/lib/python3.7/dist-packages (from nbconvert->notebook>=4.4.1->widgetsnbextension~=3.5.0->ipywidgets) (0.3)\n",
            "Requirement already satisfied: pandocfilters>=1.4.1 in /usr/local/lib/python3.7/dist-packages (from nbconvert->notebook>=4.4.1->widgetsnbextension~=3.5.0->ipywidgets) (1.4.3)\n",
            "Requirement already satisfied: mistune<2,>=0.8.1 in /usr/local/lib/python3.7/dist-packages (from nbconvert->notebook>=4.4.1->widgetsnbextension~=3.5.0->ipywidgets) (0.8.4)\n",
            "Requirement already satisfied: bleach in /usr/local/lib/python3.7/dist-packages (from nbconvert->notebook>=4.4.1->widgetsnbextension~=3.5.0->ipywidgets) (3.3.0)\n",
            "Requirement already satisfied: defusedxml in /usr/local/lib/python3.7/dist-packages (from nbconvert->notebook>=4.4.1->widgetsnbextension~=3.5.0->ipywidgets) (0.7.1)\n",
            "Requirement already satisfied: packaging in /usr/local/lib/python3.7/dist-packages (from bleach->nbconvert->notebook>=4.4.1->widgetsnbextension~=3.5.0->ipywidgets) (20.9)\n",
            "Requirement already satisfied: webencodings in /usr/local/lib/python3.7/dist-packages (from bleach->nbconvert->notebook>=4.4.1->widgetsnbextension~=3.5.0->ipywidgets) (0.5.1)\n",
            "Requirement already satisfied: pyparsing>=2.0.2 in /usr/local/lib/python3.7/dist-packages (from packaging->bleach->nbconvert->notebook>=4.4.1->widgetsnbextension~=3.5.0->ipywidgets) (2.4.7)\n"
          ],
          "name": "stdout"
        }
      ]
    },
    {
      "cell_type": "code",
      "metadata": {
        "id": "3e72770b",
        "outputId": "ba35993e-bd71-4b53-aae7-25930300b257",
        "colab": {
          "base_uri": "https://localhost:8080/"
        }
      },
      "source": [
        "import ipywidgets as widgets\n",
        "import pyclesperanto_prototype as cle\n",
        "import PIL\n",
        "import numpy as np\n",
        "import numpy_image_widget as niw\n",
        "from skimage.io import imread, imshow\n",
        "\n",
        "cle.get_device()"
      ],
      "id": "3e72770b",
      "execution_count": 3,
      "outputs": [
        {
          "output_type": "execute_result",
          "data": {
            "text/plain": [
              "<Tesla T4 on Platform: NVIDIA CUDA (1 refs)>"
            ]
          },
          "metadata": {
            "tags": []
          },
          "execution_count": 3
        }
      ]
    },
    {
      "cell_type": "markdown",
      "metadata": {
        "id": "ae807300"
      },
      "source": [
        "## A simple viewer updated later on\n",
        "We start with a simple NumpyImage viewer that can be updated further down in the notebook."
      ],
      "id": "ae807300"
    },
    {
      "cell_type": "code",
      "metadata": {
        "id": "3a8e2ec2"
      },
      "source": [
        "blobs = imread('https://github.com/clEsperanto/pyclesperanto_prototype/blob/master/data/blobs.tif?raw=true')"
      ],
      "id": "3a8e2ec2",
      "execution_count": 4,
      "outputs": []
    },
    {
      "cell_type": "code",
      "metadata": {
        "id": "52caa8dd",
        "outputId": "311f1c3f-35e7-475f-eec6-dac14f15e0b1",
        "colab": {
          "base_uri": "https://localhost:8080/",
          "height": 279,
          "referenced_widgets": [
            "a733b64da5e5473ab6a350898a479d9a",
            "fea8644820d04edcaeda7e3e393babd5"
          ]
        }
      },
      "source": [
        "blobs_view = niw.NumpyImage(blobs)\n",
        "blobs_view"
      ],
      "id": "52caa8dd",
      "execution_count": 5,
      "outputs": [
        {
          "output_type": "display_data",
          "data": {
            "application/vnd.jupyter.widget-view+json": {
              "model_id": "a733b64da5e5473ab6a350898a479d9a",
              "version_minor": 0,
              "version_major": 2
            },
            "text/plain": [
              "NumpyImage(value=b'\\xff\\xd8\\xff\\xe0\\x00\\x10JFIF\\x00\\x01\\x01\\x00\\x00\\x01\\x00\\x01\\x00\\x00\\xff\\xdb\\x00C\\x00\\x05\\x…"
            ]
          },
          "metadata": {
            "tags": []
          }
        }
      ]
    },
    {
      "cell_type": "code",
      "metadata": {
        "id": "b4df9798"
      },
      "source": [
        "blobs_view.data = cle.gaussian_blur(blobs, sigma_x=15, sigma_y=15)"
      ],
      "id": "b4df9798",
      "execution_count": 6,
      "outputs": []
    },
    {
      "cell_type": "markdown",
      "metadata": {
        "id": "9762f9be"
      },
      "source": [
        "## Interactive viewers\n",
        "We load a 3D image first and define a function for rotating it around the Y-axis."
      ],
      "id": "9762f9be"
    },
    {
      "cell_type": "code",
      "metadata": {
        "id": "f7f52e62",
        "outputId": "d6357aa0-ac71-466f-9fe2-71bf2fa70517",
        "colab": {
          "base_uri": "https://localhost:8080/"
        }
      },
      "source": [
        "head = imread('https://github.com/clEsperanto/pyclesperanto_prototype/blob/master/data/Haase_MRT_tfl3d1.tif?raw=true', plugin='tifffile')\n",
        "head.shape"
      ],
      "id": "f7f52e62",
      "execution_count": 7,
      "outputs": [
        {
          "output_type": "execute_result",
          "data": {
            "text/plain": [
              "(120, 160, 160)"
            ]
          },
          "metadata": {
            "tags": []
          },
          "execution_count": 7
        }
      ]
    },
    {
      "cell_type": "code",
      "metadata": {
        "id": "yvN2Vuw-sb31",
        "outputId": "40b125d8-7f5f-4f46-c795-621367776349",
        "colab": {
          "base_uri": "https://localhost:8080/"
        }
      },
      "source": [
        "zoom_factor = 2\n",
        "\n",
        "head = np.asarray(cle.scale(head, cle.create(np.asarray(head.shape) * zoom_factor), factor_x=zoom_factor, factor_y=zoom_factor, factor_z=zoom_factor, linear_interpolation=True))\n",
        "head.shape"
      ],
      "id": "yvN2Vuw-sb31",
      "execution_count": 8,
      "outputs": [
        {
          "output_type": "execute_result",
          "data": {
            "text/plain": [
              "(240, 320, 320)"
            ]
          },
          "metadata": {
            "tags": []
          },
          "execution_count": 8
        }
      ]
    },
    {
      "cell_type": "code",
      "metadata": {
        "id": "a113e725"
      },
      "source": [
        "def transform_image(image, angle, z=120):\n",
        "    rotated_stack = cle.rotate(image, angle_around_y_in_degrees=angle)\n",
        "    return rotated_stack[z]"
      ],
      "id": "a113e725",
      "execution_count": 9,
      "outputs": []
    },
    {
      "cell_type": "code",
      "metadata": {
        "id": "c0678925",
        "outputId": "0f95b12e-3e3f-418d-ea72-3b90dd382d9c",
        "colab": {
          "base_uri": "https://localhost:8080/",
          "height": 345,
          "referenced_widgets": [
            "0515bd324dda4bd8ba09516b1eb105ca",
            "cca85110e3b34db8b231d2e089dae729"
          ]
        }
      },
      "source": [
        "head_view = niw.NumpyImage(head[120])\n",
        "head_view"
      ],
      "id": "c0678925",
      "execution_count": 10,
      "outputs": [
        {
          "output_type": "display_data",
          "data": {
            "application/vnd.jupyter.widget-view+json": {
              "model_id": "0515bd324dda4bd8ba09516b1eb105ca",
              "version_minor": 0,
              "version_major": 2
            },
            "text/plain": [
              "NumpyImage(value=b'\\xff\\xd8\\xff\\xe0\\x00\\x10JFIF\\x00\\x01\\x01\\x00\\x00\\x01\\x00\\x01\\x00\\x00\\xff\\xdb\\x00C\\x00\\x05\\x…"
            ]
          },
          "metadata": {
            "tags": []
          }
        }
      ]
    },
    {
      "cell_type": "code",
      "metadata": {
        "id": "157b8a59",
        "outputId": "28dfbde1-e4da-415a-839a-12c08f2fb3a9",
        "colab": {
          "base_uri": "https://localhost:8080/",
          "height": 49,
          "referenced_widgets": [
            "19d1f2c25bc34b64a6f2c0ce91cfb3fb",
            "64b6def74d9f42cead220c28fe8b34ad",
            "ca0bc55e0bd64cc1b212a945ee9f0c7c"
          ]
        }
      },
      "source": [
        "# setup user interface for changing the angle\n",
        "angle_slider = widgets.IntSlider(value=0, min=-180, max=180)\n",
        "\n",
        "# event handler when the user changed something:\n",
        "def configuration_updated(event):\n",
        "    head_view.data = transform_image(head, angle_slider.value)\n",
        "\n",
        "# connect user interface with event\n",
        "angle_slider.observe(configuration_updated)\n",
        "angle_slider"
      ],
      "id": "157b8a59",
      "execution_count": 11,
      "outputs": [
        {
          "output_type": "display_data",
          "data": {
            "application/vnd.jupyter.widget-view+json": {
              "model_id": "19d1f2c25bc34b64a6f2c0ce91cfb3fb",
              "version_minor": 0,
              "version_major": 2
            },
            "text/plain": [
              "IntSlider(value=0, max=180, min=-180)"
            ]
          },
          "metadata": {
            "tags": []
          }
        }
      ]
    },
    {
      "cell_type": "markdown",
      "metadata": {
        "id": "07fad95a"
      },
      "source": [
        "# Complex graphical user interface"
      ],
      "id": "07fad95a"
    },
    {
      "cell_type": "markdown",
      "metadata": {
        "id": "1c93518c"
      },
      "source": [
        "Loading example data (Courtesy [Célia Baroux, Ethel Mendocilla-Sato and Daphné Autran, University of Zurich, IRD Montpellier](https://datadryad.org/stash/dataset/doi:10.5061/dryad.02v6wwq2c) CC0)"
      ],
      "id": "1c93518c"
    },
    {
      "cell_type": "code",
      "metadata": {
        "id": "66ea0db4",
        "outputId": "ee65e92d-4f27-4cb0-ca97-e86dab065666",
        "colab": {
          "base_uri": "https://localhost:8080/",
          "height": 314
        }
      },
      "source": [
        "image = imread('https://github.com/clEsperanto/pyclesperanto_prototype/blob/master/data/EM_C_6_c0.tif?raw=true', plugin='tifffile')\n",
        "\n",
        "depth, height, width = image.shape\n",
        "imshow(image[127])"
      ],
      "id": "66ea0db4",
      "execution_count": 12,
      "outputs": [
        {
          "output_type": "execute_result",
          "data": {
            "text/plain": [
              "<matplotlib.image.AxesImage at 0x7f57c643ab50>"
            ]
          },
          "metadata": {
            "tags": []
          },
          "execution_count": 12
        },
        {
          "output_type": "display_data",
          "data": {
            "image/png": "[encoded data removed]",
            "text/plain": [
              "<Figure size 432x288 with 1 Axes>"
            ]
          },
          "metadata": {
            "tags": [],
            "needs_background": "light"
          }
        }
      ]
    },
    {
      "cell_type": "markdown",
      "metadata": {
        "id": "5fcf34f3"
      },
      "source": [
        "For a more complex graphical user interface (GUI) processing 3D data, we define a couple of sliders:"
      ],
      "id": "5fcf34f3"
    },
    {
      "cell_type": "code",
      "metadata": {
        "id": "9bfbad2d"
      },
      "source": [
        "z_slice_slider = widgets.IntSlider(\n",
        "    value=depth / 2,\n",
        "    min=0,\n",
        "    max=depth,\n",
        "    continuous_update=True,\n",
        "    orientation='vertical',\n",
        ")\n",
        "\n",
        "background_subtraction_radius_slider = widgets.FloatSlider(\n",
        "    value=4.5,\n",
        "    min=0,\n",
        "    max=20.0,\n",
        "    step=0.1,\n",
        "    description='Background subtraction:',\n",
        "    disabled=False,\n",
        "    continuous_update=False,\n",
        "    orientation='horizontal',\n",
        "    readout=True,\n",
        "    readout_format='.1f',\n",
        ")\n",
        "\n",
        "noise_removal_sigma_slider = widgets.FloatSlider(\n",
        "    value=2.2,\n",
        "    min=0,\n",
        "    max=20.0,\n",
        "    step=0.1,\n",
        "    description='Noise removal:',\n",
        "    disabled=False,\n",
        "    continuous_update=False,\n",
        "    orientation='horizontal',\n",
        "    readout=True,\n",
        "    readout_format='.1f',\n",
        ")\n",
        "\n",
        "edge_dilation_radius_slider = widgets.FloatSlider(\n",
        "    value=1.4,\n",
        "    min=0,\n",
        "    max=20,\n",
        "    step=0.1,\n",
        "    description='Edge dilation:',\n",
        "    disabled=False,\n",
        "    continuous_update=False,\n",
        "    orientation='horizontal',\n",
        "    readout=True,\n",
        "    readout_format='.1f',\n",
        ")\n",
        "\n",
        "threshold_slider = widgets.FloatSlider(\n",
        "    value=10,\n",
        "    min=0,\n",
        "    max=50.0,\n",
        "    step=0.1,\n",
        "    description='Threshold:',\n",
        "    disabled=False,\n",
        "    continuous_update=False,\n",
        "    orientation='horizontal',\n",
        "    readout=True,\n",
        "    readout_format='.1f',\n",
        ")\n",
        "\n",
        "output_selector = widgets.RadioButtons(\n",
        "    options=['background subtracted', 'denoised', 'edge eroded', 'binary', 'labels', 'result'],\n",
        "    value='result',\n",
        "    description='Show output:',\n",
        "    disabled=False\n",
        ")"
      ],
      "id": "9bfbad2d",
      "execution_count": 13,
      "outputs": []
    },
    {
      "cell_type": "markdown",
      "metadata": {
        "id": "17af6138"
      },
      "source": [
        "Furthermore, we define two viewers for showing input and output images:"
      ],
      "id": "17af6138"
    },
    {
      "cell_type": "code",
      "metadata": {
        "id": "e189cd60"
      },
      "source": [
        "image_view = niw.NumpyImage(image[127])\n",
        "result_view = niw.NumpyImage(image[127])"
      ],
      "id": "e189cd60",
      "execution_count": 14,
      "outputs": []
    },
    {
      "cell_type": "markdown",
      "metadata": {
        "id": "b0ad77c3"
      },
      "source": [
        "When executing longer workflows multiple times, it may make sense to allocate memory in advance. This spares re-allocation time in every execution."
      ],
      "id": "b0ad77c3"
    },
    {
      "cell_type": "code",
      "metadata": {
        "id": "a8554608"
      },
      "source": [
        "# allocate memory\n",
        "image_gpu = cle.push(image)\n",
        "slice_gpu = cle.create([height, width])\n",
        "\n",
        "# have global variables for reusing memory\n",
        "background_subtracted_gpu = cle.create_like(image_gpu)\n",
        "denoised_gpu = cle.create_like(image_gpu)\n",
        "eroded_gpu = cle.create_like(image_gpu)\n",
        "binary_gpu = cle.create_like(image_gpu)\n",
        "labels_gpu = cle.create_labels_like(image_gpu)\n",
        "result_gpu = cle.create_like(image_gpu)"
      ],
      "id": "a8554608",
      "execution_count": 15,
      "outputs": []
    },
    {
      "cell_type": "markdown",
      "metadata": {
        "id": "9203afcd"
      },
      "source": [
        "We now attach events to the GUI. Those events will be executed when the user changes parameters."
      ],
      "id": "9203afcd"
    },
    {
      "cell_type": "code",
      "metadata": {
        "id": "0fccbc1c"
      },
      "source": [
        "def view_changed(event):\n",
        "    \n",
        "    cle.copy_slice(image_gpu, slice_gpu, slice_index=z_slice_slider.value)\n",
        "    image_view.data = slice_gpu\n",
        "    if output_selector.value == 'background subtracted':\n",
        "        cle.copy_slice(background_subtracted_gpu, slice_gpu, slice_index=z_slice_slider.value)\n",
        "    elif output_selector.value == 'denoised':\n",
        "        cle.copy_slice(denoised_gpu, slice_gpu, slice_index=z_slice_slider.value)\n",
        "    elif output_selector.value == 'edge eroded':\n",
        "        cle.copy_slice(eroded_gpu, slice_gpu, slice_index=z_slice_slider.value)\n",
        "    elif output_selector.value == 'binary':\n",
        "        cle.copy_slice(binary_gpu, slice_gpu, slice_index=z_slice_slider.value)\n",
        "    elif output_selector.value == 'labels':\n",
        "        cle.copy_slice(labels_gpu, slice_gpu, slice_index=z_slice_slider.value)\n",
        "    elif output_selector.value == 'result':\n",
        "        cle.copy_slice(result_gpu, slice_gpu, slice_index=z_slice_slider.value)\n",
        "\n",
        "    # in case min(result) == max(result), the viewer crashes\n",
        "    if cle.maximum_of_all_pixels(slice_gpu) == cle.minimum_of_all_pixels(slice_gpu):\n",
        "        cle.set_row(slice_gpu, 0, 1)\n",
        "        cle.set_column(slice_gpu, 0, 0)\n",
        "        \n",
        "    result_view.data = slice_gpu\n",
        "\n",
        "def parameters_changed(event):\n",
        "    process_image(threshold_slider.value, \n",
        "                  background_subtraction_radius_slider.value, \n",
        "                  noise_removal_sigma_slider.value,\n",
        "                  edge_dilation_radius_slider.value\n",
        "                 )    \n",
        "    view_changed(event)\n",
        "\n",
        "# connect GUI elements with event handlers\n",
        "threshold_slider.observe(parameters_changed)\n",
        "background_subtraction_radius_slider.observe(parameters_changed)\n",
        "edge_dilation_radius_slider.observe(parameters_changed)\n",
        "noise_removal_sigma_slider.observe(parameters_changed)\n",
        "\n",
        "z_slice_slider.observe(view_changed)\n",
        "output_selector.observe(view_changed)"
      ],
      "id": "0fccbc1c",
      "execution_count": 16,
      "outputs": []
    },
    {
      "cell_type": "markdown",
      "metadata": {
        "id": "69d22bc5"
      },
      "source": [
        "Finally, we define the image processing workflow in a function:"
      ],
      "id": "69d22bc5"
    },
    {
      "cell_type": "code",
      "metadata": {
        "id": "bb617393"
      },
      "source": [
        "def process_image(threshold, background_subtraction_radius, noise_removal_sigma, edge_dilation_radius):\n",
        "    # background removal\n",
        "    cle.top_hat_box(image_gpu, background_subtracted_gpu, radius_x=background_subtraction_radius, radius_y=background_subtraction_radius, radius_z=background_subtraction_radius)\n",
        "    \n",
        "    # denoising\n",
        "    cle.gaussian_blur(background_subtracted_gpu, denoised_gpu, sigma_x=noise_removal_sigma, sigma_y=noise_removal_sigma, sigma_z=noise_removal_sigma)\n",
        "    \n",
        "    # making membranes thicker in order to brige gaps\n",
        "    cle.maximum_box(denoised_gpu, eroded_gpu, radius_x=edge_dilation_radius, radius_y=edge_dilation_radius, radius_z=edge_dilation_radius)\n",
        "    \n",
        "    # threshold the image\n",
        "    cle.smaller_constant(eroded_gpu, binary_gpu, threshold)\n",
        "    \n",
        "    # label regions and fill black areas between regions\n",
        "    cle.voronoi_labeling(binary_gpu, labels_gpu)\n",
        "    \n",
        "    # output the borders between the labels\n",
        "    cle.detect_label_edges(labels_gpu, result_gpu)\n",
        "\n",
        "# call it once to initialize the view\n",
        "parameters_changed(None)"
      ],
      "id": "bb617393",
      "execution_count": 17,
      "outputs": []
    },
    {
      "cell_type": "markdown",
      "metadata": {
        "id": "cedf31e7"
      },
      "source": [
        "We now use horizontal and vertical box arrangements to view the GUI elements."
      ],
      "id": "cedf31e7"
    },
    {
      "cell_type": "code",
      "metadata": {
        "id": "8f7c55e5",
        "outputId": "64708bdc-39a8-4c7d-b3d7-125e3824d4cf",
        "colab": {
          "base_uri": "https://localhost:8080/",
          "height": 277,
          "referenced_widgets": [
            "0c53f07d742f4d31bacff91d38a033a2",
            "d31acf8e6d2649d9a163e9f095e460fe",
            "49225ff0a84a42cb90c743ea6b59b673",
            "121e20eb80374ddc886c035ef853d4d3",
            "78a6c83bc8f34cebb2ba791829144f73",
            "9fc404d208684df29534af5c541eb375",
            "274655296e4c4ed4a0e1d52c77ca29ce",
            "de9fda24d8a645d7a4e050db10a40772",
            "b382e33f3f784e04b7f2b1cac8061024",
            "8ab6f08fdd21410f8c65642bd262f55f",
            "f7048421787c41b19d003852d4e62658",
            "cf73e6377f224efd84b4dd7812d558b5",
            "d33000be93224fed99696b4fcf7b79aa",
            "4392a82b8f9a4ef0a78234176141741b",
            "0a4c7ebe998740b6858d607796b43e43",
            "523b64b5d120406d9aa5fe37c73958d1",
            "eff5a0626a6e4b6090d3113f61ea1eb9",
            "092f205de0294264897eef98d0534045",
            "997573a3064448eca9f442fdb0fe952d",
            "a99af7f81deb4b299d6b5b27557a8111",
            "10912ff0ec1c489c8e09012e083d706d",
            "04f7974a62af4defa3c696707f2ff879",
            "100f02572dbb4f6fa7b56d481579ed29",
            "fc42f3f2caff4a4e935aac4f8412750d",
            "a9776f22121c4512bd2e40f4332bd143",
            "b3de8dc2b979477ab3e56caa9dce13a0"
          ]
        }
      },
      "source": [
        "widgets.HBox([z_slice_slider, image_view, result_view,\n",
        "             widgets.VBox([\n",
        "                 background_subtraction_radius_slider,\n",
        "                 noise_removal_sigma_slider,\n",
        "                 edge_dilation_radius_slider,\n",
        "                 threshold_slider,\n",
        "                 output_selector\n",
        "             ])])"
      ],
      "id": "8f7c55e5",
      "execution_count": 18,
      "outputs": [
        {
          "output_type": "display_data",
          "data": {
            "application/vnd.jupyter.widget-view+json": {
              "model_id": "0c53f07d742f4d31bacff91d38a033a2",
              "version_minor": 0,
              "version_major": 2
            },
            "text/plain": [
              "HBox(children=(IntSlider(value=128, max=256, orientation='vertical'), NumpyImage(value=b'\\xff\\xd8\\xff\\xe0\\x00\\…"
            ]
          },
          "metadata": {
            "tags": []
          }
        }
      ]
    },
    {
      "cell_type": "markdown",
      "metadata": {
        "id": "a3cea6cf"
      },
      "source": [
        "Hint: After fine-tuning parameters, print them out!"
      ],
      "id": "a3cea6cf"
    },
    {
      "cell_type": "code",
      "metadata": {
        "id": "b1c36137",
        "outputId": "117b9214-a489-4140-c277-797b9f81c975",
        "colab": {
          "base_uri": "https://localhost:8080/"
        }
      },
      "source": [
        "background_subtraction_radius_slider.value"
      ],
      "id": "b1c36137",
      "execution_count": 19,
      "outputs": [
        {
          "output_type": "execute_result",
          "data": {
            "text/plain": [
              "4.5"
            ]
          },
          "metadata": {
            "tags": []
          },
          "execution_count": 19
        }
      ]
    },
    {
      "cell_type": "code",
      "metadata": {
        "id": "6c858a5c",
        "outputId": "72a87ce6-feeb-4364-c4c4-745e25d8f21a",
        "colab": {
          "base_uri": "https://localhost:8080/"
        }
      },
      "source": [
        "noise_removal_sigma_slider.value"
      ],
      "id": "6c858a5c",
      "execution_count": 20,
      "outputs": [
        {
          "output_type": "execute_result",
          "data": {
            "text/plain": [
              "2.2"
            ]
          },
          "metadata": {
            "tags": []
          },
          "execution_count": 20
        }
      ]
    },
    {
      "cell_type": "code",
      "metadata": {
        "id": "a52bd862",
        "outputId": "751fe130-8e68-492d-8bf9-ecdadf2e892f",
        "colab": {
          "base_uri": "https://localhost:8080/"
        }
      },
      "source": [
        "edge_dilation_radius_slider.value"
      ],
      "id": "a52bd862",
      "execution_count": 21,
      "outputs": [
        {
          "output_type": "execute_result",
          "data": {
            "text/plain": [
              "1.4"
            ]
          },
          "metadata": {
            "tags": []
          },
          "execution_count": 21
        }
      ]
    },
    {
      "cell_type": "code",
      "metadata": {
        "id": "be2b74c4",
        "outputId": "a7ba2bfb-bcbb-429f-8c08-db574061e24b",
        "colab": {
          "base_uri": "https://localhost:8080/"
        }
      },
      "source": [
        "threshold_slider.value"
      ],
      "id": "be2b74c4",
      "execution_count": 22,
      "outputs": [
        {
          "output_type": "execute_result",
          "data": {
            "text/plain": [
              "10.0"
            ]
          },
          "metadata": {
            "tags": []
          },
          "execution_count": 22
        }
      ]
    },
    {
      "cell_type": "code",
      "metadata": {
        "id": "93dface8"
      },
      "source": [
        ""
      ],
      "id": "93dface8",
      "execution_count": 22,
      "outputs": []
    }
  ]
}